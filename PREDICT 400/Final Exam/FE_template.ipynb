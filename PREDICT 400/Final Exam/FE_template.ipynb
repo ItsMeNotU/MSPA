{
 "cells": [
  {
   "cell_type": "code",
   "execution_count": 1,
   "metadata": {
    "collapsed": true
   },
   "outputs": [],
   "source": [
    "from __future__ import print_function"
   ]
  },
  {
   "cell_type": "markdown",
   "metadata": {},
   "source": [
    "#MSPA PREDICT 400"
   ]
  },
  {
   "cell_type": "markdown",
   "metadata": {},
   "source": [
    "##Final Exam"
   ]
  },
  {
   "cell_type": "markdown",
   "metadata": {},
   "source": [
    "###Question 1"
   ]
  },
  {
   "cell_type": "markdown",
   "metadata": {},
   "source": [
    "A local copy center needs to buy white paper and yellow paper.  They can buy from three suppliers.  Supplier 1 sells a package of 20 reams of white and 10 reams of yellow for \\$60.  Supplier 2 sells a package of 10 reams of white and 10 reams of yellow for \\$40.  Supplier 3 sells a package of 10 reams of white and 20 reams of yellow for \\$50.  The copy center needs 350 reams of white and 400 reams of yellow.  Using Python, determine (1) how many packages they should buy from each supplier in order to minimize cost and (2) the minimum cost."
   ]
  },
  {
   "cell_type": "markdown",
   "metadata": {},
   "source": [
    "####Answer"
   ]
  },
  {
   "cell_type": "markdown",
   "metadata": {},
   "source": [
    "To answer this question, a set of constraints and objective function must be derived. Constraints are shown below:\n",
    "\n",
    "$w_1 \\ge 350$ : minimum 350 reams of white paper\n",
    "\n",
    "$y_1 \\ge 400$ : minimum 400 reams of yellow paper\n",
    "\n",
    "$p_1 \\ge 0$ : minimum zero packages from Supplier 1\n",
    "\n",
    "$p_2 \\ge 0$ : minimum zero packages from Supplier 2\n",
    "\n",
    "$p_3 \\ge 0$ : minimum zero packages from Supplier 3\n",
    "\n",
    "where:\n",
    "\n",
    "$w_1$ represents the amount of reams of white paper\n",
    "\n",
    "$y_2$ represents the amount of reams of yellow paper\n",
    "\n",
    "$p_1$ represents the amount packages from Supplier 1\n",
    "\n",
    "$p_2$ represents the amount packages from Supplier 2\n",
    "\n",
    "$p_3$ represents the amount packages from Supplier 3\n",
    "\n",
    "Functions for total reams of white and yellow paper are shown below:\n",
    "\n",
    "$w_1 = 20p_1 + 10p_2 + 10p_3$ : 20 reams of white paper from Supplier 1, 10 from Supplier 2 and 10 from Supplier 3\n",
    "\n",
    "$y_1 = 10p_1 + 10p_2 + 20p_3$ : 10 reams of yellow paper from Supplier 1, 10 from Supplier 2 and 20 from Supplier 3\n",
    "\n",
    "The objective function (to be minimized) is shown below:\n",
    "\n",
    "$min(60p_1 + 40p_2 + 50p_3)$\n",
    "\n",
    "which pays respect to minimizing total cost of purchasing the packages for paper reams.\n",
    "\n",
    "\n",
    "The above linear optimization problem can be solved using the 'pulp' package in Python."
   ]
  },
  {
   "cell_type": "code",
   "execution_count": 2,
   "metadata": {
    "collapsed": false
   },
   "outputs": [
    {
     "name": "stdout",
     "output_type": "stream",
     "text": [
      "Packages ordered from Supplier 1 (no.): 10.0\n",
      "Packages ordered from Supplier 2 (no.): 0.0\n",
      "Packages ordered from Supplier 3 (no.): 15.0\n",
      "Total cost of purchasing packages ($): 1350.0\n"
     ]
    }
   ],
   "source": [
    "from pulp import *\n",
    " \n",
    "# declare variables\n",
    "w1 = LpVariable(\"w1\", 350, 99999) # minimum 350 reams of white paper\n",
    "y1 = LpVariable(\"y1\", 400, 99999) # minimum 400 reams of yellow paper\n",
    "p1 = LpVariable(\"p1\", 0, 99999) # minimum zero packages from Supplier 1\n",
    "p2 = LpVariable(\"p2\", 0, 99999) # minimum zero packages from Supplier 2\n",
    "p3 = LpVariable(\"p3\", 0, 99999) # minimum zero packages from Supplier 3\n",
    "\n",
    "# define problem\n",
    "prob = LpProblem(\"problem\", LpMinimize)\n",
    "\n",
    "# define constraints\n",
    "prob += p1*20 + p2*10 + p3*10 == w1 # 20 reams of white paper from Supplier 1, 10 from Supplier 2 and 10 from Supplier 3\n",
    "prob += p1*10 + p2*10 + p3*20 == y1 # 10 reams of yellow paper from Supplier 1, 10 from Supplier 2 and 20 from Supplier 3\n",
    "\n",
    "# define objective function\n",
    "prob += p1*60 + p2*40 + p3*50 # minimizing total cost of purchasing the packages for paper reams.\n",
    "\n",
    "# solve problem\n",
    "prob.solve(solver = GLPK(\"C:\\\\Program Files\\\\glpk-4.57\\\\w64\\\\glpsol.exe\"))\n",
    "\n",
    "p1 = round(value(p1),0)\n",
    "p2 = round(value(p2),0)\n",
    "p3 = round(value(p3),0)\n",
    "\n",
    "print(\"Packages ordered from Supplier 1 (no.):\", p1)\n",
    "print(\"Packages ordered from Supplier 2 (no.):\", p2)\n",
    "print(\"Packages ordered from Supplier 3 (no.):\", p3)\n",
    "\n",
    "tc = p1*60 + p2*40 + p3*50\n",
    "\n",
    "print(\"Total cost of purchasing packages ($):\", tc)"
   ]
  },
  {
   "cell_type": "markdown",
   "metadata": {},
   "source": [
    "###Question 2"
   ]
  },
  {
   "cell_type": "markdown",
   "metadata": {},
   "source": [
    "A new test has been developed to detect a particular type of cancer.  A medical researcher selects a random sample of 1,000 adults and finds (by other means) that 4% have this type of cancer.  Each of the 1,000 adults is given the new test and it is found that the test indicates cancer in 99% of those who have it and in 1% of those who do not.  Based on these results, what is the probability of a randomly chosen person having cancer given that the test indicates cancer?  What is the probability of a person having cancer given that the test does not indicate cancer?"
   ]
  },
  {
   "cell_type": "markdown",
   "metadata": {},
   "source": [
    "####Answer"
   ]
  },
  {
   "cell_type": "markdown",
   "metadata": {},
   "source": [
    "This problem can be solved by employing Bayes' Rule. Please see the full set of calculations below."
   ]
  },
  {
   "cell_type": "code",
   "execution_count": 3,
   "metadata": {
    "collapsed": false
   },
   "outputs": [
    {
     "name": "stdout",
     "output_type": "stream",
     "text": [
      "P(cancer|positive): 0.804878\n",
      "P(cancer|negative): 0.000421\n"
     ]
    }
   ],
   "source": [
    "p_cancer = 0.04 # P(cancer)\n",
    "p_nocancer = 1 - p_cancer # P(no cancer)\n",
    "p_pos_cancer = 0.99 # P(positive|cancer)\n",
    "p_pos_nocancer = 1 - p_pos_cancer # P(positive|no cancer)\n",
    "p_neg_cancer = p_pos_nocancer # P(negative|cancer)\n",
    "\n",
    "p_pos = (p_cancer * p_pos_cancer) + (p_nocancer * p_pos_nocancer)\n",
    "\n",
    "#P(cancer|positive) = P(cancer) * P(positive|cancer) / \n",
    "                    #(P(cancer) * P(positive|cancer) + P(no cancer) * P(positive|no cancer))\n",
    "p_cancer_pos = (p_cancer * p_pos_cancer) / p_pos\n",
    "\n",
    "#P(cancer|negative = P(cancer) * P(negative|cancer) / \n",
    "                    #(P(cancer) * P(negative|cancer) + P(no cancer) * P(negative|no cancer))\n",
    "p_cancer_neg = (p_cancer * p_neg_cancer) / (1 - p_pos)\n",
    "\n",
    "print(\"P(cancer|positive):\", format(p_cancer_pos, \".6f\"))\n",
    "print(\"P(cancer|negative):\", format(p_cancer_neg, \".6f\"))"
   ]
  },
  {
   "cell_type": "markdown",
   "metadata": {
    "collapsed": true
   },
   "source": [
    "###Question 3"
   ]
  },
  {
   "cell_type": "markdown",
   "metadata": {},
   "source": [
    "If a tank holds 5000 gallons of water, which drains from the bottom of the tank in 40 minutes, then the volume of the water remaining in the tank after t minutes is given by $V(t)=5000(1-\\frac{t}{40})^2$, $0≤t≤40$.  Using Python, determine the rate at which water is draining from the tank. "
   ]
  },
  {
   "cell_type": "markdown",
   "metadata": {},
   "source": [
    "####Answer"
   ]
  },
  {
   "cell_type": "markdown",
   "metadata": {},
   "source": [
    "A plot of the amount of water in the tank versus time is shown below."
   ]
  },
  {
   "cell_type": "code",
   "execution_count": 4,
   "metadata": {
    "collapsed": false
   },
   "outputs": [
    {
     "data": {
      "image/png": "[encoded data removed]",
      "text/plain": [
       "<matplotlib.figure.Figure at 0x6919da0>"
      ]
     },
     "metadata": {},
     "output_type": "display_data"
    }
   ],
   "source": [
    "import numpy as np\n",
    "import matplotlib.pyplot as plt\n",
    "%matplotlib inline\n",
    "\n",
    "def f(x):\n",
    "    y = 5000*(1 - x/40)**2\n",
    "    return y\n",
    "\n",
    "x = np.arange(0,40,0.25)\n",
    "y = f(x)\n",
    "\n",
    "plt.figure(figsize=(14,6))\n",
    "plt.plot(x,y)\n",
    "plt.xlim(0,40)\n",
    "plt.ylim(0,5000)\n",
    "plt.title(\"Plot of V(t)\")\n",
    "plt.ylabel(\"V(t)\")\n",
    "plt.xlabel(\"t\")\n",
    "plt.show()"
   ]
  },
  {
   "cell_type": "markdown",
   "metadata": {},
   "source": [
    "In order to find the rate at which water is draining from the tank, the first derivative of the function $V(t)$ must be found w.r.t time $t$."
   ]
  },
  {
   "cell_type": "code",
   "execution_count": 5,
   "metadata": {
    "collapsed": false
   },
   "outputs": [
    {
     "name": "stdout",
     "output_type": "stream",
     "text": [
      "d_1(V(t)): 25*t/4 - 250\n"
     ]
    }
   ],
   "source": [
    "from sympy import *\n",
    "\n",
    "t = Symbol(\"t\")\n",
    "v = 5000*(1 - t/40)**2\n",
    "v_d_1 = v.diff(t)\n",
    "print(\"d_1(V(t)):\", v_d_1)"
   ]
  },
  {
   "cell_type": "markdown",
   "metadata": {},
   "source": [
    "Below is a plot of the rate at which water is draining from the tank over time, according to the first derivative of the function $V(t)$."
   ]
  },
  {
   "cell_type": "code",
   "execution_count": 6,
   "metadata": {
    "collapsed": false
   },
   "outputs": [
    {
     "data": {
      "image/png": "[encoded data removed]",
      "text/plain": [
       "<matplotlib.figure.Figure at 0x3a081d0>"
      ]
     },
     "metadata": {},
     "output_type": "display_data"
    }
   ],
   "source": [
    "import numpy as np\n",
    "import matplotlib.pyplot as plt\n",
    "%matplotlib inline\n",
    "\n",
    "def d_1(x):\n",
    "    y = float(25)*x/4 - 250\n",
    "    return y\n",
    "\n",
    "x = np.arange(0,40,0.25)\n",
    "y = d_1(x)\n",
    "\n",
    "plt.figure(figsize=(14,6))\n",
    "plt.plot(x,y)\n",
    "plt.xlim(0,40)\n",
    "plt.ylim(-500,0)\n",
    "plt.title(\"Plot of d_1(V(t))\")\n",
    "plt.ylabel(\"d_1(V(t))\")\n",
    "plt.xlabel(\"d/dt\")\n",
    "plt.show()"
   ]
  },
  {
   "cell_type": "markdown",
   "metadata": {},
   "source": [
    "As it can be seen in the plot above. The rate at which water is draining is greatest at the first interval. The rate of drainage then decreases linearly (in absolute terms). A number of rates of drainage are shown below."
   ]
  },
  {
   "cell_type": "code",
   "execution_count": 7,
   "metadata": {
    "collapsed": false
   },
   "outputs": [
    {
     "name": "stdout",
     "output_type": "stream",
     "text": [
      "Rate of drainage (t=5) (gal/min): -875/4\n",
      "Rate of drainage (t=10) (gal/min): -375/2\n",
      "Rate of drainage (t=20) (gal/min): -125\n",
      "Rate of drainage (t=40) (gal/min): 0\n"
     ]
    }
   ],
   "source": [
    "from sympy import *\n",
    "\n",
    "t = Symbol(\"t\")\n",
    "v_d_1 = 25*t/4 - 250\n",
    "print(\"Rate of drainage (t=5) (gal/min):\", v_d_1.subs(t, 5))\n",
    "print(\"Rate of drainage (t=10) (gal/min):\", v_d_1.subs(t, 10))\n",
    "print(\"Rate of drainage (t=20) (gal/min):\", v_d_1.subs(t, 20))\n",
    "print(\"Rate of drainage (t=40) (gal/min):\", v_d_1.subs(t, 40))"
   ]
  },
  {
   "cell_type": "markdown",
   "metadata": {},
   "source": [
    "###Question 4"
   ]
  },
  {
   "cell_type": "markdown",
   "metadata": {},
   "source": [
    "A rectangular container with a volume of 475 ft^3 is to be constructed with a square base and top.  The cost per square foot for the bottom is \\$0.20, for the top is \\$0.10, and for the sides is \\$0.015.  Find the dimensions of the container that minimize the amount of material used."
   ]
  },
  {
   "cell_type": "markdown",
   "metadata": {},
   "source": [
    "####Answer"
   ]
  },
  {
   "cell_type": "markdown",
   "metadata": {},
   "source": [
    "To answer this question, a set of constraints and objective function must be derived. Constraints are shown below:\n",
    "\n",
    "$l_1 \\ge 0$ : minimum zero feet of length for the container\n",
    "\n",
    "$b_1 \\ge 0$ : minimum zero feet of breadth for the container\n",
    "\n",
    "$h_1 \\ge 0$ : minimum zero feet of height for the container\n",
    "\n",
    "$l_1 \\cdot b_1 \\cdot h_1 = 475$ : total 475 ft^3 volume for the container\n",
    "\n",
    "where:\n",
    "\n",
    "$l_1$ represents the length of the container in feet\n",
    "\n",
    "$b_1$ represents the breadth of the container in feet\n",
    "\n",
    "$h_1$ represents the height of the container in feet\n",
    "\n",
    "Construction of each face of the container has a different cost. Cost equations for each face are shown below:\n",
    "\n",
    "$cb_1 = 0.2 (l_1 \\cdot b_1)$ : $0.20 per square foot to construct the bottom of the container\n",
    "\n",
    "$ct_1 = 0.1 (l_1 \\cdot b_1)$ : $0.10 per square foot to construct the top of the container\n",
    "\n",
    "$cs_1 = 0.015 (2(l_1 \\cdot h_1) + 2(b_1 \\cdot h_1))$ : $0.015 per square foot to construct the sides of the container\n",
    "\n",
    "where:\n",
    "\n",
    "$cb_1$ represents the total cost of constructing the bottom of the container in dollars\n",
    "\n",
    "$ct_1$ represents the total cost of constructing the top of the container in dollars\n",
    "\n",
    "$cs_1$ represents the total cost of constructing the sides of the container in dollars\n",
    "\n",
    "The objective function is shown below:\n",
    "\n",
    "$min(cb_1 + ct_1 + cs_1)$\n",
    "\n",
    "which pays respect to minimizing the total cost of constructing the container.\n",
    "\n",
    "The above optimization problem can be solved using the 'apm' package in Python."
   ]
  },
  {
   "cell_type": "code",
   "execution_count": 8,
   "metadata": {
    "collapsed": false
   },
   "outputs": [
    {
     "name": "stdout",
     "output_type": "stream",
     "text": [
      "Length of the container (feet): 3.621578\n",
      "Breadth of the container (feet): 3.621578\n",
      "Height of the container (feet): 36.21578\n",
      "Volume of the container (ft^3): 474.999912758\n",
      "Total cost of constructing the container ($): 11.804246\n"
     ]
    }
   ],
   "source": [
    "from apm import *\n",
    "\n",
    "server = \"http://xps.apmonitor.com\"\n",
    "app = \"eqn\"\n",
    "\n",
    "apm(server,app, \"clear all\")\n",
    "apm_load(server,app, \"apm_q4.apm\") # Variables passed to apm calculation server (see below):\n",
    "\n",
    "#Model\n",
    "#  Variables\n",
    "#\tl[1] = 0, >=0, <=9999\n",
    "#\tb[1] = 0, >=0, <=9999\n",
    "#\th[1] = 0, >=0, <=9999\n",
    "#\tcb[1] = 0, >=0, <=9999\n",
    "#\tct[1] = 0, >=0, <=9999\n",
    "#\tcs[1] = 0, >=0, <=9999\n",
    "#  End Variables\n",
    "#\n",
    "#  Equations\n",
    "#\tl[1] * b[1] * h[1] = 475\n",
    "#\tcb[1] = 0.2*(l[1] * b[1])\n",
    "#\tct[1] = 0.1*(l[1] * b[1])\n",
    "#\tcs[1] = 0.015*(2*(l[1] * h[1]) + 2*(b[1] * h[1]))\n",
    "#\n",
    "#\tminimize  cb[1] + ct[1] + cs[1]\n",
    "#  End Equations\n",
    "#End Model\n",
    "\n",
    "apm_option(server,app, \"nlc.solver\", 3) # Select solver (1=APOPT, 2=BPOPT, 3=IPOPT)\n",
    "solver_output = apm(server,app, \"solve\") \n",
    "results = apm_sol(server,app)\n",
    "\n",
    "#print(results)\n",
    "#{'cb[1]': 2.623166, 'ct[1]': 1.311583, 'b[1]': 3.621578, 'h[1]': 36.21578, 'cs[1]': 7.869497, 'l[1]': 3.621578}\n",
    "\n",
    "l = results[\"l[1]\"]\n",
    "b = results[\"b[1]\"]\n",
    "h = results[\"h[1]\"]\n",
    "v = l * b * h\n",
    "\n",
    "cb = results[\"cb[1]\"]\n",
    "ct = results[\"ct[1]\"]\n",
    "cs = results[\"cs[1]\"]\n",
    "tc = cb + ct + cs\n",
    "\n",
    "print(\"Length of the container (feet):\", l)\n",
    "print(\"Breadth of the container (feet):\", b)\n",
    "print(\"Height of the container (feet):\", h)\n",
    "print(\"Volume of the container (ft^3):\", v)\n",
    "print(\"Total cost of constructing the container ($):\", tc)"
   ]
  },
  {
   "cell_type": "markdown",
   "metadata": {},
   "source": [
    "###Question 5"
   ]
  },
  {
   "cell_type": "markdown",
   "metadata": {},
   "source": [
    "Assume the total revenue from the sale of $x$ items is given by $R(x)=27 ln⁡(6x+1)$ while the total cost to produce $x$ items is $C(x)=\\frac{x}{7}$. Find the approximate number of items that should be manufactured so that profit is maximized. "
   ]
  },
  {
   "cell_type": "markdown",
   "metadata": {},
   "source": [
    "####Answer"
   ]
  },
  {
   "cell_type": "markdown",
   "metadata": {},
   "source": [
    "To answer this question, a set of constraints and objective function must be derived. Constraints are shown below:\n",
    "\n",
    "$x_1 >= 0$ : minimum zero items produced/sold\n",
    "\n",
    "where:\n",
    "\n",
    "$x_1$ represents the amount of items produced/sold\n",
    "\n",
    "Cost and revenue equations are shown below:\n",
    "\n",
    "$tr_1 = 27 \\cdot ln(6x_1 + 1)$ : revenue from the sale of 'x' items\n",
    "\n",
    "$tc_1 = \\frac{x_1}{7}$ : cost from the production of 'x' items\n",
    "\n",
    "where:\n",
    "\n",
    "$tr_1$ represents total revenue faced by the manufacturer\n",
    "\n",
    "$tc_1$ represents total cost faced by the manufacturer\n",
    "\n",
    "The objective function is shown below:\n",
    "\n",
    "$max(tr_1 - tc_1)$\n",
    "\n",
    "which pays respect to maximizing profit from the production/sale of items.\n",
    "\n",
    "The above optimization problem can be solved using the 'apm' package in Python."
   ]
  },
  {
   "cell_type": "code",
   "execution_count": 9,
   "metadata": {
    "collapsed": false
   },
   "outputs": [
    {
     "name": "stdout",
     "output_type": "stream",
     "text": [
      "Items produced/sold (no.): 188.8333\n",
      "Total revenue ($): 189.9047\n",
      "Total cost ($): 26.97619\n",
      "Profit ($): 162.92851\n"
     ]
    }
   ],
   "source": [
    "from apm import *\n",
    "\n",
    "server = \"http://xps.apmonitor.com\"\n",
    "app = \"eqn\"\n",
    "\n",
    "apm(server,app, \"clear all\")\n",
    "apm_load(server,app, \"apm_q5.apm\") # Variables passed to apm calculation server (see below):\n",
    "\n",
    "#Model\n",
    "#  Variables\n",
    "#\tx[1] = 0, >=0, <=99999\n",
    "#\ttr[1] = 0, >=0, <=99999\n",
    "#\ttc[1] = 0, >=0, <=99999\n",
    "#  End Variables\n",
    "#\n",
    "#  Equations\n",
    "#\t27 * log(6 * x[1] + 1) = tr[1]\n",
    "#\tx[1] / 7 = tc[1]\n",
    "#\n",
    "#\tmaximize  tr[1] - tc[1]\n",
    "#  End Equations\n",
    "#End Model\n",
    "\n",
    "apm_option(server,app, \"nlc.solver\", 3) # Select solver (1=APOPT, 2=BPOPT, 3=IPOPT)\n",
    "solver_output = apm(server,app, \"solve\") \n",
    "results = apm_sol(server,app)\n",
    "\n",
    "#print(results)\n",
    "#{'x[1]': 188.8333, 'tr[1]': 189.9047, 'tc[1]': 26.97619}\n",
    "\n",
    "x = results[\"x[1]\"]\n",
    "tr = results[\"tr[1]\"]\n",
    "tc = results[\"tc[1]\"]\n",
    "p = tr - tc\n",
    "\n",
    "print(\"Items produced/sold (no.):\", x)\n",
    "print(\"Total revenue ($):\", tr)\n",
    "print(\"Total cost ($):\", tc)\n",
    "print(\"Profit ($):\", p)"
   ]
  },
  {
   "cell_type": "markdown",
   "metadata": {},
   "source": [
    "###Question 6"
   ]
  },
  {
   "cell_type": "markdown",
   "metadata": {},
   "source": [
    "For the following function, determine the domain, critical points, intervals where the function is increasing or decreasing, inflection points, intervals of concavity, intercepts, and asymptotes where applicable.  Use this information and Python to graph the function.\n",
    "\n",
    "$f(x)=-\\frac{1}{(x+2)^2}+4$"
   ]
  },
  {
   "cell_type": "markdown",
   "metadata": {},
   "source": [
    "####Answer"
   ]
  },
  {
   "cell_type": "markdown",
   "metadata": {},
   "source": [
    "A plot of the function $f(x)$ is shown below."
   ]
  },
  {
   "cell_type": "code",
   "execution_count": 10,
   "metadata": {
    "collapsed": false
   },
   "outputs": [
    {
     "data": {
      "image/png": "[encoded data removed]",
      "text/plain": [
       "<matplotlib.figure.Figure at 0x734e0f0>"
      ]
     },
     "metadata": {},
     "output_type": "display_data"
    }
   ],
   "source": [
    "import numpy as np\n",
    "import matplotlib.pyplot as plt\n",
    "%matplotlib inline\n",
    "\n",
    "def f(x):\n",
    "    y = float(-1)/((x+2)**2) + 4\n",
    "    return y\n",
    "\n",
    "x = np.arange(-20,20,0.01)\n",
    "y = f(x)\n",
    "\n",
    "plt.figure(figsize=(14,6))\n",
    "plt.plot(x,y)\n",
    "plt.xlim(-20,20)\n",
    "plt.ylim(-20,20)\n",
    "plt.title(\"Plot of f(x)\")\n",
    "plt.ylabel(\"f(x)\")\n",
    "plt.xlabel(\"x\")\n",
    "plt.show()"
   ]
  },
  {
   "cell_type": "markdown",
   "metadata": {},
   "source": [
    "####Domain"
   ]
  },
  {
   "cell_type": "markdown",
   "metadata": {},
   "source": [
    "According to <a href = \"https://en.wikipedia.org/wiki/Domain_of_a_function\">wikipedia</a>, the domain of a function is the set of 'input' or argument values for which the function is defined."
   ]
  },
  {
   "cell_type": "markdown",
   "metadata": {},
   "source": [
    "In order to find the undefined points and thus find the domain, the denominator of the function $(x+2)^2$ must be set to zero and evaluated for all values of $x$. Any values of $x$ for which the denominator is evaluated as zero are excluded from the analysis."
   ]
  },
  {
   "cell_type": "code",
   "execution_count": 11,
   "metadata": {
    "collapsed": false
   },
   "outputs": [
    {
     "name": "stdout",
     "output_type": "stream",
     "text": [
      "(x + 2)**2 = 0: -2\n"
     ]
    }
   ],
   "source": [
    "from sympy import *\n",
    "\n",
    "x = Symbol('x')\n",
    "fd = (x + 2)**2\n",
    "fd_e = solve(fd, x)\n",
    "print(\"(x + 2)**2 = 0:\", fd_e[0])"
   ]
  },
  {
   "cell_type": "markdown",
   "metadata": {},
   "source": [
    "Since $(x+2)^2=0$ when $x=-2$, this value is excluded from the domain. As such, the domain of the function $f(x)$ is $(-\\infty \\:,\\:-2)\\cup (-2,\\:\\infty \\:)$."
   ]
  },
  {
   "cell_type": "markdown",
   "metadata": {},
   "source": [
    "####Critical points"
   ]
  },
  {
   "cell_type": "markdown",
   "metadata": {},
   "source": [
    "According to <a href = \"https://en.wikipedia.org/wiki/Critical_point_%28mathematics%29\">wikipedia</a>, a critical point of a differentiable function of a real or complex variable is any value in its domain where its derivative is zero or undefined."
   ]
  },
  {
   "cell_type": "markdown",
   "metadata": {},
   "source": [
    "As such, in order to find the critical points, the first derivative of the function $f(x)$ is found w.r.t $x$, and evaluated equal to zero. The first derivative of the function $f(x)$ is shown below w.r.t $x$."
   ]
  },
  {
   "cell_type": "code",
   "execution_count": 12,
   "metadata": {
    "collapsed": false
   },
   "outputs": [
    {
     "name": "stdout",
     "output_type": "stream",
     "text": [
      "d_1(f(x)): 2/(x + 2)**3\n"
     ]
    }
   ],
   "source": [
    "from sympy import *\n",
    "\n",
    "x = Symbol(\"x\")\n",
    "f = -1/((x + 2)**2) + 4\n",
    "f_d_1 = f.diff(x)\n",
    "print(\"d_1(f(x)):\", f_d_1)"
   ]
  },
  {
   "cell_type": "markdown",
   "metadata": {},
   "source": [
    "A plot of the first derivative of the function $f(x)$ is shown below."
   ]
  },
  {
   "cell_type": "code",
   "execution_count": 13,
   "metadata": {
    "collapsed": false
   },
   "outputs": [
    {
     "data": {
      "image/png": "[encoded data removed]",
      "text/plain": [
       "<matplotlib.figure.Figure at 0x3a089e8>"
      ]
     },
     "metadata": {},
     "output_type": "display_data"
    }
   ],
   "source": [
    "import numpy as np\n",
    "import matplotlib.pyplot as plt\n",
    "%matplotlib inline\n",
    "\n",
    "def f(x):\n",
    "    y = float(2)/(x + 2)**3\n",
    "    return y\n",
    "\n",
    "x = np.arange(-20,20,0.01)\n",
    "y = f(x)\n",
    "\n",
    "plt.figure(figsize=(14,6))\n",
    "plt.plot(x,y)\n",
    "plt.xlim(-20,20)\n",
    "plt.ylim(-20,20)\n",
    "plt.title(\"Plot of d_1(f(x))\")\n",
    "plt.ylabel(\"d_1(f(x))\")\n",
    "plt.xlabel(\"d/dx\")\n",
    "plt.show()"
   ]
  },
  {
   "cell_type": "markdown",
   "metadata": {},
   "source": [
    "We then evaluate the first derivative equal to zero."
   ]
  },
  {
   "cell_type": "code",
   "execution_count": 14,
   "metadata": {
    "collapsed": false
   },
   "outputs": [
    {
     "name": "stdout",
     "output_type": "stream",
     "text": [
      "d_1(f(x))=0: []\n"
     ]
    }
   ],
   "source": [
    "from sympy import *\n",
    "\n",
    "x = Symbol('x')\n",
    "f_d_1_e = solve(f_d_1, x)\n",
    "print(\"d_1(f(x))=0:\", f_d_1_e)"
   ]
  },
  {
   "cell_type": "markdown",
   "metadata": {},
   "source": [
    "For the function $f(x)$, there are no values of $x$ for which its first derivative is equal to zero. And therefore, there is no critical point solution."
   ]
  },
  {
   "cell_type": "markdown",
   "metadata": {},
   "source": [
    "####Intervals where the function is increasing or decreasing"
   ]
  },
  {
   "cell_type": "markdown",
   "metadata": {},
   "source": [
    "In order to find the intervals where the function $f(x)$ is increasing or decreasing, the first derivative of the function is found and evaluated over all points of its domain. For intervals where the derivative is positive, the function is said to be increasing, and when the derivative is negative, the function is said to be decreasing. The below Python code performs a crude evaluation of the first derivative of the function $f(x)$ over a range of values of $x$, and labels each as increasing or decreasing."
   ]
  },
  {
   "cell_type": "code",
   "execution_count": 15,
   "metadata": {
    "collapsed": false
   },
   "outputs": [
    {
     "data": {
      "text/html": [
       "<div>\n",
       "<table border=\"1\" class=\"dataframe\">\n",
       "  <thead>\n",
       "    <tr style=\"text-align: right;\">\n",
       "      <th></th>\n",
       "      <th>x</th>\n",
       "      <th>y</th>\n",
       "      <th>d_1(f(x))</th>\n",
       "      <th>increase(I)/decrease(D)</th>\n",
       "    </tr>\n",
       "    <tr>\n",
       "      <th>index</th>\n",
       "      <th></th>\n",
       "      <th></th>\n",
       "      <th></th>\n",
       "      <th></th>\n",
       "    </tr>\n",
       "  </thead>\n",
       "  <tbody>\n",
       "    <tr>\n",
       "      <th>1</th>\n",
       "      <td>-9998</td>\n",
       "      <td>4</td>\n",
       "      <td>-2.0024e-12</td>\n",
       "      <td>D</td>\n",
       "    </tr>\n",
       "    <tr>\n",
       "      <th>//</th>\n",
       "      <td>//</td>\n",
       "      <td>//</td>\n",
       "      <td>//</td>\n",
       "      <td>//</td>\n",
       "    </tr>\n",
       "    <tr>\n",
       "      <th>9987</th>\n",
       "      <td>-12</td>\n",
       "      <td>3.99</td>\n",
       "      <td>-0.002</td>\n",
       "      <td>D</td>\n",
       "    </tr>\n",
       "    <tr>\n",
       "      <th>9988</th>\n",
       "      <td>-11</td>\n",
       "      <td>3.98765</td>\n",
       "      <td>-0.00274348</td>\n",
       "      <td>D</td>\n",
       "    </tr>\n",
       "    <tr>\n",
       "      <th>9989</th>\n",
       "      <td>-10</td>\n",
       "      <td>3.98438</td>\n",
       "      <td>-0.00390625</td>\n",
       "      <td>D</td>\n",
       "    </tr>\n",
       "    <tr>\n",
       "      <th>9990</th>\n",
       "      <td>-9</td>\n",
       "      <td>3.97959</td>\n",
       "      <td>-0.0058309</td>\n",
       "      <td>D</td>\n",
       "    </tr>\n",
       "    <tr>\n",
       "      <th>9991</th>\n",
       "      <td>-8</td>\n",
       "      <td>3.97222</td>\n",
       "      <td>-0.00925926</td>\n",
       "      <td>D</td>\n",
       "    </tr>\n",
       "    <tr>\n",
       "      <th>9992</th>\n",
       "      <td>-7</td>\n",
       "      <td>3.96</td>\n",
       "      <td>-0.016</td>\n",
       "      <td>D</td>\n",
       "    </tr>\n",
       "    <tr>\n",
       "      <th>9993</th>\n",
       "      <td>-6</td>\n",
       "      <td>3.9375</td>\n",
       "      <td>-0.03125</td>\n",
       "      <td>D</td>\n",
       "    </tr>\n",
       "    <tr>\n",
       "      <th>9994</th>\n",
       "      <td>-5</td>\n",
       "      <td>3.88889</td>\n",
       "      <td>-0.0740741</td>\n",
       "      <td>D</td>\n",
       "    </tr>\n",
       "    <tr>\n",
       "      <th>9995</th>\n",
       "      <td>-4</td>\n",
       "      <td>3.75</td>\n",
       "      <td>-0.25</td>\n",
       "      <td>D</td>\n",
       "    </tr>\n",
       "    <tr>\n",
       "      <th>9996</th>\n",
       "      <td>-3</td>\n",
       "      <td>3</td>\n",
       "      <td>-2</td>\n",
       "      <td>D</td>\n",
       "    </tr>\n",
       "    <tr>\n",
       "      <th>9997</th>\n",
       "      <td>-2</td>\n",
       "      <td>NA</td>\n",
       "      <td>NA</td>\n",
       "      <td>NA</td>\n",
       "    </tr>\n",
       "    <tr>\n",
       "      <th>9998</th>\n",
       "      <td>-1</td>\n",
       "      <td>3</td>\n",
       "      <td>2</td>\n",
       "      <td>I</td>\n",
       "    </tr>\n",
       "    <tr>\n",
       "      <th>9999</th>\n",
       "      <td>0</td>\n",
       "      <td>3.75</td>\n",
       "      <td>0.25</td>\n",
       "      <td>I</td>\n",
       "    </tr>\n",
       "    <tr>\n",
       "      <th>10000</th>\n",
       "      <td>1</td>\n",
       "      <td>3.88889</td>\n",
       "      <td>0.0740741</td>\n",
       "      <td>I</td>\n",
       "    </tr>\n",
       "    <tr>\n",
       "      <th>10001</th>\n",
       "      <td>2</td>\n",
       "      <td>3.9375</td>\n",
       "      <td>0.03125</td>\n",
       "      <td>I</td>\n",
       "    </tr>\n",
       "    <tr>\n",
       "      <th>10002</th>\n",
       "      <td>3</td>\n",
       "      <td>3.96</td>\n",
       "      <td>0.016</td>\n",
       "      <td>I</td>\n",
       "    </tr>\n",
       "    <tr>\n",
       "      <th>10003</th>\n",
       "      <td>4</td>\n",
       "      <td>3.97222</td>\n",
       "      <td>0.00925926</td>\n",
       "      <td>I</td>\n",
       "    </tr>\n",
       "    <tr>\n",
       "      <th>10004</th>\n",
       "      <td>5</td>\n",
       "      <td>3.97959</td>\n",
       "      <td>0.0058309</td>\n",
       "      <td>I</td>\n",
       "    </tr>\n",
       "    <tr>\n",
       "      <th>10005</th>\n",
       "      <td>6</td>\n",
       "      <td>3.98438</td>\n",
       "      <td>0.00390625</td>\n",
       "      <td>I</td>\n",
       "    </tr>\n",
       "    <tr>\n",
       "      <th>10006</th>\n",
       "      <td>7</td>\n",
       "      <td>3.98765</td>\n",
       "      <td>0.00274348</td>\n",
       "      <td>I</td>\n",
       "    </tr>\n",
       "    <tr>\n",
       "      <th>//</th>\n",
       "      <td>//</td>\n",
       "      <td>//</td>\n",
       "      <td>//</td>\n",
       "      <td>//</td>\n",
       "    </tr>\n",
       "    <tr>\n",
       "      <th>19997</th>\n",
       "      <td>9998</td>\n",
       "      <td>4</td>\n",
       "      <td>2e-12</td>\n",
       "      <td>I</td>\n",
       "    </tr>\n",
       "  </tbody>\n",
       "</table>\n",
       "</div>"
      ],
      "text/plain": [
       "           x        y   d_1(f(x)) increase(I)/decrease(D)\n",
       "index                                                    \n",
       "1      -9998        4 -2.0024e-12                       D\n",
       "//        //       //          //                      //\n",
       "9987     -12     3.99      -0.002                       D\n",
       "9988     -11  3.98765 -0.00274348                       D\n",
       "9989     -10  3.98438 -0.00390625                       D\n",
       "9990      -9  3.97959  -0.0058309                       D\n",
       "9991      -8  3.97222 -0.00925926                       D\n",
       "9992      -7     3.96      -0.016                       D\n",
       "9993      -6   3.9375    -0.03125                       D\n",
       "9994      -5  3.88889  -0.0740741                       D\n",
       "9995      -4     3.75       -0.25                       D\n",
       "9996      -3        3          -2                       D\n",
       "9997      -2       NA          NA                      NA\n",
       "9998      -1        3           2                       I\n",
       "9999       0     3.75        0.25                       I\n",
       "10000      1  3.88889   0.0740741                       I\n",
       "10001      2   3.9375     0.03125                       I\n",
       "10002      3     3.96       0.016                       I\n",
       "10003      4  3.97222  0.00925926                       I\n",
       "10004      5  3.97959   0.0058309                       I\n",
       "10005      6  3.98438  0.00390625                       I\n",
       "10006      7  3.98765  0.00274348                       I\n",
       "//        //       //          //                      //\n",
       "19997   9998        4       2e-12                       I"
      ]
     },
     "execution_count": 15,
     "metadata": {},
     "output_type": "execute_result"
    }
   ],
   "source": [
    "import numpy as np\n",
    "import pandas as pd\n",
    "\n",
    "l_x = np.arange(-9999,9999,1)\n",
    "\n",
    "def f(x):\n",
    "    y = float(-1)/((x + 2)**2) + 4\n",
    "    return y\n",
    "\n",
    "def d_1(x):\n",
    "    y = float(2)/(x + 2)**3\n",
    "    return y\n",
    "\n",
    "i = 0\n",
    "l_y = []\n",
    "for x in l_x:\n",
    "    x = int(x)\n",
    "    if x == -2:\n",
    "        y = \"NA\"\n",
    "        d = \"NA\"\n",
    "    else:\n",
    "        y = f(x)\n",
    "        d = d_1(x)\n",
    "    l_y.append([i, x, y, d])\n",
    "    i += 1\n",
    "\n",
    "for i in range(0, len(l_y)):\n",
    "    if l_y[i][1] == -2:\n",
    "        l = \"NA\"\n",
    "    elif l_y[i][3] > 0:\n",
    "        l = \"I\"\n",
    "    elif l_y[i][3] < 0:\n",
    "        l = \"D\"\n",
    "    else:\n",
    "        l = \"E\"\n",
    "    l_y[i].append(l)\n",
    "\n",
    "l_y_ranges = []\n",
    "l_y_ranges.append(l_y[1])\n",
    "l_y_ranges.append([\"//\", \"//\", \"//\", \"//\", \"//\"])\n",
    "for i in range(0, len(l_y) - 1):\n",
    "    if l_y[i][1] == -2:\n",
    "        for j in range(-10, 10):\n",
    "            l_y_ranges.append(l_y[i + j])\n",
    "l_y_ranges.append([\"//\", \"//\", \"//\", \"//\", \"//\"])\n",
    "l_y_ranges.append(l_y[-1])\n",
    "\n",
    "\n",
    "resultcols = [\"index\",\n",
    "              \"x\",\n",
    "              \"y\",\n",
    "              \"d_1(f(x))\",\n",
    "              \"increase(I)/decrease(D)\"]\n",
    "\n",
    "df_results = pd.DataFrame(l_y_ranges, columns = resultcols)\n",
    "df_results = df_results.set_index(\"index\")\n",
    "df_results"
   ]
  },
  {
   "cell_type": "markdown",
   "metadata": {},
   "source": [
    "As it can be seen from the above dataframe. The original function is decreasing for those values of $x$ which lie to the left of -2 (over the assessed range), and increasing for those values of $x$ which lie to the right of this value (over the assessed range). The function does however seem to have a horizontal asymptote at a value of $y=4$, as suggested by the convergence of the derivative to zero as we extend further outwards from $x=-2$."
   ]
  },
  {
   "cell_type": "markdown",
   "metadata": {},
   "source": [
    "####Inflection points"
   ]
  },
  {
   "cell_type": "markdown",
   "metadata": {},
   "source": [
    "According to <a href = \"https://en.wikipedia.org/wiki/Inflection_point\">wikipedia</a>, an inflection point is a point on a curve at which the curve changes from being concave (concave downward) to convex (concave upward), or vice versa."
   ]
  },
  {
   "cell_type": "markdown",
   "metadata": {},
   "source": [
    "In order to find any inflection points, the second derivative of the function $f(x)$ is found and evaluated equal to zero. The second derivative of the function $f(x)$ is shown below."
   ]
  },
  {
   "cell_type": "code",
   "execution_count": 16,
   "metadata": {
    "collapsed": false
   },
   "outputs": [
    {
     "name": "stdout",
     "output_type": "stream",
     "text": [
      "d_2(f(x)): -6/(x + 2)**4\n"
     ]
    }
   ],
   "source": [
    "from sympy import *\n",
    "\n",
    "x = Symbol(\"x\")\n",
    "f_d_2 = f_d_1.diff(x)\n",
    "print(\"d_2(f(x)):\", f_d_2)"
   ]
  },
  {
   "cell_type": "markdown",
   "metadata": {},
   "source": [
    "A plot of the second derivative of the function $f(x)$ is shown below."
   ]
  },
  {
   "cell_type": "code",
   "execution_count": 17,
   "metadata": {
    "collapsed": false
   },
   "outputs": [
    {
     "data": {
      "image/png": "[encoded data removed]",
      "text/plain": [
       "<matplotlib.figure.Figure at 0x8f2c668>"
      ]
     },
     "metadata": {},
     "output_type": "display_data"
    }
   ],
   "source": [
    "import numpy as np\n",
    "import matplotlib.pyplot as plt\n",
    "%matplotlib inline\n",
    "\n",
    "def f(x):\n",
    "    y = -float(6)/(x + 2)**4\n",
    "    return y\n",
    "\n",
    "x = np.arange(-20,20,0.01)\n",
    "y = f(x)\n",
    "\n",
    "plt.figure(figsize=(14,6))\n",
    "plt.plot(x,y)\n",
    "plt.xlim(-20,20)\n",
    "plt.ylim(-20,20)\n",
    "plt.title(\"Plot of d_2(f(x))\")\n",
    "plt.ylabel(\"d_2(f(x))\")\n",
    "plt.xlabel(\"d/dx\")\n",
    "plt.show()"
   ]
  },
  {
   "cell_type": "markdown",
   "metadata": {},
   "source": [
    "We then evaluate the second derivative equal to zero."
   ]
  },
  {
   "cell_type": "code",
   "execution_count": 18,
   "metadata": {
    "collapsed": false
   },
   "outputs": [
    {
     "name": "stdout",
     "output_type": "stream",
     "text": [
      "d_2(f(x))=0: []\n"
     ]
    }
   ],
   "source": [
    "from sympy import *\n",
    "\n",
    "x = Symbol('x')\n",
    "f_d_2_e = solve(f_d_2, x)\n",
    "print(\"d_2(f(x))=0:\", f_d_2_e)"
   ]
  },
  {
   "cell_type": "markdown",
   "metadata": {},
   "source": [
    "For the function $f(x)$, there are no values of $x$ for which the second derivative is equal to zero. As such, there are no inflection points."
   ]
  },
  {
   "cell_type": "markdown",
   "metadata": {},
   "source": [
    "####Intercepts"
   ]
  },
  {
   "cell_type": "markdown",
   "metadata": {},
   "source": [
    "In order to find the intercepts of the function $f(x)$m, we simply substitute zero for the value of $x$ (to find the y-intercept), and evaluate the function for $x$ (to find the x-intercept)."
   ]
  },
  {
   "cell_type": "code",
   "execution_count": 19,
   "metadata": {
    "collapsed": false
   },
   "outputs": [
    {
     "name": "stdout",
     "output_type": "stream",
     "text": [
      "f(0) (y-intercept): 3.75000000000000\n",
      "f(x)=0 (x-intercept): [-2.50000000000000, -1.50000000000000]\n"
     ]
    }
   ],
   "source": [
    "from sympy import *\n",
    "\n",
    "x = Symbol(\"x\")\n",
    "f = float(-1)/((x+2)**2) + 4\n",
    "print(\"f(0) (y-intercept):\", f.subs(x, 0))\n",
    "print(\"f(x)=0 (x-intercept):\", solve(f, x))"
   ]
  },
  {
   "cell_type": "markdown",
   "metadata": {},
   "source": [
    "As such, the function $f(x)$ has a y-intercept at $\\frac{15}{4}$, and x-intercepts at $\\frac{-5}{2}$ and $\\frac{-3}{2}$."
   ]
  },
  {
   "cell_type": "markdown",
   "metadata": {},
   "source": [
    "####Asymptotes"
   ]
  },
  {
   "cell_type": "markdown",
   "metadata": {},
   "source": [
    "According to <a href = \"https://en.wikipedia.org/wiki/Asymptote\">wikipedia</a>, an asymptote of a curve is a line such that the distance between the curve and the line approaches zero as they tend to infinity."
   ]
  },
  {
   "cell_type": "markdown",
   "metadata": {},
   "source": [
    "In order to identify the existence of vertical asymptotes, we must go over every undefined point $x=a$ and check if at least one of the following statements is true:\n",
    "\n",
    "$\\lim _{x\\to a^-}f(x)=\\pm \\infty$\n",
    "\n",
    "$\\lim _{x\\to a^+}f(x)=\\pm \\infty$"
   ]
  },
  {
   "cell_type": "markdown",
   "metadata": {},
   "source": [
    "We can test for the existence of a vertical asymptote at $x=-2$ (the value which we excluded from our domain) by checking whether $\\lim _{x\\to \\:-2-}(-\\frac{1}{(x+2)^2}+4) = \\pm \\infty$."
   ]
  },
  {
   "cell_type": "code",
   "execution_count": 20,
   "metadata": {
    "collapsed": false
   },
   "outputs": [
    {
     "name": "stdout",
     "output_type": "stream",
     "text": [
      "limit(f(x), x, -2): -oo\n"
     ]
    }
   ],
   "source": [
    "from sympy import *\n",
    "\n",
    "x = Symbol(\"x\")\n",
    "f = float(-1)/((x+2)**2) + 4\n",
    "print(\"limit(f(x), x, -2):\", limit(f, x, -2))"
   ]
  },
  {
   "cell_type": "markdown",
   "metadata": {},
   "source": [
    "Therefore, there is a vertical asymptote at $x=-2$."
   ]
  },
  {
   "cell_type": "markdown",
   "metadata": {},
   "source": [
    "In order to identify the existence of non-vertical asymptotes, we must check if at $x \\to \\pm \\infty$ the original function $f(x)$ behaves as a line $y=mx+b$."
   ]
  },
  {
   "cell_type": "markdown",
   "metadata": {},
   "source": [
    "We can compute $\\lim _{x\\to -\\infty \\:}\\frac{f\\left(x\\right)}{x}$ to find $m$."
   ]
  },
  {
   "cell_type": "code",
   "execution_count": 21,
   "metadata": {
    "collapsed": false
   },
   "outputs": [
    {
     "name": "stdout",
     "output_type": "stream",
     "text": [
      "limit(f(x)/x, x, oo): 0\n"
     ]
    }
   ],
   "source": [
    "from sympy import *\n",
    "\n",
    "x = Symbol(\"x\")\n",
    "f = (float(-1)/((x + 2)**2) + 4)/x\n",
    "print(\"limit(f(x)/x, x, oo):\", limit(f, x, oo))"
   ]
  },
  {
   "cell_type": "markdown",
   "metadata": {},
   "source": [
    "And compute $\\lim _{x\\to -\\infty \\:}f(x)-mx$ to find $b$:"
   ]
  },
  {
   "cell_type": "code",
   "execution_count": 22,
   "metadata": {
    "collapsed": false
   },
   "outputs": [
    {
     "name": "stdout",
     "output_type": "stream",
     "text": [
      "limit(f(x)-mx, x, oo): 4\n"
     ]
    }
   ],
   "source": [
    "from sympy import *\n",
    "\n",
    "x = Symbol(\"x\")\n",
    "f = float(-1)/((x+2)**2) + 4\n",
    "print(\"limit(f(x)-mx, x, oo):\", limit(f, x, oo))"
   ]
  },
  {
   "cell_type": "markdown",
   "metadata": {},
   "source": [
    "Therefore, there is a horizontal asymptote at $y=4$."
   ]
  },
  {
   "cell_type": "markdown",
   "metadata": {},
   "source": [
    "###Question 7"
   ]
  },
  {
   "cell_type": "markdown",
   "metadata": {},
   "source": [
    "The rate of growth of the profit (in millions) from an invention is approximated by the function $P'(x)=xe^{-x^2}$ where $x$ represents time measured in years.  The total profit in year 2 that the invention is in operation is $25,000.  Find the total profit function.  Round to three decimals where appropriate."
   ]
  },
  {
   "cell_type": "markdown",
   "metadata": {},
   "source": [
    "####Answer"
   ]
  },
  {
   "cell_type": "markdown",
   "metadata": {},
   "source": [
    "As stated by the question, the rate of change of total profit (marginal profit) is expressed as $P'(x)=xe^{-x^2}$. In order find the total profit function, we must integrate the marginal profit function w.r.t $x$."
   ]
  },
  {
   "cell_type": "code",
   "execution_count": 23,
   "metadata": {
    "collapsed": false
   },
   "outputs": [
    {
     "name": "stdout",
     "output_type": "stream",
     "text": [
      "-0.5*exp(-x**2)\n"
     ]
    }
   ],
   "source": [
    "from sympy import *\n",
    "\n",
    "x = Symbol(\"x\")\n",
    "d_1 = 1.0*x*exp(-x**2)\n",
    "d_1_i = integrate(d_1, x)\n",
    "print(d_1_i)"
   ]
  },
  {
   "cell_type": "markdown",
   "metadata": {},
   "source": [
    "We then add the constant function $C$ providing, $P(x)=-\\frac{1}{2}e^{-x^2}+C$, which we must solve for.\n",
    "\n",
    "Since original function expresses the rate of growth of profit in millions, $P(x)=0.025$ when $x=2$.\n",
    "\n",
    "As such,\n",
    "\n",
    "$P(2)=-\\frac{1}{2}e^{-(2)^2}+C$\n",
    "\n",
    "$0.025=-\\frac{1}{2}e^{-4}+C$\n",
    "\n",
    "$C=0.034$\n",
    "\n",
    "Therefore, the total profit function is, $P(x)=-\\frac{1}{2}e^{-x^2}+0.034$"
   ]
  },
  {
   "cell_type": "markdown",
   "metadata": {},
   "source": [
    "###Question 8"
   ]
  },
  {
   "cell_type": "markdown",
   "metadata": {},
   "source": [
    "For a certain drug, the rate of reaction in appropriate units is given by\n",
    "\n",
    "$R' (t)=\\frac{6}{(t+1)}+\\frac{1}{\\sqrt{t+1}}$\n",
    "\n",
    "where $t$ is time (in hours) after the drug is administered. Find the total reaction to the drug from 1 to 8 hours after it is administered."
   ]
  },
  {
   "cell_type": "markdown",
   "metadata": {},
   "source": [
    "####Answer"
   ]
  },
  {
   "cell_type": "markdown",
   "metadata": {},
   "source": [
    "In order to find the total reaction to the drug from one to eight hours, we must integrate the rate of reaction function $R'(t)$ over this range."
   ]
  },
  {
   "cell_type": "code",
   "execution_count": 24,
   "metadata": {
    "collapsed": false
   },
   "outputs": [
    {
     "name": "stdout",
     "output_type": "stream",
     "text": [
      "Total reaction to drug from 1 to 8 hours: 12.196037\n"
     ]
    }
   ],
   "source": [
    "from sympy import *\n",
    "\n",
    "t = Symbol(\"t\")\n",
    "f = float(6)/(t+1) + float(1)/sqrt(t+1)\n",
    "f_i18 = integrate(f, (t, 1, 8))\n",
    "f_i18_e = f_i18.evalf()\n",
    "print(\"Total reaction to drug from 1 to 8 hours:\", format(f_i18_e, \".6f\"))"
   ]
  },
  {
   "cell_type": "markdown",
   "metadata": {},
   "source": [
    "###Question 9"
   ]
  },
  {
   "cell_type": "markdown",
   "metadata": {},
   "source": [
    "Show that the following function is a probability density function (PDF) on $[0,∞)$.  \n",
    "\n",
    "$f(x)= \\begin{cases} \\frac{x^{3}}{8},0 \\le x \\le 2 \\\\ \\frac{4}{x^{3}},x \\gt 2 \\end{cases}$\n",
    "\n",
    "Determine $P(1 \\le x \\le 5)$."
   ]
  },
  {
   "cell_type": "markdown",
   "metadata": {},
   "source": [
    "####Answer"
   ]
  },
  {
   "cell_type": "markdown",
   "metadata": {},
   "source": [
    "The PDF of a continuous random variable $X$ is an integrable function $f(x)$ when the following are satisfied:\n",
    "\n",
    "- $f(x)$ is positive everywhere, that is, $f(x) \\gt 0$, for all $x$.\n",
    "\n",
    "- The area under the curve $f(x)$ is equal to 1.\n",
    "\n",
    "Checks for violation of these assumptions are performed below."
   ]
  },
  {
   "cell_type": "code",
   "execution_count": 25,
   "metadata": {
    "collapsed": false
   },
   "outputs": [
    {
     "name": "stdout",
     "output_type": "stream",
     "text": [
      "f(x) is positive everywhere over x range ( -9999 9999 )\n"
     ]
    }
   ],
   "source": [
    "def f(x):\n",
    "    if x < 0:\n",
    "        return 0\n",
    "    elif x >= 0 and x <= 2:\n",
    "        return float(x)**3/8\n",
    "    else:\n",
    "        return float(4)/x**3\n",
    "    \n",
    "xmin = -9999 \n",
    "xmax = 9999\n",
    "l_f = []\n",
    "for x in np.arange(xmin, xmax, 0.1):\n",
    "    x = int(x)\n",
    "    l_f.append(f(x))\n",
    "\n",
    "if all( type(x) >= 0 for i in l_f ):\n",
    "    print(\"f(x) is positive everywhere over x range (\", xmin, xmax, \")\")\n",
    "else:\n",
    "    print(\"f(x) is NOT positive everywhere over x range (\", xmin, xmax, \")\")"
   ]
  },
  {
   "cell_type": "code",
   "execution_count": 26,
   "metadata": {
    "collapsed": false
   },
   "outputs": [
    {
     "name": "stdout",
     "output_type": "stream",
     "text": [
      "The area under the curve f(x) is equal to 1\n"
     ]
    }
   ],
   "source": [
    "from sympy import *\n",
    "\n",
    "def f1(x):\n",
    "    return x**3/8\n",
    "\n",
    "def f2(x):\n",
    "    return 4/x**3\n",
    "\n",
    "x = Symbol(\"x\")\n",
    "a = integrate(f1(x), (x, 0, 2)).evalf()\n",
    "b = integrate(f2(x), (x, 2, oo)).evalf()\n",
    "f_i0inf = a + b\n",
    "\n",
    "if f_i0inf == 1:\n",
    "    print(\"The area under the curve f(x) is equal to 1\")\n",
    "else:\n",
    "    print(\"The area under the curve f(x) is NOT equal to 1\")"
   ]
  },
  {
   "cell_type": "markdown",
   "metadata": {},
   "source": [
    "The defined PDF is shown in the plot below for the X range of 0 to 10."
   ]
  },
  {
   "cell_type": "code",
   "execution_count": 27,
   "metadata": {
    "collapsed": false
   },
   "outputs": [
    {
     "data": {
      "image/png": "[encoded data removed]",
      "text/plain": [
       "<matplotlib.figure.Figure at 0xa908080>"
      ]
     },
     "metadata": {},
     "output_type": "display_data"
    }
   ],
   "source": [
    "import math\n",
    "import random\n",
    "import numpy as np\n",
    "import matplotlib.pyplot as plt\n",
    "%matplotlib inline\n",
    "\n",
    "def f(x):\n",
    "    if x < 0:\n",
    "        return 0\n",
    "    elif x >= 0 and x <= 2:\n",
    "        return float(x)**3/8\n",
    "    else:\n",
    "        return float(4)/x**3\n",
    "\n",
    "y = []\n",
    "x = []\n",
    "for i in np.arange(0,10,0.1):\n",
    "    s = f(i)\n",
    "    y.append(s)\n",
    "    x.append(i)\n",
    "\n",
    "plt.figure(figsize=(14,6))\n",
    "plt.plot(x,y)\n",
    "plt.xlim(0,10)\n",
    "plt.ylim(0,1.2)\n",
    "plt.title(\"PDF for Defined Function (X range of 0 to 10)\")\n",
    "plt.ylabel(\"f(x)\")\n",
    "plt.xlabel(\"x\")\n",
    "plt.show()"
   ]
  },
  {
   "cell_type": "markdown",
   "metadata": {},
   "source": [
    "For the PDF of a continuous random variable, it must hold that the probability that x belongs to A, where A is some interval, is given by the integral of $f(x)$ over that interval. As such, to determine $P(1 \\le x \\le 5)$, the defined PDF must be integrated over the range 1 to 5."
   ]
  },
  {
   "cell_type": "code",
   "execution_count": 28,
   "metadata": {
    "collapsed": false
   },
   "outputs": [
    {
     "name": "stdout",
     "output_type": "stream",
     "text": [
      "P(1<=x<=5): 0.888750\n"
     ]
    }
   ],
   "source": [
    "from sympy import *\n",
    "\n",
    "def f1(x):\n",
    "    return x**3/8\n",
    "\n",
    "def f2(x):\n",
    "    return 4/x**3\n",
    "\n",
    "x = Symbol(\"x\")\n",
    "a = integrate(f1(x), (x, 1, 2)).evalf()\n",
    "b = integrate(f2(x), (x, 2, 5)).evalf()\n",
    "\n",
    "print(\"P(1<=x<=5):\", format(a + b, \".6f\"))"
   ]
  },
  {
   "cell_type": "markdown",
   "metadata": {},
   "source": [
    "###Question 10"
   ]
  },
  {
   "cell_type": "markdown",
   "metadata": {},
   "source": [
    "Researchers have shown that the number of successive dry days that occur after a rainstorm for a particular region is a random variable that is distributed exponentially with a mean of 9 days.  Using Python, determine the (separate) probabilities that 13 or more successive dry days occur after a rainstorm, and fewer than 2 dry days occur after a rainstorm."
   ]
  },
  {
   "cell_type": "markdown",
   "metadata": {},
   "source": [
    "####Answer"
   ]
  },
  {
   "cell_type": "markdown",
   "metadata": {},
   "source": [
    "According to <a href = \"https://en.wikipedia.org/wiki/Exponential_distribution\">wikipedia</a>, we know that the exponential distribution function is defined by:\n",
    "\n",
    "$f(x)=\\lambda e^{-\\lambda x}$\n",
    "\n",
    "for $x$ in $[0,\\infty)$.\n",
    "\n",
    "Also, according to the same source, the mean of an exponentially distributed random variable with rate parameter $\\lambda$ is given by:\n",
    "\n",
    "$\\mu = \\frac{1}{\\lambda}$\n",
    "\n",
    "Since, $\\mu = 9$, and $\\mu = \\frac{1}{\\lambda}$, then $\\lambda = \\frac{1}{9}$.\n",
    "\n",
    "As such, the probability density function for this problem is defined by:\n",
    "\n",
    "$f(x) = \\frac{1}{9} e^{\\frac{-x}{9}}$"
   ]
  },
  {
   "cell_type": "code",
   "execution_count": 29,
   "metadata": {
    "collapsed": true
   },
   "outputs": [],
   "source": [
    "from sympy import *\n",
    "\n",
    "x = Symbol(\"x\")\n",
    "f = float(1)/9*exp(-x/9)"
   ]
  },
  {
   "cell_type": "markdown",
   "metadata": {},
   "source": [
    "In order to find the probability that 13 or more successive days occur after a rainstorm, we must integrate the above PDF over the X range of 13 to $\\infty$."
   ]
  },
  {
   "cell_type": "code",
   "execution_count": 30,
   "metadata": {
    "collapsed": false
   },
   "outputs": [
    {
     "name": "stdout",
     "output_type": "stream",
     "text": [
      "P(X>=13): 0.235877\n"
     ]
    }
   ],
   "source": [
    "from sympy import *\n",
    "\n",
    "f_i13inf = integrate(f, (x, 13, oo))\n",
    "f_i13inf_e = f_i13inf.evalf()\n",
    "print(\"P(X>=13):\", format(f_i13inf_e, \".6f\"))"
   ]
  },
  {
   "cell_type": "markdown",
   "metadata": {},
   "source": [
    "In order to find the probability that fewer than two dry days occur after a rainstorm, we must integrate the above PDF over the X range of 0 to 2."
   ]
  },
  {
   "cell_type": "code",
   "execution_count": 31,
   "metadata": {
    "collapsed": false
   },
   "outputs": [
    {
     "name": "stdout",
     "output_type": "stream",
     "text": [
      "P(X<2): 0.199263\n"
     ]
    }
   ],
   "source": [
    "from sympy import *\n",
    "\n",
    "f_i02 = integrate(f, (x, 0, 2))\n",
    "f_i02_e = f_i02.evalf()\n",
    "print(\"P(X<2):\", format(f_i02_e, \".6f\"))"
   ]
  }
 ],
 "metadata": {
  "kernelspec": {
   "display_name": "Python 2",
   "language": "python",
   "name": "python2"
  },
  "language_info": {
   "codemirror_mode": {
    "name": "ipython",
    "version": 2
   },
   "file_extension": ".py",
   "mimetype": "text/x-python",
   "name": "python",
   "nbconvert_exporter": "python",
   "pygments_lexer": "ipython2",
   "version": "2.7.11"
  }
 },
 "nbformat": 4,
 "nbformat_minor": 0
}

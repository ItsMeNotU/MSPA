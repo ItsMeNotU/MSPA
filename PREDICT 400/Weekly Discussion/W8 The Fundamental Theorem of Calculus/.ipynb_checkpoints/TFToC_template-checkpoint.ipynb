{
 "cells": [
  {
   "cell_type": "markdown",
   "metadata": {},
   "source": [
    "#MSPA PREDICT 400"
   ]
  },
  {
   "cell_type": "markdown",
   "metadata": {},
   "source": [
    "##Discussion Topic: Week 8 The Fundamental Theorem of Calculus"
   ]
  },
  {
   "cell_type": "markdown",
   "metadata": {},
   "source": [
    "###Introduction"
   ]
  },
  {
   "cell_type": "markdown",
   "metadata": {},
   "source": [
    "This document presents the results of the eigth weeks discussion topic for the Masters of Science in Predictive Analytics course: PREDICT 400. This assessment required the student to explain what the Fundamental Theorem of Calculus is and what it means, using a specific example (or examples) to illustrate their point."
   ]
  },
  {
   "cell_type": "markdown",
   "metadata": {},
   "source": [
    "###Fundamental Theorem of Calculus"
   ]
  },
  {
   "cell_type": "markdown",
   "metadata": {},
   "source": [
    "The fundamental theorem of calculus is a theorem that links the concept of the derivative of a function with the concept of the function's integral."
   ]
  },
  {
   "cell_type": "markdown",
   "metadata": {},
   "source": [
    "####First Fundamental Theorem of Calculus"
   ]
  },
  {
   "cell_type": "markdown",
   "metadata": {},
   "source": [
    "According to <a href = \"https://en.wikipedia.org/wiki/Fundamental_theorem_of_calculus\">wikipedia</a>, the first fundamental theorem of calculus holds that the definite integration of a function is related to its antiderivative, and can be reversed by differentiation.\n",
    "\n",
    "That is, if we have a function, $F(x)$, which defines the area between some other function, $f(t)$ for all $x$ in [$a$,$b$]:\n",
    "\n",
    "$F(x)=\\int_a^xf(t)dt$\n",
    "\n",
    "then,\n",
    "\n",
    "$F′(x) = f(x)$\n",
    "\n",
    "for all $x$ in [$a$,$b$]."
   ]
  },
  {
   "cell_type": "markdown",
   "metadata": {},
   "source": [
    "<a href = \"http://averylaird.com/blog/proving-the-first-fundamental-theorem-of-calculus-with-python/\">This</a> page does a good job of explaining the theorm using Python. I have leveraged this code below."
   ]
  },
  {
   "cell_type": "markdown",
   "metadata": {},
   "source": [
    "First, find the area under the function $f(x)=x^2$ for the range of $x=1$ to $x=3$, using integrals."
   ]
  },
  {
   "cell_type": "code",
   "execution_count": 1,
   "metadata": {
    "collapsed": false
   },
   "outputs": [
    {
     "name": "stdout",
     "output_type": "stream",
     "text": [
      "8.666666666666668\n"
     ]
    }
   ],
   "source": [
    "import scipy.integrate as integrate\n",
    "\n",
    "a, e = integrate.quad(lambda x: x**2, 1, 3)\n",
    "print(a)"
   ]
  },
  {
   "cell_type": "markdown",
   "metadata": {},
   "source": [
    "That is,\n",
    "\n",
    "$F(x)=\\int_a^xf(t)dt=8.\\bar{6}$\n",
    "\n",
    "where,\n",
    "\n",
    "$f(x)=x^2$"
   ]
  },
  {
   "cell_type": "markdown",
   "metadata": {},
   "source": [
    "For this example, we can define $f(t)$ with a variable amount of increments (rectangles) using Riemann sums. We do this by first declaring a function to return area under $x^2$ for the given range, based on a variable amount of increments."
   ]
  },
  {
   "cell_type": "code",
   "execution_count": 2,
   "metadata": {
    "collapsed": true
   },
   "outputs": [],
   "source": [
    "def f(t): \n",
    "    return t**2"
   ]
  },
  {
   "cell_type": "markdown",
   "metadata": {},
   "source": [
    "Check using four rectangles:"
   ]
  },
  {
   "cell_type": "code",
   "execution_count": 3,
   "metadata": {
    "collapsed": false
   },
   "outputs": [
    {
     "name": "stdout",
     "output_type": "stream",
     "text": [
      "10.75\n"
     ]
    }
   ],
   "source": [
    "delta_x = (3-1)/4\n",
    "\n",
    "area = 0\n",
    "for n in range(3, 7):\n",
    "    area += float(delta_x) * f(delta_x*n)\n",
    "print(area)"
   ]
  },
  {
   "cell_type": "markdown",
   "metadata": {},
   "source": [
    "Check using 50 rectangles:"
   ]
  },
  {
   "cell_type": "code",
   "execution_count": 4,
   "metadata": {
    "collapsed": false
   },
   "outputs": [
    {
     "name": "stdout",
     "output_type": "stream",
     "text": [
      "8.827200000000001\n"
     ]
    }
   ],
   "source": [
    "delta_x = (3-1)/50\n",
    "\n",
    "area = 0\n",
    "for n in range(1, 51):\n",
    "    area += float(delta_x) * f(delta_x*n + 1)\n",
    "print(area)"
   ]
  },
  {
   "cell_type": "markdown",
   "metadata": {},
   "source": [
    "Using 1000 rectangles:"
   ]
  },
  {
   "cell_type": "code",
   "execution_count": 5,
   "metadata": {
    "collapsed": false
   },
   "outputs": [
    {
     "name": "stdout",
     "output_type": "stream",
     "text": [
      "8.674667999999999\n"
     ]
    }
   ],
   "source": [
    "delta_x = (3-1)/1000\n",
    "\n",
    "area = 0\n",
    "for n in range(1, 1001):\n",
    "    area += float(delta_x) * f(delta_x*n + 1)\n",
    "print(area)"
   ]
  },
  {
   "cell_type": "markdown",
   "metadata": {},
   "source": [
    "We can see that as we increase the amount of increments towards infinity, $f(t)$ moves closer towards the integrated solution."
   ]
  },
  {
   "cell_type": "markdown",
   "metadata": {},
   "source": [
    "We then define $F(x)$, which calls $\\int_a^xf(t)dt$ for any given amount of increments over the desired range."
   ]
  },
  {
   "cell_type": "code",
   "execution_count": 6,
   "metadata": {
    "collapsed": true
   },
   "outputs": [],
   "source": [
    "def F(x):\n",
    "    delta_x = float((3-1)/x)\n",
    "    area = 0\n",
    "    for n in range(1, x+1):\n",
    "        area += float(delta_x) * f(delta_x*n + 1)\n",
    "    return area"
   ]
  },
  {
   "cell_type": "markdown",
   "metadata": {},
   "source": [
    "Check using four rectangles:"
   ]
  },
  {
   "cell_type": "code",
   "execution_count": 7,
   "metadata": {
    "collapsed": false
   },
   "outputs": [
    {
     "data": {
      "text/plain": [
       "10.75"
      ]
     },
     "execution_count": 7,
     "metadata": {},
     "output_type": "execute_result"
    }
   ],
   "source": [
    "F(4)"
   ]
  },
  {
   "cell_type": "markdown",
   "metadata": {},
   "source": [
    "Check using 50 rectangles:"
   ]
  },
  {
   "cell_type": "code",
   "execution_count": 8,
   "metadata": {
    "collapsed": false
   },
   "outputs": [
    {
     "data": {
      "text/plain": [
       "8.827200000000001"
      ]
     },
     "execution_count": 8,
     "metadata": {},
     "output_type": "execute_result"
    }
   ],
   "source": [
    "F(50)"
   ]
  },
  {
   "cell_type": "markdown",
   "metadata": {},
   "source": [
    "Check using 1000 rectangles:"
   ]
  },
  {
   "cell_type": "code",
   "execution_count": 9,
   "metadata": {
    "collapsed": false
   },
   "outputs": [
    {
     "data": {
      "text/plain": [
       "8.674667999999999"
      ]
     },
     "execution_count": 9,
     "metadata": {},
     "output_type": "execute_result"
    }
   ],
   "source": [
    "F(1000)"
   ]
  },
  {
   "cell_type": "markdown",
   "metadata": {},
   "source": [
    "We have now proven that we have working definitions within Python for both $F(x)$ and $\\int_a^xf(t)dt$."
   ]
  },
  {
   "cell_type": "markdown",
   "metadata": {},
   "source": [
    "Finally, it can be shown that $F′(x) = f(x)$:"
   ]
  },
  {
   "cell_type": "code",
   "execution_count": 10,
   "metadata": {
    "collapsed": false
   },
   "outputs": [],
   "source": [
    "def F(x, rectangles=1000):\n",
    "    delta_x = float((x-1)/rectangles)\n",
    "    area = 0\n",
    "    for n in range(1, rectangles+1):\n",
    "        area += float(delta_x) * f(delta_x*n + 1)\n",
    "    return area\n",
    "\n",
    "def derivative(f, h=0.1e-5):\n",
    "    def df(x):\n",
    "        return (f(x+h/2) - f(x-h/2))/h\n",
    "    return df\n",
    "\n",
    "d = derivative(F)"
   ]
  },
  {
   "cell_type": "code",
   "execution_count": 11,
   "metadata": {
    "collapsed": false
   },
   "outputs": [
    {
     "name": "stdout",
     "output_type": "stream",
     "text": [
      "4.003500499560886\n",
      "4\n"
     ]
    }
   ],
   "source": [
    "print(d(2))\n",
    "print(f(2))"
   ]
  },
  {
   "cell_type": "code",
   "execution_count": 12,
   "metadata": {
    "collapsed": false
   },
   "outputs": [
    {
     "name": "stdout",
     "output_type": "stream",
     "text": [
      "9.010001999598671\n",
      "9\n"
     ]
    }
   ],
   "source": [
    "print(d(3))\n",
    "print(f(3))"
   ]
  },
  {
   "cell_type": "markdown",
   "metadata": {},
   "source": [
    "####Second Fundamental Theorem of Calculus"
   ]
  },
  {
   "cell_type": "markdown",
   "metadata": {},
   "source": [
    "According to <a href = \"https://en.wikipedia.org/wiki/Fundamental_theorem_of_calculus\">wikipedia</a>, the second fundamental theorem of calculus is that that the definite integral of a function can be computed by using any one of its infinitely-many antiderivatives.\n",
    "\n",
    "That is, if we have a function, $F(x)$, which defines the area between some other function, $f(t)$ for all $x$ in [$a$,$b$] and the first theorem holds:\n",
    "\n",
    "$F′(x) = f(x)$\n",
    "\n",
    "then,\n",
    "\n",
    "$\\int_a^bf(x)dx = F(b)-F(a)$\n",
    "\n",
    "for all $x$ in [$a$,$b$]"
   ]
  },
  {
   "cell_type": "markdown",
   "metadata": {},
   "source": [
    "Again, we first find the area under the function $f(x)=x^2$ for the range of $x=1$ to $x=3$, using integrals."
   ]
  },
  {
   "cell_type": "code",
   "execution_count": 13,
   "metadata": {
    "collapsed": false
   },
   "outputs": [
    {
     "name": "stdout",
     "output_type": "stream",
     "text": [
      "8.666666666666668\n"
     ]
    }
   ],
   "source": [
    "import scipy.integrate as integrate\n",
    "\n",
    "a, e = integrate.quad(lambda x: x**2, 1, 3)\n",
    "print(a)"
   ]
  },
  {
   "cell_type": "markdown",
   "metadata": {},
   "source": [
    "By leveraging the definition for $F(x)$ shown above, we can find $F(b)-F(a)$"
   ]
  },
  {
   "cell_type": "code",
   "execution_count": 14,
   "metadata": {
    "collapsed": false
   },
   "outputs": [
    {
     "data": {
      "text/plain": [
       "8.674667999999999"
      ]
     },
     "execution_count": 14,
     "metadata": {},
     "output_type": "execute_result"
    }
   ],
   "source": [
    "F(3) - F(1)"
   ]
  }
 ],
 "metadata": {
  "kernelspec": {
   "display_name": "Python 3",
   "language": "python",
   "name": "python3"
  },
  "language_info": {
   "codemirror_mode": {
    "name": "ipython",
    "version": 3
   },
   "file_extension": ".py",
   "mimetype": "text/x-python",
   "name": "python",
   "nbconvert_exporter": "python",
   "pygments_lexer": "ipython3",
   "version": "3.5.1"
  }
 },
 "nbformat": 4,
 "nbformat_minor": 0
}

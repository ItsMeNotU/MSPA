{
 "cells": [
  {
   "cell_type": "markdown",
   "metadata": {},
   "source": [
    "#MSPA PREDICT 400"
   ]
  },
  {
   "cell_type": "markdown",
   "metadata": {},
   "source": [
    "##Discussion Topic: Week 4 Game Applications"
   ]
  },
  {
   "cell_type": "markdown",
   "metadata": {},
   "source": [
    "###Introduction"
   ]
  },
  {
   "cell_type": "markdown",
   "metadata": {},
   "source": [
    "This document presents the results of the fourth weeks discussion topic for the Masters of Science in Predictive Analytics course: PREDICT 400. This assessment required the student to think of any casino/board/card game and the probabilities of two or more specific events in that game, and to discuss whether/why these events were independent or dependent."
   ]
  },
  {
   "cell_type": "markdown",
   "metadata": {},
   "source": [
    "###Two-up"
   ]
  },
  {
   "cell_type": "markdown",
   "metadata": {},
   "source": [
    "Two-up is a traditional Australian gambling game, involving a designated \"spinner\" tossing two coins in the air. Players gamble on whether both of the coins will fall heads, or both will fall tails. The house maintains an advantage by collecting all bets if five odds (a head and tail combination) is thrown five times in a row. For further information on the game, see <a href = \"https://en.wikipedia.org/wiki/Two-up\">here</a>.\n",
    "\n",
    "For this assessment, I demonstrate basic probabilities of coin tosses, conjuntive probabilities of multiple coin tosses, and explain the link between these results and the 'Gamber's Fallacy'."
   ]
  },
  {
   "cell_type": "markdown",
   "metadata": {},
   "source": [
    "####Coin Toss Sampling"
   ]
  },
  {
   "cell_type": "markdown",
   "metadata": {},
   "source": [
    "With a coin flip, there's a 50% chance of getting heads, and a 50% chance of getting tails. This is because there are only two possible outcomes, and each event is equally likely. Each event in this sequence is independent, as the outcome of the first flip won't have an impact on the outcome of the last flip."
   ]
  },
  {
   "cell_type": "code",
   "execution_count": 9,
   "metadata": {
    "collapsed": false
   },
   "outputs": [],
   "source": [
    "import random\n",
    "import matplotlib.pyplot as plt\n",
    "%matplotlib inline\n",
    "\n",
    "def toss():\n",
    "    return random.randint(1, 2)"
   ]
  },
  {
   "cell_type": "markdown",
   "metadata": {},
   "source": [
    "Histogram of outcomes from tossing a coin two times (1 = heads, 2 = tails):"
   ]
  },
  {
   "cell_type": "code",
   "execution_count": 10,
   "metadata": {
    "collapsed": false
   },
   "outputs": [
    {
     "data": {
      "image/png": "[encoded data removed]",
      "text/plain": [
       "<matplotlib.figure.Figure at 0x1b3e9ca2630>"
      ]
     },
     "metadata": {},
     "output_type": "display_data"
    }
   ],
   "source": [
    "import numpy as np\n",
    "\n",
    "random.seed(1)\n",
    "two_sample = [toss() for _ in range(2)]\n",
    "\n",
    "plt.hist(two_sample, 2)\n",
    "plt.xlim(xmin = 1, xmax = 2)\n",
    "plt.xticks(np.arange(1, 2+1, 1))\n",
    "plt.show()"
   ]
  },
  {
   "cell_type": "markdown",
   "metadata": {},
   "source": [
    "Histogram of outcomes from tossing a coin 10 times (1 = heads, 2 = tails):"
   ]
  },
  {
   "cell_type": "code",
   "execution_count": 20,
   "metadata": {
    "collapsed": false
   },
   "outputs": [
    {
     "data": {
      "image/png": "[encoded data removed]",
      "text/plain": [
       "<matplotlib.figure.Figure at 0x1b3e9311d68>"
      ]
     },
     "metadata": {},
     "output_type": "display_data"
    }
   ],
   "source": [
    "import numpy as np\n",
    "\n",
    "random.seed(1)\n",
    "ten_sample = [toss() for _ in range(10)]\n",
    "\n",
    "plt.hist(ten_sample, 2)\n",
    "plt.xlim(xmin = 1, xmax = 2)\n",
    "plt.xticks(np.arange(1, 2+1, 1))\n",
    "plt.show()"
   ]
  },
  {
   "cell_type": "markdown",
   "metadata": {},
   "source": [
    "Histogram of outcomes from tossing a coin 100 times (1 = heads, 2 = tails):"
   ]
  },
  {
   "cell_type": "code",
   "execution_count": 12,
   "metadata": {
    "collapsed": false
   },
   "outputs": [
    {
     "data": {
      "image/png": "[encoded data removed]",
      "text/plain": [
       "<matplotlib.figure.Figure at 0x1b3e949b5c0>"
      ]
     },
     "metadata": {},
     "output_type": "display_data"
    }
   ],
   "source": [
    "random.seed(5)\n",
    "hundred_sample = [toss() for _ in range(100)]\n",
    "\n",
    "plt.hist(hundred_sample, 2)\n",
    "plt.xlim(xmin = 1, xmax = 2)\n",
    "plt.xticks(np.arange(1, 2+1, 1))\n",
    "plt.show()"
   ]
  },
  {
   "cell_type": "markdown",
   "metadata": {},
   "source": [
    "With the fair coin shown in the examples above, the outcomes of the tosses are statistically independent, with the probability of a heads/or tails result being 50%."
   ]
  },
  {
   "cell_type": "markdown",
   "metadata": {},
   "source": [
    "####Conjunctive Probability with a Fair Coin"
   ]
  },
  {
   "cell_type": "markdown",
   "metadata": {},
   "source": [
    "Let's say we want to find the probability that from five coin tosses, a coin will come up heads every time. This is called a conjunctive probability, because it involves a sequence of events. We want to the find the probability that the first toss is heads and the second toss is heads, and so on.\n",
    "\n",
    "All we have to do to compute the probability of this sequence is multiply the individual probabilities of each event out. This is `.5 * .5 * .5 * .5 * .5`, which equals .03125, giving us a 3.125% chance that all 5 coin toss result in heads."
   ]
  },
  {
   "cell_type": "markdown",
   "metadata": {},
   "source": [
    "Find the probability that two tosses in a row will all turn out heads."
   ]
  },
  {
   "cell_type": "code",
   "execution_count": 13,
   "metadata": {
    "collapsed": false
   },
   "outputs": [
    {
     "name": "stdout",
     "output_type": "stream",
     "text": [
      "two_heads: 0.25\n"
     ]
    }
   ],
   "source": [
    "two_heads = .5 * .5\n",
    "print(\"two_heads:\", two_heads)"
   ]
  },
  {
   "cell_type": "markdown",
   "metadata": {},
   "source": [
    "Find the probability that 10 tosses in a row will all turn out heads."
   ]
  },
  {
   "cell_type": "code",
   "execution_count": 14,
   "metadata": {
    "collapsed": false
   },
   "outputs": [
    {
     "name": "stdout",
     "output_type": "stream",
     "text": [
      "ten_heads: 0.0009765625\n"
     ]
    }
   ],
   "source": [
    "ten_heads = .5 ** 10\n",
    "print(\"ten_heads:\", ten_heads)"
   ]
  },
  {
   "cell_type": "markdown",
   "metadata": {},
   "source": [
    "Find the probability that 100 tossess in a row will all turn out heads."
   ]
  },
  {
   "cell_type": "code",
   "execution_count": 15,
   "metadata": {
    "collapsed": false
   },
   "outputs": [
    {
     "name": "stdout",
     "output_type": "stream",
     "text": [
      "hundred_heads: 7.888609052210118e-31\n"
     ]
    }
   ],
   "source": [
    "hundred_heads = .5 ** 100\n",
    "print(\"hundred_heads:\", hundred_heads)"
   ]
  },
  {
   "cell_type": "markdown",
   "metadata": {},
   "source": [
    "Likewise, we can find the inverse of each of these probabilities."
   ]
  },
  {
   "cell_type": "markdown",
   "metadata": {},
   "source": [
    "Find the probability that at least one of the first two tossess comes up heads."
   ]
  },
  {
   "cell_type": "code",
   "execution_count": 16,
   "metadata": {
    "collapsed": false
   },
   "outputs": [
    {
     "name": "stdout",
     "output_type": "stream",
     "text": [
      "or_two_heads: 0.75\n"
     ]
    }
   ],
   "source": [
    "two_heads = .5 * .5\n",
    "or_two_heads = 1 - two_heads\n",
    "\n",
    "print(\"or_two_heads:\", or_two_heads)"
   ]
  },
  {
   "cell_type": "markdown",
   "metadata": {},
   "source": [
    "Find the probability that at least one of the first 10 tossess comes up heads."
   ]
  },
  {
   "cell_type": "code",
   "execution_count": 17,
   "metadata": {
    "collapsed": false
   },
   "outputs": [
    {
     "name": "stdout",
     "output_type": "stream",
     "text": [
      "or_ten_heads: 0.9990234375\n"
     ]
    }
   ],
   "source": [
    "ten_heads = .5 ** 10\n",
    "or_ten_heads = 1 - ten_heads\n",
    "\n",
    "print(\"or_ten_heads:\", or_ten_heads)"
   ]
  },
  {
   "cell_type": "markdown",
   "metadata": {},
   "source": [
    "Find the probability that at least one of the first 100 tossess comes up heads."
   ]
  },
  {
   "cell_type": "code",
   "execution_count": 18,
   "metadata": {
    "collapsed": false
   },
   "outputs": [
    {
     "name": "stdout",
     "output_type": "stream",
     "text": [
      "or_hundred_heads: 1.0\n"
     ]
    }
   ],
   "source": [
    "hundred_heads = .5 ** 100\n",
    "or_hundred_heads = 1 - hundred_heads\n",
    "\n",
    "print(\"or_hundred_heads:\", or_hundred_heads)"
   ]
  },
  {
   "cell_type": "markdown",
   "metadata": {},
   "source": [
    "####Gamber's Fallacy"
   ]
  },
  {
   "cell_type": "markdown",
   "metadata": {},
   "source": [
    "However, there is a risk of falling into the <a href = \"https://en.wikipedia.org/wiki/Gambler's_fallacy\">gamber's fallacy</a> trap when looking at conjuctive probabilities for coin tosses.\n",
    "\n",
    "Suppose nine coin tosses have all resulted in heads. A gambler may see the chance of the tenth coin toss resulting in heads as 'the probability of 10 tosses in a row all turning out heads', (which is equal to 0.0009765625). However, this is not correct, instead the probability of the tenth coin toss resulting in heads remains 0.5.\n",
    "\n",
    "'The probability of 10 tosses in a row all turning out heads' is 0.0009765625 only BEFORE the 10 coins are tossed. After any of the coins are tossed, their result becomes known and its probability become equal to one. i.e. on the tenth coin toss, with all tossess resulting in heads, the probability of the next toss resulting in heads is 1 * 1 * 1 * 1 * 1 * 1 * 1 * 1 * 1 * 0.5 = 0.5."
   ]
  }
 ],
 "metadata": {
  "kernelspec": {
   "display_name": "Python 3",
   "language": "python",
   "name": "python3"
  },
  "language_info": {
   "codemirror_mode": {
    "name": "ipython",
    "version": 3
   },
   "file_extension": ".py",
   "mimetype": "text/x-python",
   "name": "python",
   "nbconvert_exporter": "python",
   "pygments_lexer": "ipython3",
   "version": "3.5.1"
  }
 },
 "nbformat": 4,
 "nbformat_minor": 0
}

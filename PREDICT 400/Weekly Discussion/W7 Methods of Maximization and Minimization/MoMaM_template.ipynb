{
 "cells": [
  {
   "cell_type": "markdown",
   "metadata": {},
   "source": [
    "#MSPA PREDICT 400"
   ]
  },
  {
   "cell_type": "markdown",
   "metadata": {},
   "source": [
    "##Discussion Topic: Week 7 Methods of Maximization and Minimization"
   ]
  },
  {
   "cell_type": "markdown",
   "metadata": {},
   "source": [
    "###Introduction"
   ]
  },
  {
   "cell_type": "markdown",
   "metadata": {},
   "source": [
    "This document presents the results of the seventh weeks discussion topic for the Masters of Science in Predictive Analytics course: PREDICT 400. This assessment required the student to compare approaches to maximization and minimization problems in Chapter's 13 and 14 of <a href = \"http://www.amazon.com/Finite-Mathematics-Calculus-Applications-9th/dp/0321749081/ref=sr_1_2?s=books&ie=UTF8&qid=1455512383&sr=1-2&keywords=lial+finite+mathematics\">Lial</a> to those problems in Chapter's three and four."
   ]
  },
  {
   "cell_type": "markdown",
   "metadata": {},
   "source": [
    "###Linear Programming vs. Gradient Methods for Optimization"
   ]
  },
  {
   "cell_type": "markdown",
   "metadata": {},
   "source": [
    "Chapters three and four of the text focus on employing optimization techniques (namely graphical means and the simplex method) to solve linear programming problems. While chapters 13 and 14 focus on the use of gradient methods (or derivates) to solve non-linear problems."
   ]
  },
  {
   "cell_type": "markdown",
   "metadata": {},
   "source": [
    "####Linear Programming Problem/Methods"
   ]
  },
  {
   "cell_type": "markdown",
   "metadata": {},
   "source": [
    "Linear programming problems involve the optimization of linear objective function subject to linear equality/inequality constraints. Here, the constraints define a 'feasible region' which contains possible combinations of independent variable choices for the objective variable function. The choice of independent variables (within the feasible region) which maximizes or minimizes the objective function is the optima.\n",
    "\n",
    "For linear programming problems with two (or potentially three independent variables), graphical means may be used to find the optima. See my submission for the third weeks discussion topic for an example. Alternatively, for problems with more than two independent variables, the simplex method may be used. This method starts with an evaluation of the objective function based on a corner point within the feasible region. It then provides a systematic way to select other corner points within the feasible region in an attempt to move towards to optima. The below shows an example of employing the simplex method via tableaus using Python."
   ]
  },
  {
   "cell_type": "code",
   "execution_count": 1,
   "metadata": {
    "collapsed": false
   },
   "outputs": [],
   "source": [
    "#Source: http://hubpages.com/technology/Simplex-Algorithm-in-Python\n",
    "\n",
    "from __future__ import division\n",
    "from numpy import *\n",
    " \n",
    "class Tableau:\n",
    " \n",
    "    def __init__(self, obj):\n",
    "        self.obj = [1] + obj\n",
    "        self.rows = []\n",
    "        self.cons = []\n",
    " \n",
    "    def add_constraint(self, expression, value):\n",
    "        self.rows.append([0] + expression)\n",
    "        self.cons.append(value)\n",
    " \n",
    "    def _pivot_column(self):\n",
    "        low = 0\n",
    "        idx = 0\n",
    "        for i in range(1, len(self.obj)-1):\n",
    "            if self.obj[i] < low:\n",
    "                low = self.obj[i]\n",
    "                idx = i\n",
    "        if idx == 0: return -1\n",
    "        return idx\n",
    " \n",
    "    def _pivot_row(self, col):\n",
    "        rhs = [self.rows[i][-1] for i in range(len(self.rows))]\n",
    "        lhs = [self.rows[i][col] for i in range(len(self.rows))]\n",
    "        ratio = []\n",
    "        for i in range(len(rhs)):\n",
    "            if lhs[i] == 0:\n",
    "                ratio.append(99999999 * abs(max(rhs)))\n",
    "                continue\n",
    "            ratio.append(rhs[i]/lhs[i])\n",
    "        return argmin(ratio)\n",
    " \n",
    "    def display(self):\n",
    "        print('\\n', matrix([self.obj] + self.rows))\n",
    " \n",
    "    def _pivot(self, row, col):\n",
    "        e = self.rows[row][col]\n",
    "        self.rows[row] /= e\n",
    "        for r in range(len(self.rows)):\n",
    "            if r == row: continue\n",
    "            self.rows[r] = self.rows[r] - self.rows[r][col]*self.rows[row]\n",
    "        self.obj = self.obj - self.obj[col]*self.rows[row]\n",
    " \n",
    "    def _check(self):\n",
    "        if min(self.obj[1:-1]) >= 0: return 1\n",
    "        return 0\n",
    "         \n",
    "    def solve(self):\n",
    " \n",
    "        # build full tableau\n",
    "        for i in range(len(self.rows)):\n",
    "            self.obj += [0]\n",
    "            ident = [0 for r in range(len(self.rows))]\n",
    "            ident[i] = 1\n",
    "            self.rows[i] += ident + [self.cons[i]]\n",
    "            self.rows[i] = array(self.rows[i], dtype=float)\n",
    "        self.obj = array(self.obj + [0], dtype=float)\n",
    " \n",
    "        # solve\n",
    "        self.display()\n",
    "        while not self._check():\n",
    "            c = self._pivot_column()\n",
    "            r = self._pivot_row(c)\n",
    "            self._pivot(r,c)\n",
    "            print('\\npivot column: %s\\npivot row: %s'%(c+1,r+2))\n",
    "            self.display()"
   ]
  },
  {
   "cell_type": "code",
   "execution_count": 2,
   "metadata": {
    "collapsed": false
   },
   "outputs": [
    {
     "name": "stdout",
     "output_type": "stream",
     "text": [
      "\n",
      " [[ 1. -2. -3. -2.  0.  0.  0.  0.]\n",
      " [ 0.  2.  1.  1.  1.  0.  0.  4.]\n",
      " [ 0.  1.  2.  1.  0.  1.  0.  7.]\n",
      " [ 0.  0.  0.  1.  0.  0.  1.  5.]]\n",
      "\n",
      "pivot column: 3\n",
      "pivot row: 3\n",
      "\n",
      " [[  1.   -0.5   0.   -0.5   0.    1.5   0.   10.5]\n",
      " [  0.    1.5   0.    0.5   1.   -0.5   0.    0.5]\n",
      " [  0.    0.5   1.    0.5   0.    0.5   0.    3.5]\n",
      " [  0.    0.    0.    1.    0.    0.    1.    5. ]]\n",
      "\n",
      "pivot column: 2\n",
      "pivot row: 2\n",
      "\n",
      " [[  1.           0.           0.          -0.33333333   0.33333333\n",
      "    1.33333333   0.          10.66666667]\n",
      " [  0.           1.           0.           0.33333333   0.66666667\n",
      "   -0.33333333   0.           0.33333333]\n",
      " [  0.           0.           1.           0.33333333  -0.33333333\n",
      "    0.66666667   0.           3.33333333]\n",
      " [  0.           0.           0.           1.           0.           0.\n",
      "    1.           5.        ]]\n",
      "\n",
      "pivot column: 4\n",
      "pivot row: 2\n",
      "\n",
      " [[  1.   1.   0.   0.   1.   1.   0.  11.]\n",
      " [  0.   3.   0.   1.   2.  -1.   0.   1.]\n",
      " [  0.  -1.   1.   0.  -1.   1.   0.   3.]\n",
      " [  0.  -3.   0.   0.  -2.   1.   1.   4.]]\n"
     ]
    }
   ],
   "source": [
    "if __name__ == '__main__':\n",
    " \n",
    "    \"\"\"\n",
    "    max z = 2x + 3y + 2z\n",
    "    st\n",
    "    2x + y + z <= 4\n",
    "    x + 2y + z <= 7\n",
    "    z          <= 5\n",
    "    x,y,z >= 0\n",
    "    \"\"\"\n",
    " \n",
    "    t = Tableau([-2,-3,-2])\n",
    "    t.add_constraint([2, 1, 1], 4)\n",
    "    t.add_constraint([1, 2, 1], 7)\n",
    "    t.add_constraint([0, 0, 1], 5)\n",
    "    t.solve()"
   ]
  },
  {
   "cell_type": "markdown",
   "metadata": {},
   "source": [
    "####Gradient Methods"
   ]
  },
  {
   "cell_type": "markdown",
   "metadata": {},
   "source": [
    "Chapter's 13 and 14 of the text focus on employing gradient method's in an analytical fashion in order to find the optima of non-linear problems. Under this method, for a given objective function, the first derivative of the objective function is found through differentiation with its value equal to zero at the optima. Again, this method is suitable for finding the optima for non-linear problems. An example is shown below using the 'sympy' library in Python."
   ]
  },
  {
   "cell_type": "code",
   "execution_count": 3,
   "metadata": {
    "collapsed": false
   },
   "outputs": [
    {
     "data": {
      "image/png": "[encoded data removed]",
      "text/plain": [
       "<matplotlib.figure.Figure at 0x27d58aacc18>"
      ]
     },
     "metadata": {},
     "output_type": "display_data"
    },
    {
     "name": "stdout",
     "output_type": "stream",
     "text": [
      "function: x**2 - 4*x - 20\n",
      "first derivative: 2*x - 4\n",
      "make equal to zero and solve: [2]\n"
     ]
    }
   ],
   "source": [
    "from sympy import *\n",
    "import numpy as np\n",
    "import matplotlib.pyplot as plt\n",
    "%matplotlib inline\n",
    "\n",
    "x = symbols('x')\n",
    "\n",
    "def func(x):\n",
    "    return x**2 - 4*x - 20\n",
    "\n",
    "xs = np.arange(-20, 25, 1)\n",
    "y = func(xs)\n",
    "\n",
    "plt.plot(xs, y)\n",
    "plt.show()\n",
    "\n",
    "f = x**2 - 4*x - 20\n",
    "print(\"function:\", f)\n",
    "\n",
    "d = diff(f, x)\n",
    "print(\"first derivative:\", d)\n",
    "\n",
    "a = solve(d, x)\n",
    "print(\"make equal to zero and solve:\", a)"
   ]
  }
 ],
 "metadata": {
  "kernelspec": {
   "display_name": "Python 3",
   "language": "python",
   "name": "python3"
  },
  "language_info": {
   "codemirror_mode": {
    "name": "ipython",
    "version": 3
   },
   "file_extension": ".py",
   "mimetype": "text/x-python",
   "name": "python",
   "nbconvert_exporter": "python",
   "pygments_lexer": "ipython3",
   "version": "3.5.1"
  }
 },
 "nbformat": 4,
 "nbformat_minor": 0
}

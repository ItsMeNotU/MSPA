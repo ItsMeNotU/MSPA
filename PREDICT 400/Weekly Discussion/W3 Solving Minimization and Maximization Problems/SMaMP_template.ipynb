{
 "cells": [
  {
   "cell_type": "markdown",
   "metadata": {},
   "source": [
    "#MSPA PREDICT 400"
   ]
  },
  {
   "cell_type": "markdown",
   "metadata": {},
   "source": [
    "##Discussion Topic: Week 3 Solving Minimization and Maximization Problems"
   ]
  },
  {
   "cell_type": "markdown",
   "metadata": {},
   "source": [
    "###Introduction"
   ]
  },
  {
   "cell_type": "markdown",
   "metadata": {},
   "source": [
    "This document presents the results of the third weeks discussion topic for the Masters of Science in Predictive Analytics course: PREDICT 400. This assessment required the student to take a system of equations and extend it into a minimization or maximization problem by adding an extra variable (or variables) and constraints(s). The student was then required to solve the problem using graphical and/or simplex method(s)."
   ]
  },
  {
   "cell_type": "markdown",
   "metadata": {},
   "source": [
    "###Minimization/Maximization Problem"
   ]
  },
  {
   "cell_type": "markdown",
   "metadata": {},
   "source": [
    "For this assessment, I formed an optimization function with constraints based on the system of linear equations which I used as part of the second weeks discussion topic. The original system of equations is shown below."
   ]
  },
  {
   "cell_type": "markdown",
   "metadata": {},
   "source": [
    "$x-y+\\frac{29}{100}z=\\frac{-169}{100}\\quad(1)$\n",
    "\n",
    "$\\frac{-17}{20}x+y+\\frac{-1}{5}z=\\frac{243}{100}\\quad(2)$\n",
    "\n",
    "$\\frac{-47}{20}x+\\frac{119}{100}y+z=\\frac{-161}{50}\\quad(3)$"
   ]
  },
  {
   "cell_type": "markdown",
   "metadata": {},
   "source": [
    "Optimize according to 'z'."
   ]
  },
  {
   "cell_type": "markdown",
   "metadata": {},
   "source": [
    "$z=\\frac{47}{20}x+\\frac{-119}{100}y+\\frac{-161}{50}$\n",
    "\n",
    "$z=\\frac{47}{20}(y+\\frac{-29}{100}z+\\frac{-169}{100})+\\frac{-119}{100}(\\frac{1}{5}z+\\frac{17}{20}x+\\frac{243}{100})+\\frac{-161}{50}$\n",
    "\n",
    "$z=\\frac{23500y-10115x-100832}{19195}$"
   ]
  },
  {
   "cell_type": "markdown",
   "metadata": {},
   "source": [
    "Utilize the existing system of equations to form constraints for 'x' and 'y', whilst enforcing an additional maximum constraint on 'y'."
   ]
  },
  {
   "cell_type": "markdown",
   "metadata": {},
   "source": [
    "$y\\ge\\frac{17}{20}x+\\frac{243}{100}$\n",
    "\n",
    "$y\\le\\frac{493697479}{250000000}x+\\frac{-2705882353}{1000000000}$\n",
    "\n",
    "$y\\le10$"
   ]
  },
  {
   "cell_type": "markdown",
   "metadata": {},
   "source": [
    "###Graphical Method"
   ]
  },
  {
   "cell_type": "markdown",
   "metadata": {},
   "source": [
    "The optimization problem and inequality constraints are formalized below:"
   ]
  },
  {
   "cell_type": "markdown",
   "metadata": {},
   "source": [
    "$Find\\:the\\:maximum\\:value\\:of:$\n",
    "\n",
    "$z=\\frac{23500y-10115x-100832}{19195}$\n",
    "\n",
    "$Subject\\:to\\:the\\:constraints:$\n",
    "\n",
    "$y\\ge\\frac{17}{20}x+\\frac{243}{100}$\n",
    "\n",
    "$y\\le\\frac{493697479}{250000000}x+\\frac{-2705882353}{1000000000}$\n",
    "\n",
    "$y\\le10$"
   ]
  },
  {
   "cell_type": "markdown",
   "metadata": {},
   "source": [
    "Plot the inequality constrains."
   ]
  },
  {
   "cell_type": "code",
   "execution_count": 13,
   "metadata": {
    "collapsed": false
   },
   "outputs": [
    {
     "data": {
      "image/png": "[encoded data removed]",
      "text/plain": [
       "<matplotlib.figure.Figure at 0x222ab2fb5c0>"
      ]
     },
     "metadata": {},
     "output_type": "display_data"
    }
   ],
   "source": [
    "#Source: http://stackoverflow.com/questions/17576508/python-matplotlib-drawing-linear-inequality-functions\n",
    "\n",
    "import numpy as np\n",
    "import matplotlib.pyplot as plt\n",
    "from sympy.solvers import solve\n",
    "from sympy import Symbol\n",
    "%matplotlib inline\n",
    "\n",
    "#Define inequality constraints w.r.t. 'y'.\n",
    "def f1(x):\n",
    "    return (17/20)*x+(243/100)\n",
    "def f2(x):\n",
    "    return (493697479/250000000)*x+(-2705882353/1000000000)\n",
    "def f3(x):\n",
    "    return 0*x+10\n",
    "\n",
    "#Use SymPy to solve defined inequality constaints.\n",
    "#see: http://docs.sympy.org/dev/modules/solvers/solvers.html\n",
    "#Set 'x' symbol for SymPy to solve for.\n",
    "x = Symbol('x')\n",
    "#Solve 'x' for roots of each inequality constraint pair.\n",
    "x1, =  solve(f1(x)-f2(x))\n",
    "x2, =  solve(f1(x)-f3(x))\n",
    "x3, =  solve(f2(x)-f3(x))\n",
    "\n",
    "#Set 'x' to each solved root, and solve for 'y'.\n",
    "y1 = f1(x1)\n",
    "y2 = f1(x2)\n",
    "y3 = f2(x3)\n",
    "\n",
    "#Use matplotlib to plot markers at root coordinates (x,y) for each inequality constraint pair.\n",
    "#see: http://matplotlib.org/api/pyplot_api.html\n",
    "#Set plot size upfront.\n",
    "plt.figure(figsize=(10,8))\n",
    "#Define marker position and size.\n",
    "plt.plot(x1,y1,'go',markersize=10)\n",
    "plt.plot(x2,y2,'go',markersize=10)\n",
    "plt.plot(x3,y3,'go',markersize=10)\n",
    "\n",
    "#Fill the plot area defined by each inequality constraint pair.\n",
    "plt.fill([x1,x2,x3,x1],[y1,y2,y3,y1],'red',alpha=0.5)\n",
    "\n",
    "#Set 'x' to capture values within x-axis range, and solve for 'y'.\n",
    "xr = np.linspace(0,15,100)\n",
    "y1r = f1(xr)\n",
    "y2r = f2(xr)\n",
    "y3r = f3(xr)\n",
    "\n",
    "#Plot lines for each inequality constraint.\n",
    "plt.plot(xr,y1r,'k--')\n",
    "plt.plot(xr,y2r,'k--')\n",
    "plt.plot(xr,y3r,'k--')\n",
    "\n",
    "#Finalize plot.\n",
    "plt.xlim(0,15)\n",
    "plt.ylim(0,15)\n",
    "plt.ylabel(\"y\")\n",
    "plt.xlabel(\"x\")\n",
    "plt.show()"
   ]
  },
  {
   "cell_type": "code",
   "execution_count": 2,
   "metadata": {
    "collapsed": false
   },
   "outputs": [
    {
     "data": {
      "text/html": [
       "<div>\n",
       "<table border=\"1\" class=\"dataframe\">\n",
       "  <thead>\n",
       "    <tr style=\"text-align: right;\">\n",
       "      <th></th>\n",
       "      <th>y</th>\n",
       "      <th>x</th>\n",
       "      <th>z</th>\n",
       "    </tr>\n",
       "  </thead>\n",
       "  <tbody>\n",
       "    <tr>\n",
       "      <th>0</th>\n",
       "      <td>6.31116921920377</td>\n",
       "      <td>4.56608143435738</td>\n",
       "      <td>0.0674427164763631</td>\n",
       "    </tr>\n",
       "    <tr>\n",
       "      <th>1</th>\n",
       "      <td>10.0000000000000</td>\n",
       "      <td>8.90588235294118</td>\n",
       "      <td>2.29669184683511</td>\n",
       "    </tr>\n",
       "    <tr>\n",
       "      <th>2</th>\n",
       "      <td>10.0000000000000</td>\n",
       "      <td>6.43404255311176</td>\n",
       "      <td>3.59925290832376</td>\n",
       "    </tr>\n",
       "  </tbody>\n",
       "</table>\n",
       "</div>"
      ],
      "text/plain": [
       "                  y                 x                   z\n",
       "0  6.31116921920377  4.56608143435738  0.0674427164763631\n",
       "1  10.0000000000000  8.90588235294118    2.29669184683511\n",
       "2  10.0000000000000  6.43404255311176    3.59925290832376"
      ]
     },
     "execution_count": 2,
     "metadata": {},
     "output_type": "execute_result"
    }
   ],
   "source": [
    "import pandas as pd\n",
    "import numpy as np\n",
    "\n",
    "y_values = [y1, y2, y3]\n",
    "x_values = [x1, x2, x3]\n",
    "op_values = np.array([y_values, x_values, range(0,3)])\n",
    "\n",
    "df_optimization = pd.DataFrame(op_values.T, columns = [\"y\", \"x\", \"z\"])\n",
    "\n",
    "for index, row in df_optimization.iterrows():\n",
    "    x = row[\"x\"]\n",
    "    y = row[\"y\"]\n",
    "    z = (-10115*x+23500*y-100832)/19195\n",
    "    row[\"z\"] = z\n",
    "\n",
    "df_optimization"
   ]
  },
  {
   "cell_type": "code",
   "execution_count": 3,
   "metadata": {
    "collapsed": false
   },
   "outputs": [
    {
     "name": "stdout",
     "output_type": "stream",
     "text": [
      "Maximum value of z:  3.59925290832376\n",
      "when y:  10.0000000000000\n",
      "and x:  6.43404255311176\n"
     ]
    }
   ],
   "source": [
    "print(\"Maximum value of z: \", df_optimization['z'][2])\n",
    "print(\"when y: \", df_optimization['y'][2])\n",
    "print(\"and x: \", df_optimization['x'][2])"
   ]
  }
 ],
 "metadata": {
  "kernelspec": {
   "display_name": "Python 3",
   "language": "python",
   "name": "python3"
  },
  "language_info": {
   "codemirror_mode": {
    "name": "ipython",
    "version": 3
   },
   "file_extension": ".py",
   "mimetype": "text/x-python",
   "name": "python",
   "nbconvert_exporter": "python",
   "pygments_lexer": "ipython3",
   "version": "3.5.1"
  }
 },
 "nbformat": 4,
 "nbformat_minor": 0
}

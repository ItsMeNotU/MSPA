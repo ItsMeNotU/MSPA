{
 "cells": [
  {
   "cell_type": "markdown",
   "metadata": {},
   "source": [
    "#MSPA PREDICT 400"
   ]
  },
  {
   "cell_type": "markdown",
   "metadata": {},
   "source": [
    "##Discussion Topic: Week 2 Linear Equations and the Echelon or Gauss-Jordan Methods"
   ]
  },
  {
   "cell_type": "markdown",
   "metadata": {},
   "source": [
    "###Introduction"
   ]
  },
  {
   "cell_type": "markdown",
   "metadata": {},
   "source": [
    "This document presents the results of the second weeks discussion topic for the Masters of Science in Predictive Analytics course: PREDICT 400. This assessment required the student to present a system of equations that contains two or more linear equations, and to solve the equations using both the Echelon or Gauss-Jordan methods."
   ]
  },
  {
   "cell_type": "markdown",
   "metadata": {},
   "source": [
    "###System of Equations"
   ]
  },
  {
   "cell_type": "markdown",
   "metadata": {},
   "source": [
    "For this assessment, I generated my own system of equations based on a structural model of supply-demand relationships found within the Western Australian Tourism Accommodation Industry. Relationships were estimated using a Two-Stage Least Squares (TSLS) approach, with endogenous factors being solved simultaneously based on log-level quarterly data.\n",
    "\n",
    "Final model specification:\n",
    "\n",
    "$Qd=Qs-P$\n",
    "\n",
    "$Qs=Qd+P$\n",
    "\n",
    "$P=Qd-Qs$\n",
    "\n",
    "where:\n",
    "\n",
    "$Qd/x$: Total room nights occupied\n",
    "\n",
    "$Qs/y$: Total room nights available\n",
    "\n",
    "$P/z$: Revenue per average room night\n",
    "\n",
    "I will omit further detail of the estimation as the origin of the system of equations is not intended to be the focus of this assessment."
   ]
  },
  {
   "cell_type": "markdown",
   "metadata": {},
   "source": [
    "###Echelon Method"
   ]
  },
  {
   "cell_type": "markdown",
   "metadata": {},
   "source": [
    "Three given equations are given in their proper form below:"
   ]
  },
  {
   "cell_type": "markdown",
   "metadata": {},
   "source": [
    "$x-y+\\frac{29}{100}z=\\frac{-169}{100}\\quad(1)$\n",
    "\n",
    "$\\frac{-17}{20}x+y+\\frac{-1}{5}z=\\frac{243}{100}\\quad(2)$\n",
    "\n",
    "$\\frac{-47}{20}x+\\frac{119}{100}y+z=\\frac{-161}{50}\\quad(3)$"
   ]
  },
  {
   "cell_type": "markdown",
   "metadata": {},
   "source": [
    "The augmented matrix of the linear system:"
   ]
  },
  {
   "cell_type": "code",
   "execution_count": 1,
   "metadata": {
    "collapsed": false
   },
   "outputs": [
    {
     "name": "stdout",
     "output_type": "stream",
     "text": [
      "[[ 1.         -1.          0.28999999 -1.69000006]\n",
      " [-0.85000002  1.         -0.2         2.43000007]\n",
      " [-2.3499999   1.19000006  1.         -3.22000003]]\n"
     ]
    }
   ],
   "source": [
    "import numpy as np\n",
    "\n",
    "matrix = np.asarray([\n",
    "    [1, -1, 29/100, -169/100],\n",
    "    [-17/20, 1, -1/5, 243/100],\n",
    "    [-47/20, 119/100, 1, -161/50]\n",
    "], dtype=np.float32)\n",
    "\n",
    "print(matrix)"
   ]
  },
  {
   "cell_type": "markdown",
   "metadata": {},
   "source": [
    "$\\left[\\begin{array}{rrr|r}\n",
    "1 & -1 & \\frac{29}{100} & \\frac{-169}{100} \\\\ \n",
    "\\frac{-17}{200} & 1 & \\frac{-1}{5} & \\frac{243}{100} \\\\\n",
    "\\frac{-47}{20} & \\frac{119}{100} & 1 & \\frac{-161}{50}\n",
    "\\end{array}\\right]$"
   ]
  },
  {
   "cell_type": "markdown",
   "metadata": {},
   "source": [
    "$STEP \\: 1: \\frac{17}{20} R1 + R2 \\rightarrow R2:$"
   ]
  },
  {
   "cell_type": "code",
   "execution_count": 2,
   "metadata": {
    "collapsed": false
   },
   "outputs": [
    {
     "name": "stdout",
     "output_type": "stream",
     "text": [
      "[[ 1.         -1.          0.28999999 -1.69000006]\n",
      " [ 0.          0.14999998  0.04649998  0.99349999]\n",
      " [-2.3499999   1.19000006  1.         -3.22000003]]\n"
     ]
    }
   ],
   "source": [
    "matrix[1] += (matrix[0] * 17/20)\n",
    "\n",
    "print(matrix)"
   ]
  },
  {
   "cell_type": "markdown",
   "metadata": {},
   "source": [
    "$\\left[\\begin{array}{rrr|r}\n",
    "1 & -1 & \\frac{29}{100} & \\frac{-169}{100} \\\\ \n",
    "0 & \\frac{3}{20} & \\frac{93}{2000} & \\frac{1987}{2000} \\\\\n",
    "\\frac{-47}{20} & \\frac{119}{100} & 1 & \\frac{-161}{50}\n",
    "\\end{array}\\right]$"
   ]
  },
  {
   "cell_type": "markdown",
   "metadata": {},
   "source": [
    "$STEP \\: 2: \\frac{47}{20} R1 + R3 \\rightarrow R3:$"
   ]
  },
  {
   "cell_type": "code",
   "execution_count": 3,
   "metadata": {
    "collapsed": false
   },
   "outputs": [
    {
     "data": {
      "text/plain": [
       "array([[ 1.        , -1.        ,  0.28999999, -1.69000006],\n",
       "       [ 0.        ,  0.14999998,  0.04649998,  0.99349999],\n",
       "       [ 0.        , -1.15999985,  1.68149996, -7.19149971]], dtype=float32)"
      ]
     },
     "execution_count": 3,
     "metadata": {},
     "output_type": "execute_result"
    }
   ],
   "source": [
    "matrix[2] += (matrix[0] * 47/20)\n",
    "\n",
    "matrix"
   ]
  },
  {
   "cell_type": "markdown",
   "metadata": {},
   "source": [
    "$\\left[\\begin{array}{rrr|r}\n",
    "1 & -1 & \\frac{29}{100} & \\frac{-169}{100} \\\\ \n",
    "0 & \\frac{3}{20} & \\frac{93}{2000} & \\frac{1987}{2000} \\\\\n",
    "0 & \\frac{-29}{25} & \\frac{3363}{2000} & \\frac{-14383}{2000}\n",
    "\\end{array}\\right]$"
   ]
  },
  {
   "cell_type": "markdown",
   "metadata": {},
   "source": [
    "$STEP \\: 3: \\frac{116}{15} R2 + R3 \\rightarrow R3:$"
   ]
  },
  {
   "cell_type": "code",
   "execution_count": 4,
   "metadata": {
    "collapsed": false
   },
   "outputs": [
    {
     "data": {
      "text/plain": [
       "array([[ 1.        , -1.        ,  0.28999999, -1.69000006],\n",
       "       [ 0.        ,  0.14999998,  0.04649998,  0.99349999],\n",
       "       [ 0.        ,  0.        ,  2.04109979,  0.49156713]], dtype=float32)"
      ]
     },
     "execution_count": 4,
     "metadata": {},
     "output_type": "execute_result"
    }
   ],
   "source": [
    "matrix[2] += (matrix[1] * 116/15)\n",
    "\n",
    "matrix"
   ]
  },
  {
   "cell_type": "markdown",
   "metadata": {},
   "source": [
    "$\\left[\\begin{array}{rrr|r}\n",
    "1 & -1 & \\frac{29}{100} & \\frac{-169}{100} \\\\ \n",
    "0 & \\frac{3}{20} & \\frac{93}{2000} & \\frac{1987}{2000} \\\\\n",
    "0 & 0 & \\frac{20411}{10000} & \\frac{14747}{30000}\n",
    "\\end{array}\\right]$"
   ]
  },
  {
   "cell_type": "markdown",
   "metadata": {},
   "source": [
    "The matrix has been transformed into its row-echelon form. The converted equations are given in their proper form below:"
   ]
  },
  {
   "cell_type": "markdown",
   "metadata": {},
   "source": [
    "$x-y+\\frac{29}{100}z=\\frac{-169}{100}\\quad(4)$\n",
    "\n",
    "$\\frac{3}{20}y+\\frac{93}{2000}z=\\frac{1987}{2000}\\quad(5)$\n",
    "\n",
    "$\\frac{20411}{10000}z=\\frac{14747}{30000}\\quad(6)$"
   ]
  },
  {
   "cell_type": "markdown",
   "metadata": {},
   "source": [
    "$STEP \\: 4: Solve \\: for \\: z:$"
   ]
  },
  {
   "cell_type": "markdown",
   "metadata": {},
   "source": [
    "$x-y+\\frac{29}{100}z=\\frac{-169}{100}\\quad(4)$\n",
    "\n",
    "$\\frac{3}{20}y+\\frac{93}{2000}z=\\frac{1987}{2000}\\quad(5)$\n",
    "\n",
    "$z=\\frac{14747}{61233}$"
   ]
  },
  {
   "cell_type": "markdown",
   "metadata": {},
   "source": [
    "$STEP \\: 5: Substitute \\: z \\: and \\: solve \\: for \\: y:$"
   ]
  },
  {
   "cell_type": "markdown",
   "metadata": {},
   "source": [
    "$x-y+\\frac{29}{100}z=\\frac{-169}{100}\\quad(4)$\n",
    "\n",
    "$y=\\frac{133665}{20411}$\n",
    "\n",
    "$z=\\frac{14747}{61233}$"
   ]
  },
  {
   "cell_type": "markdown",
   "metadata": {},
   "source": [
    "$STEP \\: 6: Substitute \\: y \\: and \\: solve \\: for \\: x:$"
   ]
  },
  {
   "cell_type": "markdown",
   "metadata": {},
   "source": [
    "$x=\\frac{1466173}{306165}$\n",
    "\n",
    "$y=\\frac{133665}{20411}$\n",
    "\n",
    "$z=\\frac{14747}{61233}$"
   ]
  },
  {
   "cell_type": "markdown",
   "metadata": {},
   "source": [
    "###The Gauss-Jordan Method"
   ]
  },
  {
   "cell_type": "markdown",
   "metadata": {},
   "source": [
    "Three given equations are given in their proper form below:"
   ]
  },
  {
   "cell_type": "markdown",
   "metadata": {},
   "source": [
    "$x-y+\\frac{29}{100}z=\\frac{-169}{100}\\quad(1)$\n",
    "\n",
    "$\\frac{-17}{20}x+y+\\frac{-1}{5}z=\\frac{243}{100}\\quad(2)$\n",
    "\n",
    "$\\frac{-47}{20}x+\\frac{119}{100}y+z=\\frac{-161}{50}\\quad(3)$"
   ]
  },
  {
   "cell_type": "markdown",
   "metadata": {},
   "source": [
    "The augmented matrix of the linear system:"
   ]
  },
  {
   "cell_type": "code",
   "execution_count": 5,
   "metadata": {
    "collapsed": false
   },
   "outputs": [
    {
     "name": "stdout",
     "output_type": "stream",
     "text": [
      "[[ 1.         -1.          0.28999999 -1.69000006]\n",
      " [-0.85000002  1.         -0.2         2.43000007]\n",
      " [-2.3499999   1.19000006  1.         -3.22000003]]\n"
     ]
    }
   ],
   "source": [
    "import numpy as np\n",
    "\n",
    "matrix = np.asarray([\n",
    "    [1, -1, 29/100, -169/100],\n",
    "    [-17/20, 1, -1/5, 243/100],\n",
    "    [-47/20, 119/100, 1, -161/50]\n",
    "], dtype=np.float32)\n",
    "\n",
    "print(matrix)"
   ]
  },
  {
   "cell_type": "markdown",
   "metadata": {},
   "source": [
    "$\\left[\\begin{array}{rrr|r}\n",
    "1 & -1 & \\frac{29}{100} & \\frac{-169}{100} \\\\ \n",
    "\\frac{-17}{200} & 1 & \\frac{-1}{5} & \\frac{243}{100} \\\\\n",
    "\\frac{-47}{20} & \\frac{119}{100} & 1 & \\frac{-161}{50}\n",
    "\\end{array}\\right]$"
   ]
  },
  {
   "cell_type": "markdown",
   "metadata": {},
   "source": [
    "$STEP 1: \\frac{17}{20} R1 + R2 \\rightarrow R2:$"
   ]
  },
  {
   "cell_type": "code",
   "execution_count": 6,
   "metadata": {
    "collapsed": false
   },
   "outputs": [
    {
     "name": "stdout",
     "output_type": "stream",
     "text": [
      "[[ 1.         -1.          0.28999999 -1.69000006]\n",
      " [ 0.          0.14999998  0.04649998  0.99349999]\n",
      " [-2.3499999   1.19000006  1.         -3.22000003]]\n"
     ]
    }
   ],
   "source": [
    "matrix[1] += (matrix[0] * 17/20)\n",
    "\n",
    "print(matrix)"
   ]
  },
  {
   "cell_type": "markdown",
   "metadata": {},
   "source": [
    "$\\left[\\begin{array}{rrr|r}\n",
    "1 & -1 & \\frac{29}{100} & \\frac{-169}{100} \\\\ \n",
    "0 & \\frac{3}{20} & \\frac{93}{2000} & \\frac{1987}{2000} \\\\\n",
    "\\frac{-47}{20} & \\frac{119}{100} & 1 & \\frac{-161}{50}\n",
    "\\end{array}\\right]$"
   ]
  },
  {
   "cell_type": "markdown",
   "metadata": {},
   "source": [
    "$STEP 2: \\frac{47}{20} R1 + R3 \\rightarrow R3:$"
   ]
  },
  {
   "cell_type": "code",
   "execution_count": 7,
   "metadata": {
    "collapsed": false
   },
   "outputs": [
    {
     "data": {
      "text/plain": [
       "array([[ 1.        , -1.        ,  0.28999999, -1.69000006],\n",
       "       [ 0.        ,  0.14999998,  0.04649998,  0.99349999],\n",
       "       [ 0.        , -1.15999985,  1.68149996, -7.19149971]], dtype=float32)"
      ]
     },
     "execution_count": 7,
     "metadata": {},
     "output_type": "execute_result"
    }
   ],
   "source": [
    "matrix[2] += (matrix[0] * 47/20)\n",
    "\n",
    "matrix"
   ]
  },
  {
   "cell_type": "markdown",
   "metadata": {},
   "source": [
    "$\\left[\\begin{array}{rrr|r}\n",
    "1 & -1 & \\frac{29}{100} & \\frac{-169}{100} \\\\ \n",
    "0 & \\frac{3}{20} & \\frac{93}{2000} & \\frac{1987}{2000} \\\\\n",
    "0 & \\frac{-29}{25} & \\frac{3363}{2000} & \\frac{-14383}{2000}\n",
    "\\end{array}\\right]$"
   ]
  },
  {
   "cell_type": "markdown",
   "metadata": {},
   "source": [
    "$STEP 3: \\frac{20}{3} R2 \\rightarrow R2:$"
   ]
  },
  {
   "cell_type": "code",
   "execution_count": 8,
   "metadata": {
    "collapsed": false
   },
   "outputs": [
    {
     "data": {
      "text/plain": [
       "array([[ 1.        , -1.        ,  0.28999999, -1.69000006],\n",
       "       [ 0.        ,  0.99999982,  0.30999988,  6.62333298],\n",
       "       [ 0.        , -1.15999985,  1.68149996, -7.19149971]], dtype=float32)"
      ]
     },
     "execution_count": 8,
     "metadata": {},
     "output_type": "execute_result"
    }
   ],
   "source": [
    "matrix[1] = (matrix[1] * 20/3)\n",
    "\n",
    "matrix"
   ]
  },
  {
   "cell_type": "markdown",
   "metadata": {},
   "source": [
    "$\\left[\\begin{array}{rrr|r}\n",
    "1 & -1 & \\frac{29}{100} & \\frac{-169}{100} \\\\ \n",
    "0 & 1 & \\frac{31}{100} & \\frac{1987}{300} \\\\\n",
    "0 & \\frac{-29}{25} & \\frac{3363}{2000} & \\frac{-14383}{2000}\n",
    "\\end{array}\\right]$"
   ]
  },
  {
   "cell_type": "markdown",
   "metadata": {},
   "source": [
    "$STEP 4: R2 + R1 \\rightarrow R1:$"
   ]
  },
  {
   "cell_type": "code",
   "execution_count": 9,
   "metadata": {
    "collapsed": false
   },
   "outputs": [
    {
     "name": "stdout",
     "output_type": "stream",
     "text": [
      "[[  1.00000000e+00  -1.78813934e-07   5.99999905e-01   4.93333292e+00]\n",
      " [  0.00000000e+00   9.99999821e-01   3.09999883e-01   6.62333298e+00]\n",
      " [  0.00000000e+00  -1.15999985e+00   1.68149996e+00  -7.19149971e+00]]\n"
     ]
    }
   ],
   "source": [
    "matrix[0] += matrix[1]\n",
    "\n",
    "print(matrix)"
   ]
  },
  {
   "cell_type": "markdown",
   "metadata": {},
   "source": [
    "$\\left[\\begin{array}{rrr|r}\n",
    "1 & 0 & \\frac{3}{5} & \\frac{74}{15} \\\\ \n",
    "0 & 1 & \\frac{31}{100} & \\frac{1987}{300} \\\\\n",
    "0 & \\frac{-29}{25} & \\frac{3363}{2000} & \\frac{-14383}{2000}\n",
    "\\end{array}\\right]$"
   ]
  },
  {
   "cell_type": "markdown",
   "metadata": {},
   "source": [
    "$STEP 5: \\frac{29}{25} R2 + R3 \\rightarrow R3:$"
   ]
  },
  {
   "cell_type": "code",
   "execution_count": 10,
   "metadata": {
    "collapsed": false
   },
   "outputs": [
    {
     "name": "stdout",
     "output_type": "stream",
     "text": [
      "[[  1.00000000e+00  -1.78813934e-07   5.99999905e-01   4.93333292e+00]\n",
      " [  0.00000000e+00   9.99999821e-01   3.09999883e-01   6.62333298e+00]\n",
      " [  0.00000000e+00  -1.19209290e-07   2.04109979e+00   4.91566658e-01]]\n"
     ]
    }
   ],
   "source": [
    "matrix[2] += (matrix[1] * 29/25)\n",
    "\n",
    "print(matrix)"
   ]
  },
  {
   "cell_type": "markdown",
   "metadata": {},
   "source": [
    "$\\left[\\begin{array}{rrr|r}\n",
    "1 & 0 & \\frac{3}{5} & \\frac{74}{15} \\\\ \n",
    "0 & 1 & \\frac{31}{100} & \\frac{1987}{300} \\\\\n",
    "0 & 0 & \\frac{20411}{10000} & \\frac{14747}{30000}\n",
    "\\end{array}\\right]$"
   ]
  },
  {
   "cell_type": "markdown",
   "metadata": {},
   "source": [
    "$STEP 6: \\frac{10000}{20411} R3 \\rightarrow R3:$"
   ]
  },
  {
   "cell_type": "code",
   "execution_count": 11,
   "metadata": {
    "collapsed": false
   },
   "outputs": [
    {
     "name": "stdout",
     "output_type": "stream",
     "text": [
      "[[  1.00000000e+00  -1.78813934e-07   5.99999905e-01   4.93333292e+00]\n",
      " [  0.00000000e+00   9.99999821e-01   3.09999883e-01   6.62333298e+00]\n",
      " [  0.00000000e+00  -5.84044351e-08   9.99999881e-01   2.40834177e-01]]\n"
     ]
    }
   ],
   "source": [
    "matrix[2] = (matrix[2] * 10000/20411)\n",
    "\n",
    "print(matrix)"
   ]
  },
  {
   "cell_type": "markdown",
   "metadata": {},
   "source": [
    "$\\left[\\begin{array}{rrr|r}\n",
    "1 & 0 & \\frac{3}{5} & \\frac{74}{15} \\\\ \n",
    "0 & 1 & \\frac{31}{100} & \\frac{1987}{300} \\\\\n",
    "0 & 0 & 1 & \\frac{14747}{61233}\n",
    "\\end{array}\\right]$"
   ]
  },
  {
   "cell_type": "markdown",
   "metadata": {},
   "source": [
    "$STEP 7: \\frac{-3}{5} R3 + R1 \\rightarrow R1:$"
   ]
  },
  {
   "cell_type": "code",
   "execution_count": 12,
   "metadata": {
    "collapsed": false
   },
   "outputs": [
    {
     "name": "stdout",
     "output_type": "stream",
     "text": [
      "[[  1.00000000e+00  -1.43771274e-07   0.00000000e+00   4.78883219e+00]\n",
      " [  0.00000000e+00   9.99999821e-01   3.09999883e-01   6.62333298e+00]\n",
      " [  0.00000000e+00  -5.84044351e-08   9.99999881e-01   2.40834177e-01]]\n"
     ]
    }
   ],
   "source": [
    "matrix[0] += (matrix[2] * -3/5)\n",
    "\n",
    "print(matrix)"
   ]
  },
  {
   "cell_type": "markdown",
   "metadata": {},
   "source": [
    "$\\left[\\begin{array}{rrr|r}\n",
    "1 & 0 & 0 & \\frac{1466173}{306165} \\\\ \n",
    "0 & 1 & \\frac{31}{100} & \\frac{1987}{300} \\\\\n",
    "0 & 0 & 1 & \\frac{14747}{61233}\n",
    "\\end{array}\\right]$"
   ]
  },
  {
   "cell_type": "markdown",
   "metadata": {},
   "source": [
    "$STEP 8: \\frac{-31}{100} R3 + R2 \\rightarrow R2:$"
   ]
  },
  {
   "cell_type": "code",
   "execution_count": 13,
   "metadata": {
    "collapsed": false
   },
   "outputs": [
    {
     "name": "stdout",
     "output_type": "stream",
     "text": [
      "[[  1.00000000e+00  -1.43771274e-07   0.00000000e+00   4.78883219e+00]\n",
      " [  0.00000000e+00   9.99999821e-01  -8.94069672e-08   6.54867458e+00]\n",
      " [  0.00000000e+00  -5.84044351e-08   9.99999881e-01   2.40834177e-01]]\n"
     ]
    }
   ],
   "source": [
    "matrix[1] += (matrix[2] * -31/100)\n",
    "\n",
    "print(matrix)"
   ]
  },
  {
   "cell_type": "markdown",
   "metadata": {},
   "source": [
    "$\\left[\\begin{array}{rrr|r}\n",
    "1 & 0 & 0 & \\frac{1466173}{306165} \\\\ \n",
    "0 & 1 & 0 & \\frac{133665}{20411} \\\\\n",
    "0 & 0 & 1 & \\frac{14747}{61233}\n",
    "\\end{array}\\right]$"
   ]
  },
  {
   "cell_type": "markdown",
   "metadata": {},
   "source": [
    "The matrix has been transformed into its reduced row-echelon form. The linear system associated with the final augmented matrix is:"
   ]
  },
  {
   "cell_type": "code",
   "execution_count": 14,
   "metadata": {
    "collapsed": false
   },
   "outputs": [
    {
     "name": "stdout",
     "output_type": "stream",
     "text": [
      "[[ 4.78883219]\n",
      " [ 6.54867458]\n",
      " [ 0.24083418]]\n"
     ]
    }
   ],
   "source": [
    "import numpy as np\n",
    "\n",
    "x = matrix[0,3]\n",
    "y = matrix[1,3]\n",
    "z = matrix[2,3]\n",
    "\n",
    "sys = np.asarray([[x],[y],[z]], dtype=np.float32)\n",
    "print(sys)"
   ]
  },
  {
   "cell_type": "markdown",
   "metadata": {},
   "source": [
    "###Conclusion"
   ]
  },
  {
   "cell_type": "markdown",
   "metadata": {},
   "source": [
    "The Gauss-Jordan Method carries the benefit of not requiring back substitution and its process also produces the invert of the original matrix, which may be of benefit to particular users. Ultimately, my preference of method would depend on whichever is more computationally efficient."
   ]
  }
 ],
 "metadata": {
  "kernelspec": {
   "display_name": "Python 3",
   "language": "python",
   "name": "python3"
  },
  "language_info": {
   "codemirror_mode": {
    "name": "ipython",
    "version": 3
   },
   "file_extension": ".py",
   "mimetype": "text/x-python",
   "name": "python",
   "nbconvert_exporter": "python",
   "pygments_lexer": "ipython3",
   "version": "3.5.1"
  }
 },
 "nbformat": 4,
 "nbformat_minor": 0
}

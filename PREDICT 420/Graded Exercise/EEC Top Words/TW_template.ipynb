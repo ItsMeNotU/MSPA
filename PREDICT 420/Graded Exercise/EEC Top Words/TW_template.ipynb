{
 "cells": [
  {
   "cell_type": "markdown",
   "metadata": {
    "collapsed": true
   },
   "source": [
    "#MSPA PREDICT 420"
   ]
  },
  {
   "cell_type": "markdown",
   "metadata": {},
   "source": [
    "##Extra Credit: Top Words"
   ]
  },
  {
   "cell_type": "markdown",
   "metadata": {},
   "source": [
    "###Introduction"
   ]
  },
  {
   "cell_type": "markdown",
   "metadata": {},
   "source": [
    "This document presents the results of the extra credit exercise for the Masters of Science in Predictive Analytics course: PREDICT 420."
   ]
  },
  {
   "cell_type": "markdown",
   "metadata": {},
   "source": [
    "###Assessment"
   ]
  },
  {
   "cell_type": "markdown",
   "metadata": {},
   "source": [
    "####1. Loading the Data"
   ]
  },
  {
   "cell_type": "markdown",
   "metadata": {},
   "source": [
    "Load the dataset."
   ]
  },
  {
   "cell_type": "code",
   "execution_count": 1,
   "metadata": {
    "collapsed": false
   },
   "outputs": [
    {
     "name": "stdout",
     "output_type": "stream",
     "text": [
      "babble[:500]:\n",
      " Lorem ipsum dolor sit amet, consectetur adipiscing elit. Nulla ex risus, porta vitae nisl sit amet, lacinia feugiat nunc. Duis auctor augue sit amet nulla ultrices ultrices. Sed posuere dictum purus non faucibus. Nullam nec consequat urna. Nunc diam leo, luctus eu tincidunt at, laoreet ac lacus. Duis blandit lectus quis massa sagittis consequat. Donec semper quam at ultrices pretium. Morbi varius odio sit amet iaculis imperdiet. Pellentesque a gravida turpis, eget molestie ligula. Donec lobortis\n"
     ]
    }
   ],
   "source": [
    "babble = []\n",
    "f = open(\"data/babble-words.txt\", \"r\")\n",
    "babble = f.read()\n",
    "\n",
    "print(\"babble[:500]:\\n\", babble[:500])"
   ]
  },
  {
   "cell_type": "markdown",
   "metadata": {},
   "source": [
    "####2. Pre-process the Data"
   ]
  },
  {
   "cell_type": "markdown",
   "metadata": {},
   "source": [
    "Remove punctuation, remove non-printable characters and convert to lowercase."
   ]
  },
  {
   "cell_type": "code",
   "execution_count": 2,
   "metadata": {
    "collapsed": false
   },
   "outputs": [
    {
     "name": "stdout",
     "output_type": "stream",
     "text": [
      "babble[:500]:\n",
      " lorem ipsum dolor sit amet consectetur adipiscing elit nulla ex risus porta vitae nisl sit amet lacinia feugiat nunc duis auctor augue sit amet nulla ultrices ultrices sed posuere dictum purus non faucibus nullam nec consequat urna nunc diam leo luctus eu tincidunt at laoreet ac lacus duis blandit lectus quis massa sagittis consequat donec semper quam at ultrices pretium morbi varius odio sit amet iaculis imperdiet pellentesque a gravida turpis eget molestie ligula donec lobortis quis erat at bl\n"
     ]
    }
   ],
   "source": [
    "import string\n",
    "\n",
    "babble = \"\".join(filter(lambda x: x not in string.punctuation, babble)) # Remove punctuation.\n",
    "babble = \"\".join(filter(lambda x: x in string.printable, babble)) # Remove non-printable characters.\n",
    "babble = babble.lower() # Convert to lowercase.\n",
    "\n",
    "print(\"babble[:500]:\\n\", babble[:500])"
   ]
  },
  {
   "cell_type": "markdown",
   "metadata": {},
   "source": [
    "####3. Word Count"
   ]
  },
  {
   "cell_type": "markdown",
   "metadata": {},
   "source": [
    "Count up how many times each word occurs."
   ]
  },
  {
   "cell_type": "code",
   "execution_count": 3,
   "metadata": {
    "collapsed": false
   },
   "outputs": [],
   "source": [
    "import pandas as pd\n",
    "\n",
    "babblelist = babble.split() # Convert to dictonary.\n",
    "\n",
    "worddict = {}\n",
    "for w in babblelist: # Count words.\n",
    "    try:\n",
    "        worddict[w] += 1\n",
    "    except KeyError:\n",
    "        worddict[w] = 1\n",
    "        \n",
    "df_wordcounttemp = pd.DataFrame(worddict, index = [0]) # Convert to dataframe.\n",
    "df_wordcount = df_wordcounttemp.transpose()\n",
    "df_wordcount.columns = [\"wordcount\"]"
   ]
  },
  {
   "cell_type": "code",
   "execution_count": 4,
   "metadata": {
    "collapsed": false
   },
   "outputs": [
    {
     "data": {
      "text/html": [
       "<div>\n",
       "<table border=\"1\" class=\"dataframe\">\n",
       "  <thead>\n",
       "    <tr style=\"text-align: right;\">\n",
       "      <th></th>\n",
       "      <th>wordcount</th>\n",
       "    </tr>\n",
       "  </thead>\n",
       "  <tbody>\n",
       "    <tr>\n",
       "      <th>a</th>\n",
       "      <td>5</td>\n",
       "    </tr>\n",
       "    <tr>\n",
       "      <th>ac</th>\n",
       "      <td>7</td>\n",
       "    </tr>\n",
       "    <tr>\n",
       "      <th>accumsan</th>\n",
       "      <td>3</td>\n",
       "    </tr>\n",
       "    <tr>\n",
       "      <th>adipiscing</th>\n",
       "      <td>1</td>\n",
       "    </tr>\n",
       "    <tr>\n",
       "      <th>aenean</th>\n",
       "      <td>1</td>\n",
       "    </tr>\n",
       "  </tbody>\n",
       "</table>\n",
       "</div>"
      ],
      "text/plain": [
       "            wordcount\n",
       "a                   5\n",
       "ac                  7\n",
       "accumsan            3\n",
       "adipiscing          1\n",
       "aenean              1"
      ]
     },
     "execution_count": 4,
     "metadata": {},
     "output_type": "execute_result"
    }
   ],
   "source": [
    "df_wordcount.head(5)"
   ]
  },
  {
   "cell_type": "markdown",
   "metadata": {},
   "source": [
    "Output the ten (10) most frequently occurring words, indicating for each word how many times it occurred."
   ]
  },
  {
   "cell_type": "code",
   "execution_count": 5,
   "metadata": {
    "collapsed": false
   },
   "outputs": [],
   "source": [
    "df_wordcount.sort_values(by = \"wordcount\", ascending = False, inplace = True) # Sort dataframe."
   ]
  },
  {
   "cell_type": "code",
   "execution_count": 6,
   "metadata": {
    "collapsed": false
   },
   "outputs": [
    {
     "data": {
      "text/html": [
       "<div>\n",
       "<table border=\"1\" class=\"dataframe\">\n",
       "  <thead>\n",
       "    <tr style=\"text-align: right;\">\n",
       "      <th></th>\n",
       "      <th>wordcount</th>\n",
       "    </tr>\n",
       "  </thead>\n",
       "  <tbody>\n",
       "    <tr>\n",
       "      <th>sed</th>\n",
       "      <td>17</td>\n",
       "    </tr>\n",
       "    <tr>\n",
       "      <th>ut</th>\n",
       "      <td>15</td>\n",
       "    </tr>\n",
       "    <tr>\n",
       "      <th>in</th>\n",
       "      <td>11</td>\n",
       "    </tr>\n",
       "    <tr>\n",
       "      <th>nulla</th>\n",
       "      <td>10</td>\n",
       "    </tr>\n",
       "    <tr>\n",
       "      <th>amet</th>\n",
       "      <td>8</td>\n",
       "    </tr>\n",
       "    <tr>\n",
       "      <th>nec</th>\n",
       "      <td>8</td>\n",
       "    </tr>\n",
       "    <tr>\n",
       "      <th>turpis</th>\n",
       "      <td>8</td>\n",
       "    </tr>\n",
       "    <tr>\n",
       "      <th>nunc</th>\n",
       "      <td>8</td>\n",
       "    </tr>\n",
       "    <tr>\n",
       "      <th>sit</th>\n",
       "      <td>8</td>\n",
       "    </tr>\n",
       "    <tr>\n",
       "      <th>et</th>\n",
       "      <td>7</td>\n",
       "    </tr>\n",
       "  </tbody>\n",
       "</table>\n",
       "</div>"
      ],
      "text/plain": [
       "        wordcount\n",
       "sed            17\n",
       "ut             15\n",
       "in             11\n",
       "nulla          10\n",
       "amet            8\n",
       "nec             8\n",
       "turpis          8\n",
       "nunc            8\n",
       "sit             8\n",
       "et              7"
      ]
     },
     "execution_count": 6,
     "metadata": {},
     "output_type": "execute_result"
    }
   ],
   "source": [
    "df_wordcount.head(10)"
   ]
  }
 ],
 "metadata": {
  "kernelspec": {
   "display_name": "Python 3",
   "language": "python",
   "name": "python3"
  },
  "language_info": {
   "codemirror_mode": {
    "name": "ipython",
    "version": 3
   },
   "file_extension": ".py",
   "mimetype": "text/x-python",
   "name": "python",
   "nbconvert_exporter": "python",
   "pygments_lexer": "ipython3",
   "version": "3.5.1"
  }
 },
 "nbformat": 4,
 "nbformat_minor": 0
}

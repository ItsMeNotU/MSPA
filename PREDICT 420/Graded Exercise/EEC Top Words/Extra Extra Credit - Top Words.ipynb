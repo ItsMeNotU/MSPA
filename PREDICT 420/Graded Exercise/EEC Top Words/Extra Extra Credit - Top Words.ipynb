{
 "cells": [
  {
   "cell_type": "markdown",
   "metadata": {},
   "source": [
    "(CC) Creative Commons BY-SA Lynd Bacon & Associates, Ltd. DBA Loma Buena Associates"
   ]
  },
  {
   "cell_type": "markdown",
   "metadata": {},
   "source": [
    "## What You Need To Do"
   ]
  },
  {
   "cell_type": "markdown",
   "metadata": {},
   "source": [
    "In the file babble-words.txt you find some text.  Read this text into Python, and then do the following.\n",
    "\n",
    "1. Remove all punctuation and non-printing characters from the text.\n",
    "2. Set all words to lower case.\n",
    "3. Count up how many times each word occurs.\n",
    "4. Output the ten (10) most frequently occurring words, indicating for each word how many times it occurred.\n"
   ]
  },
  {
   "cell_type": "markdown",
   "metadata": {},
   "source": [
    "## Your Deliverables"
   ]
  },
  {
   "cell_type": "markdown",
   "metadata": {},
   "source": [
    "In two (2) pages or less, provide:\n",
    "\n",
    "* The python code you used to do the above, including an explanation of what each line of code does.\n",
    "* Your output of the 10 most frequently occurring words with the number of times they occurred."
   ]
  },
  {
   "cell_type": "markdown",
   "metadata": {},
   "source": [
    "This extra credit exercise is worth 10 points towards the course grade __if done correctly__.  If not done completely correctly, it is worth zero points."
   ]
  }
 ],
 "metadata": {
  "kernelspec": {
   "display_name": "Python 3",
   "language": "python",
   "name": "python3"
  },
  "language_info": {
   "codemirror_mode": {
    "name": "ipython",
    "version": 3
   },
   "file_extension": ".py",
   "mimetype": "text/x-python",
   "name": "python",
   "nbconvert_exporter": "python",
   "pygments_lexer": "ipython3",
   "version": "3.5.1"
  }
 },
 "nbformat": 4,
 "nbformat_minor": 0
}

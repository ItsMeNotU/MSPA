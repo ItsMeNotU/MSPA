{
 "cells": [
  {
   "cell_type": "markdown",
   "metadata": {
    "collapsed": true
   },
   "source": [
    "#MSPA PREDICT 420"
   ]
  },
  {
   "cell_type": "markdown",
   "metadata": {},
   "source": [
    "##Graded Exercise 4: Customers of a Hotel Speak"
   ]
  },
  {
   "cell_type": "markdown",
   "metadata": {},
   "source": [
    "###Introduction"
   ]
  },
  {
   "cell_type": "markdown",
   "metadata": {},
   "source": [
    "This document presents the results of the forth graded exercise for the Masters of Science in Predictive Analytics course: PREDICT 420. This assessment required the student to work with json formatted TripAdvisor customer review data in order to help understand the feedback from aggregated reviews."
   ]
  },
  {
   "cell_type": "markdown",
   "metadata": {},
   "source": [
    "###Assessment"
   ]
  },
  {
   "cell_type": "markdown",
   "metadata": {},
   "source": [
    "####1. Loading the Data"
   ]
  },
  {
   "cell_type": "code",
   "execution_count": 1,
   "metadata": {
    "collapsed": true
   },
   "outputs": [],
   "source": [
    "import json\n",
    "\n",
    "with open(\"data/100506.json\") as input_file:\n",
    "    jsondat = json.load(input_file)"
   ]
  },
  {
   "cell_type": "markdown",
   "metadata": {},
   "source": [
    "####2. Extract Ratings Data"
   ]
  },
  {
   "cell_type": "markdown",
   "metadata": {},
   "source": [
    "Extract ratings data into a list of dictionaries and convert to a dataframe."
   ]
  },
  {
   "cell_type": "code",
   "execution_count": 2,
   "metadata": {
    "collapsed": false
   },
   "outputs": [],
   "source": [
    "import pandas\n",
    "\n",
    "#Source: http://stackoverflow.com/questions/38987/how-can-i-merge-two-python-dictionaries-in-a-single-expression\n",
    "def merge_dicts(*dict_args):\n",
    "    result = {}\n",
    "    for dictionary in dict_args:\n",
    "        result.update(dictionary)\n",
    "    return result\n",
    "\n",
    "ratingdictlist = [] # Create ratings dictionary list.\n",
    "ratingfield = [\"Service\", # Exhaustive list of rating fields to extract. Note that fields not consistent between records.\n",
    "               \"Sleep Quality\", \n",
    "               \"Check in / front desk\", \n",
    "               \"Rooms\", \n",
    "               \"Cleanliness\", \n",
    "               \"Location\", \n",
    "               \"Business service (e.g., internet access)\", \n",
    "               \"Value\",\n",
    "               \"Overall\"]\n",
    "\n",
    "for i in jsondat[\"Reviews\"]: # Loop through each record in 'Reviews'.\n",
    "    expdict = {\"Author\" : i[\"Author\"], # Extract 'Author' and 'Date' from first level of record.\n",
    "               \"Date\" : i[\"Date\"]}\n",
    "    \n",
    "    for r in ratingfield: \n",
    "        try: # Try to extract exhaustive list of ratings from second level (of 'Ratings').\n",
    "            ratingdict = {r : i[\"Ratings\"][r]}\n",
    "        except KeyError: # NaN if ratings field does not exist for that record.\n",
    "            ratingdict = {r : \"NaN\"} \n",
    "            \n",
    "        expdict = merge_dicts(expdict, ratingdict) # Merge extracted ratings to current record dictonary.\n",
    "\n",
    "    ratingdictlist.append(expdict) # Append current record dictonary to list of dictionaries.\n",
    "\n",
    "df_ratings = pandas.DataFrame(ratingdictlist) # Convert list of dictionaries to pandas dataframe."
   ]
  },
  {
   "cell_type": "markdown",
   "metadata": {},
   "source": [
    "Rename dataframe fields."
   ]
  },
  {
   "cell_type": "code",
   "execution_count": 3,
   "metadata": {
    "collapsed": true
   },
   "outputs": [],
   "source": [
    "df_ratings.columns = [\"authorName\",\n",
    "                      \"busservicesRate\", \n",
    "                      \"fontdeskRate\", \n",
    "                      \"cleanlinessRate\", \n",
    "                      \"reviewDate\",\n",
    "                      \"locationRate\", \n",
    "                      \"overallRate\",\n",
    "                      \"roomRate\", \n",
    "                      \"serviceRate\",\n",
    "                      \"sleepRate\",\n",
    "                      \"valueRate\"]"
   ]
  },
  {
   "cell_type": "markdown",
   "metadata": {},
   "source": [
    "Convert numeric fields to correct dtype."
   ]
  },
  {
   "cell_type": "code",
   "execution_count": 4,
   "metadata": {
    "collapsed": true
   },
   "outputs": [],
   "source": [
    "numfields = [\"busservicesRate\", # Identify numeric fields.\n",
    "             \"fontdeskRate\", \n",
    "             \"cleanlinessRate\", \n",
    "             \"locationRate\", \n",
    "             \"overallRate\",\n",
    "             \"roomRate\", \n",
    "             \"serviceRate\",\n",
    "             \"sleepRate\",\n",
    "             \"valueRate\"]\n",
    "\n",
    "df_ratings[numfields] = df_ratings[numfields].apply(pandas.to_numeric, errors = \"coerce\") # Convert numeric fields to numeric dtype."
   ]
  },
  {
   "cell_type": "markdown",
   "metadata": {},
   "source": [
    "Confirm dtypes for created dataframe."
   ]
  },
  {
   "cell_type": "code",
   "execution_count": 5,
   "metadata": {
    "collapsed": false
   },
   "outputs": [
    {
     "name": "stdout",
     "output_type": "stream",
     "text": [
      "authorName          object\n",
      "busservicesRate    float64\n",
      "fontdeskRate       float64\n",
      "cleanlinessRate    float64\n",
      "reviewDate          object\n",
      "locationRate       float64\n",
      "overallRate        float64\n",
      "roomRate           float64\n",
      "serviceRate        float64\n",
      "sleepRate          float64\n",
      "valueRate          float64\n",
      "dtype: object\n"
     ]
    }
   ],
   "source": [
    "print(df_ratings.dtypes)"
   ]
  },
  {
   "cell_type": "markdown",
   "metadata": {},
   "source": [
    "Set dataframe index to 'authorName'."
   ]
  },
  {
   "cell_type": "code",
   "execution_count": 6,
   "metadata": {
    "collapsed": false
   },
   "outputs": [],
   "source": [
    "df_ratings = df_ratings.set_index(\"authorName\")\n",
    "df_ratings.index.name = None"
   ]
  },
  {
   "cell_type": "markdown",
   "metadata": {},
   "source": [
    "Print first five records of created dataframe."
   ]
  },
  {
   "cell_type": "code",
   "execution_count": 7,
   "metadata": {
    "collapsed": false
   },
   "outputs": [
    {
     "data": {
      "text/html": [
       "<div>\n",
       "<table border=\"1\" class=\"dataframe\">\n",
       "  <thead>\n",
       "    <tr style=\"text-align: right;\">\n",
       "      <th></th>\n",
       "      <th>busservicesRate</th>\n",
       "      <th>fontdeskRate</th>\n",
       "      <th>cleanlinessRate</th>\n",
       "      <th>reviewDate</th>\n",
       "      <th>locationRate</th>\n",
       "      <th>overallRate</th>\n",
       "      <th>roomRate</th>\n",
       "      <th>serviceRate</th>\n",
       "      <th>sleepRate</th>\n",
       "      <th>valueRate</th>\n",
       "    </tr>\n",
       "  </thead>\n",
       "  <tbody>\n",
       "    <tr>\n",
       "      <th>luvsroadtrips</th>\n",
       "      <td>NaN</td>\n",
       "      <td>NaN</td>\n",
       "      <td>1</td>\n",
       "      <td>January 3, 2012</td>\n",
       "      <td>5</td>\n",
       "      <td>1</td>\n",
       "      <td>1</td>\n",
       "      <td>1</td>\n",
       "      <td>1</td>\n",
       "      <td>1</td>\n",
       "    </tr>\n",
       "    <tr>\n",
       "      <th>estelle e</th>\n",
       "      <td>NaN</td>\n",
       "      <td>NaN</td>\n",
       "      <td>4</td>\n",
       "      <td>December 29, 2011</td>\n",
       "      <td>5</td>\n",
       "      <td>4</td>\n",
       "      <td>3</td>\n",
       "      <td>4</td>\n",
       "      <td>5</td>\n",
       "      <td>3</td>\n",
       "    </tr>\n",
       "    <tr>\n",
       "      <th>RobertEddy</th>\n",
       "      <td>NaN</td>\n",
       "      <td>NaN</td>\n",
       "      <td>2</td>\n",
       "      <td>December 20, 2011</td>\n",
       "      <td>1</td>\n",
       "      <td>1</td>\n",
       "      <td>1</td>\n",
       "      <td>1</td>\n",
       "      <td>1</td>\n",
       "      <td>1</td>\n",
       "    </tr>\n",
       "    <tr>\n",
       "      <th>James R</th>\n",
       "      <td>NaN</td>\n",
       "      <td>NaN</td>\n",
       "      <td>1</td>\n",
       "      <td>October 30, 2011</td>\n",
       "      <td>1</td>\n",
       "      <td>1</td>\n",
       "      <td>1</td>\n",
       "      <td>1</td>\n",
       "      <td>1</td>\n",
       "      <td>1</td>\n",
       "    </tr>\n",
       "    <tr>\n",
       "      <th>Shobha49</th>\n",
       "      <td>NaN</td>\n",
       "      <td>NaN</td>\n",
       "      <td>NaN</td>\n",
       "      <td>September 14, 2011</td>\n",
       "      <td>5</td>\n",
       "      <td>1</td>\n",
       "      <td>1</td>\n",
       "      <td>1</td>\n",
       "      <td>NaN</td>\n",
       "      <td>3</td>\n",
       "    </tr>\n",
       "  </tbody>\n",
       "</table>\n",
       "</div>"
      ],
      "text/plain": [
       "               busservicesRate  fontdeskRate  cleanlinessRate  \\\n",
       "luvsroadtrips              NaN           NaN                1   \n",
       "estelle e                  NaN           NaN                4   \n",
       "RobertEddy                 NaN           NaN                2   \n",
       "James R                    NaN           NaN                1   \n",
       "Shobha49                   NaN           NaN              NaN   \n",
       "\n",
       "                       reviewDate  locationRate  overallRate  roomRate  \\\n",
       "luvsroadtrips     January 3, 2012             5            1         1   \n",
       "estelle e       December 29, 2011             5            4         3   \n",
       "RobertEddy      December 20, 2011             1            1         1   \n",
       "James R          October 30, 2011             1            1         1   \n",
       "Shobha49       September 14, 2011             5            1         1   \n",
       "\n",
       "               serviceRate  sleepRate  valueRate  \n",
       "luvsroadtrips            1          1          1  \n",
       "estelle e                4          5          3  \n",
       "RobertEddy               1          1          1  \n",
       "James R                  1          1          1  \n",
       "Shobha49                 1        NaN          3  "
      ]
     },
     "execution_count": 7,
     "metadata": {},
     "output_type": "execute_result"
    }
   ],
   "source": [
    "df_ratings.head(5)"
   ]
  },
  {
   "cell_type": "markdown",
   "metadata": {},
   "source": [
    "####3. Calculate Ratings Data Statistics"
   ]
  },
  {
   "cell_type": "markdown",
   "metadata": {},
   "source": [
    "Calculate the minimum value for each rating."
   ]
  },
  {
   "cell_type": "code",
   "execution_count": 8,
   "metadata": {
    "collapsed": false
   },
   "outputs": [
    {
     "data": {
      "text/plain": [
       "busservicesRate    1\n",
       "fontdeskRate       1\n",
       "cleanlinessRate    1\n",
       "locationRate       1\n",
       "overallRate        1\n",
       "roomRate           1\n",
       "serviceRate        1\n",
       "sleepRate          1\n",
       "valueRate          1\n",
       "dtype: float64"
      ]
     },
     "execution_count": 8,
     "metadata": {},
     "output_type": "execute_result"
    }
   ],
   "source": [
    "pandas.DataFrame.min(df_ratings[numfields])"
   ]
  },
  {
   "cell_type": "markdown",
   "metadata": {},
   "source": [
    "Calculate the maximum value for each rating."
   ]
  },
  {
   "cell_type": "code",
   "execution_count": 9,
   "metadata": {
    "collapsed": false
   },
   "outputs": [
    {
     "data": {
      "text/plain": [
       "busservicesRate    1\n",
       "fontdeskRate       5\n",
       "cleanlinessRate    5\n",
       "locationRate       5\n",
       "overallRate        4\n",
       "roomRate           5\n",
       "serviceRate        5\n",
       "sleepRate          5\n",
       "valueRate          5\n",
       "dtype: float64"
      ]
     },
     "execution_count": 9,
     "metadata": {},
     "output_type": "execute_result"
    }
   ],
   "source": [
    "pandas.DataFrame.max(df_ratings[numfields])"
   ]
  },
  {
   "cell_type": "markdown",
   "metadata": {},
   "source": [
    "Calculate the mean value for each rating."
   ]
  },
  {
   "cell_type": "code",
   "execution_count": 10,
   "metadata": {
    "collapsed": false
   },
   "outputs": [
    {
     "data": {
      "text/plain": [
       "busservicesRate    1.000000\n",
       "fontdeskRate       3.000000\n",
       "cleanlinessRate    2.000000\n",
       "locationRate       4.000000\n",
       "overallRate        1.666667\n",
       "roomRate           1.545455\n",
       "serviceRate        2.300000\n",
       "sleepRate          2.176471\n",
       "valueRate          2.000000\n",
       "dtype: float64"
      ]
     },
     "execution_count": 10,
     "metadata": {},
     "output_type": "execute_result"
    }
   ],
   "source": [
    "pandas.DataFrame.mean(df_ratings[numfields])"
   ]
  },
  {
   "cell_type": "markdown",
   "metadata": {},
   "source": [
    "####4. Extract Comments Data"
   ]
  },
  {
   "cell_type": "code",
   "execution_count": 11,
   "metadata": {
    "collapsed": false
   },
   "outputs": [],
   "source": [
    "import pandas\n",
    "\n",
    "def merge_dicts(*dict_args):\n",
    "    result = {}\n",
    "    for dictionary in dict_args:\n",
    "        result.update(dictionary)\n",
    "    return result\n",
    "\n",
    "contentdictlist = [] # Create comments dictionary list.\n",
    "\n",
    "for i in jsondat[\"Reviews\"]: # Loop through each record in 'Reviews'.\n",
    "    expdict = {\"Author\" : i[\"Author\"], # Extract 'Author', 'Date' and 'Content' from first level of record.\n",
    "               \"Date\" : i[\"Date\"],\n",
    "               \"Content\" : i[\"Content\"]}\n",
    "\n",
    "    contentdictlist.append(expdict) # Append current record dictonary to list of dictionaries.\n",
    "\n",
    "df_content = pandas.DataFrame(contentdictlist) # Convert list of dictionaries to pandas dataframe."
   ]
  },
  {
   "cell_type": "markdown",
   "metadata": {},
   "source": [
    "Rename dataframe fields."
   ]
  },
  {
   "cell_type": "code",
   "execution_count": 12,
   "metadata": {
    "collapsed": true
   },
   "outputs": [],
   "source": [
    "df_content.columns = [\"authorName\",\n",
    "                      \"commentString\", \n",
    "                      \"reviewDate\"]"
   ]
  },
  {
   "cell_type": "markdown",
   "metadata": {},
   "source": [
    "Confirm dtypes for created dataframe."
   ]
  },
  {
   "cell_type": "code",
   "execution_count": 13,
   "metadata": {
    "collapsed": false
   },
   "outputs": [
    {
     "name": "stdout",
     "output_type": "stream",
     "text": [
      "authorName       object\n",
      "commentString    object\n",
      "reviewDate       object\n",
      "dtype: object\n"
     ]
    }
   ],
   "source": [
    "print(df_content.dtypes)"
   ]
  },
  {
   "cell_type": "markdown",
   "metadata": {},
   "source": [
    "Set dataframe index to 'authorName'."
   ]
  },
  {
   "cell_type": "code",
   "execution_count": 14,
   "metadata": {
    "collapsed": false
   },
   "outputs": [],
   "source": [
    "df_content = df_content.set_index(\"authorName\")\n",
    "df_content.index.name = None"
   ]
  },
  {
   "cell_type": "markdown",
   "metadata": {},
   "source": [
    "Print first five records of created dataframe."
   ]
  },
  {
   "cell_type": "code",
   "execution_count": 15,
   "metadata": {
    "collapsed": false
   },
   "outputs": [
    {
     "data": {
      "text/html": [
       "<div>\n",
       "<table border=\"1\" class=\"dataframe\">\n",
       "  <thead>\n",
       "    <tr style=\"text-align: right;\">\n",
       "      <th></th>\n",
       "      <th>commentString</th>\n",
       "      <th>reviewDate</th>\n",
       "    </tr>\n",
       "  </thead>\n",
       "  <tbody>\n",
       "    <tr>\n",
       "      <th>luvsroadtrips</th>\n",
       "      <td>This place is not even suitable for the homele...</td>\n",
       "      <td>January 3, 2012</td>\n",
       "    </tr>\n",
       "    <tr>\n",
       "      <th>estelle e</th>\n",
       "      <td>We stayed in downtown hotel Seattle for two ni...</td>\n",
       "      <td>December 29, 2011</td>\n",
       "    </tr>\n",
       "    <tr>\n",
       "      <th>RobertEddy</th>\n",
       "      <td>i made reservations and when i showed up, i qu...</td>\n",
       "      <td>December 20, 2011</td>\n",
       "    </tr>\n",
       "    <tr>\n",
       "      <th>James R</th>\n",
       "      <td>This hotel is so bad it's a joke. I could bare...</td>\n",
       "      <td>October 30, 2011</td>\n",
       "    </tr>\n",
       "    <tr>\n",
       "      <th>Shobha49</th>\n",
       "      <td>My husband and I stayed at this hotel from 16t...</td>\n",
       "      <td>September 14, 2011</td>\n",
       "    </tr>\n",
       "  </tbody>\n",
       "</table>\n",
       "</div>"
      ],
      "text/plain": [
       "                                                   commentString  \\\n",
       "luvsroadtrips  This place is not even suitable for the homele...   \n",
       "estelle e      We stayed in downtown hotel Seattle for two ni...   \n",
       "RobertEddy     i made reservations and when i showed up, i qu...   \n",
       "James R        This hotel is so bad it's a joke. I could bare...   \n",
       "Shobha49       My husband and I stayed at this hotel from 16t...   \n",
       "\n",
       "                       reviewDate  \n",
       "luvsroadtrips     January 3, 2012  \n",
       "estelle e       December 29, 2011  \n",
       "RobertEddy      December 20, 2011  \n",
       "James R          October 30, 2011  \n",
       "Shobha49       September 14, 2011  "
      ]
     },
     "execution_count": 15,
     "metadata": {},
     "output_type": "execute_result"
    }
   ],
   "source": [
    "df_content.head(5)"
   ]
  },
  {
   "cell_type": "markdown",
   "metadata": {},
   "source": [
    "####5. Pickle Final Dataframes"
   ]
  },
  {
   "cell_type": "code",
   "execution_count": 16,
   "metadata": {
    "collapsed": true
   },
   "outputs": [],
   "source": [
    "import pickle\n",
    "\n",
    "df_ratings.to_pickle(\"data/ratings.p\")\n",
    "df_content.to_pickle(\"data/content.p\")"
   ]
  },
  {
   "cell_type": "markdown",
   "metadata": {},
   "source": [
    "####6. Extract Hotel Information"
   ]
  },
  {
   "cell_type": "markdown",
   "metadata": {},
   "source": [
    "Create hotel information extraction function."
   ]
  },
  {
   "cell_type": "code",
   "execution_count": 17,
   "metadata": {
    "collapsed": false
   },
   "outputs": [],
   "source": [
    "import json\n",
    "from html.parser import HTMLParser\n",
    "import pandas\n",
    "\n",
    "#Source: http://stackoverflow.com/questions/753052/strip-html-from-strings-in-python\n",
    "class MLStripper(HTMLParser):\n",
    "    def __init__(self):\n",
    "        self.reset()\n",
    "        self.strict = False\n",
    "        self.convert_charrefs= True\n",
    "        self.fed = []\n",
    "    def handle_data(self, d):\n",
    "        self.fed.append(d)\n",
    "    def get_data(self):\n",
    "        return ''.join(self.fed)\n",
    "\n",
    "def strip_tags(html):\n",
    "    s = MLStripper()\n",
    "    s.feed(html)\n",
    "    return s.get_data()\n",
    "\n",
    "def returninfo(data):\n",
    "    infodict = {} # Create info dictionary.\n",
    "    \n",
    "    with open(data) as input_file:\n",
    "        jsondat = json.load(input_file)\n",
    "    \n",
    "    for i in jsondat[\"HotelInfo\"].keys(): # Loop through keys within 'HotelInfo'.\n",
    "        j = strip_tags(jsondat[\"HotelInfo\"][i]) # Strip HTML formatting for each keys record.\n",
    "        infodict[i] = j\n",
    "    \n",
    "    df_content = pandas.DataFrame(infodict, index = [0]) # Convert dictonary to dataframe.\n",
    "\n",
    "    return df_content"
   ]
  },
  {
   "cell_type": "markdown",
   "metadata": {},
   "source": [
    "Apply extraction function to provided json files."
   ]
  },
  {
   "cell_type": "code",
   "execution_count": 18,
   "metadata": {
    "collapsed": true
   },
   "outputs": [],
   "source": [
    "data = [\"data/100506.json\",\n",
    "        \"data/677703.json\",\n",
    "        \"data/1217974.json\"]"
   ]
  },
  {
   "cell_type": "code",
   "execution_count": 19,
   "metadata": {
    "collapsed": false
   },
   "outputs": [
    {
     "data": {
      "text/html": [
       "<div>\n",
       "<table border=\"1\" class=\"dataframe\">\n",
       "  <thead>\n",
       "    <tr style=\"text-align: right;\">\n",
       "      <th></th>\n",
       "      <th>Address</th>\n",
       "      <th>HotelID</th>\n",
       "      <th>HotelURL</th>\n",
       "      <th>ImgURL</th>\n",
       "      <th>Name</th>\n",
       "      <th>Price</th>\n",
       "    </tr>\n",
       "  </thead>\n",
       "  <tbody>\n",
       "    <tr>\n",
       "      <th>0</th>\n",
       "      <td>315 Seneca St., Seattle, WA 98101</td>\n",
       "      <td>100506</td>\n",
       "      <td>/ShowUserReviews-g60878-d100506-Reviews-Hotel_...</td>\n",
       "      <td>http://media-cdn.tripadvisor.com/media/Provide...</td>\n",
       "      <td>Hotel Seattle</td>\n",
       "      <td>$96 - $118*</td>\n",
       "    </tr>\n",
       "  </tbody>\n",
       "</table>\n",
       "</div>"
      ],
      "text/plain": [
       "                                  Address HotelID  \\\n",
       "0    315 Seneca St., Seattle, WA 98101     100506   \n",
       "\n",
       "                                            HotelURL  \\\n",
       "0  /ShowUserReviews-g60878-d100506-Reviews-Hotel_...   \n",
       "\n",
       "                                              ImgURL           Name  \\\n",
       "0  http://media-cdn.tripadvisor.com/media/Provide...  Hotel Seattle   \n",
       "\n",
       "         Price  \n",
       "0  $96 - $118*  "
      ]
     },
     "execution_count": 19,
     "metadata": {},
     "output_type": "execute_result"
    }
   ],
   "source": [
    "returninfo(data[0])"
   ]
  },
  {
   "cell_type": "code",
   "execution_count": 20,
   "metadata": {
    "collapsed": false
   },
   "outputs": [
    {
     "data": {
      "text/html": [
       "<div>\n",
       "<table border=\"1\" class=\"dataframe\">\n",
       "  <thead>\n",
       "    <tr style=\"text-align: right;\">\n",
       "      <th></th>\n",
       "      <th>HotelID</th>\n",
       "      <th>HotelURL</th>\n",
       "      <th>Price</th>\n",
       "    </tr>\n",
       "  </thead>\n",
       "  <tbody>\n",
       "    <tr>\n",
       "      <th>0</th>\n",
       "      <td>677703</td>\n",
       "      <td>http://www.tripadvisor.com/ShowUserReviews-g15...</td>\n",
       "      <td>Unkonwn</td>\n",
       "    </tr>\n",
       "  </tbody>\n",
       "</table>\n",
       "</div>"
      ],
      "text/plain": [
       "  HotelID                                           HotelURL    Price\n",
       "0  677703  http://www.tripadvisor.com/ShowUserReviews-g15...  Unkonwn"
      ]
     },
     "execution_count": 20,
     "metadata": {},
     "output_type": "execute_result"
    }
   ],
   "source": [
    "returninfo(data[1])"
   ]
  },
  {
   "cell_type": "code",
   "execution_count": 21,
   "metadata": {
    "collapsed": false
   },
   "outputs": [
    {
     "data": {
      "text/html": [
       "<div>\n",
       "<table border=\"1\" class=\"dataframe\">\n",
       "  <thead>\n",
       "    <tr style=\"text-align: right;\">\n",
       "      <th></th>\n",
       "      <th>HotelID</th>\n",
       "      <th>HotelURL</th>\n",
       "      <th>Price</th>\n",
       "    </tr>\n",
       "  </thead>\n",
       "  <tbody>\n",
       "    <tr>\n",
       "      <th>0</th>\n",
       "      <td>1217974</td>\n",
       "      <td>http://www.tripadvisor.com/ShowUserReviews-g60...</td>\n",
       "      <td>Unkonwn</td>\n",
       "    </tr>\n",
       "  </tbody>\n",
       "</table>\n",
       "</div>"
      ],
      "text/plain": [
       "   HotelID                                           HotelURL    Price\n",
       "0  1217974  http://www.tripadvisor.com/ShowUserReviews-g60...  Unkonwn"
      ]
     },
     "execution_count": 21,
     "metadata": {},
     "output_type": "execute_result"
    }
   ],
   "source": [
    "returninfo(data[2])"
   ]
  }
 ],
 "metadata": {
  "kernelspec": {
   "display_name": "Python 3",
   "language": "python",
   "name": "python3"
  },
  "language_info": {
   "codemirror_mode": {
    "name": "ipython",
    "version": 3
   },
   "file_extension": ".py",
   "mimetype": "text/x-python",
   "name": "python",
   "nbconvert_exporter": "python",
   "pygments_lexer": "ipython3",
   "version": "3.5.1"
  }
 },
 "nbformat": 4,
 "nbformat_minor": 0
}

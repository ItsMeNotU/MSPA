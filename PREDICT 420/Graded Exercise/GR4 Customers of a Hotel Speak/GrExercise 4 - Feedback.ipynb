{
 "cells": [
  {
   "cell_type": "markdown",
   "metadata": {},
   "source": [
    "### How You Did"
   ]
  },
  {
   "cell_type": "markdown",
   "metadata": {},
   "source": [
    "As a group you did quite well, in fact, pleasingly well. \n",
    "\n",
    "How you completed the different parts of the assignment varied quite a bit, but in most cases the approaches you took were at least satisfactory with respect to what the assignment asked you for.  So, just a few general comments and tips for upcoming assignments, follow."
   ]
  },
  {
   "cell_type": "markdown",
   "metadata": {},
   "source": [
    "### Unstructured and Poorly Structured Data, JSON, and So On"
   ]
  },
  {
   "cell_type": "markdown",
   "metadata": {},
   "source": [
    "As I'm sure you know, a lot of potentially valuable data is in unstructured or poorly structured form.  If you're lucky, data you need to use is in a form that is reasonably easy to parse, like tweets are.  Sometimes it's in json or xml files, but not all such files are \"created equal\" from the standpoint of what you need to do with the data in them.\n",
    "\n",
    "The one or more json files you worked with in this assignment (if you did the Extra Credit part, you may have used a couple) are no exception.  In the larger collection they are from, things vary.  Not all reviews have comments. Date values have varying formats.  Chances are how they are structured reflects how the data was obtained (it was by web scraping) and what the intended uses of it, were.  As many of you may know by personal experience, web scraping frequently entails dealing with markup tags.\n",
    "\n",
    "In case you didn't get a moment to take a peak, here's the link to the page that what's in the 100506.json file was obtained from.  Note that that results have been updated since the data scraping. Many more ratings:\n",
    "\n",
    "http://www.tripadvisor.com/ShowUserReviews-g60878-d100506-r21086254-Hotel_Seattle-Seattle_Washington.html\n",
    "\n",
    "Ranked 96 out of 99 Seattle Hotels!\n",
    "\n",
    "I hope you enjoyed reading the comments.\n"
   ]
  },
  {
   "cell_type": "markdown",
   "metadata": {},
   "source": [
    "### Those Things You Did"
   ]
  },
  {
   "cell_type": "markdown",
   "metadata": {},
   "source": [
    "Just a few simple things, here.\n",
    "\n",
    "Some of you elected to process the reviews in the Reviews list of dicts manually by looping through them and flattening the the embedded Ratings dict.  Others discovered pandas.io.json.json_normalize(), which can work pretty well for many simple applications, and given that you don't mind having to fix up what can be some ugly column names.  Either approach, looping or json_normalize(), was fine for this assignment.\n",
    "\n",
    "Many changed the type of the Ratings measures one column at a time using a statement for each column.  You can change the type (\"cast\") of multiple columns of a DataFrame with a single statement like df.astype(float), where df is DataFrame whose columns are to be cast as floating.\n",
    "\n",
    "You can apply methods like .mean() to an entire DataFrame as well to get results for each column.  Note that most methods have options that can determine how missing values should be treated.  Some have ways to  determine which columns to process based on data type.\n",
    "\n",
    "Many of you used the .describe() method to get mean, min, and max. Note that this method produces a DataFrame that you can manipulate.  You can, for example, select results from it.\n",
    "\n",
    "Those who did the extra credit part elected to use different approaches for getting rid of the html tags in the hotel information.  Some used the BeautifulSoup package, and others, regexs. \n",
    "\n",
    "Most of you who did the Extra Credit part provided a solution that would automatically read an arbitrary large number of json files and process them.  That the solution should entail automatic processing was at least implied by the assignment description, and it was mentioned in the Huddle.  Note that with a large enough number of hotel files the processing approach might need to take into account in memory processing limitations.  With enough files, it might be necessary to sequentially input, process, and write out to storage, the hotel data.\n"
   ]
  },
  {
   "cell_type": "markdown",
   "metadata": {},
   "source": [
    "### Simplicity, Sparseness, and No Unecessary Code"
   ]
  },
  {
   "cell_type": "markdown",
   "metadata": {},
   "source": [
    "Here are a couple of pointers on doing the remaining graded assignments.\n",
    "\n",
    "First, only do what an assignment asks, and not more.  Try not to include extraneous code.\n",
    "\n",
    "Second, explain what each statement you use, does.\n",
    "\n",
    "Thirdly, embed results of your code with your code, rather than providing a (long) list of statements, followed by output produced.  If you need to abbreviate your output to stay within the allowed number of pages, just be sure that you provide enough of it that it's clear that your code actually worked. \n",
    "\n",
    "Good python practice emphasizes readability in the interest of maintainability, by you and by others who might need to understand and use your code.  Try not to smoosh statements, results, etc., tightly together. "
   ]
  },
  {
   "cell_type": "markdown",
   "metadata": {
    "collapsed": true
   },
   "source": [
    "### What Would Be More Interesting?"
   ]
  },
  {
   "cell_type": "markdown",
   "metadata": {},
   "source": [
    "At the end of the term (during the 10th week) I'll ask you want might make the assignments you've done more interesting and useful.  Your suggestions will be taken into account as the assignments for next term are finalized."
   ]
  }
 ],
 "metadata": {
  "kernelspec": {
   "display_name": "Python 2",
   "language": "python",
   "name": "python2"
  },
  "language_info": {
   "codemirror_mode": {
    "name": "ipython",
    "version": 2
   },
   "file_extension": ".py",
   "mimetype": "text/x-python",
   "name": "python",
   "nbconvert_exporter": "python",
   "pygments_lexer": "ipython2",
   "version": "2.7.11"
  }
 },
 "nbformat": 4,
 "nbformat_minor": 0
}

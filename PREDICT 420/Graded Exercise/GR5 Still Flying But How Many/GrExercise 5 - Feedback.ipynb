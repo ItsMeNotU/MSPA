{
 "cells": [
  {
   "cell_type": "markdown",
   "metadata": {},
   "source": [
    "Nice effort, all and all, on using gnarly data to satisfy some challenging objectives.  A few general comments follow."
   ]
  },
  {
   "cell_type": "markdown",
   "metadata": {},
   "source": [
    "### Departures and Arrivals"
   ]
  },
  {
   "cell_type": "markdown",
   "metadata": {},
   "source": [
    "As most of you concluded eventually determined, it wasn't posssible to do all of what items 1 and 2 asked.  The reason is that no arrivals data is provided in the data file for the airports LAX, SFO, ATL, MIA, or JFK. That is, there are no records showing these airport codes in the DestApt field. \n",
    "\n",
    "In fact, the data were in general not completely adequate for completing all assignment requirements.  As many of you know I'm sure, it's not unusual for the data at hand to be insufficient.  In fact, that's usually the case.  Or, the available documentation may be inadequate.\n",
    "\n",
    "In case you're interested, the \"WAC\" in a couple of variable names refers to world area code.\n",
    "\n",
    "There are (not surprisingly) a couple of different ways you could have answers the departure parts of 1. and 2 for each of the five airports.  An easy way would be to extract the records for each airport from the larger data set, one at a time.  Then, for each one, determine the numbers of departures and arrivals (0, for these airports), the largest carriers, and so on.  Or, taking a somewhat more complex approach, you could loop over the data for the airports in some to generate the results for them.  A variation on this would be to write a couple of simple functions that you then applied to the data of reach of the airports."
   ]
  },
  {
   "cell_type": "markdown",
   "metadata": {},
   "source": [
    "### The FAA data "
   ]
  },
  {
   "cell_type": "markdown",
   "metadata": {},
   "source": [
    "One of the \"information gaps\" in the data and documentation provided was that the codes for incidents and acccidents in the data are numeric, while they are alpha letters in the AIDCODES.DOC file.  Some of you assumed that the numeric codes indexed the alpha codes.  To be certain of this you'd have needed to have consulted additional documentation of some sort."
   ]
  },
  {
   "cell_type": "markdown",
   "metadata": {},
   "source": [
    "### Commas in Numeric Values"
   ]
  },
  {
   "cell_type": "markdown",
   "metadata": {},
   "source": [
    "To deal with those pesky commas in quantities in the USDOT data, a few of you used the 'thousands' option of pd.read_csv() to .  Others stripped them out value by value by looping.  As an alternative, you could use a function that you apply to columns."
   ]
  },
  {
   "cell_type": "code",
   "execution_count": null,
   "metadata": {
    "collapsed": true
   },
   "outputs": [],
   "source": []
  }
 ],
 "metadata": {
  "kernelspec": {
   "display_name": "Python 3",
   "language": "python",
   "name": "python3"
  },
  "language_info": {
   "codemirror_mode": {
    "name": "ipython",
    "version": 3
   },
   "file_extension": ".py",
   "mimetype": "text/x-python",
   "name": "python",
   "nbconvert_exporter": "python",
   "pygments_lexer": "ipython3",
   "version": "3.4.4"
  }
 },
 "nbformat": 4,
 "nbformat_minor": 0
}

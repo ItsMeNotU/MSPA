{
 "cells": [
  {
   "cell_type": "markdown",
   "metadata": {
    "collapsed": true
   },
   "source": [
    "#MSPA PREDICT 420"
   ]
  },
  {
   "cell_type": "markdown",
   "metadata": {},
   "source": [
    "##Graded Exercise 3: Creating Assets"
   ]
  },
  {
   "cell_type": "markdown",
   "metadata": {},
   "source": [
    "###Introduction"
   ]
  },
  {
   "cell_type": "markdown",
   "metadata": {},
   "source": [
    "This document presents the results of the third graded exercise for the Masters of Science in Predictive Analytics course: PREDICT 420. This assessment required the student to create two data \"assets\" for use by XYZ company, create a relational database for these assets, and create a \"flat\" file with selected customers and variables."
   ]
  },
  {
   "cell_type": "markdown",
   "metadata": {},
   "source": [
    "###Assessment"
   ]
  },
  {
   "cell_type": "markdown",
   "metadata": {},
   "source": [
    "####0. Accessing Postgres Server on the SSCC"
   ]
  },
  {
   "cell_type": "markdown",
   "metadata": {},
   "source": [
    "Login to dornick.it"
   ]
  },
  {
   "cell_type": "code",
   "execution_count": 1,
   "metadata": {
    "collapsed": true
   },
   "outputs": [],
   "source": [
    "#\\ssh -YC xxx@dornick.it.northwestern.edu"
   ]
  },
  {
   "cell_type": "markdown",
   "metadata": {},
   "source": [
    "Login to Postgres server and connect to XYZ"
   ]
  },
  {
   "cell_type": "code",
   "execution_count": 2,
   "metadata": {
    "collapsed": true
   },
   "outputs": [],
   "source": [
    "#psql -h 129.105.208.226 -U xxx -d postgres\n",
    "#\\c xyz"
   ]
  },
  {
   "cell_type": "markdown",
   "metadata": {},
   "source": [
    "Create temp view of item, mail and customer tables and copy to csv"
   ]
  },
  {
   "cell_type": "code",
   "execution_count": 3,
   "metadata": {
    "collapsed": true
   },
   "outputs": [],
   "source": [
    "#CREATE TEMP VIEW dgb2583item as SELECT * FROM pilot.item;\n",
    "#\\copy (SELECT * FROM dgb2583item) TO 'item.csv' WITH DELIMITER ',' NULL AS '\\null' CSV HEADER\n",
    "\n",
    "#CREATE TEMP VIEW dgb2583mail as SELECT * FROM pilot.mail;\n",
    "#\\copy (SELECT * FROM dgb2583mail) TO 'mail.csv' WITH DELIMITER ',' NULL AS '\\null' CSV HEADER\n",
    "\n",
    "#CREATE TEMP VIEW dgb2583customer as SELECT * FROM pilot.customer;\n",
    "#\\copy (SELECT * FROM dgb2583customer) TO 'customer.csv' WITH DELIMITER ',' NULL AS '\\null' CSV HEADER"
   ]
  },
  {
   "cell_type": "markdown",
   "metadata": {},
   "source": [
    "####1. Loading the Data"
   ]
  },
  {
   "cell_type": "markdown",
   "metadata": {},
   "source": [
    "Load datasets into pandas dataframes."
   ]
  },
  {
   "cell_type": "code",
   "execution_count": 4,
   "metadata": {
    "collapsed": false
   },
   "outputs": [
    {
     "name": "stderr",
     "output_type": "stream",
     "text": [
      "C:\\Users\\darry\\Anaconda3\\lib\\site-packages\\IPython\\core\\interactiveshell.py:2902: DtypeWarning: Columns (172) have mixed types. Specify dtype option on import or set low_memory=False.\n",
      "  interactivity=interactivity, compiler=compiler, result=result)\n"
     ]
    }
   ],
   "source": [
    "import pandas as pd    \n",
    "\n",
    "df_customer = pd.read_csv(\"data/customer.csv\") # Blanks with string if desired, na_values = \"N.A.\"\n",
    "df_item = pd.read_csv(\"data/item.csv\")\n",
    "df_mail = pd.read_csv(\"data/mail.csv\")"
   ]
  },
  {
   "cell_type": "markdown",
   "metadata": {},
   "source": [
    "####2. Remove Duplicate Records"
   ]
  },
  {
   "cell_type": "markdown",
   "metadata": {},
   "source": [
    "Find duplicate records within the 'customer' dataframe."
   ]
  },
  {
   "cell_type": "code",
   "execution_count": 5,
   "metadata": {
    "collapsed": false
   },
   "outputs": [
    {
     "name": "stdout",
     "output_type": "stream",
     "text": [
      "Duplicate customer records: 0\n"
     ]
    }
   ],
   "source": [
    "df_customer[\"Duplicate\"] = df_customer.duplicated([\"acctno\"])\n",
    "print(\"Duplicate customer records:\", len(df_customer[df_customer.Duplicate == True]))"
   ]
  },
  {
   "cell_type": "markdown",
   "metadata": {},
   "source": [
    "####3. Check Customer Record Consistency in Item/Mail Dataframes"
   ]
  },
  {
   "cell_type": "markdown",
   "metadata": {
    "collapsed": false
   },
   "source": [
    "Find 'acctno' records within the 'item' dataframe which do not appear as 'acctno' records within the 'customer' dataframe."
   ]
  },
  {
   "cell_type": "code",
   "execution_count": 6,
   "metadata": {
    "collapsed": false
   },
   "outputs": [
    {
     "name": "stdout",
     "output_type": "stream",
     "text": [
      "Number of item records with no customer: 0\n"
     ]
    }
   ],
   "source": [
    "df_item[\"Matched\"] = df_item[\"acctno\"].isin(df_customer[\"acctno\"])\n",
    "print(\"Number of item records with no customer:\", len(df_item[df_item.Matched == False]))"
   ]
  },
  {
   "cell_type": "markdown",
   "metadata": {},
   "source": [
    "Find 'acctno' records within the 'mail' dataframe which do not appear as 'acctno' records within the 'customer' dataframe."
   ]
  },
  {
   "cell_type": "code",
   "execution_count": 7,
   "metadata": {
    "collapsed": false
   },
   "outputs": [
    {
     "name": "stdout",
     "output_type": "stream",
     "text": [
      "Number of mail records with no customer: 0\n"
     ]
    }
   ],
   "source": [
    "df_mail[\"Matched\"] = df_mail[\"acctno\"].isin(df_customer[\"acctno\"])\n",
    "print(\"Number of mail records with no customer:\", len(df_mail[df_mail.Matched == False]))"
   ]
  },
  {
   "cell_type": "markdown",
   "metadata": {
    "collapsed": false
   },
   "source": [
    "####4. Create SQLite Database and Write Data"
   ]
  },
  {
   "cell_type": "code",
   "execution_count": 8,
   "metadata": {
    "collapsed": false
   },
   "outputs": [],
   "source": [
    "import itertools, pandas, pandas.io.sql, sqlite3\n",
    "\n",
    "conn = sqlite3.connect(\"data/db_pilot.db\") # Create SQLite database/connection\n",
    "\n",
    "list_df = [df_customer, df_item, df_mail]\n",
    "list_tbl = [\"customer\", \"item\", \"mail\"]\n",
    "\n",
    "for d, t in zip(list_df, list_tbl): # Loop through each dataframe\n",
    "    dropQuery = \"DROP TABLE IF EXISTS \" + str(t) # Drop table if already exists in database\n",
    "    conn.execute(dropQuery).fetchone()\n",
    "    pandas.io.sql.to_sql(d, t, conn)\n",
    "    selQuery = \"SELECT * FROM \" + str(t) # Import dataframe into database\n",
    "    conn.execute(selQuery).fetchone()\n",
    "\n",
    "conn.close() # Close SQLite database connection"
   ]
  },
  {
   "cell_type": "markdown",
   "metadata": {},
   "source": [
    "####5. Count Records within each SQLite Database Table"
   ]
  },
  {
   "cell_type": "code",
   "execution_count": 9,
   "metadata": {
    "collapsed": false
   },
   "outputs": [
    {
     "data": {
      "text/html": [
       "<div>\n",
       "<table border=\"1\" class=\"dataframe\">\n",
       "  <thead>\n",
       "    <tr style=\"text-align: right;\">\n",
       "      <th></th>\n",
       "      <th>Table Name</th>\n",
       "      <th>Column Count</th>\n",
       "      <th>Row (Record) Count</th>\n",
       "      <th>Cell Count</th>\n",
       "    </tr>\n",
       "  </thead>\n",
       "  <tbody>\n",
       "    <tr>\n",
       "      <th>0</th>\n",
       "      <td>customer</td>\n",
       "      <td>453</td>\n",
       "      <td>50000</td>\n",
       "      <td>22650000</td>\n",
       "    </tr>\n",
       "    <tr>\n",
       "      <th>1</th>\n",
       "      <td>item</td>\n",
       "      <td>10</td>\n",
       "      <td>77121</td>\n",
       "      <td>771210</td>\n",
       "    </tr>\n",
       "    <tr>\n",
       "      <th>2</th>\n",
       "      <td>mail</td>\n",
       "      <td>19</td>\n",
       "      <td>30946</td>\n",
       "      <td>587974</td>\n",
       "    </tr>\n",
       "  </tbody>\n",
       "</table>\n",
       "</div>"
      ],
      "text/plain": [
       "  Table Name  Column Count  Row (Record) Count  Cell Count\n",
       "0   customer           453               50000    22650000\n",
       "1       item            10               77121      771210\n",
       "2       mail            19               30946      587974"
      ]
     },
     "execution_count": 9,
     "metadata": {},
     "output_type": "execute_result"
    }
   ],
   "source": [
    "import pandas, sqlite3\n",
    "\n",
    "conn = sqlite3.connect(\"data/db_pilot.db\") # Create SQLite database/connection\n",
    "curs = conn.cursor()\n",
    "\n",
    "tblQuery = \"SELECT name FROM sqlite_master WHERE type = 'table' ORDER BY Name\" # Select all table query\n",
    "curs.execute(tblQuery) # Execute select all table query\n",
    "tables = map(lambda t: t[0], curs.fetchall()) # Fetch list of tables\n",
    "\n",
    "totalColumns, totalRows, totalCells = 0, 0, 0\n",
    "resultcols = [\"Table Name\", \"Column Count\", \"Row (Record) Count\", \"Cell Count\"]\n",
    "\n",
    "results_df = pd.DataFrame([])\n",
    "\n",
    "for table in tables:        \n",
    "    columnsQuery = \"PRAGMA table_info(%s)\" % table # SQLite table info query\n",
    "    curs.execute(columnsQuery)\n",
    "    numberOfColumns = len(curs.fetchall()) # Return column count\n",
    "    rowsQuery = \"SELECT Count() FROM %s\" % table # Row count query\n",
    "    curs.execute(rowsQuery)\n",
    "    numberOfRows = curs.fetchone()[0] # Return row count\n",
    "    numberOfCells = numberOfColumns * numberOfRows # Derive cell count\n",
    "    temp_df = pandas.DataFrame([[table, numberOfColumns, numberOfRows, numberOfCells]], columns = resultcols)\n",
    "    results_df = results_df.append(temp_df)\n",
    "\n",
    "curs.close()\n",
    "conn.close()\n",
    "\n",
    "results_df.reset_index().drop(\"index\", 1)"
   ]
  },
  {
   "cell_type": "markdown",
   "metadata": {},
   "source": [
    "####6. Create XYZ Direct Mail Marketing Dataframe"
   ]
  },
  {
   "cell_type": "markdown",
   "metadata": {},
   "source": [
    "Create 'drop table' queries for each table."
   ]
  },
  {
   "cell_type": "code",
   "execution_count": 10,
   "metadata": {
    "collapsed": true
   },
   "outputs": [],
   "source": [
    "droptempmailQuery = \"DROP TABLE IF EXISTS tempmail\"\n",
    "droptempcustQuery = \"DROP TABLE IF EXISTS tempcustomer\"\n",
    "droptempcampQuery = \"DROP TABLE IF EXISTS campaign\""
   ]
  },
  {
   "cell_type": "markdown",
   "metadata": {},
   "source": [
    "Query to create temporary mail table which includes sum of all mail fields."
   ]
  },
  {
   "cell_type": "code",
   "execution_count": 11,
   "metadata": {
    "collapsed": true
   },
   "outputs": [],
   "source": [
    "tempmailQuery = \"\"\"\n",
    "CREATE TABLE tempmail AS\n",
    "SELECT acctno,\n",
    "       (mail.mail_1 + mail.mail_2 + mail.mail_3 + mail.mail_4 + mail.mail_5 +\n",
    "       mail.mail_6 + mail.mail_7 + mail.mail_8 + mail.mail_9 + mail.mail_10 +\n",
    "       mail.mail_11 + mail.mail_12 + mail.mail_13 + mail.mail_14 + mail.mail_15 +\n",
    "       mail.mail_16) AS mail_total\n",
    "FROM mail\n",
    "\"\"\""
   ]
  },
  {
   "cell_type": "markdown",
   "metadata": {},
   "source": [
    "Query to create temporary customer table which includes numeric 'zhomeent' and 'zmobav' fields."
   ]
  },
  {
   "cell_type": "code",
   "execution_count": 12,
   "metadata": {
    "collapsed": true
   },
   "outputs": [],
   "source": [
    "tempcustQuery = \"\"\"\n",
    "CREATE TABLE tempcustomer AS\n",
    "SELECT acctno, \n",
    "       ytd_sales_2009,\n",
    "       ytd_transactions_2009,\n",
    "       zhomeent, \n",
    "       CASE zhomeent WHEN \"Y\" THEN 1 ELSE 0 END AS zhomeent01, \n",
    "       zmobav, \n",
    "       CASE zmobav WHEN \"Y\" THEN 1 ELSE 0 END AS zmobav01\n",
    "FROM customer\n",
    "\"\"\""
   ]
  },
  {
   "cell_type": "markdown",
   "metadata": {},
   "source": [
    "Query to create campaign table which includes fields from above tables, joined by account number."
   ]
  },
  {
   "cell_type": "code",
   "execution_count": 13,
   "metadata": {
    "collapsed": true
   },
   "outputs": [],
   "source": [
    "campQuery = \"\"\"\n",
    "CREATE TABLE campaign AS\n",
    "SELECT tempmail.acctno AS acctno, \n",
    "       tempmail.mail_total AS mailCampaigns, \n",
    "       tempcustomer.ytd_sales_2009 AS YTD09transSum, \n",
    "       tempcustomer.ytd_transactions_2009 AS YTD09salesSum, \n",
    "       tempcustomer.zhomeent AS ZHOMEENT,\n",
    "       tempcustomer.zhomeent01 AS ZHOMEENT01,\n",
    "       tempcustomer.zmobav AS ZMOBAV,\n",
    "       tempcustomer.zmobav01 AS ZMOBAV01\n",
    "FROM tempmail\n",
    "JOIN tempcustomer ON tempcustomer.acctno = tempmail.acctno\n",
    "WHERE tempmail.mail_total >= 5\n",
    "GROUP BY tempmail.acctno\n",
    "\"\"\""
   ]
  },
  {
   "cell_type": "markdown",
   "metadata": {},
   "source": [
    "Run each query and export created campaign table as csv file."
   ]
  },
  {
   "cell_type": "code",
   "execution_count": 14,
   "metadata": {
    "collapsed": false,
    "scrolled": true
   },
   "outputs": [],
   "source": [
    "#Note: SQLite does not support SELECT INTO\n",
    "import pandas, sqlite3\n",
    "\n",
    "conn = sqlite3.connect(\"data/db_pilot.db\") # Create SQLite database/connection\n",
    "curs = conn.cursor()\n",
    "\n",
    "temp = conn.execute(droptempmailQuery) # drop tempmail if exists\n",
    "temp = conn.execute(droptempcustQuery) # drop tempcustomer if exists\n",
    "temp = conn.execute(droptempcampQuery) # drop campaign if exists\n",
    "\n",
    "temp = conn.execute(tempmailQuery) # create tempmail\n",
    "temp = conn.execute(tempcustQuery) # create tempcustomer\n",
    "\n",
    "temp = conn.execute(campQuery) # create campaign\n",
    "\n",
    "exp_df =  pandas.io.sql.read_sql(\"SELECT * FROM campaign\", conn)\n",
    "if \"index\" in exp_df:\n",
    "    exp_df = exp_df.drop(\"index\", 1)\n",
    "    \n",
    "exp_file = \"data/campaign.csv\"\n",
    "exp_df.to_csv(exp_file, index = False)\n",
    "\n",
    "curs.close()\n",
    "conn.close()"
   ]
  },
  {
   "cell_type": "markdown",
   "metadata": {},
   "source": [
    "####7. Confirm Campaign Output"
   ]
  },
  {
   "cell_type": "markdown",
   "metadata": {},
   "source": [
    "Load dataset into pandas dataframes."
   ]
  },
  {
   "cell_type": "code",
   "execution_count": 15,
   "metadata": {
    "collapsed": false
   },
   "outputs": [],
   "source": [
    "import pandas as pd    \n",
    "\n",
    "df_campaign = pd.read_csv(\"data/campaign.csv\")"
   ]
  },
  {
   "cell_type": "markdown",
   "metadata": {},
   "source": [
    "Print last five records of dataframe."
   ]
  },
  {
   "cell_type": "code",
   "execution_count": 16,
   "metadata": {
    "collapsed": false
   },
   "outputs": [
    {
     "data": {
      "text/html": [
       "<div>\n",
       "<table border=\"1\" class=\"dataframe\">\n",
       "  <thead>\n",
       "    <tr style=\"text-align: right;\">\n",
       "      <th></th>\n",
       "      <th>acctno</th>\n",
       "      <th>mailCampaigns</th>\n",
       "      <th>YTD09transSum</th>\n",
       "      <th>YTD09salesSum</th>\n",
       "      <th>ZHOMEENT</th>\n",
       "      <th>ZHOMEENT01</th>\n",
       "      <th>ZMOBAV</th>\n",
       "      <th>ZMOBAV01</th>\n",
       "    </tr>\n",
       "  </thead>\n",
       "  <tbody>\n",
       "    <tr>\n",
       "      <th>11387</th>\n",
       "      <td>YYWSAQLL</td>\n",
       "      <td>7</td>\n",
       "      <td>336</td>\n",
       "      <td>1</td>\n",
       "      <td>U</td>\n",
       "      <td>0</td>\n",
       "      <td>U</td>\n",
       "      <td>0</td>\n",
       "    </tr>\n",
       "    <tr>\n",
       "      <th>11388</th>\n",
       "      <td>YYYGSWDG</td>\n",
       "      <td>11</td>\n",
       "      <td>801</td>\n",
       "      <td>1</td>\n",
       "      <td>U</td>\n",
       "      <td>0</td>\n",
       "      <td>U</td>\n",
       "      <td>0</td>\n",
       "    </tr>\n",
       "    <tr>\n",
       "      <th>11389</th>\n",
       "      <td>YYYHGQYW</td>\n",
       "      <td>10</td>\n",
       "      <td>0</td>\n",
       "      <td>0</td>\n",
       "      <td>U</td>\n",
       "      <td>0</td>\n",
       "      <td>U</td>\n",
       "      <td>0</td>\n",
       "    </tr>\n",
       "    <tr>\n",
       "      <th>11390</th>\n",
       "      <td>YYYWSGGA</td>\n",
       "      <td>8</td>\n",
       "      <td>249</td>\n",
       "      <td>1</td>\n",
       "      <td>U</td>\n",
       "      <td>0</td>\n",
       "      <td>U</td>\n",
       "      <td>0</td>\n",
       "    </tr>\n",
       "    <tr>\n",
       "      <th>11391</th>\n",
       "      <td>YYYWYPDH</td>\n",
       "      <td>5</td>\n",
       "      <td>0</td>\n",
       "      <td>0</td>\n",
       "      <td>U</td>\n",
       "      <td>0</td>\n",
       "      <td>U</td>\n",
       "      <td>0</td>\n",
       "    </tr>\n",
       "  </tbody>\n",
       "</table>\n",
       "</div>"
      ],
      "text/plain": [
       "         acctno  mailCampaigns  YTD09transSum  YTD09salesSum ZHOMEENT  \\\n",
       "11387  YYWSAQLL              7            336              1        U   \n",
       "11388  YYYGSWDG             11            801              1        U   \n",
       "11389  YYYHGQYW             10              0              0        U   \n",
       "11390  YYYWSGGA              8            249              1        U   \n",
       "11391  YYYWYPDH              5              0              0        U   \n",
       "\n",
       "       ZHOMEENT01 ZMOBAV  ZMOBAV01  \n",
       "11387           0      U         0  \n",
       "11388           0      U         0  \n",
       "11389           0      U         0  \n",
       "11390           0      U         0  \n",
       "11391           0      U         0  "
      ]
     },
     "execution_count": 16,
     "metadata": {},
     "output_type": "execute_result"
    }
   ],
   "source": [
    "df_campaign[-5:]"
   ]
  },
  {
   "cell_type": "markdown",
   "metadata": {},
   "source": [
    "Count number of records within dataframe."
   ]
  },
  {
   "cell_type": "code",
   "execution_count": 17,
   "metadata": {
    "collapsed": false
   },
   "outputs": [
    {
     "name": "stdout",
     "output_type": "stream",
     "text": [
      "Number of records within campaign dataframe: 11392\n"
     ]
    }
   ],
   "source": [
    "print(\"Number of records within campaign dataframe:\", len(df_campaign))"
   ]
  },
  {
   "cell_type": "markdown",
   "metadata": {},
   "source": [
    "Confirm recoding for 'ZHOMEENT' and 'ZMOBAV' fields."
   ]
  },
  {
   "cell_type": "code",
   "execution_count": 18,
   "metadata": {
    "collapsed": false
   },
   "outputs": [
    {
     "data": {
      "text/html": [
       "<div>\n",
       "<table border=\"1\" class=\"dataframe\">\n",
       "  <thead>\n",
       "    <tr style=\"text-align: right;\">\n",
       "      <th>ZHOMEENT01</th>\n",
       "      <th>0</th>\n",
       "      <th>1</th>\n",
       "      <th>All</th>\n",
       "    </tr>\n",
       "    <tr>\n",
       "      <th>ZHOMEENT</th>\n",
       "      <th></th>\n",
       "      <th></th>\n",
       "      <th></th>\n",
       "    </tr>\n",
       "  </thead>\n",
       "  <tbody>\n",
       "    <tr>\n",
       "      <th>U</th>\n",
       "      <td>8586</td>\n",
       "      <td>0</td>\n",
       "      <td>8586</td>\n",
       "    </tr>\n",
       "    <tr>\n",
       "      <th>Y</th>\n",
       "      <td>0</td>\n",
       "      <td>1909</td>\n",
       "      <td>1909</td>\n",
       "    </tr>\n",
       "    <tr>\n",
       "      <th>All</th>\n",
       "      <td>9483</td>\n",
       "      <td>1909</td>\n",
       "      <td>11392</td>\n",
       "    </tr>\n",
       "  </tbody>\n",
       "</table>\n",
       "</div>"
      ],
      "text/plain": [
       "ZHOMEENT01     0     1    All\n",
       "ZHOMEENT                     \n",
       "U           8586     0   8586\n",
       "Y              0  1909   1909\n",
       "All         9483  1909  11392"
      ]
     },
     "execution_count": 18,
     "metadata": {},
     "output_type": "execute_result"
    }
   ],
   "source": [
    "import pandas as pd\n",
    "\n",
    "pd.crosstab(df_campaign.ZHOMEENT, df_campaign.ZHOMEENT01, margins = True) # Blanks filled with NaN"
   ]
  },
  {
   "cell_type": "code",
   "execution_count": 19,
   "metadata": {
    "collapsed": false
   },
   "outputs": [
    {
     "data": {
      "text/html": [
       "<div>\n",
       "<table border=\"1\" class=\"dataframe\">\n",
       "  <thead>\n",
       "    <tr style=\"text-align: right;\">\n",
       "      <th>ZMOBAV01</th>\n",
       "      <th>0</th>\n",
       "      <th>1</th>\n",
       "      <th>All</th>\n",
       "    </tr>\n",
       "    <tr>\n",
       "      <th>ZMOBAV</th>\n",
       "      <th></th>\n",
       "      <th></th>\n",
       "      <th></th>\n",
       "    </tr>\n",
       "  </thead>\n",
       "  <tbody>\n",
       "    <tr>\n",
       "      <th>U</th>\n",
       "      <td>10166</td>\n",
       "      <td>0</td>\n",
       "      <td>10166</td>\n",
       "    </tr>\n",
       "    <tr>\n",
       "      <th>Y</th>\n",
       "      <td>0</td>\n",
       "      <td>329</td>\n",
       "      <td>329</td>\n",
       "    </tr>\n",
       "    <tr>\n",
       "      <th>All</th>\n",
       "      <td>11063</td>\n",
       "      <td>329</td>\n",
       "      <td>11392</td>\n",
       "    </tr>\n",
       "  </tbody>\n",
       "</table>\n",
       "</div>"
      ],
      "text/plain": [
       "ZMOBAV01      0    1    All\n",
       "ZMOBAV                     \n",
       "U         10166    0  10166\n",
       "Y             0  329    329\n",
       "All       11063  329  11392"
      ]
     },
     "execution_count": 19,
     "metadata": {},
     "output_type": "execute_result"
    }
   ],
   "source": [
    "import pandas as pd\n",
    "\n",
    "pd.crosstab(df_campaign.ZMOBAV, df_campaign.ZMOBAV01, margins = True) # Blanks filled with NaN"
   ]
  },
  {
   "cell_type": "markdown",
   "metadata": {},
   "source": [
    "Pickle final dataframe."
   ]
  },
  {
   "cell_type": "code",
   "execution_count": 20,
   "metadata": {
    "collapsed": true
   },
   "outputs": [],
   "source": [
    "import pickle\n",
    "\n",
    "df_campaign.to_pickle(\"data/campaign.p\")"
   ]
  }
 ],
 "metadata": {
  "kernelspec": {
   "display_name": "Python 3",
   "language": "python",
   "name": "python3"
  },
  "language_info": {
   "codemirror_mode": {
    "name": "ipython",
    "version": 3
   },
   "file_extension": ".py",
   "mimetype": "text/x-python",
   "name": "python",
   "nbconvert_exporter": "python",
   "pygments_lexer": "ipython3",
   "version": "3.5.1"
  }
 },
 "nbformat": 4,
 "nbformat_minor": 0
}

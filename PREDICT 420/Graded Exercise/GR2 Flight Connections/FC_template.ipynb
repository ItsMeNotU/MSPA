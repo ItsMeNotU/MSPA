{
 "cells": [
  {
   "cell_type": "markdown",
   "metadata": {
    "collapsed": true
   },
   "source": [
    "#MSPA PREDICT 420"
   ]
  },
  {
   "cell_type": "markdown",
   "metadata": {},
   "source": [
    "##Graded Exercise 2: Flight Connections"
   ]
  },
  {
   "cell_type": "markdown",
   "metadata": {},
   "source": [
    "###Introduction"
   ]
  },
  {
   "cell_type": "markdown",
   "metadata": {},
   "source": [
    "This document presents the results of the second graded exercise for the Masters of Science in Predictive Analytics course: PREDICT 420. This assessment required the student to perform some data wrangling exercises on airline/flight data retrieved from [OpenFlights.org](http://www.openflights.org)."
   ]
  },
  {
   "cell_type": "markdown",
   "metadata": {},
   "source": [
    "###Assessment"
   ]
  },
  {
   "cell_type": "markdown",
   "metadata": {},
   "source": [
    "####1. Loading the Data"
   ]
  },
  {
   "cell_type": "markdown",
   "metadata": {},
   "source": [
    "Load datasets into pandas dataframes."
   ]
  },
  {
   "cell_type": "code",
   "execution_count": 1,
   "metadata": {
    "collapsed": false
   },
   "outputs": [],
   "source": [
    "import pandas as pd\n",
    "import pickle\n",
    "\n",
    "df_airlines = pd.read_pickle(\"data/airlines.p\")\n",
    "df_airports = pd.read_pickle(\"data/airports.p\")\n",
    "df_routes = pd.read_pickle(\"data/routes.p\")"
   ]
  },
  {
   "cell_type": "markdown",
   "metadata": {},
   "source": [
    "####2. Remove Duplicate Records"
   ]
  },
  {
   "cell_type": "markdown",
   "metadata": {
    "collapsed": false
   },
   "source": [
    "Find duplicate records within the 'airlines' dataframe."
   ]
  },
  {
   "cell_type": "code",
   "execution_count": 2,
   "metadata": {
    "collapsed": false
   },
   "outputs": [],
   "source": [
    "#Duplicate airline records: 1\n",
    "df_airlines['Duplicate'] = df_airlines.duplicated([\"airlName\",\n",
    "                                                   \"airlIATA\",\n",
    "                                                   \"airlICAO\"])"
   ]
  },
  {
   "cell_type": "markdown",
   "metadata": {},
   "source": [
    "Count the number of duplicate records within the 'airlines' dataframe."
   ]
  },
  {
   "cell_type": "code",
   "execution_count": 3,
   "metadata": {
    "collapsed": false
   },
   "outputs": [
    {
     "name": "stdout",
     "output_type": "stream",
     "text": [
      "Duplicate airline records: 1\n"
     ]
    }
   ],
   "source": [
    "duplicate_airlines_count = len(df_airlines[df_airlines.Duplicate == True])\n",
    "print(\"Duplicate airline records:\", duplicate_airlines_count)"
   ]
  },
  {
   "cell_type": "markdown",
   "metadata": {},
   "source": [
    "Find duplicate records within the 'airports' dataframe."
   ]
  },
  {
   "cell_type": "code",
   "execution_count": 4,
   "metadata": {
    "collapsed": false
   },
   "outputs": [],
   "source": [
    "#Duplicate airports records: 54\n",
    "df_airports[\"Duplicate\"] = df_airports.duplicated([\"airpName\",\n",
    "                                                   \"airpCity\",\n",
    "                                                   \"airpCountry\",\n",
    "                                                   \"airpIATAFAA\",\n",
    "                                                   \"airpICAO\"])"
   ]
  },
  {
   "cell_type": "markdown",
   "metadata": {},
   "source": [
    "Count the number of duplicate records within the 'airports' dataframe."
   ]
  },
  {
   "cell_type": "code",
   "execution_count": 5,
   "metadata": {
    "collapsed": false
   },
   "outputs": [
    {
     "name": "stdout",
     "output_type": "stream",
     "text": [
      "Duplicate airports records: 54\n"
     ]
    }
   ],
   "source": [
    "duplicate_airports_count = len(df_airports[df_airports.Duplicate == True])\n",
    "print(\"Duplicate airports records:\", duplicate_airports_count)"
   ]
  },
  {
   "cell_type": "markdown",
   "metadata": {},
   "source": [
    "Find duplicate records within the 'routes' dataframe."
   ]
  },
  {
   "cell_type": "code",
   "execution_count": 6,
   "metadata": {
    "collapsed": false
   },
   "outputs": [],
   "source": [
    "#Duplicate routes records: 0\n",
    "df_routes[\"Duplicate\"] = df_routes.duplicated([\"airlName\",\n",
    "                                               \"sourceAirpName\",\n",
    "                                               \"sourceAirpID\",\n",
    "                                               \"destAirpName\",\n",
    "                                               \"destAirpID\"])"
   ]
  },
  {
   "cell_type": "markdown",
   "metadata": {},
   "source": [
    "Count the number of duplicate records within the 'routes' dataframe."
   ]
  },
  {
   "cell_type": "code",
   "execution_count": 7,
   "metadata": {
    "collapsed": false
   },
   "outputs": [
    {
     "name": "stdout",
     "output_type": "stream",
     "text": [
      "Duplicate routes records: 0\n"
     ]
    }
   ],
   "source": [
    "duplicate_routes_count = len(df_routes[df_routes.Duplicate == True])\n",
    "print(\"Duplicate routes records:\", duplicate_routes_count)"
   ]
  },
  {
   "cell_type": "markdown",
   "metadata": {},
   "source": [
    "Eliminate duplicate records from each dataframe."
   ]
  },
  {
   "cell_type": "code",
   "execution_count": 8,
   "metadata": {
    "collapsed": false
   },
   "outputs": [],
   "source": [
    "df_airlines = df_airlines[df_airlines.Duplicate == False]\n",
    "df_airports = df_airports[df_airports.Duplicate == False]\n",
    "df_routes = df_routes[df_routes.Duplicate == False]"
   ]
  },
  {
   "cell_type": "markdown",
   "metadata": {},
   "source": [
    "####3. Print DataTypes for each Dataframe Column"
   ]
  },
  {
   "cell_type": "markdown",
   "metadata": {},
   "source": [
    "Create reference table for datatypes and print data types for each column of each dataframe."
   ]
  },
  {
   "cell_type": "code",
   "execution_count": 9,
   "metadata": {
    "collapsed": false
   },
   "outputs": [
    {
     "data": {
      "text/html": [
       "<div>\n",
       "<table border=\"1\" class=\"dataframe\">\n",
       "  <thead>\n",
       "    <tr style=\"text-align: right;\">\n",
       "      <th></th>\n",
       "      <th>Native Data Type</th>\n",
       "      <th>Pandas Data Type</th>\n",
       "      <th>Class</th>\n",
       "      <th>Description</th>\n",
       "    </tr>\n",
       "  </thead>\n",
       "  <tbody>\n",
       "    <tr>\n",
       "      <th>0</th>\n",
       "      <td>int</td>\n",
       "      <td>int64</td>\n",
       "      <td>Numeric types</td>\n",
       "      <td>Integers</td>\n",
       "    </tr>\n",
       "    <tr>\n",
       "      <th>1</th>\n",
       "      <td>float</td>\n",
       "      <td>float64</td>\n",
       "      <td>Numeric types</td>\n",
       "      <td>Floating-point numbers</td>\n",
       "    </tr>\n",
       "    <tr>\n",
       "      <th>2</th>\n",
       "      <td>str</td>\n",
       "      <td>object</td>\n",
       "      <td>Sequences</td>\n",
       "      <td>String</td>\n",
       "    </tr>\n",
       "  </tbody>\n",
       "</table>\n",
       "</div>"
      ],
      "text/plain": [
       "  Native Data Type Pandas Data Type          Class             Description\n",
       "0              int            int64  Numeric types                Integers\n",
       "1            float          float64  Numeric types  Floating-point numbers\n",
       "2              str           object      Sequences                  String"
      ]
     },
     "execution_count": 9,
     "metadata": {},
     "output_type": "execute_result"
    }
   ],
   "source": [
    "#Source: https://en.wikibooks.org/wiki/Python_Programming/Data_Types\n",
    "import pandas as pd\n",
    "\n",
    "df_datatypes = pd.read_csv(\"data/datatypes.csv\")\n",
    "df_datatypes"
   ]
  },
  {
   "cell_type": "code",
   "execution_count": 10,
   "metadata": {
    "collapsed": false
   },
   "outputs": [
    {
     "name": "stdout",
     "output_type": "stream",
     "text": [
      "airlID           int64\n",
      "airlName        object\n",
      "airlAlias       object\n",
      "airlIATA        object\n",
      "airlICAO        object\n",
      "airlCallsign    object\n",
      "airlCountry     object\n",
      "airlActive      object\n",
      "dtype: object\n"
     ]
    }
   ],
   "source": [
    "print(df_airlines.drop('Duplicate', 1).dtypes)"
   ]
  },
  {
   "cell_type": "code",
   "execution_count": 11,
   "metadata": {
    "collapsed": false
   },
   "outputs": [
    {
     "name": "stdout",
     "output_type": "stream",
     "text": [
      "airpID            int64\n",
      "airpName         object\n",
      "airpCity         object\n",
      "airpCountry      object\n",
      "airpIATAFAA      object\n",
      "airpICAO         object\n",
      "airpLat         float64\n",
      "airpLong        float64\n",
      "airpAlt           int64\n",
      "airpTimezone    float64\n",
      "airpDST          object\n",
      "airpTz           object\n",
      "dtype: object\n"
     ]
    }
   ],
   "source": [
    "print(df_airports.drop('Duplicate', 1).dtypes)"
   ]
  },
  {
   "cell_type": "code",
   "execution_count": 12,
   "metadata": {
    "collapsed": false
   },
   "outputs": [
    {
     "name": "stdout",
     "output_type": "stream",
     "text": [
      "airlName          object\n",
      "airlID            object\n",
      "sourceAirpName    object\n",
      "sourceAirpID      object\n",
      "destAirpName      object\n",
      "destAirpID        object\n",
      "airlCodeshare     object\n",
      "airlStops          int64\n",
      "airlEquip         object\n",
      "dtype: object\n"
     ]
    }
   ],
   "source": [
    "print(df_routes.drop('Duplicate', 1).dtypes)"
   ]
  },
  {
   "cell_type": "markdown",
   "metadata": {},
   "source": [
    "####4. Print First 10 Values of the Row Index for each Dataframe"
   ]
  },
  {
   "cell_type": "code",
   "execution_count": 13,
   "metadata": {
    "collapsed": false
   },
   "outputs": [
    {
     "name": "stdout",
     "output_type": "stream",
     "text": [
      "Int64Index([0, 1, 2, 3, 4, 5, 6, 7, 8, 9], dtype='int64')\n"
     ]
    },
    {
     "data": {
      "text/html": [
       "<div>\n",
       "<table border=\"1\" class=\"dataframe\">\n",
       "  <thead>\n",
       "    <tr style=\"text-align: right;\">\n",
       "      <th></th>\n",
       "      <th>airlID</th>\n",
       "      <th>airlName</th>\n",
       "      <th>airlAlias</th>\n",
       "      <th>airlIATA</th>\n",
       "      <th>airlICAO</th>\n",
       "      <th>airlCallsign</th>\n",
       "      <th>airlCountry</th>\n",
       "      <th>airlActive</th>\n",
       "      <th>Duplicate</th>\n",
       "    </tr>\n",
       "  </thead>\n",
       "  <tbody>\n",
       "    <tr>\n",
       "      <th>0</th>\n",
       "      <td>1</td>\n",
       "      <td>Private flight</td>\n",
       "      <td>\\N</td>\n",
       "      <td>-</td>\n",
       "      <td>NaN</td>\n",
       "      <td>NaN</td>\n",
       "      <td>NaN</td>\n",
       "      <td>Y</td>\n",
       "      <td>False</td>\n",
       "    </tr>\n",
       "    <tr>\n",
       "      <th>1</th>\n",
       "      <td>2</td>\n",
       "      <td>135 Airways</td>\n",
       "      <td>\\N</td>\n",
       "      <td>NaN</td>\n",
       "      <td>GNL</td>\n",
       "      <td>GENERAL</td>\n",
       "      <td>United States</td>\n",
       "      <td>N</td>\n",
       "      <td>False</td>\n",
       "    </tr>\n",
       "    <tr>\n",
       "      <th>2</th>\n",
       "      <td>3</td>\n",
       "      <td>1Time Airline</td>\n",
       "      <td>\\N</td>\n",
       "      <td>1T</td>\n",
       "      <td>RNX</td>\n",
       "      <td>NEXTIME</td>\n",
       "      <td>South Africa</td>\n",
       "      <td>Y</td>\n",
       "      <td>False</td>\n",
       "    </tr>\n",
       "    <tr>\n",
       "      <th>3</th>\n",
       "      <td>4</td>\n",
       "      <td>2 Sqn No 1 Elementary Flying Training School</td>\n",
       "      <td>\\N</td>\n",
       "      <td>NaN</td>\n",
       "      <td>WYT</td>\n",
       "      <td>NaN</td>\n",
       "      <td>United Kingdom</td>\n",
       "      <td>N</td>\n",
       "      <td>False</td>\n",
       "    </tr>\n",
       "    <tr>\n",
       "      <th>4</th>\n",
       "      <td>5</td>\n",
       "      <td>213 Flight Unit</td>\n",
       "      <td>\\N</td>\n",
       "      <td>NaN</td>\n",
       "      <td>TFU</td>\n",
       "      <td>NaN</td>\n",
       "      <td>Russia</td>\n",
       "      <td>N</td>\n",
       "      <td>False</td>\n",
       "    </tr>\n",
       "    <tr>\n",
       "      <th>5</th>\n",
       "      <td>6</td>\n",
       "      <td>223 Flight Unit State Airline</td>\n",
       "      <td>\\N</td>\n",
       "      <td>NaN</td>\n",
       "      <td>CHD</td>\n",
       "      <td>CHKALOVSK-AVIA</td>\n",
       "      <td>Russia</td>\n",
       "      <td>N</td>\n",
       "      <td>False</td>\n",
       "    </tr>\n",
       "    <tr>\n",
       "      <th>6</th>\n",
       "      <td>7</td>\n",
       "      <td>224th Flight Unit</td>\n",
       "      <td>\\N</td>\n",
       "      <td>NaN</td>\n",
       "      <td>TTF</td>\n",
       "      <td>CARGO UNIT</td>\n",
       "      <td>Russia</td>\n",
       "      <td>N</td>\n",
       "      <td>False</td>\n",
       "    </tr>\n",
       "    <tr>\n",
       "      <th>7</th>\n",
       "      <td>8</td>\n",
       "      <td>247 Jet Ltd</td>\n",
       "      <td>\\N</td>\n",
       "      <td>NaN</td>\n",
       "      <td>TWF</td>\n",
       "      <td>CLOUD RUNNER</td>\n",
       "      <td>United Kingdom</td>\n",
       "      <td>N</td>\n",
       "      <td>False</td>\n",
       "    </tr>\n",
       "    <tr>\n",
       "      <th>8</th>\n",
       "      <td>9</td>\n",
       "      <td>3D Aviation</td>\n",
       "      <td>\\N</td>\n",
       "      <td>NaN</td>\n",
       "      <td>SEC</td>\n",
       "      <td>SECUREX</td>\n",
       "      <td>United States</td>\n",
       "      <td>N</td>\n",
       "      <td>False</td>\n",
       "    </tr>\n",
       "    <tr>\n",
       "      <th>9</th>\n",
       "      <td>10</td>\n",
       "      <td>40-Mile Air</td>\n",
       "      <td>\\N</td>\n",
       "      <td>Q5</td>\n",
       "      <td>MLA</td>\n",
       "      <td>MILE-AIR</td>\n",
       "      <td>United States</td>\n",
       "      <td>Y</td>\n",
       "      <td>False</td>\n",
       "    </tr>\n",
       "  </tbody>\n",
       "</table>\n",
       "</div>"
      ],
      "text/plain": [
       "   airlID                                      airlName airlAlias airlIATA  \\\n",
       "0       1                                Private flight        \\N        -   \n",
       "1       2                                   135 Airways        \\N      NaN   \n",
       "2       3                                 1Time Airline        \\N       1T   \n",
       "3       4  2 Sqn No 1 Elementary Flying Training School        \\N      NaN   \n",
       "4       5                               213 Flight Unit        \\N      NaN   \n",
       "5       6                 223 Flight Unit State Airline        \\N      NaN   \n",
       "6       7                             224th Flight Unit        \\N      NaN   \n",
       "7       8                                   247 Jet Ltd        \\N      NaN   \n",
       "8       9                                   3D Aviation        \\N      NaN   \n",
       "9      10                                   40-Mile Air        \\N       Q5   \n",
       "\n",
       "  airlICAO    airlCallsign     airlCountry airlActive Duplicate  \n",
       "0      NaN             NaN             NaN          Y     False  \n",
       "1      GNL         GENERAL   United States          N     False  \n",
       "2      RNX         NEXTIME    South Africa          Y     False  \n",
       "3      WYT             NaN  United Kingdom          N     False  \n",
       "4      TFU             NaN          Russia          N     False  \n",
       "5      CHD  CHKALOVSK-AVIA          Russia          N     False  \n",
       "6      TTF      CARGO UNIT          Russia          N     False  \n",
       "7      TWF    CLOUD RUNNER  United Kingdom          N     False  \n",
       "8      SEC         SECUREX   United States          N     False  \n",
       "9      MLA        MILE-AIR   United States          Y     False  "
      ]
     },
     "execution_count": 13,
     "metadata": {},
     "output_type": "execute_result"
    }
   ],
   "source": [
    "print(df_airlines.index[0:10]) #Index values\n",
    "df_airlines[0:10] #Row values"
   ]
  },
  {
   "cell_type": "code",
   "execution_count": 14,
   "metadata": {
    "collapsed": false,
    "scrolled": true
   },
   "outputs": [
    {
     "name": "stdout",
     "output_type": "stream",
     "text": [
      "Int64Index([0, 1, 2, 3, 4, 5, 6, 7, 8, 9], dtype='int64')\n"
     ]
    },
    {
     "data": {
      "text/html": [
       "<div>\n",
       "<table border=\"1\" class=\"dataframe\">\n",
       "  <thead>\n",
       "    <tr style=\"text-align: right;\">\n",
       "      <th></th>\n",
       "      <th>airpID</th>\n",
       "      <th>airpName</th>\n",
       "      <th>airpCity</th>\n",
       "      <th>airpCountry</th>\n",
       "      <th>airpIATAFAA</th>\n",
       "      <th>airpICAO</th>\n",
       "      <th>airpLat</th>\n",
       "      <th>airpLong</th>\n",
       "      <th>airpAlt</th>\n",
       "      <th>airpTimezone</th>\n",
       "      <th>airpDST</th>\n",
       "      <th>airpTz</th>\n",
       "      <th>Duplicate</th>\n",
       "    </tr>\n",
       "  </thead>\n",
       "  <tbody>\n",
       "    <tr>\n",
       "      <th>0</th>\n",
       "      <td>1</td>\n",
       "      <td>Goroka</td>\n",
       "      <td>Goroka</td>\n",
       "      <td>Papua New Guinea</td>\n",
       "      <td>GKA</td>\n",
       "      <td>AYGA</td>\n",
       "      <td>-6.081689</td>\n",
       "      <td>145.391881</td>\n",
       "      <td>5282</td>\n",
       "      <td>10</td>\n",
       "      <td>U</td>\n",
       "      <td>Pacific/Port_Moresby</td>\n",
       "      <td>False</td>\n",
       "    </tr>\n",
       "    <tr>\n",
       "      <th>1</th>\n",
       "      <td>2</td>\n",
       "      <td>Madang</td>\n",
       "      <td>Madang</td>\n",
       "      <td>Papua New Guinea</td>\n",
       "      <td>MAG</td>\n",
       "      <td>AYMD</td>\n",
       "      <td>-5.207083</td>\n",
       "      <td>145.788700</td>\n",
       "      <td>20</td>\n",
       "      <td>10</td>\n",
       "      <td>U</td>\n",
       "      <td>Pacific/Port_Moresby</td>\n",
       "      <td>False</td>\n",
       "    </tr>\n",
       "    <tr>\n",
       "      <th>2</th>\n",
       "      <td>3</td>\n",
       "      <td>Mount Hagen</td>\n",
       "      <td>Mount Hagen</td>\n",
       "      <td>Papua New Guinea</td>\n",
       "      <td>HGU</td>\n",
       "      <td>AYMH</td>\n",
       "      <td>-5.826789</td>\n",
       "      <td>144.295861</td>\n",
       "      <td>5388</td>\n",
       "      <td>10</td>\n",
       "      <td>U</td>\n",
       "      <td>Pacific/Port_Moresby</td>\n",
       "      <td>False</td>\n",
       "    </tr>\n",
       "    <tr>\n",
       "      <th>3</th>\n",
       "      <td>4</td>\n",
       "      <td>Nadzab</td>\n",
       "      <td>Nadzab</td>\n",
       "      <td>Papua New Guinea</td>\n",
       "      <td>LAE</td>\n",
       "      <td>AYNZ</td>\n",
       "      <td>-6.569828</td>\n",
       "      <td>146.726242</td>\n",
       "      <td>239</td>\n",
       "      <td>10</td>\n",
       "      <td>U</td>\n",
       "      <td>Pacific/Port_Moresby</td>\n",
       "      <td>False</td>\n",
       "    </tr>\n",
       "    <tr>\n",
       "      <th>4</th>\n",
       "      <td>5</td>\n",
       "      <td>Port Moresby Jacksons Intl</td>\n",
       "      <td>Port Moresby</td>\n",
       "      <td>Papua New Guinea</td>\n",
       "      <td>POM</td>\n",
       "      <td>AYPY</td>\n",
       "      <td>-9.443383</td>\n",
       "      <td>147.220050</td>\n",
       "      <td>146</td>\n",
       "      <td>10</td>\n",
       "      <td>U</td>\n",
       "      <td>Pacific/Port_Moresby</td>\n",
       "      <td>False</td>\n",
       "    </tr>\n",
       "    <tr>\n",
       "      <th>5</th>\n",
       "      <td>6</td>\n",
       "      <td>Wewak Intl</td>\n",
       "      <td>Wewak</td>\n",
       "      <td>Papua New Guinea</td>\n",
       "      <td>WWK</td>\n",
       "      <td>AYWK</td>\n",
       "      <td>-3.583828</td>\n",
       "      <td>143.669186</td>\n",
       "      <td>19</td>\n",
       "      <td>10</td>\n",
       "      <td>U</td>\n",
       "      <td>Pacific/Port_Moresby</td>\n",
       "      <td>False</td>\n",
       "    </tr>\n",
       "    <tr>\n",
       "      <th>6</th>\n",
       "      <td>7</td>\n",
       "      <td>Narsarsuaq</td>\n",
       "      <td>Narssarssuaq</td>\n",
       "      <td>Greenland</td>\n",
       "      <td>UAK</td>\n",
       "      <td>BGBW</td>\n",
       "      <td>61.160517</td>\n",
       "      <td>-45.425978</td>\n",
       "      <td>112</td>\n",
       "      <td>-3</td>\n",
       "      <td>E</td>\n",
       "      <td>America/Godthab</td>\n",
       "      <td>False</td>\n",
       "    </tr>\n",
       "    <tr>\n",
       "      <th>7</th>\n",
       "      <td>8</td>\n",
       "      <td>Nuuk</td>\n",
       "      <td>Godthaab</td>\n",
       "      <td>Greenland</td>\n",
       "      <td>GOH</td>\n",
       "      <td>BGGH</td>\n",
       "      <td>64.190922</td>\n",
       "      <td>-51.678064</td>\n",
       "      <td>283</td>\n",
       "      <td>-3</td>\n",
       "      <td>E</td>\n",
       "      <td>America/Godthab</td>\n",
       "      <td>False</td>\n",
       "    </tr>\n",
       "    <tr>\n",
       "      <th>8</th>\n",
       "      <td>9</td>\n",
       "      <td>Sondre Stromfjord</td>\n",
       "      <td>Sondrestrom</td>\n",
       "      <td>Greenland</td>\n",
       "      <td>SFJ</td>\n",
       "      <td>BGSF</td>\n",
       "      <td>67.016969</td>\n",
       "      <td>-50.689325</td>\n",
       "      <td>165</td>\n",
       "      <td>-3</td>\n",
       "      <td>E</td>\n",
       "      <td>America/Godthab</td>\n",
       "      <td>False</td>\n",
       "    </tr>\n",
       "    <tr>\n",
       "      <th>9</th>\n",
       "      <td>10</td>\n",
       "      <td>Thule Air Base</td>\n",
       "      <td>Thule</td>\n",
       "      <td>Greenland</td>\n",
       "      <td>THU</td>\n",
       "      <td>BGTL</td>\n",
       "      <td>76.531203</td>\n",
       "      <td>-68.703161</td>\n",
       "      <td>251</td>\n",
       "      <td>-4</td>\n",
       "      <td>E</td>\n",
       "      <td>America/Thule</td>\n",
       "      <td>False</td>\n",
       "    </tr>\n",
       "  </tbody>\n",
       "</table>\n",
       "</div>"
      ],
      "text/plain": [
       "   airpID                    airpName      airpCity       airpCountry  \\\n",
       "0       1                      Goroka        Goroka  Papua New Guinea   \n",
       "1       2                      Madang        Madang  Papua New Guinea   \n",
       "2       3                 Mount Hagen   Mount Hagen  Papua New Guinea   \n",
       "3       4                      Nadzab        Nadzab  Papua New Guinea   \n",
       "4       5  Port Moresby Jacksons Intl  Port Moresby  Papua New Guinea   \n",
       "5       6                  Wewak Intl         Wewak  Papua New Guinea   \n",
       "6       7                  Narsarsuaq  Narssarssuaq         Greenland   \n",
       "7       8                        Nuuk      Godthaab         Greenland   \n",
       "8       9           Sondre Stromfjord   Sondrestrom         Greenland   \n",
       "9      10              Thule Air Base         Thule         Greenland   \n",
       "\n",
       "  airpIATAFAA airpICAO    airpLat    airpLong  airpAlt  airpTimezone airpDST  \\\n",
       "0         GKA     AYGA  -6.081689  145.391881     5282            10       U   \n",
       "1         MAG     AYMD  -5.207083  145.788700       20            10       U   \n",
       "2         HGU     AYMH  -5.826789  144.295861     5388            10       U   \n",
       "3         LAE     AYNZ  -6.569828  146.726242      239            10       U   \n",
       "4         POM     AYPY  -9.443383  147.220050      146            10       U   \n",
       "5         WWK     AYWK  -3.583828  143.669186       19            10       U   \n",
       "6         UAK     BGBW  61.160517  -45.425978      112            -3       E   \n",
       "7         GOH     BGGH  64.190922  -51.678064      283            -3       E   \n",
       "8         SFJ     BGSF  67.016969  -50.689325      165            -3       E   \n",
       "9         THU     BGTL  76.531203  -68.703161      251            -4       E   \n",
       "\n",
       "                 airpTz Duplicate  \n",
       "0  Pacific/Port_Moresby     False  \n",
       "1  Pacific/Port_Moresby     False  \n",
       "2  Pacific/Port_Moresby     False  \n",
       "3  Pacific/Port_Moresby     False  \n",
       "4  Pacific/Port_Moresby     False  \n",
       "5  Pacific/Port_Moresby     False  \n",
       "6       America/Godthab     False  \n",
       "7       America/Godthab     False  \n",
       "8       America/Godthab     False  \n",
       "9         America/Thule     False  "
      ]
     },
     "execution_count": 14,
     "metadata": {},
     "output_type": "execute_result"
    }
   ],
   "source": [
    "print(df_airports.index[0:10]) #Index values\n",
    "df_airports[0:10] #Row values"
   ]
  },
  {
   "cell_type": "code",
   "execution_count": 15,
   "metadata": {
    "collapsed": false
   },
   "outputs": [
    {
     "name": "stdout",
     "output_type": "stream",
     "text": [
      "Int64Index([0, 1, 2, 3, 4, 5, 6, 7, 8, 9], dtype='int64')\n"
     ]
    },
    {
     "data": {
      "text/html": [
       "<div>\n",
       "<table border=\"1\" class=\"dataframe\">\n",
       "  <thead>\n",
       "    <tr style=\"text-align: right;\">\n",
       "      <th></th>\n",
       "      <th>airlName</th>\n",
       "      <th>airlID</th>\n",
       "      <th>sourceAirpName</th>\n",
       "      <th>sourceAirpID</th>\n",
       "      <th>destAirpName</th>\n",
       "      <th>destAirpID</th>\n",
       "      <th>airlCodeshare</th>\n",
       "      <th>airlStops</th>\n",
       "      <th>airlEquip</th>\n",
       "      <th>Duplicate</th>\n",
       "    </tr>\n",
       "  </thead>\n",
       "  <tbody>\n",
       "    <tr>\n",
       "      <th>0</th>\n",
       "      <td>2B</td>\n",
       "      <td>410</td>\n",
       "      <td>AER</td>\n",
       "      <td>2965</td>\n",
       "      <td>KZN</td>\n",
       "      <td>2990</td>\n",
       "      <td>NaN</td>\n",
       "      <td>0</td>\n",
       "      <td>CR2</td>\n",
       "      <td>False</td>\n",
       "    </tr>\n",
       "    <tr>\n",
       "      <th>1</th>\n",
       "      <td>2B</td>\n",
       "      <td>410</td>\n",
       "      <td>ASF</td>\n",
       "      <td>2966</td>\n",
       "      <td>KZN</td>\n",
       "      <td>2990</td>\n",
       "      <td>NaN</td>\n",
       "      <td>0</td>\n",
       "      <td>CR2</td>\n",
       "      <td>False</td>\n",
       "    </tr>\n",
       "    <tr>\n",
       "      <th>2</th>\n",
       "      <td>2B</td>\n",
       "      <td>410</td>\n",
       "      <td>ASF</td>\n",
       "      <td>2966</td>\n",
       "      <td>MRV</td>\n",
       "      <td>2962</td>\n",
       "      <td>NaN</td>\n",
       "      <td>0</td>\n",
       "      <td>CR2</td>\n",
       "      <td>False</td>\n",
       "    </tr>\n",
       "    <tr>\n",
       "      <th>3</th>\n",
       "      <td>2B</td>\n",
       "      <td>410</td>\n",
       "      <td>CEK</td>\n",
       "      <td>2968</td>\n",
       "      <td>KZN</td>\n",
       "      <td>2990</td>\n",
       "      <td>NaN</td>\n",
       "      <td>0</td>\n",
       "      <td>CR2</td>\n",
       "      <td>False</td>\n",
       "    </tr>\n",
       "    <tr>\n",
       "      <th>4</th>\n",
       "      <td>2B</td>\n",
       "      <td>410</td>\n",
       "      <td>CEK</td>\n",
       "      <td>2968</td>\n",
       "      <td>OVB</td>\n",
       "      <td>4078</td>\n",
       "      <td>NaN</td>\n",
       "      <td>0</td>\n",
       "      <td>CR2</td>\n",
       "      <td>False</td>\n",
       "    </tr>\n",
       "    <tr>\n",
       "      <th>5</th>\n",
       "      <td>2B</td>\n",
       "      <td>410</td>\n",
       "      <td>DME</td>\n",
       "      <td>4029</td>\n",
       "      <td>KZN</td>\n",
       "      <td>2990</td>\n",
       "      <td>NaN</td>\n",
       "      <td>0</td>\n",
       "      <td>CR2</td>\n",
       "      <td>False</td>\n",
       "    </tr>\n",
       "    <tr>\n",
       "      <th>6</th>\n",
       "      <td>2B</td>\n",
       "      <td>410</td>\n",
       "      <td>DME</td>\n",
       "      <td>4029</td>\n",
       "      <td>NBC</td>\n",
       "      <td>6969</td>\n",
       "      <td>NaN</td>\n",
       "      <td>0</td>\n",
       "      <td>CR2</td>\n",
       "      <td>False</td>\n",
       "    </tr>\n",
       "    <tr>\n",
       "      <th>7</th>\n",
       "      <td>2B</td>\n",
       "      <td>410</td>\n",
       "      <td>DME</td>\n",
       "      <td>4029</td>\n",
       "      <td>TGK</td>\n",
       "      <td>\\N</td>\n",
       "      <td>NaN</td>\n",
       "      <td>0</td>\n",
       "      <td>CR2</td>\n",
       "      <td>False</td>\n",
       "    </tr>\n",
       "    <tr>\n",
       "      <th>8</th>\n",
       "      <td>2B</td>\n",
       "      <td>410</td>\n",
       "      <td>DME</td>\n",
       "      <td>4029</td>\n",
       "      <td>UUA</td>\n",
       "      <td>6160</td>\n",
       "      <td>NaN</td>\n",
       "      <td>0</td>\n",
       "      <td>CR2</td>\n",
       "      <td>False</td>\n",
       "    </tr>\n",
       "    <tr>\n",
       "      <th>9</th>\n",
       "      <td>2B</td>\n",
       "      <td>410</td>\n",
       "      <td>EGO</td>\n",
       "      <td>6156</td>\n",
       "      <td>KGD</td>\n",
       "      <td>2952</td>\n",
       "      <td>NaN</td>\n",
       "      <td>0</td>\n",
       "      <td>CR2</td>\n",
       "      <td>False</td>\n",
       "    </tr>\n",
       "  </tbody>\n",
       "</table>\n",
       "</div>"
      ],
      "text/plain": [
       "  airlName airlID sourceAirpName sourceAirpID destAirpName destAirpID  \\\n",
       "0       2B    410            AER         2965          KZN       2990   \n",
       "1       2B    410            ASF         2966          KZN       2990   \n",
       "2       2B    410            ASF         2966          MRV       2962   \n",
       "3       2B    410            CEK         2968          KZN       2990   \n",
       "4       2B    410            CEK         2968          OVB       4078   \n",
       "5       2B    410            DME         4029          KZN       2990   \n",
       "6       2B    410            DME         4029          NBC       6969   \n",
       "7       2B    410            DME         4029          TGK         \\N   \n",
       "8       2B    410            DME         4029          UUA       6160   \n",
       "9       2B    410            EGO         6156          KGD       2952   \n",
       "\n",
       "  airlCodeshare  airlStops airlEquip Duplicate  \n",
       "0           NaN          0       CR2     False  \n",
       "1           NaN          0       CR2     False  \n",
       "2           NaN          0       CR2     False  \n",
       "3           NaN          0       CR2     False  \n",
       "4           NaN          0       CR2     False  \n",
       "5           NaN          0       CR2     False  \n",
       "6           NaN          0       CR2     False  \n",
       "7           NaN          0       CR2     False  \n",
       "8           NaN          0       CR2     False  \n",
       "9           NaN          0       CR2     False  "
      ]
     },
     "execution_count": 15,
     "metadata": {},
     "output_type": "execute_result"
    }
   ],
   "source": [
    "print(df_routes.index[0:10]) #Index values\n",
    "df_routes[0:10] #Row values"
   ]
  },
  {
   "cell_type": "markdown",
   "metadata": {},
   "source": [
    "####5. Remove Defunct Records from Airlines Dataframe"
   ]
  },
  {
   "cell_type": "markdown",
   "metadata": {},
   "source": [
    "Count the number of records within the 'airlines' dataframe."
   ]
  },
  {
   "cell_type": "code",
   "execution_count": 16,
   "metadata": {
    "collapsed": false
   },
   "outputs": [
    {
     "name": "stdout",
     "output_type": "stream",
     "text": [
      "Number of airline records: 6047\n"
     ]
    }
   ],
   "source": [
    "airlines_count = len(df_airlines)\n",
    "print(\"Number of airline records:\", airlines_count)"
   ]
  },
  {
   "cell_type": "markdown",
   "metadata": {},
   "source": [
    "Count the number of defunct records within the 'airlines' dataframe."
   ]
  },
  {
   "cell_type": "code",
   "execution_count": 17,
   "metadata": {
    "collapsed": false
   },
   "outputs": [
    {
     "name": "stdout",
     "output_type": "stream",
     "text": [
      "Number of defunct airline records: 4885\n"
     ]
    }
   ],
   "source": [
    "defunct_airlines_count = len(df_airlines[df_airlines.airlActive == \"N\"])\n",
    "print(\"Number of defunct airline records:\", defunct_airlines_count)"
   ]
  },
  {
   "cell_type": "markdown",
   "metadata": {},
   "source": [
    "Remove defunct records from the 'airlines' dataframe."
   ]
  },
  {
   "cell_type": "code",
   "execution_count": 18,
   "metadata": {
    "collapsed": true
   },
   "outputs": [],
   "source": [
    "df_airlines = df_airlines[df_airlines.airlActive == \"Y\"]"
   ]
  },
  {
   "cell_type": "markdown",
   "metadata": {},
   "source": [
    "####6. Remove 'Flights from Nowhere' Records from Routes Dataframe"
   ]
  },
  {
   "cell_type": "markdown",
   "metadata": {},
   "source": [
    "Count the number of records within the 'routes' dataframe."
   ]
  },
  {
   "cell_type": "code",
   "execution_count": 19,
   "metadata": {
    "collapsed": false
   },
   "outputs": [
    {
     "name": "stdout",
     "output_type": "stream",
     "text": [
      "Number of routes records: 67663\n"
     ]
    }
   ],
   "source": [
    "routes_count = len(df_routes)\n",
    "print(\"Number of routes records:\", routes_count)"
   ]
  },
  {
   "cell_type": "markdown",
   "metadata": {},
   "source": [
    "Find all 'sourceAirpName' records within the 'routes' dataframe which do not appear within 'airpIATAFAA' records within the 'airports' dataframe. "
   ]
  },
  {
   "cell_type": "code",
   "execution_count": 20,
   "metadata": {
    "collapsed": false
   },
   "outputs": [],
   "source": [
    "df_routes[\"Matched\"] = df_routes[\"sourceAirpName\"].isin(df_airports[\"airpIATAFAA\"])"
   ]
  },
  {
   "cell_type": "markdown",
   "metadata": {},
   "source": [
    "Count the number of 'flights from nowhere' records within the 'routes' dataframe."
   ]
  },
  {
   "cell_type": "code",
   "execution_count": 21,
   "metadata": {
    "collapsed": false
   },
   "outputs": [
    {
     "name": "stdout",
     "output_type": "stream",
     "text": [
      "Number of flights from nowhere routes records: 235\n"
     ]
    }
   ],
   "source": [
    "nowhere_routes_count = len(df_routes[df_routes.Matched == False])\n",
    "print(\"Number of flights from nowhere routes records:\", nowhere_routes_count)"
   ]
  },
  {
   "cell_type": "markdown",
   "metadata": {},
   "source": [
    "Remove 'flights from nowhere' records within the 'routes' dataframe."
   ]
  },
  {
   "cell_type": "code",
   "execution_count": 22,
   "metadata": {
    "collapsed": false
   },
   "outputs": [],
   "source": [
    "df_routes = df_routes[df_routes.Matched == True]"
   ]
  },
  {
   "cell_type": "markdown",
   "metadata": {},
   "source": [
    "####7. Pickle Final Dataframes."
   ]
  },
  {
   "cell_type": "code",
   "execution_count": 23,
   "metadata": {
    "collapsed": true
   },
   "outputs": [],
   "source": [
    "import pickle\n",
    "\n",
    "#df_airlines.to_pickle(\"data/airlines.p\")\n",
    "#df_airports.to_pickle(\"data/airports.p\")\n",
    "#df_routes.to_pickle(\"data/routes.p\")"
   ]
  },
  {
   "cell_type": "markdown",
   "metadata": {},
   "source": [
    "####8. Find the 10 Longest Flight Routes from Chicago O'Hare"
   ]
  },
  {
   "cell_type": "markdown",
   "metadata": {},
   "source": [
    "Import 'distance_on_unit_sphere' function to calculate distance between two latitude/longitude pairs."
   ]
  },
  {
   "cell_type": "code",
   "execution_count": 24,
   "metadata": {
    "collapsed": true
   },
   "outputs": [],
   "source": [
    "#Source: http://www.johndcook.com/blog/python_longitude_latitude/\n",
    "import math\n",
    "\n",
    "def distance_on_unit_sphere(lat1, long1, lat2, long2):\n",
    "    degrees_to_radians = math.pi/180.0\n",
    "    phi1 = (90.0 - lat1)*degrees_to_radians\n",
    "    phi2 = (90.0 - lat2)*degrees_to_radians\n",
    "    theta1 = long1*degrees_to_radians\n",
    "    theta2 = long2*degrees_to_radians\n",
    "    \n",
    "    cos = (math.sin(phi1)*math.sin(phi2)*math.cos(theta1 - theta2) + \n",
    "           math.cos(phi1)*math.cos(phi2))\n",
    "    arc = math.acos( cos )\n",
    "    \n",
    "    return arc*6373"
   ]
  },
  {
   "cell_type": "markdown",
   "metadata": {},
   "source": [
    "Find the latitude/longitude pair for Chicago O'Hare"
   ]
  },
  {
   "cell_type": "code",
   "execution_count": 25,
   "metadata": {
    "collapsed": false
   },
   "outputs": [],
   "source": [
    "df_chicagoohare = df_airports[df_airports.airpName == \"Chicago Ohare Intl\"]\n",
    "\n",
    "chicagoohare_lat = df_chicagoohare.airpLat\n",
    "chicagoohare_long = df_chicagoohare.airpLong"
   ]
  },
  {
   "cell_type": "markdown",
   "metadata": {},
   "source": [
    "Apply 'distance_on_unit_sphere' function to each airport within the df_airports dataframe, in order to find the distance between each airport and 'Chicago O'Hare'."
   ]
  },
  {
   "cell_type": "code",
   "execution_count": 26,
   "metadata": {
    "collapsed": false
   },
   "outputs": [],
   "source": [
    "import numpy as np\n",
    "\n",
    "df_airports[\"distToChicago\"] = np.vectorize(distance_on_unit_sphere)(df_airports[\"airpLat\"], \n",
    "                                                                       df_airports[\"airpLong\"], \n",
    "                                                                       chicagoohare_lat, \n",
    "                                                                       chicagoohare_long)"
   ]
  },
  {
   "cell_type": "markdown",
   "metadata": {},
   "source": [
    "Return the 10 airports which maximize distance to 'Chicago O'Hare' (distance in kilometres)."
   ]
  },
  {
   "cell_type": "code",
   "execution_count": 27,
   "metadata": {
    "collapsed": false
   },
   "outputs": [
    {
     "data": {
      "text/html": [
       "<div>\n",
       "<table border=\"1\" class=\"dataframe\">\n",
       "  <thead>\n",
       "    <tr style=\"text-align: right;\">\n",
       "      <th></th>\n",
       "      <th>airpName</th>\n",
       "      <th>distToChicago</th>\n",
       "    </tr>\n",
       "  </thead>\n",
       "  <tbody>\n",
       "    <tr>\n",
       "      <th>7655</th>\n",
       "      <td>Brusselton</td>\n",
       "      <td>17785.379366</td>\n",
       "    </tr>\n",
       "    <tr>\n",
       "      <th>6923</th>\n",
       "      <td>Rottnest Island</td>\n",
       "      <td>17672.610324</td>\n",
       "    </tr>\n",
       "    <tr>\n",
       "      <th>5108</th>\n",
       "      <td>Albany Airport</td>\n",
       "      <td>17659.811127</td>\n",
       "    </tr>\n",
       "    <tr>\n",
       "      <th>3248</th>\n",
       "      <td>Perth Jandakot</td>\n",
       "      <td>17651.854742</td>\n",
       "    </tr>\n",
       "    <tr>\n",
       "      <th>6418</th>\n",
       "      <td>Burswood Park Helipad</td>\n",
       "      <td>17644.395508</td>\n",
       "    </tr>\n",
       "    <tr>\n",
       "      <th>3255</th>\n",
       "      <td>Perth Intl</td>\n",
       "      <td>17635.275374</td>\n",
       "    </tr>\n",
       "    <tr>\n",
       "      <th>5416</th>\n",
       "      <td>RAAF Pearce</td>\n",
       "      <td>17614.200347</td>\n",
       "    </tr>\n",
       "    <tr>\n",
       "      <th>6922</th>\n",
       "      <td>Cunderdin</td>\n",
       "      <td>17517.892454</td>\n",
       "    </tr>\n",
       "    <tr>\n",
       "      <th>5141</th>\n",
       "      <td>Geraldton Airport</td>\n",
       "      <td>17513.563857</td>\n",
       "    </tr>\n",
       "    <tr>\n",
       "      <th>5150</th>\n",
       "      <td>Kalbarri Airport</td>\n",
       "      <td>17461.577215</td>\n",
       "    </tr>\n",
       "  </tbody>\n",
       "</table>\n",
       "</div>"
      ],
      "text/plain": [
       "                   airpName  distToChicago\n",
       "7655             Brusselton   17785.379366\n",
       "6923        Rottnest Island   17672.610324\n",
       "5108         Albany Airport   17659.811127\n",
       "3248         Perth Jandakot   17651.854742\n",
       "6418  Burswood Park Helipad   17644.395508\n",
       "3255             Perth Intl   17635.275374\n",
       "5416            RAAF Pearce   17614.200347\n",
       "6922              Cunderdin   17517.892454\n",
       "5141      Geraldton Airport   17513.563857\n",
       "5150       Kalbarri Airport   17461.577215"
      ]
     },
     "execution_count": 27,
     "metadata": {},
     "output_type": "execute_result"
    }
   ],
   "source": [
    "df_airports_distochicagoasc = df_airports.sort_values(by = \"distToChicago\", ascending = False)[:10]\n",
    "df_airports_distochicagoasc[[\"airpName\", \"distToChicago\"]]"
   ]
  }
 ],
 "metadata": {
  "kernelspec": {
   "display_name": "Python 3",
   "language": "python",
   "name": "python3"
  },
  "language_info": {
   "codemirror_mode": {
    "name": "ipython",
    "version": 3
   },
   "file_extension": ".py",
   "mimetype": "text/x-python",
   "name": "python",
   "nbconvert_exporter": "python",
   "pygments_lexer": "ipython3",
   "version": "3.5.1"
  }
 },
 "nbformat": 4,
 "nbformat_minor": 0
}

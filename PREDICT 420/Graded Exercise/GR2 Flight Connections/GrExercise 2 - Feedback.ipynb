{
 "cells": [
  {
   "cell_type": "markdown",
   "metadata": {},
   "source": [
    "### PRED 420-56 Winter 2016 GrEx2 Comments and Feedback"
   ]
  },
  {
   "cell_type": "markdown",
   "metadata": {},
   "source": [
    "### Duplicated Records"
   ]
  },
  {
   "cell_type": "markdown",
   "metadata": {},
   "source": [
    "How you go about this depends on how you decide to define \"duplicate.\" You need to define what fields need to match in two records for the records to be duplicates.  Maybe you decided that all fields need to match (ok for the present purposes), or that some subset of the fields need to match.  Suppose that for the airlines.dat data you think that you should consider duplicate records to be those that have the same values in in the fields \"airlineID\" (the OpenFlights ID), and \"Name\" (airline name).\n",
    "\n",
    "Given this definition, you need to find out how many times there are two or more records having the same values in these two fields.  Assuming that you have the airlines.dat data in a DataFrame called airLinesDF, one way you could get an answer is:"
   ]
  },
  {
   "cell_type": "raw",
   "metadata": {
    "collapsed": true
   },
   "source": [
    "airLinesDF.duplicated([\"airlineID\",\"Name\"]).value_counts()"
   ]
  },
  {
   "cell_type": "markdown",
   "metadata": {},
   "source": [
    "This would return for you the number of duplicated (= \"True\") and unique (\"False\") records in airLinesDF, given our definition.  The answer for this example is (probably) no duplicates.  Try it out with your data to see what you get.\n",
    "\n",
    "Whether you should have eliminated the duplicate records before completing the rest of the assignment wasn't specified in the assignment description, so it was up to you."
   ]
  },
  {
   "cell_type": "markdown",
   "metadata": {},
   "source": [
    "### Data Types in your DataFrames"
   ]
  },
  {
   "cell_type": "markdown",
   "metadata": {},
   "source": [
    "The simplest way is probably this:"
   ]
  },
  {
   "cell_type": "raw",
   "metadata": {},
   "source": [
    "airLinesDF.dtypes"
   ]
  },
  {
   "cell_type": "markdown",
   "metadata": {},
   "source": [
    "This would return a series with the data types of the columns in airLinesDF."
   ]
  },
  {
   "cell_type": "markdown",
   "metadata": {},
   "source": [
    "### Row Index Values"
   ]
  },
  {
   "cell_type": "markdown",
   "metadata": {},
   "source": [
    "The assignment asked you to list the first ten (10) row index values of your DataFrames.  The index of a DataFrame needn't be numeric, but it will often be by default, i.e. if you don't specify otherwise.  Its values just need to be unique, like an unique database key.  To get the first 10 values in the index of airLinesDF, you could just do:"
   ]
  },
  {
   "cell_type": "raw",
   "metadata": {},
   "source": [
    "airLinesDF.index[:10]"
   ]
  },
  {
   "cell_type": "markdown",
   "metadata": {},
   "source": [
    "These values would be numeric or some other data type.  The object returned would be of type pandas.core.index.Int64Index.  If you got integer values, why do you think that happened?\n"
   ]
  },
  {
   "cell_type": "markdown",
   "metadata": {},
   "source": [
    "### Defunct Airlines"
   ]
  },
  {
   "cell_type": "markdown",
   "metadata": {},
   "source": [
    "The airlines.dat file has a field called \"Active,\" (or \"active\") which is coded as \"Y\" for yes (not defunct), and \"N\" for defunct.  So as a first approximation you could just count the number of times that \"Y\" and \"N\" occur:"
   ]
  },
  {
   "cell_type": "raw",
   "metadata": {},
   "source": [
    "airLinesDF.active.value_counts()"
   ]
  },
  {
   "cell_type": "markdown",
   "metadata": {},
   "source": [
    "The result you get will depend on whether you removed any duplicate records.  Did you see any codes other than Y and N?\n",
    "\n",
    "Also, note that in the GrExercise 1 notebook it was mentioned that this \"Active\" field isn't reliable:\n",
    "\n",
    "_This field is not reliable: in particular, major airlines that stopped flying long ago, but have not had their IATA code reassigned (eg. Ansett/AN), will incorrectly show as \"Y\"._\n",
    "\n",
    "This raises the question of how the available data could be used to determine which if any airlines coded as active are actually defunct.  How about checking to see if there are \"active\" airlines in airlines.dat that aren't in routes.dat?"
   ]
  },
  {
   "cell_type": "markdown",
   "metadata": {},
   "source": [
    "### Flights from Nowhere"
   ]
  },
  {
   "cell_type": "markdown",
   "metadata": {},
   "source": [
    "One way to define a \"flight from nowhere\" is as a route that doesn't originate at an airport of record.  The routes.dat file has an OpenFlights airport ID field, and also IATA and IACO airport codes.  So you can define a flight from nowhere as a route that doesn't have as its source airport an airport that's in airports.dat.\n",
    "\n",
    "The question is, what data do we use to verify that a source airport in the routes data is an \"airport of record?\"  We could use OpenFlight's airport ID number in the airports data.  Or, we could use the airports' IATA/FAA or ICAO codes.  Or, we could use both the IDs and the codes.  We could test for each condition (no airport ID in the airports data, and no IATA/IACO airport code in the airports data) separately, and then decide how to use the results.\n",
    "\n",
    "There are different ways to go about accomplishing this.  Here's one of them, using the .isin method.  Another way is to use Python sets that include airport identifiers to find routes data source airports that aren't in the airports data.  Can you think of a third way?\n",
    "\n",
    "Note that the airlines.dat data has separate fields for IATA and IACO airport codes.  In the routes.dat data these codes can both appear in the same field, the source airport field. So we can look for what's in this field in the two fields of the airlines.dat data.  Also, here we're not considering the possibility of duplicate codes or IDs, but looking into them would be a Good Thing to do.  Lastly, a key assumption is that the airports data is correct."
   ]
  },
  {
   "cell_type": "raw",
   "metadata": {},
   "source": [
    "# Is the routes source airport IATA in the airports IATAFAA field? True or False\n",
    "\n",
    "routeHasApIATA=routesDf.sourceAp.isin(airportsDF.IATAFAA)\n",
    "\n",
    "# Is the routes source airport IATA in the airports ICAO field? True or False\n",
    "\n",
    "routeHasApICAO=routesDF.sourceAp.isin(airportsDF.ICAO)  \n"
   ]
  },
  {
   "cell_type": "markdown",
   "metadata": {},
   "source": [
    "Each of the above returns a pandas Series with True and False values.  Are there any routes that have neither code?"
   ]
  },
  {
   "cell_type": "raw",
   "metadata": {},
   "source": [
    "# A DataFrame with two columns named IATA and ICAO that are the above True/False Series\n",
    "\n",
    "routeCodesDF=pd.concat([routeHasApIATA,routeHasApICAO],axis=1)\n",
    "\n",
    "routeCodesDF.columns=[\"IATA\",\"ICAO\"]\n",
    "\n",
    "# Use the .groupby method to see how many of of each combinations of True and False there are in the two Series\n",
    "\n",
    "routeCodesDF.groupby([\"IATA\",\"ICAO\"]).size()\n",
    "\n"
   ]
  },
  {
   "cell_type": "markdown",
   "metadata": {},
   "source": [
    "The last statement would give you something like the following, from which we can see that there are 235 routes that don't have either an IATA code or a ICAO code for their source airport:"
   ]
  },
  {
   "cell_type": "raw",
   "metadata": {},
   "source": [
    "IATA   ICAO \n",
    "False  False      235\n",
    "True   False    67412\n",
    "       True        16\n",
    "dtype: int64\n"
   ]
  },
  {
   "cell_type": "markdown",
   "metadata": {
    "collapsed": true
   },
   "source": [
    "We haven't yet looked at the OpenFlights airport ID to see whether there are any route source airports in the routes.dat data that don't have an airport ID in the airports.dat data.  We could do what we just did to find routes that don't have source ICAO or IATA codes in the airports.dat data.  Or, we can just look at the 235 routes that we know don't have airport IATA or ICAO codes in the airports.dat.  Let's do that."
   ]
  },
  {
   "cell_type": "raw",
   "metadata": {},
   "source": [
    "# This would return a Series of source airport IDs from the routes.dat data in the routesDF DataFrame\n",
    "# These are the source airport IDs for route records that do not have IATA and ICAO codes\n",
    "# that match in the airports data.\n",
    "\n",
    "sourceIDs=routesDF[(routeCodesDF.ICAO==False) & (routeCodesDF.IATA==False)][\"sourceApID\"]\n",
    "\n",
    "# Find out whether any of these sourceIDs are in the airports.dat data. apID is the airport ID \n",
    "# field in the OpenFlight's airports.dat data.\n",
    "\n",
    "legitSourceID=sourceIDs.isin(airportsDF[\"apID\"])   # This is a series of Trues and Falses, length=235\n",
    "\n",
    "# Any Trues in it?\n",
    "\n",
    "legitSourceID.value_counts()"
   ]
  },
  {
   "cell_type": "markdown",
   "metadata": {},
   "source": [
    "Hm.  It might be a good idea to look more closely at those source airport ID values.\n",
    "\n",
    "Our definition of a \"flight from nowhere\" here is one that originates from a source airport that we can't find in the airports.dat data.  Here, if a source airport in routes.dat doesn't have an IATA or ICAO code in airports.dat, and if it also doesn't have an OpenFlights airport ID in airports.dat, then we'd call a route with that airport as its origin a \"flight from nowhere.\""
   ]
  },
  {
   "cell_type": "markdown",
   "metadata": {},
   "source": [
    "### Extra Credit"
   ]
  },
  {
   "cell_type": "markdown",
   "metadata": {},
   "source": [
    "What you needed to do is to find or write some Python code for calculating distances based on lattitude and longitude. Here's some code that you can find on the Web:"
   ]
  },
  {
   "cell_type": "code",
   "execution_count": 2,
   "metadata": {
    "collapsed": true
   },
   "outputs": [],
   "source": [
    "# Using the Haversine formula for geographic Great Circle Distance\n",
    "#\n",
    "# As per https://en.wikipedia.org/wiki/Haversine_formula\n",
    "#\n",
    "# From https://opentechschool.github.io/python-data-intro/files/geo_distance.py (I think)\n",
    "\n",
    "from math import cos,radians,sin,pow,asin,sqrt\n",
    "\n",
    "def distance(lat1, long1, lat2, long2):\n",
    "    radius = 6371 # radius of the earth in km, roughly https://en.wikipedia.org/wiki/Earth_radius\n",
    "\n",
    "    # Lat,long are in degrees but we need radians\n",
    "    lat1 = radians(lat1)\n",
    "    lat2 = radians(lat2)\n",
    "    long1 = radians(long1)\n",
    "    long2 = radians(long2)\n",
    "\n",
    "    dlat = lat2-lat1\n",
    "    dlon = long2-long1\n",
    "\n",
    "    a = pow(sin(dlat/2),2) + cos(lat1)*cos(lat2)*pow(sin(dlon/2),2)\n",
    "    distance = 2 * radius * asin(sqrt(a))\n",
    "\n",
    "    return distance\n"
   ]
  },
  {
   "cell_type": "markdown",
   "metadata": {},
   "source": [
    "This defines a function called _distance_ that accepts two longitude/lattitude value pairs, and it returns a _Great Circle_ distance between them.  This approximation to \"true\" geopgraphic distance takes into account the curvature of the Earth. Note the units that the distance returned is in.\n",
    "\n",
    "The routes.dat data include source airport IDs, and the airports.dat data include longitude and lattitude for airports, including the longitude and lattitude for O'Hare Airport in Chicago, ORD, which you need in order to calculate distances.\n",
    "\n",
    "What we want to do is to use the above function to compute distance from ORD for each airport in the airports.dat data, and then sort the airports based on distance from ORD to find the ten that are furthest from ORD.  According to what's in the airports.dat data, ORD's lattitude is 41.978603, and its longitude is -87.904842.  Using this result the airports.dat data, and the above function, we can calculate a distance from ORD for each airport in airports.dat. Let's modify the distance function to make ORD's lattitude and longitude constants, and then apply it to the lattitude and longitude columns of airportsDF, a Dataframe with the airports.dat data in it, to get a distance from ORD measure for each airport.\n"
   ]
  },
  {
   "cell_type": "raw",
   "metadata": {},
   "source": [
    "from math import cos,radians,sin,pow,asin,sqrt\n",
    "\n",
    "def distanceFromORD(latlong):\n",
    "    radius = 6371 # radius of the earth in km, roughly https://en.wikipedia.org/wiki/Earth_radius\n",
    "\n",
    "    # Lat,long in latlong are in degrees but we need radians\n",
    "    lat1 = radians(float(latlong[0]))   # in case lat is passed as a string\n",
    "    lat2 = radians(41.978603)   # ORD lattitude\n",
    "    long1 = radians(float(latlong[1]))   # in case long is passed as a string\n",
    "    long2 = radians(-87.904842) # ORD longitude\n",
    "\n",
    "    dlat = lat2-lat1\n",
    "    dlon = long2-long1\n",
    "\n",
    "    a = pow(sin(dlat/2),2) + cos(lat1)*cos(lat2)*pow(sin(dlon/2),2)\n",
    "    distance = 2 * radius * asin(sqrt(a))\n",
    "\n",
    "    return distance\n"
   ]
  },
  {
   "cell_type": "markdown",
   "metadata": {},
   "source": [
    "This version accepts a list with two elements in it, a lattitude and a longitude, and it returns a distance.  Let's apply it to the airports' lattitudes and longitudes.  Let's assume that you have a DataFrame called __destApsDF__ that includes the airport names, lattitudes, and longitudes, and that only contains data for airports that are destinations of routes originating at ORD, i.e. that have ORD as the source airport.  (You already know how do to this.)"
   ]
  },
  {
   "cell_type": "raw",
   "metadata": {
    "collapsed": true
   },
   "source": [
    "# Get the distances from ORD for the destination airports of routes that have ORD as their origin,\n",
    "# i.e. where ORD is the source airport.\n",
    "\n",
    "distFromORD=destApsDF[[\"lat\",\"long\"]].apply(distanceFromORD,axis=1)  # axis=1 applies the function across columns\n",
    "\n",
    "# Create a little DataFrame with airport names and distances.  This should have two columns,\n",
    "# rows = no. of airports in destApsDF. destApsDF.Name contains destination airport names.\n",
    "\n",
    "apORDDistDF=pd.DataFrame({\"Name\": destApsDF.Name,\"Distance\":distFromORD})  # A df from a dict with two Series in it\n",
    "\n",
    "# Sort by descending Distance and list the first ten rows.\n",
    "\n",
    "apORDDistDF.sort_values(by=\"Distance\",ascending=False).head(10)\n"
   ]
  },
  {
   "cell_type": "markdown",
   "metadata": {},
   "source": [
    "If you can find the longitude and lattitude of your home (there are tools available online), you can use the above to determine whether the airport you named as the one closest to your home in GrExercise 1 is indeed the closest airport to you."
   ]
  }
 ],
 "metadata": {
  "kernelspec": {
   "display_name": "Python 2",
   "language": "python",
   "name": "python2"
  },
  "language_info": {
   "codemirror_mode": {
    "name": "ipython",
    "version": 2
   },
   "file_extension": ".py",
   "mimetype": "text/x-python",
   "name": "python",
   "nbconvert_exporter": "python",
   "pygments_lexer": "ipython2",
   "version": "2.7.10"
  }
 },
 "nbformat": 4,
 "nbformat_minor": 0
}

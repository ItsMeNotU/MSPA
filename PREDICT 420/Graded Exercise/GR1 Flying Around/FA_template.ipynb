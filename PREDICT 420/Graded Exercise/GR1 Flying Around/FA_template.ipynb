{
 "cells": [
  {
   "cell_type": "markdown",
   "metadata": {
    "collapsed": true
   },
   "source": [
    "#MSPA PREDICT 420"
   ]
  },
  {
   "cell_type": "markdown",
   "metadata": {},
   "source": [
    "##Graded Exercise 1: Flying Around"
   ]
  },
  {
   "cell_type": "markdown",
   "metadata": {},
   "source": [
    "###Introduction"
   ]
  },
  {
   "cell_type": "markdown",
   "metadata": {},
   "source": [
    "This document presents the results of first graded exercise for the Masters of Science in Predictive Analytics course: PREDICT 420. This assessment required the student to perform some data wrangling exercises on airline/flight data retrieved from [OpenFlights.org](http://www.openflights.org)."
   ]
  },
  {
   "cell_type": "markdown",
   "metadata": {},
   "source": [
    "###Assessment"
   ]
  },
  {
   "cell_type": "markdown",
   "metadata": {},
   "source": [
    "####1. Loading the Data"
   ]
  },
  {
   "cell_type": "markdown",
   "metadata": {},
   "source": [
    "Load datasets into pandas dataframes."
   ]
  },
  {
   "cell_type": "code",
   "execution_count": 1,
   "metadata": {
    "collapsed": false
   },
   "outputs": [],
   "source": [
    "import pandas as pd    \n",
    "\n",
    "df_airlines = pd.read_csv(\"data/airlines.dat\", header = None, encoding = \"latin-1\")\n",
    "df_airports = pd.read_csv(\"data/airports.dat\", header = None, encoding = \"latin-1\")\n",
    "df_routes = pd.read_csv(\"data/routes.dat\", header = None, encoding = \"latin-1\")"
   ]
  },
  {
   "cell_type": "markdown",
   "metadata": {},
   "source": [
    "####2. Pre-process the Data"
   ]
  },
  {
   "cell_type": "markdown",
   "metadata": {},
   "source": [
    "Import field names for each dataframe as lists from relevant text files."
   ]
  },
  {
   "cell_type": "code",
   "execution_count": 2,
   "metadata": {
    "collapsed": false
   },
   "outputs": [],
   "source": [
    "import csv\n",
    "\n",
    "f = open(\"data/airlines_fields.txt\", \"r\")\n",
    "reader = csv.reader(f)\n",
    "airlines_fields = list(reader)\n",
    "\n",
    "f = open(\"data/airports_fields.txt\", \"r\")\n",
    "reader = csv.reader(f)\n",
    "airports_fields = list(reader)\n",
    "\n",
    "f = open(\"data/routes_fields.txt\", \"r\")\n",
    "reader = csv.reader(f)\n",
    "routes_fields = list(reader)"
   ]
  },
  {
   "cell_type": "markdown",
   "metadata": {},
   "source": [
    "Show each of the imported field name lists."
   ]
  },
  {
   "cell_type": "code",
   "execution_count": 3,
   "metadata": {
    "collapsed": false
   },
   "outputs": [
    {
     "data": {
      "text/plain": [
       "[['airlID',\n",
       "  'airlName',\n",
       "  'airlAlias',\n",
       "  'airlIATA',\n",
       "  'airlICAO',\n",
       "  'airlCallsign',\n",
       "  'airlCountry',\n",
       "  'airlActive']]"
      ]
     },
     "execution_count": 3,
     "metadata": {},
     "output_type": "execute_result"
    }
   ],
   "source": [
    "airlines_fields"
   ]
  },
  {
   "cell_type": "code",
   "execution_count": 4,
   "metadata": {
    "collapsed": false
   },
   "outputs": [
    {
     "data": {
      "text/plain": [
       "[['airpID',\n",
       "  'airpName',\n",
       "  'airpCity',\n",
       "  'airpCountry',\n",
       "  'airpIATAFAA',\n",
       "  'airpICAO',\n",
       "  'airpLat',\n",
       "  'airpLong',\n",
       "  'airpAlt',\n",
       "  'airpTimezone',\n",
       "  'airpDST',\n",
       "  'airpTz']]"
      ]
     },
     "execution_count": 4,
     "metadata": {},
     "output_type": "execute_result"
    }
   ],
   "source": [
    "airports_fields"
   ]
  },
  {
   "cell_type": "code",
   "execution_count": 5,
   "metadata": {
    "collapsed": false
   },
   "outputs": [
    {
     "data": {
      "text/plain": [
       "[['airlName',\n",
       "  'airlID',\n",
       "  'sourceAirpName',\n",
       "  'sourceAirpID',\n",
       "  'destAirpName',\n",
       "  'destAirpID',\n",
       "  'airlCodeshare',\n",
       "  'airlStops',\n",
       "  'airlEquip']]"
      ]
     },
     "execution_count": 5,
     "metadata": {},
     "output_type": "execute_result"
    }
   ],
   "source": [
    "routes_fields"
   ]
  },
  {
   "cell_type": "markdown",
   "metadata": {},
   "source": [
    "Use the imported field name lists to set column names for each dataframe."
   ]
  },
  {
   "cell_type": "code",
   "execution_count": 6,
   "metadata": {
    "collapsed": false
   },
   "outputs": [],
   "source": [
    "df_airlines.columns = airlines_fields\n",
    "df_airports.columns = airports_fields\n",
    "df_routes.columns = routes_fields"
   ]
  },
  {
   "cell_type": "markdown",
   "metadata": {},
   "source": [
    "Show first three rows of each dataframe."
   ]
  },
  {
   "cell_type": "code",
   "execution_count": 7,
   "metadata": {
    "collapsed": false
   },
   "outputs": [
    {
     "data": {
      "text/html": [
       "<div>\n",
       "<table border=\"1\" class=\"dataframe\">\n",
       "  <thead>\n",
       "    <tr style=\"text-align: right;\">\n",
       "      <th></th>\n",
       "      <th>airlID</th>\n",
       "      <th>airlName</th>\n",
       "      <th>airlAlias</th>\n",
       "      <th>airlIATA</th>\n",
       "      <th>airlICAO</th>\n",
       "      <th>airlCallsign</th>\n",
       "      <th>airlCountry</th>\n",
       "      <th>airlActive</th>\n",
       "    </tr>\n",
       "  </thead>\n",
       "  <tbody>\n",
       "    <tr>\n",
       "      <th>0</th>\n",
       "      <td>1</td>\n",
       "      <td>Private flight</td>\n",
       "      <td>\\N</td>\n",
       "      <td>-</td>\n",
       "      <td>NaN</td>\n",
       "      <td>NaN</td>\n",
       "      <td>NaN</td>\n",
       "      <td>Y</td>\n",
       "    </tr>\n",
       "    <tr>\n",
       "      <th>1</th>\n",
       "      <td>2</td>\n",
       "      <td>135 Airways</td>\n",
       "      <td>\\N</td>\n",
       "      <td>NaN</td>\n",
       "      <td>GNL</td>\n",
       "      <td>GENERAL</td>\n",
       "      <td>United States</td>\n",
       "      <td>N</td>\n",
       "    </tr>\n",
       "    <tr>\n",
       "      <th>2</th>\n",
       "      <td>3</td>\n",
       "      <td>1Time Airline</td>\n",
       "      <td>\\N</td>\n",
       "      <td>1T</td>\n",
       "      <td>RNX</td>\n",
       "      <td>NEXTIME</td>\n",
       "      <td>South Africa</td>\n",
       "      <td>Y</td>\n",
       "    </tr>\n",
       "  </tbody>\n",
       "</table>\n",
       "</div>"
      ],
      "text/plain": [
       "   airlID        airlName airlAlias airlIATA airlICAO airlCallsign  \\\n",
       "0       1  Private flight        \\N        -      NaN          NaN   \n",
       "1       2     135 Airways        \\N      NaN      GNL      GENERAL   \n",
       "2       3   1Time Airline        \\N       1T      RNX      NEXTIME   \n",
       "\n",
       "     airlCountry airlActive  \n",
       "0            NaN          Y  \n",
       "1  United States          N  \n",
       "2   South Africa          Y  "
      ]
     },
     "execution_count": 7,
     "metadata": {},
     "output_type": "execute_result"
    }
   ],
   "source": [
    "df_airlines.head(3)"
   ]
  },
  {
   "cell_type": "code",
   "execution_count": 8,
   "metadata": {
    "collapsed": false
   },
   "outputs": [
    {
     "data": {
      "text/html": [
       "<div>\n",
       "<table border=\"1\" class=\"dataframe\">\n",
       "  <thead>\n",
       "    <tr style=\"text-align: right;\">\n",
       "      <th></th>\n",
       "      <th>airpID</th>\n",
       "      <th>airpName</th>\n",
       "      <th>airpCity</th>\n",
       "      <th>airpCountry</th>\n",
       "      <th>airpIATAFAA</th>\n",
       "      <th>airpICAO</th>\n",
       "      <th>airpLat</th>\n",
       "      <th>airpLong</th>\n",
       "      <th>airpAlt</th>\n",
       "      <th>airpTimezone</th>\n",
       "      <th>airpDST</th>\n",
       "      <th>airpTz</th>\n",
       "    </tr>\n",
       "  </thead>\n",
       "  <tbody>\n",
       "    <tr>\n",
       "      <th>0</th>\n",
       "      <td>1</td>\n",
       "      <td>Goroka</td>\n",
       "      <td>Goroka</td>\n",
       "      <td>Papua New Guinea</td>\n",
       "      <td>GKA</td>\n",
       "      <td>AYGA</td>\n",
       "      <td>-6.081689</td>\n",
       "      <td>145.391881</td>\n",
       "      <td>5282</td>\n",
       "      <td>10</td>\n",
       "      <td>U</td>\n",
       "      <td>Pacific/Port_Moresby</td>\n",
       "    </tr>\n",
       "    <tr>\n",
       "      <th>1</th>\n",
       "      <td>2</td>\n",
       "      <td>Madang</td>\n",
       "      <td>Madang</td>\n",
       "      <td>Papua New Guinea</td>\n",
       "      <td>MAG</td>\n",
       "      <td>AYMD</td>\n",
       "      <td>-5.207083</td>\n",
       "      <td>145.788700</td>\n",
       "      <td>20</td>\n",
       "      <td>10</td>\n",
       "      <td>U</td>\n",
       "      <td>Pacific/Port_Moresby</td>\n",
       "    </tr>\n",
       "    <tr>\n",
       "      <th>2</th>\n",
       "      <td>3</td>\n",
       "      <td>Mount Hagen</td>\n",
       "      <td>Mount Hagen</td>\n",
       "      <td>Papua New Guinea</td>\n",
       "      <td>HGU</td>\n",
       "      <td>AYMH</td>\n",
       "      <td>-5.826789</td>\n",
       "      <td>144.295861</td>\n",
       "      <td>5388</td>\n",
       "      <td>10</td>\n",
       "      <td>U</td>\n",
       "      <td>Pacific/Port_Moresby</td>\n",
       "    </tr>\n",
       "  </tbody>\n",
       "</table>\n",
       "</div>"
      ],
      "text/plain": [
       "   airpID     airpName     airpCity       airpCountry airpIATAFAA airpICAO  \\\n",
       "0       1       Goroka       Goroka  Papua New Guinea         GKA     AYGA   \n",
       "1       2       Madang       Madang  Papua New Guinea         MAG     AYMD   \n",
       "2       3  Mount Hagen  Mount Hagen  Papua New Guinea         HGU     AYMH   \n",
       "\n",
       "    airpLat    airpLong  airpAlt  airpTimezone airpDST                airpTz  \n",
       "0 -6.081689  145.391881     5282            10       U  Pacific/Port_Moresby  \n",
       "1 -5.207083  145.788700       20            10       U  Pacific/Port_Moresby  \n",
       "2 -5.826789  144.295861     5388            10       U  Pacific/Port_Moresby  "
      ]
     },
     "execution_count": 8,
     "metadata": {},
     "output_type": "execute_result"
    }
   ],
   "source": [
    "df_airports.head(3)"
   ]
  },
  {
   "cell_type": "code",
   "execution_count": 9,
   "metadata": {
    "collapsed": false
   },
   "outputs": [
    {
     "data": {
      "text/html": [
       "<div>\n",
       "<table border=\"1\" class=\"dataframe\">\n",
       "  <thead>\n",
       "    <tr style=\"text-align: right;\">\n",
       "      <th></th>\n",
       "      <th>airlName</th>\n",
       "      <th>airlID</th>\n",
       "      <th>sourceAirpName</th>\n",
       "      <th>sourceAirpID</th>\n",
       "      <th>destAirpName</th>\n",
       "      <th>destAirpID</th>\n",
       "      <th>airlCodeshare</th>\n",
       "      <th>airlStops</th>\n",
       "      <th>airlEquip</th>\n",
       "    </tr>\n",
       "  </thead>\n",
       "  <tbody>\n",
       "    <tr>\n",
       "      <th>0</th>\n",
       "      <td>2B</td>\n",
       "      <td>410</td>\n",
       "      <td>AER</td>\n",
       "      <td>2965</td>\n",
       "      <td>KZN</td>\n",
       "      <td>2990</td>\n",
       "      <td>NaN</td>\n",
       "      <td>0</td>\n",
       "      <td>CR2</td>\n",
       "    </tr>\n",
       "    <tr>\n",
       "      <th>1</th>\n",
       "      <td>2B</td>\n",
       "      <td>410</td>\n",
       "      <td>ASF</td>\n",
       "      <td>2966</td>\n",
       "      <td>KZN</td>\n",
       "      <td>2990</td>\n",
       "      <td>NaN</td>\n",
       "      <td>0</td>\n",
       "      <td>CR2</td>\n",
       "    </tr>\n",
       "    <tr>\n",
       "      <th>2</th>\n",
       "      <td>2B</td>\n",
       "      <td>410</td>\n",
       "      <td>ASF</td>\n",
       "      <td>2966</td>\n",
       "      <td>MRV</td>\n",
       "      <td>2962</td>\n",
       "      <td>NaN</td>\n",
       "      <td>0</td>\n",
       "      <td>CR2</td>\n",
       "    </tr>\n",
       "  </tbody>\n",
       "</table>\n",
       "</div>"
      ],
      "text/plain": [
       "  airlName airlID sourceAirpName sourceAirpID destAirpName destAirpID  \\\n",
       "0       2B    410            AER         2965          KZN       2990   \n",
       "1       2B    410            ASF         2966          KZN       2990   \n",
       "2       2B    410            ASF         2966          MRV       2962   \n",
       "\n",
       "  airlCodeshare  airlStops airlEquip  \n",
       "0           NaN          0       CR2  \n",
       "1           NaN          0       CR2  \n",
       "2           NaN          0       CR2  "
      ]
     },
     "execution_count": 9,
     "metadata": {},
     "output_type": "execute_result"
    }
   ],
   "source": [
    "df_routes.head(3)"
   ]
  },
  {
   "cell_type": "markdown",
   "metadata": {},
   "source": [
    "Pickle final dataframes, then re-read."
   ]
  },
  {
   "cell_type": "code",
   "execution_count": 10,
   "metadata": {
    "collapsed": false
   },
   "outputs": [],
   "source": [
    "import pickle\n",
    "\n",
    "df_airlines.to_pickle('data/airlines.p')\n",
    "df_airports.to_pickle('data/airports.p')\n",
    "df_routes.to_pickle('data/routes.p')\n",
    "\n",
    "df_airlines = pd.read_pickle(\"data/airlines.p\")\n",
    "df_airports = pd.read_pickle(\"data/airports.p\")\n",
    "df_routes = pd.read_pickle(\"data/routes.p\")"
   ]
  },
  {
   "cell_type": "markdown",
   "metadata": {},
   "source": [
    "####3. What is three letter airport code for the airport that is closest to your home?"
   ]
  },
  {
   "cell_type": "markdown",
   "metadata": {},
   "source": [
    "Import 'distance_on_unit_sphere' function to calculate distance between two latitude/longitude pairs."
   ]
  },
  {
   "cell_type": "code",
   "execution_count": 11,
   "metadata": {
    "collapsed": true
   },
   "outputs": [],
   "source": [
    "#Source: http://www.johndcook.com/blog/python_longitude_latitude/\n",
    "import math\n",
    "\n",
    "def distance_on_unit_sphere(lat1, long1, lat2, long2):\n",
    "    degrees_to_radians = math.pi/180.0\n",
    "    phi1 = (90.0 - lat1)*degrees_to_radians\n",
    "    phi2 = (90.0 - lat2)*degrees_to_radians\n",
    "    theta1 = long1*degrees_to_radians\n",
    "    theta2 = long2*degrees_to_radians\n",
    "    \n",
    "    cos = (math.sin(phi1)*math.sin(phi2)*math.cos(theta1 - theta2) + \n",
    "           math.cos(phi1)*math.cos(phi2))\n",
    "    arc = math.acos( cos )\n",
    "    \n",
    "    return arc*6373"
   ]
  },
  {
   "cell_type": "markdown",
   "metadata": {},
   "source": [
    "Apply 'distance_on_unit_sphere' function to each airport within the df_airports dataframe, in order to find the distance between each airport and my hometown 'Rivervale, Western Australia' (latitude -31.9610 and longitude 115.9170)."
   ]
  },
  {
   "cell_type": "code",
   "execution_count": 12,
   "metadata": {
    "collapsed": false
   },
   "outputs": [],
   "source": [
    "import numpy as np\n",
    "\n",
    "rivervale_lat = -31.9610\n",
    "rivervale_long = 115.9170\n",
    "\n",
    "df_airports[\"distToRivervale\"] = np.vectorize(distance_on_unit_sphere)(df_airports[\"airpLat\"], \n",
    "                                                                       df_airports[\"airpLong\"], \n",
    "                                                                       rivervale_lat, \n",
    "                                                                       rivervale_long)\n",
    "\n",
    "min_rivervale_row_index = df_airports[\"distToRivervale\"].idxmin()"
   ]
  },
  {
   "cell_type": "markdown",
   "metadata": {},
   "source": [
    "Return the airport which minimizes the distance to my hometown."
   ]
  },
  {
   "cell_type": "code",
   "execution_count": 13,
   "metadata": {
    "collapsed": false
   },
   "outputs": [
    {
     "data": {
      "text/plain": [
       "'Perth Intl'"
      ]
     },
     "execution_count": 13,
     "metadata": {},
     "output_type": "execute_result"
    }
   ],
   "source": [
    "min_rivervale_airport_name = df_airports[\"airpName\"].iloc[min_rivervale_row_index]\n",
    "min_rivervale_airport_name"
   ]
  },
  {
   "cell_type": "markdown",
   "metadata": {},
   "source": [
    "Return the airport code associated with 'Perth Intl'."
   ]
  },
  {
   "cell_type": "code",
   "execution_count": 14,
   "metadata": {
    "collapsed": false
   },
   "outputs": [
    {
     "name": "stdout",
     "output_type": "stream",
     "text": [
      "Three letter airport code for the airport closest to my home: PER\n"
     ]
    }
   ],
   "source": [
    "min_rivervale_airport_code = df_airports[\"airpIATAFAA\"].iloc[min_rivervale_row_index]\n",
    "print(\"Three letter airport code for the airport closest to my home:\", min_rivervale_airport_code)"
   ]
  },
  {
   "cell_type": "markdown",
   "metadata": {},
   "source": [
    "####4. How many departing routes are there from this airport?"
   ]
  },
  {
   "cell_type": "markdown",
   "metadata": {},
   "source": [
    "Create a new dataframe based on matches of original 'df_routes' dataframe where 'Source_airport' is equal to 'PER'."
   ]
  },
  {
   "cell_type": "code",
   "execution_count": 15,
   "metadata": {
    "collapsed": false
   },
   "outputs": [],
   "source": [
    "min_rivervale_airport_routes = df_routes[df_routes.sourceAirpName == min_rivervale_airport_code]"
   ]
  },
  {
   "cell_type": "markdown",
   "metadata": {},
   "source": [
    "Count rows of matched dataframe."
   ]
  },
  {
   "cell_type": "code",
   "execution_count": 16,
   "metadata": {
    "collapsed": false
   },
   "outputs": [
    {
     "name": "stdout",
     "output_type": "stream",
     "text": [
      "Number of departing routes from PER: 92\n"
     ]
    }
   ],
   "source": [
    "min_rivervale_routes_count = len(min_rivervale_airport_routes.index)\n",
    "print(\"Number of departing routes from PER:\", min_rivervale_routes_count)"
   ]
  },
  {
   "cell_type": "markdown",
   "metadata": {},
   "source": [
    "####5. How many routes are there coming into the airport with the three letter code \"EGO?\""
   ]
  },
  {
   "cell_type": "markdown",
   "metadata": {},
   "source": [
    "Create a new dataframe based on matches of original 'df_routes' dataframe where 'Source_airport' is equal to 'EGO'."
   ]
  },
  {
   "cell_type": "code",
   "execution_count": 17,
   "metadata": {
    "collapsed": false
   },
   "outputs": [],
   "source": [
    "ego_airport_routes = df_routes[df_routes.destAirpName == \"EGO\"]"
   ]
  },
  {
   "cell_type": "markdown",
   "metadata": {},
   "source": [
    "Count rows of matched dataframe."
   ]
  },
  {
   "cell_type": "code",
   "execution_count": 18,
   "metadata": {
    "collapsed": false
   },
   "outputs": [
    {
     "name": "stdout",
     "output_type": "stream",
     "text": [
      "Number of arriving routes at EGO: 11\n"
     ]
    }
   ],
   "source": [
    "ego_airport_routes_count = len(ego_airport_routes.index)\n",
    "print(\"Number of arriving routes at EGO:\", ego_airport_routes_count)"
   ]
  }
 ],
 "metadata": {
  "kernelspec": {
   "display_name": "Python 3",
   "language": "python",
   "name": "python3"
  },
  "language_info": {
   "codemirror_mode": {
    "name": "ipython",
    "version": 3
   },
   "file_extension": ".py",
   "mimetype": "text/x-python",
   "name": "python",
   "nbconvert_exporter": "python",
   "pygments_lexer": "ipython3",
   "version": "3.5.1"
  }
 },
 "nbformat": 4,
 "nbformat_minor": 0
}

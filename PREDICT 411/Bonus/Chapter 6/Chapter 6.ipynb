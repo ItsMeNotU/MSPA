{
 "cells": [
  {
   "cell_type": "markdown",
   "metadata": {},
   "source": [
    "#MSPA PREDICT 411"
   ]
  },
  {
   "cell_type": "markdown",
   "metadata": {},
   "source": [
    "##Bonus Problem: Chapter 6"
   ]
  },
  {
   "cell_type": "code",
   "execution_count": 1,
   "metadata": {
    "collapsed": false
   },
   "outputs": [],
   "source": [
    "#!pip install sas7bdat\n",
    "\n",
    "import numpy as np\n",
    "import pandas as pd\n",
    "import statsmodels.api as sm\n",
    "\n",
    "from patsy import dmatrices\n",
    "from sas7bdat import SAS7BDAT\n",
    "\n",
    "import seaborn as sns\n",
    "import matplotlib.pyplot as plt\n",
    "import matplotlib.pylab as pylab\n",
    "\n",
    "sns.set_style('darkgrid')\n",
    "%matplotlib inline"
   ]
  },
  {
   "cell_type": "markdown",
   "metadata": {},
   "source": [
    "###Introduction"
   ]
  },
  {
   "cell_type": "markdown",
   "metadata": {},
   "source": [
    "This document presents the results of third set of bonus problems for the Masters of Science in Predictive Analytics course: PREDICT 411. This assessment required the student to work through the problem set of Chapters 6 of Hoffmann (2004), Generalized Linear Models, An Applied Approach."
   ]
  },
  {
   "cell_type": "markdown",
   "metadata": {},
   "source": [
    "###Question 1"
   ]
  },
  {
   "cell_type": "markdown",
   "metadata": {},
   "source": [
    "####Loading the Data"
   ]
  },
  {
   "cell_type": "code",
   "execution_count": 2,
   "metadata": {
    "collapsed": false
   },
   "outputs": [],
   "source": [
    "with SAS7BDAT('data/stress.sas7bdat') as f:\n",
    "    df_stress = f.to_data_frame()"
   ]
  },
  {
   "cell_type": "code",
   "execution_count": 3,
   "metadata": {
    "collapsed": false
   },
   "outputs": [
    {
     "data": {
      "text/html": [
       "<div>\n",
       "<table border=\"1\" class=\"dataframe\">\n",
       "  <thead>\n",
       "    <tr style=\"text-align: right;\">\n",
       "      <th></th>\n",
       "      <th>AGE</th>\n",
       "      <th>COHES</th>\n",
       "      <th>ESTEEM</th>\n",
       "      <th>GRADES</th>\n",
       "      <th>SATTACH</th>\n",
       "      <th>STRESS</th>\n",
       "      <th>NEWID</th>\n",
       "    </tr>\n",
       "  </thead>\n",
       "  <tbody>\n",
       "    <tr>\n",
       "      <th>0</th>\n",
       "      <td>11</td>\n",
       "      <td>61.256001</td>\n",
       "      <td>32</td>\n",
       "      <td>15</td>\n",
       "      <td>21</td>\n",
       "      <td>0</td>\n",
       "      <td>5</td>\n",
       "    </tr>\n",
       "    <tr>\n",
       "      <th>1</th>\n",
       "      <td>14</td>\n",
       "      <td>49.000000</td>\n",
       "      <td>33</td>\n",
       "      <td>17</td>\n",
       "      <td>22</td>\n",
       "      <td>0</td>\n",
       "      <td>6</td>\n",
       "    </tr>\n",
       "    <tr>\n",
       "      <th>2</th>\n",
       "      <td>14</td>\n",
       "      <td>35.000000</td>\n",
       "      <td>27</td>\n",
       "      <td>15</td>\n",
       "      <td>28</td>\n",
       "      <td>0</td>\n",
       "      <td>10</td>\n",
       "    </tr>\n",
       "    <tr>\n",
       "      <th>3</th>\n",
       "      <td>11</td>\n",
       "      <td>74.000000</td>\n",
       "      <td>34</td>\n",
       "      <td>14</td>\n",
       "      <td>33</td>\n",
       "      <td>0</td>\n",
       "      <td>15</td>\n",
       "    </tr>\n",
       "    <tr>\n",
       "      <th>4</th>\n",
       "      <td>14</td>\n",
       "      <td>58.000000</td>\n",
       "      <td>29</td>\n",
       "      <td>15</td>\n",
       "      <td>28</td>\n",
       "      <td>0</td>\n",
       "      <td>16</td>\n",
       "    </tr>\n",
       "  </tbody>\n",
       "</table>\n",
       "</div>"
      ],
      "text/plain": [
       "   AGE      COHES  ESTEEM  GRADES  SATTACH  STRESS  NEWID\n",
       "0   11  61.256001      32      15       21       0      5\n",
       "1   14  49.000000      33      17       22       0      6\n",
       "2   14  35.000000      27      15       28       0     10\n",
       "3   11  74.000000      34      14       33       0     15\n",
       "4   14  58.000000      29      15       28       0     16"
      ]
     },
     "execution_count": 3,
     "metadata": {},
     "output_type": "execute_result"
    }
   ],
   "source": [
    "df_stress.head(5)"
   ]
  },
  {
   "cell_type": "markdown",
   "metadata": {},
   "source": [
    "####Part A"
   ]
  },
  {
   "cell_type": "markdown",
   "metadata": {},
   "source": [
    "Estimate a histogram and summary statistics for the variable stress. What do you think is its most likely probability distribution?"
   ]
  },
  {
   "cell_type": "code",
   "execution_count": 4,
   "metadata": {
    "collapsed": false
   },
   "outputs": [
    {
     "data": {
      "image/png": "[encoded data removed]",
      "text/plain": [
       "<matplotlib.figure.Figure at 0xa64e0b8>"
      ]
     },
     "metadata": {},
     "output_type": "display_data"
    }
   ],
   "source": [
    "import matplotlib.pyplot as plt\n",
    "%matplotlib inline\n",
    "\n",
    "plt.hist(df_stress['STRESS'], 24)\n",
    "plt.show()"
   ]
  },
  {
   "cell_type": "markdown",
   "metadata": {},
   "source": [
    "Seems to have a shape similar to that of a Beta Negative Binomial distribution. Is non-continuous in nature."
   ]
  },
  {
   "cell_type": "code",
   "execution_count": 5,
   "metadata": {
    "collapsed": false
   },
   "outputs": [
    {
     "name": "stdout",
     "output_type": "stream",
     "text": [
      "mean: 1.73\n"
     ]
    }
   ],
   "source": [
    "print('mean:', round(df_stress['STRESS'].mean(), 2))"
   ]
  },
  {
   "cell_type": "code",
   "execution_count": 6,
   "metadata": {
    "collapsed": false
   },
   "outputs": [
    {
     "name": "stdout",
     "output_type": "stream",
     "text": [
      "variance: 3.41\n"
     ]
    }
   ],
   "source": [
    "import numpy as np\n",
    "\n",
    "print('variance:', round(np.var(df_stress['STRESS']), 2))"
   ]
  },
  {
   "cell_type": "markdown",
   "metadata": {},
   "source": [
    "The variance is greater than the mean."
   ]
  },
  {
   "cell_type": "markdown",
   "metadata": {},
   "source": [
    "####Part B"
   ]
  },
  {
   "cell_type": "markdown",
   "metadata": {},
   "source": [
    "Plot a normal probability (Q-Q) plot of the variable stress. Comment about its departure from a normal distribution."
   ]
  },
  {
   "cell_type": "code",
   "execution_count": 7,
   "metadata": {
    "collapsed": false
   },
   "outputs": [
    {
     "data": {
      "image/png": "[encoded data removed]",
      "text/plain": [
       "<matplotlib.figure.Figure at 0xa9d9e10>"
      ]
     },
     "metadata": {},
     "output_type": "display_data"
    }
   ],
   "source": [
    "import statsmodels.api as sm\n",
    "from matplotlib import pyplot as plt\n",
    "\n",
    "#fig = sm.qqplot(df_stress['STRESS'], line='45')\n",
    "fig = sm.qqplot(df_stress['STRESS'])\n",
    "plt.show()"
   ]
  },
  {
   "cell_type": "markdown",
   "metadata": {},
   "source": [
    "Has a fat negative tail."
   ]
  },
  {
   "cell_type": "markdown",
   "metadata": {},
   "source": [
    "###Question 2"
   ]
  },
  {
   "cell_type": "markdown",
   "metadata": {},
   "source": [
    "####Part A"
   ]
  },
  {
   "cell_type": "markdown",
   "metadata": {},
   "source": [
    "Interpret the coefficients (from the Poisson and negative binomial models) associated with the variables cohes and sattach using the percent change formula we have seen in this and earlier chapters."
   ]
  },
  {
   "cell_type": "code",
   "execution_count": 62,
   "metadata": {
    "collapsed": false
   },
   "outputs": [
    {
     "data": {
      "text/html": [
       "<table class=\"simpletable\">\n",
       "<caption>Generalized Linear Model Regression Results</caption>\n",
       "<tr>\n",
       "  <th>Dep. Variable:</th>       <td>STRESS</td>      <th>  No. Observations:  </th>  <td>   651</td> \n",
       "</tr>\n",
       "<tr>\n",
       "  <th>Model:</th>                 <td>GLM</td>       <th>  Df Residuals:      </th>  <td>   646</td> \n",
       "</tr>\n",
       "<tr>\n",
       "  <th>Model Family:</th>        <td>Poisson</td>     <th>  Df Model:          </th>  <td>     4</td> \n",
       "</tr>\n",
       "<tr>\n",
       "  <th>Link Function:</th>         <td>log</td>       <th>  Scale:             </th>    <td>1.0</td>  \n",
       "</tr>\n",
       "<tr>\n",
       "  <th>Method:</th>               <td>IRLS</td>       <th>  Log-Likelihood:    </th> <td> -1203.6</td>\n",
       "</tr>\n",
       "<tr>\n",
       "  <th>Date:</th>           <td>Mon, 15 Aug 2016</td> <th>  Deviance:          </th> <td>  1245.4</td>\n",
       "</tr>\n",
       "<tr>\n",
       "  <th>Time:</th>               <td>09:44:34</td>     <th>  Pearson chi2:      </th> <td>1.15e+03</td>\n",
       "</tr>\n",
       "<tr>\n",
       "  <th>No. Iterations:</th>         <td>8</td>        <th>                     </th>     <td> </td>   \n",
       "</tr>\n",
       "</table>\n",
       "<table class=\"simpletable\">\n",
       "<tr>\n",
       "      <td></td>         <th>coef</th>     <th>std err</th>      <th>z</th>      <th>P>|z|</th> <th>[95.0% Conf. Int.]</th> \n",
       "</tr>\n",
       "<tr>\n",
       "  <th>Intercept</th> <td>    2.7345</td> <td>    0.234</td> <td>   11.683</td> <td> 0.000</td> <td>    2.276     3.193</td>\n",
       "</tr>\n",
       "<tr>\n",
       "  <th>COHES</th>     <td>   -0.0129</td> <td>    0.003</td> <td>   -4.466</td> <td> 0.000</td> <td>   -0.019    -0.007</td>\n",
       "</tr>\n",
       "<tr>\n",
       "  <th>ESTEEM</th>    <td>   -0.0237</td> <td>    0.008</td> <td>   -2.947</td> <td> 0.003</td> <td>   -0.039    -0.008</td>\n",
       "</tr>\n",
       "<tr>\n",
       "  <th>GRADES</th>    <td>   -0.0235</td> <td>    0.010</td> <td>   -2.379</td> <td> 0.017</td> <td>   -0.043    -0.004</td>\n",
       "</tr>\n",
       "<tr>\n",
       "  <th>SATTACH</th>   <td>   -0.0165</td> <td>    0.006</td> <td>   -2.850</td> <td> 0.004</td> <td>   -0.028    -0.005</td>\n",
       "</tr>\n",
       "</table>"
      ],
      "text/plain": [
       "<class 'statsmodels.iolib.summary.Summary'>\n",
       "\"\"\"\n",
       "                 Generalized Linear Model Regression Results                  \n",
       "==============================================================================\n",
       "Dep. Variable:                 STRESS   No. Observations:                  651\n",
       "Model:                            GLM   Df Residuals:                      646\n",
       "Model Family:                 Poisson   Df Model:                            4\n",
       "Link Function:                    log   Scale:                             1.0\n",
       "Method:                          IRLS   Log-Likelihood:                -1203.6\n",
       "Date:                Mon, 15 Aug 2016   Deviance:                       1245.4\n",
       "Time:                        09:44:34   Pearson chi2:                 1.15e+03\n",
       "No. Iterations:                     8                                         \n",
       "==============================================================================\n",
       "                 coef    std err          z      P>|z|      [95.0% Conf. Int.]\n",
       "------------------------------------------------------------------------------\n",
       "Intercept      2.7345      0.234     11.683      0.000         2.276     3.193\n",
       "COHES         -0.0129      0.003     -4.466      0.000        -0.019    -0.007\n",
       "ESTEEM        -0.0237      0.008     -2.947      0.003        -0.039    -0.008\n",
       "GRADES        -0.0235      0.010     -2.379      0.017        -0.043    -0.004\n",
       "SATTACH       -0.0165      0.006     -2.850      0.004        -0.028    -0.005\n",
       "==============================================================================\n",
       "\"\"\""
      ]
     },
     "execution_count": 62,
     "metadata": {},
     "output_type": "execute_result"
    }
   ],
   "source": [
    "import statsmodels.formula.api as smf\n",
    "import statsmodels.api as sm\n",
    "\n",
    "model_poi = smf.glm('STRESS ~ COHES + ESTEEM + GRADES + SATTACH', \n",
    "                    data=df_stress, \n",
    "                    family=sm.families.Poisson(link=sm.families.links.log)).fit()\n",
    "\n",
    "model_poi.summary()"
   ]
  },
  {
   "cell_type": "code",
   "execution_count": 63,
   "metadata": {
    "collapsed": false
   },
   "outputs": [
    {
     "data": {
      "text/html": [
       "<table class=\"simpletable\">\n",
       "<caption>Generalized Linear Model Regression Results</caption>\n",
       "<tr>\n",
       "  <th>Dep. Variable:</th>       <td>STRESS</td>      <th>  No. Observations:  </th>     <td>   651</td>    \n",
       "</tr>\n",
       "<tr>\n",
       "  <th>Model:</th>                 <td>GLM</td>       <th>  Df Residuals:      </th>     <td>   646</td>    \n",
       "</tr>\n",
       "<tr>\n",
       "  <th>Model Family:</th>   <td>NegativeBinomial</td> <th>  Df Model:          </th>     <td>     4</td>    \n",
       "</tr>\n",
       "<tr>\n",
       "  <th>Link Function:</th>         <td>log</td>       <th>  Scale:             </th> <td>0.664952252883</td>\n",
       "</tr>\n",
       "<tr>\n",
       "  <th>Method:</th>               <td>IRLS</td>       <th>  Log-Likelihood:    </th>    <td> -1148.4</td>   \n",
       "</tr>\n",
       "<tr>\n",
       "  <th>Date:</th>           <td>Mon, 15 Aug 2016</td> <th>  Deviance:          </th>    <td>  576.00</td>   \n",
       "</tr>\n",
       "<tr>\n",
       "  <th>Time:</th>               <td>09:44:37</td>     <th>  Pearson chi2:      </th>     <td>  430.</td>    \n",
       "</tr>\n",
       "<tr>\n",
       "  <th>No. Iterations:</th>         <td>7</td>        <th>                     </th>        <td> </td>      \n",
       "</tr>\n",
       "</table>\n",
       "<table class=\"simpletable\">\n",
       "<tr>\n",
       "      <td></td>         <th>coef</th>     <th>std err</th>      <th>z</th>      <th>P>|z|</th> <th>[95.0% Conf. Int.]</th> \n",
       "</tr>\n",
       "<tr>\n",
       "  <th>Intercept</th> <td>    2.7623</td> <td>    0.334</td> <td>    8.272</td> <td> 0.000</td> <td>    2.108     3.417</td>\n",
       "</tr>\n",
       "<tr>\n",
       "  <th>COHES</th>     <td>   -0.0135</td> <td>    0.004</td> <td>   -3.340</td> <td> 0.001</td> <td>   -0.021    -0.006</td>\n",
       "</tr>\n",
       "<tr>\n",
       "  <th>ESTEEM</th>    <td>   -0.0229</td> <td>    0.011</td> <td>   -2.047</td> <td> 0.041</td> <td>   -0.045    -0.001</td>\n",
       "</tr>\n",
       "<tr>\n",
       "  <th>GRADES</th>    <td>   -0.0244</td> <td>    0.014</td> <td>   -1.795</td> <td> 0.073</td> <td>   -0.051     0.002</td>\n",
       "</tr>\n",
       "<tr>\n",
       "  <th>SATTACH</th>   <td>   -0.0169</td> <td>    0.008</td> <td>   -2.088</td> <td> 0.037</td> <td>   -0.033    -0.001</td>\n",
       "</tr>\n",
       "</table>"
      ],
      "text/plain": [
       "<class 'statsmodels.iolib.summary.Summary'>\n",
       "\"\"\"\n",
       "                 Generalized Linear Model Regression Results                  \n",
       "==============================================================================\n",
       "Dep. Variable:                 STRESS   No. Observations:                  651\n",
       "Model:                            GLM   Df Residuals:                      646\n",
       "Model Family:        NegativeBinomial   Df Model:                            4\n",
       "Link Function:                    log   Scale:                  0.664952252883\n",
       "Method:                          IRLS   Log-Likelihood:                -1148.4\n",
       "Date:                Mon, 15 Aug 2016   Deviance:                       576.00\n",
       "Time:                        09:44:37   Pearson chi2:                     430.\n",
       "No. Iterations:                     7                                         \n",
       "==============================================================================\n",
       "                 coef    std err          z      P>|z|      [95.0% Conf. Int.]\n",
       "------------------------------------------------------------------------------\n",
       "Intercept      2.7623      0.334      8.272      0.000         2.108     3.417\n",
       "COHES         -0.0135      0.004     -3.340      0.001        -0.021    -0.006\n",
       "ESTEEM        -0.0229      0.011     -2.047      0.041        -0.045    -0.001\n",
       "GRADES        -0.0244      0.014     -1.795      0.073        -0.051     0.002\n",
       "SATTACH       -0.0169      0.008     -2.088      0.037        -0.033    -0.001\n",
       "==============================================================================\n",
       "\"\"\""
      ]
     },
     "execution_count": 63,
     "metadata": {},
     "output_type": "execute_result"
    }
   ],
   "source": [
    "import statsmodels.formula.api as smf\n",
    "import statsmodels.api as sm\n",
    "\n",
    "model_nb = smf.glm('STRESS ~ COHES + ESTEEM + GRADES + SATTACH', \n",
    "                   data=df_stress, \n",
    "                   family=sm.families.NegativeBinomial()).fit()\n",
    "\n",
    "model_nb.summary()"
   ]
  },
  {
   "cell_type": "markdown",
   "metadata": {},
   "source": [
    "####Part B"
   ]
  },
  {
   "cell_type": "markdown",
   "metadata": {},
   "source": [
    "Based on both the Poisson and negative binomial regression models, compute the predicted count of stress for those whose levels of family cohesion are less than one standard deviation below the mean (low), between one standard deviation below and one standard deviation above the mean (medium), and more than one standard deviation above the mean (high)."
   ]
  },
  {
   "cell_type": "code",
   "execution_count": 36,
   "metadata": {
    "collapsed": false
   },
   "outputs": [],
   "source": [
    "import numpy as np\n",
    "\n",
    "mean = df_stress['COHES'].mean()\n",
    "std = np.std(df_stress['COHES'])\n",
    "\n",
    "lq = mean - std\n",
    "uq = mean + std"
   ]
  },
  {
   "cell_type": "code",
   "execution_count": 43,
   "metadata": {
    "collapsed": false
   },
   "outputs": [
    {
     "name": "stdout",
     "output_type": "stream",
     "text": [
      "Poisson:\n",
      "low: 265.2951611150819\n",
      "medium: 743.0657502689479\n",
      "high: 117.63908861596572\n"
     ]
    }
   ],
   "source": [
    "df_stress['STRESS_pred'] = model_poi.predict()\n",
    "\n",
    "print('Poisson:')\n",
    "print('low:', df_stress[df_stress['COHES'] < lq]['STRESS_pred'].sum())\n",
    "print('medium:', df_stress[(df_stress['COHES'] >= lq) & (df_stress['COHES'] <= uq)]['STRESS_pred'].sum())\n",
    "print('high:', df_stress[df_stress['COHES'] > uq]['STRESS_pred'].sum())"
   ]
  },
  {
   "cell_type": "code",
   "execution_count": 44,
   "metadata": {
    "collapsed": false
   },
   "outputs": [
    {
     "name": "stdout",
     "output_type": "stream",
     "text": [
      "Negative Binomial:\n",
      "low: 268.0616134173716\n",
      "medium: 742.4349950455183\n",
      "high: 116.48048023141301\n"
     ]
    }
   ],
   "source": [
    "df_stress['STRESS_pred'] = model_nb.predict()\n",
    "\n",
    "print('Negative Binomial:')\n",
    "print('low:', df_stress[df_stress['COHES'] < lq]['STRESS_pred'].sum())\n",
    "print('medium:', df_stress[(df_stress['COHES'] >= lq) & (df_stress['COHES'] <= uq)]['STRESS_pred'].sum())\n",
    "print('high:', df_stress[df_stress['COHES'] > uq]['STRESS_pred'].sum())"
   ]
  },
  {
   "cell_type": "markdown",
   "metadata": {},
   "source": [
    "####Part C"
   ]
  },
  {
   "cell_type": "markdown",
   "metadata": {},
   "source": [
    "What is the expected percent difference in the number of stressful life events for those at high and low levels of family cohesion in each model?"
   ]
  },
  {
   "cell_type": "code",
   "execution_count": 56,
   "metadata": {
    "collapsed": false
   },
   "outputs": [
    {
     "name": "stdout",
     "output_type": "stream",
     "text": [
      "Poisson:\n",
      "STRESS for low COHES is 2.26 times higher than high COHES\n"
     ]
    }
   ],
   "source": [
    "df_stress['STRESS_pred'] = model_poi.predict()\n",
    "\n",
    "low = df_stress[df_stress['COHES'] < lq]['STRESS_pred'].sum()\n",
    "high = df_stress[df_stress['COHES'] > uq]['STRESS_pred'].sum()\n",
    "\n",
    "print('Poisson:')\n",
    "print('STRESS for low COHES is', round(low / high, 2), 'times higher than high COHES')"
   ]
  },
  {
   "cell_type": "code",
   "execution_count": 55,
   "metadata": {
    "collapsed": false
   },
   "outputs": [
    {
     "name": "stdout",
     "output_type": "stream",
     "text": [
      "Negative Binomial:\n",
      "STRESS for low COHES is 2.3 times higher than high COHES\n"
     ]
    }
   ],
   "source": [
    "df_stress['STRESS_pred'] = model_nb.predict()\n",
    "\n",
    "low = df_stress[df_stress['COHES'] < lq]['STRESS_pred'].sum()\n",
    "high = df_stress[df_stress['COHES'] > uq]['STRESS_pred'].sum()\n",
    "\n",
    "print('Negative Binomial:')\n",
    "print('STRESS for low COHES is', round(low / high, 2), 'times higher than high COHES')"
   ]
  },
  {
   "cell_type": "markdown",
   "metadata": {},
   "source": [
    "###Question 3"
   ]
  },
  {
   "cell_type": "markdown",
   "metadata": {},
   "source": [
    "Compute the AICs and  BICs from the Poisson, the overdispersed Poisson, and the negative binomial regression models estimated in exercise 2. Discuss which model you prefer and why."
   ]
  },
  {
   "cell_type": "code",
   "execution_count": 64,
   "metadata": {
    "collapsed": false
   },
   "outputs": [
    {
     "data": {
      "text/html": [
       "<table class=\"simpletable\">\n",
       "<tr>\n",
       "        <td>Model:</td>               <td>GLM</td>            <td>AIC:</td>        <td>2417.2190</td>\n",
       "</tr>\n",
       "<tr>\n",
       "    <td>Link Function:</td>           <td>log</td>            <td>BIC:</td>       <td>-2939.6906</td>\n",
       "</tr>\n",
       "<tr>\n",
       "  <td>Dependent Variable:</td>      <td>STRESS</td>      <td>Log-Likelihood:</td>   <td>-1203.6</td> \n",
       "</tr>\n",
       "<tr>\n",
       "         <td>Date:</td>        <td>2016-08-15 09:44</td>    <td>LL-Null:</td>       <td>-1255.8</td> \n",
       "</tr>\n",
       "<tr>\n",
       "   <td>No. Observations:</td>         <td>651</td>          <td>Deviance:</td>      <td>1245.4</td>  \n",
       "</tr>\n",
       "<tr>\n",
       "       <td>Df Model:</td>              <td>4</td>         <td>Pearson chi2:</td>   <td>1.15e+03</td> \n",
       "</tr>\n",
       "<tr>\n",
       "     <td>Df Residuals:</td>           <td>646</td>           <td>Scale:</td>        <td>1.0000</td>  \n",
       "</tr>\n",
       "<tr>\n",
       "        <td>Method:</td>             <td>IRLS</td>              <td></td>              <td></td>     \n",
       "</tr>\n",
       "</table>\n",
       "<table class=\"simpletable\">\n",
       "<tr>\n",
       "      <td></td>       <th>Coef.</th>  <th>Std.Err.</th>    <th>z</th>     <th>P>|z|</th> <th>[0.025</th>  <th>0.975]</th> \n",
       "</tr>\n",
       "<tr>\n",
       "  <th>Intercept</th> <td>2.7345</td>   <td>0.2341</td>  <td>11.6826</td> <td>0.0000</td> <td>2.2758</td>  <td>3.1933</td> \n",
       "</tr>\n",
       "<tr>\n",
       "  <th>COHES</th>     <td>-0.0129</td>  <td>0.0029</td>  <td>-4.4656</td> <td>0.0000</td> <td>-0.0186</td> <td>-0.0072</td>\n",
       "</tr>\n",
       "<tr>\n",
       "  <th>ESTEEM</th>    <td>-0.0237</td>  <td>0.0080</td>  <td>-2.9472</td> <td>0.0032</td> <td>-0.0394</td> <td>-0.0079</td>\n",
       "</tr>\n",
       "<tr>\n",
       "  <th>GRADES</th>    <td>-0.0235</td>  <td>0.0099</td>  <td>-2.3791</td> <td>0.0174</td> <td>-0.0428</td> <td>-0.0041</td>\n",
       "</tr>\n",
       "<tr>\n",
       "  <th>SATTACH</th>   <td>-0.0165</td>  <td>0.0058</td>  <td>-2.8501</td> <td>0.0044</td> <td>-0.0278</td> <td>-0.0051</td>\n",
       "</tr>\n",
       "</table>"
      ],
      "text/plain": [
       "<class 'statsmodels.iolib.summary2.Summary'>\n",
       "\"\"\"\n",
       "               Results: Generalized linear model\n",
       "===============================================================\n",
       "Model:              GLM              AIC:            2417.2190 \n",
       "Link Function:      log              BIC:            -2939.6906\n",
       "Dependent Variable: STRESS           Log-Likelihood: -1203.6   \n",
       "Date:               2016-08-15 09:44 LL-Null:        -1255.8   \n",
       "No. Observations:   651              Deviance:       1245.4    \n",
       "Df Model:           4                Pearson chi2:   1.15e+03  \n",
       "Df Residuals:       646              Scale:          1.0000    \n",
       "Method:             IRLS                                       \n",
       "----------------------------------------------------------------\n",
       "             Coef.   Std.Err.     z     P>|z|    [0.025   0.975]\n",
       "----------------------------------------------------------------\n",
       "Intercept    2.7345    0.2341  11.6826  0.0000   2.2758   3.1933\n",
       "COHES       -0.0129    0.0029  -4.4656  0.0000  -0.0186  -0.0072\n",
       "ESTEEM      -0.0237    0.0080  -2.9472  0.0032  -0.0394  -0.0079\n",
       "GRADES      -0.0235    0.0099  -2.3791  0.0174  -0.0428  -0.0041\n",
       "SATTACH     -0.0165    0.0058  -2.8501  0.0044  -0.0278  -0.0051\n",
       "===============================================================\n",
       "\n",
       "\"\"\""
      ]
     },
     "execution_count": 64,
     "metadata": {},
     "output_type": "execute_result"
    }
   ],
   "source": [
    "model_poi.summary2()"
   ]
  },
  {
   "cell_type": "code",
   "execution_count": 66,
   "metadata": {
    "collapsed": false
   },
   "outputs": [],
   "source": [
    "#model_nb.summary2()\n",
    "#no easy way to get AIC/BIC for nb using statsmodel at the moment"
   ]
  },
  {
   "cell_type": "markdown",
   "metadata": {},
   "source": [
    "###Question 4"
   ]
  },
  {
   "cell_type": "markdown",
   "metadata": {},
   "source": [
    "Using the Poisson regression model estimated in exercise 2, plot the deviance residuals by the predicted values. Discuss what this plot indicates about the regression model."
   ]
  }
 ],
 "metadata": {
  "kernelspec": {
   "display_name": "Python 3",
   "language": "python",
   "name": "python3"
  },
  "language_info": {
   "codemirror_mode": {
    "name": "ipython",
    "version": 3
   },
   "file_extension": ".py",
   "mimetype": "text/x-python",
   "name": "python",
   "nbconvert_exporter": "python",
   "pygments_lexer": "ipython3",
   "version": "3.5.1"
  }
 },
 "nbformat": 4,
 "nbformat_minor": 0
}

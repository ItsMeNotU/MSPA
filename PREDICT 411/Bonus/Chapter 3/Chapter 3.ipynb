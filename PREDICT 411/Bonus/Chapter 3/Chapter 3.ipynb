{
 "cells": [
  {
   "cell_type": "markdown",
   "metadata": {},
   "source": [
    "#MSPA PREDICT 411"
   ]
  },
  {
   "cell_type": "markdown",
   "metadata": {},
   "source": [
    "##Bonus Problem: Chapter 3"
   ]
  },
  {
   "cell_type": "code",
   "execution_count": 1,
   "metadata": {
    "collapsed": false
   },
   "outputs": [],
   "source": [
    "#!pip install sas7bdat\n",
    "\n",
    "import numpy as np\n",
    "import pandas as pd\n",
    "import statsmodels.api as sm\n",
    "import scipy\n",
    "\n",
    "from patsy import dmatrices\n",
    "from sas7bdat import SAS7BDAT\n",
    "\n",
    "import seaborn as sns\n",
    "import matplotlib.pyplot as plt\n",
    "import matplotlib.pylab as pylab\n",
    "\n",
    "sns.set_style('darkgrid')\n",
    "%matplotlib inline"
   ]
  },
  {
   "cell_type": "markdown",
   "metadata": {},
   "source": [
    "###Introduction"
   ]
  },
  {
   "cell_type": "markdown",
   "metadata": {},
   "source": [
    "This document presents the results of second set of bonus problems for the Masters of Science in Predictive Analytics course: PREDICT 411. This assessment required the student to work through the problem set of Chapter 3 of Hoffmann (2004), Generalized Linear Models, An Applied Approach."
   ]
  },
  {
   "cell_type": "markdown",
   "metadata": {},
   "source": [
    "###Question 1"
   ]
  },
  {
   "cell_type": "markdown",
   "metadata": {},
   "source": [
    "For the following 2x2 table, determine the odds and the probabilities of marijuana use among males and females. Then compute the odds ratio of marijuana use that compare males to females."
   ]
  },
  {
   "cell_type": "markdown",
   "metadata": {},
   "source": [
    "| Marijuana Use | Male | Female |\n",
    "|:-------------:|:----:|:------:|\n",
    "| Yes | 10 | 6 |\n",
    "| No | 30 | 34 |"
   ]
  },
  {
   "cell_type": "markdown",
   "metadata": {},
   "source": [
    "The _probability_ of an event occuring can be defined as:\n",
    "\n",
    "$$\\text{probability}=\\frac{\\text{events}}{\\text{number of outcomes}}$$"
   ]
  },
  {
   "cell_type": "code",
   "execution_count": 2,
   "metadata": {
    "collapsed": false
   },
   "outputs": [
    {
     "name": "stdout",
     "output_type": "stream",
     "text": [
      "p_yes_male: 0.25\n",
      "p_yes_female: 0.15\n"
     ]
    }
   ],
   "source": [
    "count_yes_male = 10 \n",
    "count_no_male = 30\n",
    "count_yes_female = 6\n",
    "count_no_female = 34\n",
    "\n",
    "p_yes_male = count_yes_male / sum([count_yes_male, count_no_male])\n",
    "print('p_yes_male:', p_yes_male)\n",
    "\n",
    "p_yes_female = count_yes_female / sum([count_yes_female, count_no_female])\n",
    "print('p_yes_female:', p_yes_female)"
   ]
  },
  {
   "cell_type": "markdown",
   "metadata": {},
   "source": [
    "While _odds_ can be defined as:\n",
    "\n",
    "$$\\text{odds}=\\frac{p}{1-p}$$"
   ]
  },
  {
   "cell_type": "code",
   "execution_count": 3,
   "metadata": {
    "collapsed": false
   },
   "outputs": [
    {
     "name": "stdout",
     "output_type": "stream",
     "text": [
      "odd_yes_male: 0.3333333333333333\n",
      "odd_yes_female: 0.17647058823529413\n"
     ]
    }
   ],
   "source": [
    "odd_yes_male = p_yes_male / (1- p_yes_male)\n",
    "print('odd_yes_male:', odd_yes_male)\n",
    "\n",
    "odd_yes_female = p_yes_female / (1- p_yes_female)\n",
    "print('odd_yes_female:', odd_yes_female)"
   ]
  },
  {
   "cell_type": "markdown",
   "metadata": {},
   "source": [
    "The _odds ratio_ forumla:\n",
    "    \n",
    "$$OR_{\\text{a vs b}} = \\frac{\\text{odds}_{\\text{a}}}{\\text{odds}_{\\text{b}}}$$"
   ]
  },
  {
   "cell_type": "code",
   "execution_count": 4,
   "metadata": {
    "collapsed": false
   },
   "outputs": [
    {
     "name": "stdout",
     "output_type": "stream",
     "text": [
      "odd_yes_malevsfem: 1.8888888888888886\n"
     ]
    }
   ],
   "source": [
    "odd_yes_malevsfem = odd_yes_male / odd_yes_female\n",
    "print('odd_yes_malevsfem:', odd_yes_malevsfem)"
   ]
  },
  {
   "cell_type": "markdown",
   "metadata": {},
   "source": [
    "###Question 2"
   ]
  },
  {
   "cell_type": "markdown",
   "metadata": {},
   "source": [
    "####Loading the Data"
   ]
  },
  {
   "cell_type": "code",
   "execution_count": 5,
   "metadata": {
    "collapsed": false
   },
   "outputs": [],
   "source": [
    "with SAS7BDAT('data/religion.sas7bdat') as f:\n",
    "    df_rel = f.to_data_frame()"
   ]
  },
  {
   "cell_type": "code",
   "execution_count": 6,
   "metadata": {
    "collapsed": false
   },
   "outputs": [
    {
     "data": {
      "text/html": [
       "<div>\n",
       "<table border=\"1\" class=\"dataframe\">\n",
       "  <thead>\n",
       "    <tr style=\"text-align: right;\">\n",
       "      <th></th>\n",
       "      <th>ID</th>\n",
       "      <th>SEX</th>\n",
       "      <th>AGE</th>\n",
       "      <th>EDUC</th>\n",
       "      <th>INCOME</th>\n",
       "      <th>RELSCHOL</th>\n",
       "      <th>MARRIED</th>\n",
       "      <th>ATTEND</th>\n",
       "      <th>AGESQ</th>\n",
       "      <th>RACE</th>\n",
       "    </tr>\n",
       "  </thead>\n",
       "  <tbody>\n",
       "    <tr>\n",
       "      <th>0</th>\n",
       "      <td>2</td>\n",
       "      <td>1</td>\n",
       "      <td>30</td>\n",
       "      <td>6</td>\n",
       "      <td>11</td>\n",
       "      <td>0</td>\n",
       "      <td>1</td>\n",
       "      <td>6</td>\n",
       "      <td>900</td>\n",
       "      <td>1</td>\n",
       "    </tr>\n",
       "    <tr>\n",
       "      <th>1</th>\n",
       "      <td>3</td>\n",
       "      <td>1</td>\n",
       "      <td>32</td>\n",
       "      <td>6</td>\n",
       "      <td>6</td>\n",
       "      <td>0</td>\n",
       "      <td>1</td>\n",
       "      <td>5</td>\n",
       "      <td>1024</td>\n",
       "      <td>1</td>\n",
       "    </tr>\n",
       "    <tr>\n",
       "      <th>2</th>\n",
       "      <td>4</td>\n",
       "      <td>1</td>\n",
       "      <td>51</td>\n",
       "      <td>2</td>\n",
       "      <td>11</td>\n",
       "      <td>0</td>\n",
       "      <td>1</td>\n",
       "      <td>2</td>\n",
       "      <td>2601</td>\n",
       "      <td>1</td>\n",
       "    </tr>\n",
       "    <tr>\n",
       "      <th>3</th>\n",
       "      <td>5</td>\n",
       "      <td>1</td>\n",
       "      <td>18</td>\n",
       "      <td>2</td>\n",
       "      <td>3</td>\n",
       "      <td>0</td>\n",
       "      <td>0</td>\n",
       "      <td>6</td>\n",
       "      <td>324</td>\n",
       "      <td>1</td>\n",
       "    </tr>\n",
       "    <tr>\n",
       "      <th>4</th>\n",
       "      <td>6</td>\n",
       "      <td>1</td>\n",
       "      <td>37</td>\n",
       "      <td>5</td>\n",
       "      <td>6</td>\n",
       "      <td>0</td>\n",
       "      <td>1</td>\n",
       "      <td>6</td>\n",
       "      <td>1369</td>\n",
       "      <td>1</td>\n",
       "    </tr>\n",
       "  </tbody>\n",
       "</table>\n",
       "</div>"
      ],
      "text/plain": [
       "   ID  SEX  AGE  EDUC  INCOME  RELSCHOL  MARRIED  ATTEND  AGESQ  RACE\n",
       "0   2    1   30     6      11         0        1       6    900     1\n",
       "1   3    1   32     6       6         0        1       5   1024     1\n",
       "2   4    1   51     2      11         0        1       2   2601     1\n",
       "3   5    1   18     2       3         0        0       6    324     1\n",
       "4   6    1   37     5       6         0        1       6   1369     1"
      ]
     },
     "execution_count": 6,
     "metadata": {},
     "output_type": "execute_result"
    }
   ],
   "source": [
    "df_rel.head(5)"
   ]
  },
  {
   "cell_type": "markdown",
   "metadata": {},
   "source": [
    "####Part A"
   ]
  },
  {
   "cell_type": "markdown",
   "metadata": {},
   "source": [
    "Compute the overall odds and probability of attending a religious school."
   ]
  },
  {
   "cell_type": "code",
   "execution_count": 7,
   "metadata": {
    "collapsed": false
   },
   "outputs": [
    {
     "name": "stdout",
     "output_type": "stream",
     "text": [
      "p_yes_relschool: 0.127795527157\n",
      "odd_yes_relschool: 0.14652014652\n"
     ]
    }
   ],
   "source": [
    "count_no_relschool = df_rel['RELSCHOL'].value_counts()[0]\n",
    "count_yes_relschool = df_rel['RELSCHOL'].value_counts()[1]\n",
    "\n",
    "p_yes_relschool = count_yes_relschool / sum([count_yes_relschool, count_no_relschool])\n",
    "print('p_yes_relschool:', p_yes_relschool)\n",
    "\n",
    "odd_yes_relschool = p_yes_relschool / (1- p_yes_relschool)\n",
    "print('odd_yes_relschool:', odd_yes_relschool)"
   ]
  },
  {
   "cell_type": "markdown",
   "metadata": {},
   "source": [
    "####Part B"
   ]
  },
  {
   "cell_type": "markdown",
   "metadata": {},
   "source": [
    "Cross-tabulate _relschol_ with _race_ (coded 0 as non-write, 1 as white). What are the probabilities that non-white students and white students attend religious schools? What are the odds that white students and non-white students attend religious schools? What is the odds ratio that compares white and non-white students?"
   ]
  },
  {
   "cell_type": "code",
   "execution_count": 8,
   "metadata": {
    "collapsed": false
   },
   "outputs": [
    {
     "data": {
      "text/html": [
       "<div>\n",
       "<table border=\"1\" class=\"dataframe\">\n",
       "  <thead>\n",
       "    <tr style=\"text-align: right;\">\n",
       "      <th>RACE</th>\n",
       "      <th>0.0</th>\n",
       "      <th>1.0</th>\n",
       "    </tr>\n",
       "    <tr>\n",
       "      <th>RELSCHOL</th>\n",
       "      <th></th>\n",
       "      <th></th>\n",
       "    </tr>\n",
       "  </thead>\n",
       "  <tbody>\n",
       "    <tr>\n",
       "      <th>0</th>\n",
       "      <td>76</td>\n",
       "      <td>470</td>\n",
       "    </tr>\n",
       "    <tr>\n",
       "      <th>1</th>\n",
       "      <td>26</td>\n",
       "      <td>54</td>\n",
       "    </tr>\n",
       "  </tbody>\n",
       "</table>\n",
       "</div>"
      ],
      "text/plain": [
       "RACE       0    1\n",
       "RELSCHOL         \n",
       "0         76  470\n",
       "1         26   54"
      ]
     },
     "execution_count": 8,
     "metadata": {},
     "output_type": "execute_result"
    }
   ],
   "source": [
    "pd.crosstab(df_rel['RELSCHOL'], df_rel['RACE'])"
   ]
  },
  {
   "cell_type": "markdown",
   "metadata": {},
   "source": [
    "The _probability_ of an event occuring can be defined as:\n",
    "\n",
    "$$\\text{probability}=\\frac{\\text{events}}{\\text{number of outcomes}}$$"
   ]
  },
  {
   "cell_type": "code",
   "execution_count": 9,
   "metadata": {
    "collapsed": false
   },
   "outputs": [
    {
     "name": "stdout",
     "output_type": "stream",
     "text": [
      "p_white_relschool: 0.10305343511450382\n",
      "p_black_relschool: 0.2549019607843137\n"
     ]
    }
   ],
   "source": [
    "count_white_relschool = 54\n",
    "count_black_relschool = 26\n",
    "count_white_norelschool = 470\n",
    "count_black_norelschool = 76\n",
    "\n",
    "p_white_relschool = count_white_relschool / sum([count_white_relschool, count_white_norelschool])\n",
    "print('p_white_relschool:', p_white_relschool)\n",
    "\n",
    "p_black_relschool = count_black_relschool / sum([count_black_relschool, count_black_norelschool])\n",
    "print('p_black_relschool:', p_black_relschool)"
   ]
  },
  {
   "cell_type": "markdown",
   "metadata": {},
   "source": [
    "While _odds_ can be defined as:\n",
    "\n",
    "$$\\text{odds}=\\frac{p}{1-p}$$"
   ]
  },
  {
   "cell_type": "code",
   "execution_count": 10,
   "metadata": {
    "collapsed": false
   },
   "outputs": [
    {
     "name": "stdout",
     "output_type": "stream",
     "text": [
      "odd_white_relschool: 0.11489361702127661\n",
      "odd_black_relschool: 0.3421052631578947\n"
     ]
    }
   ],
   "source": [
    "odd_white_relschool = p_white_relschool / (1- p_white_relschool)\n",
    "print('odd_white_relschool:', odd_white_relschool)\n",
    "\n",
    "odd_black_relschool = p_black_relschool / (1- p_black_relschool)\n",
    "print('odd_black_relschool:', odd_black_relschool)"
   ]
  },
  {
   "cell_type": "markdown",
   "metadata": {},
   "source": [
    "The _odds ratio_ forumla:\n",
    "    \n",
    "$$OR_{\\text{a vs b}} = \\frac{\\text{odds}_{\\text{a}}}{\\text{odds}_{\\text{b}}}$$"
   ]
  },
  {
   "cell_type": "code",
   "execution_count": 11,
   "metadata": {
    "collapsed": false
   },
   "outputs": [
    {
     "name": "stdout",
     "output_type": "stream",
     "text": [
      "odd_relschool_whitevsblack: 0.3358428805237317\n"
     ]
    }
   ],
   "source": [
    "odd_relschool_whitevsblack = odd_white_relschool / odd_black_relschool\n",
    "print('odd_relschool_whitevsblack:', odd_relschool_whitevsblack)"
   ]
  },
  {
   "cell_type": "markdown",
   "metadata": {},
   "source": [
    "###Question 3"
   ]
  },
  {
   "cell_type": "markdown",
   "metadata": {},
   "source": [
    "Estimate two logistic regression models that are designed to preict _relschol_. In the first model include only the variable _race_. In the second model, include _Race_, _attend_ (religious service attendence), and _income_ (family income), treating the latter two as continuous variables."
   ]
  },
  {
   "cell_type": "markdown",
   "metadata": {},
   "source": [
    "####Part A"
   ]
  },
  {
   "cell_type": "markdown",
   "metadata": {},
   "source": [
    "Based on the first model, what is the odds ratio that compares white and non-white students? Compare this to the odds ratio computed in Excercise 2.B."
   ]
  },
  {
   "cell_type": "code",
   "execution_count": 12,
   "metadata": {
    "collapsed": false
   },
   "outputs": [
    {
     "name": "stdout",
     "output_type": "stream",
     "text": [
      "Optimization terminated successfully.\n",
      "         Current function value: 0.370181\n",
      "         Iterations 6\n"
     ]
    }
   ],
   "source": [
    "y, X = dmatrices('RELSCHOL ~ C(RACE)', data=df_rel, return_type='dataframe')\n",
    "model = sm.Logit(y, X)\n",
    "results = model.fit()"
   ]
  },
  {
   "cell_type": "code",
   "execution_count": 13,
   "metadata": {
    "collapsed": false
   },
   "outputs": [
    {
     "data": {
      "text/html": [
       "<table class=\"simpletable\">\n",
       "<caption>Logit Regression Results</caption>\n",
       "<tr>\n",
       "  <th>Dep. Variable:</th>     <td>RELSCHOL</td>     <th>  No. Observations:  </th>  <td>   626</td>  \n",
       "</tr>\n",
       "<tr>\n",
       "  <th>Model:</th>               <td>Logit</td>      <th>  Df Residuals:      </th>  <td>   624</td>  \n",
       "</tr>\n",
       "<tr>\n",
       "  <th>Method:</th>               <td>MLE</td>       <th>  Df Model:          </th>  <td>     1</td>  \n",
       "</tr>\n",
       "<tr>\n",
       "  <th>Date:</th>          <td>Tue, 12 Jul 2016</td> <th>  Pseudo R-squ.:     </th>  <td>0.03138</td> \n",
       "</tr>\n",
       "<tr>\n",
       "  <th>Time:</th>              <td>17:11:22</td>     <th>  Log-Likelihood:    </th> <td> -231.73</td> \n",
       "</tr>\n",
       "<tr>\n",
       "  <th>converged:</th>           <td>True</td>       <th>  LL-Null:           </th> <td> -239.24</td> \n",
       "</tr>\n",
       "<tr>\n",
       "  <th> </th>                      <td> </td>        <th>  LLR p-value:       </th> <td>0.0001066</td>\n",
       "</tr>\n",
       "</table>\n",
       "<table class=\"simpletable\">\n",
       "<tr>\n",
       "         <td></td>           <th>coef</th>     <th>std err</th>      <th>z</th>      <th>P>|z|</th> <th>[95.0% Conf. Int.]</th> \n",
       "</tr>\n",
       "<tr>\n",
       "  <th>Intercept</th>      <td>   -1.0726</td> <td>    0.227</td> <td>   -4.721</td> <td> 0.000</td> <td>   -1.518    -0.627</td>\n",
       "</tr>\n",
       "<tr>\n",
       "  <th>C(RACE)[T.1.0]</th> <td>   -1.0911</td> <td>    0.269</td> <td>   -4.059</td> <td> 0.000</td> <td>   -1.618    -0.564</td>\n",
       "</tr>\n",
       "</table>"
      ],
      "text/plain": [
       "<class 'statsmodels.iolib.summary.Summary'>\n",
       "\"\"\"\n",
       "                           Logit Regression Results                           \n",
       "==============================================================================\n",
       "Dep. Variable:               RELSCHOL   No. Observations:                  626\n",
       "Model:                          Logit   Df Residuals:                      624\n",
       "Method:                           MLE   Df Model:                            1\n",
       "Date:                Tue, 12 Jul 2016   Pseudo R-squ.:                 0.03138\n",
       "Time:                        17:11:22   Log-Likelihood:                -231.73\n",
       "converged:                       True   LL-Null:                       -239.24\n",
       "                                        LLR p-value:                 0.0001066\n",
       "==================================================================================\n",
       "                     coef    std err          z      P>|z|      [95.0% Conf. Int.]\n",
       "----------------------------------------------------------------------------------\n",
       "Intercept         -1.0726      0.227     -4.721      0.000        -1.518    -0.627\n",
       "C(RACE)[T.1.0]    -1.0911      0.269     -4.059      0.000        -1.618    -0.564\n",
       "==================================================================================\n",
       "\"\"\""
      ]
     },
     "execution_count": 13,
     "metadata": {},
     "output_type": "execute_result"
    }
   ],
   "source": [
    "results.summary()"
   ]
  },
  {
   "cell_type": "code",
   "execution_count": 14,
   "metadata": {
    "collapsed": false
   },
   "outputs": [
    {
     "data": {
      "text/html": [
       "<table class=\"simpletable\">\n",
       "<tr>\n",
       "        <td>Model:</td>              <td>Logit</td>      <td>Pseudo R-squared:</td>    <td>0.031</td>  \n",
       "</tr>\n",
       "<tr>\n",
       "  <td>Dependent Variable:</td>     <td>RELSCHOL</td>           <td>AIC:</td>         <td>467.4662</td> \n",
       "</tr>\n",
       "<tr>\n",
       "         <td>Date:</td>        <td>2016-07-12 17:11</td>       <td>BIC:</td>         <td>476.3449</td> \n",
       "</tr>\n",
       "<tr>\n",
       "   <td>No. Observations:</td>         <td>626</td>        <td>Log-Likelihood:</td>    <td>-231.73</td> \n",
       "</tr>\n",
       "<tr>\n",
       "       <td>Df Model:</td>              <td>1</td>            <td>LL-Null:</td>        <td>-239.24</td> \n",
       "</tr>\n",
       "<tr>\n",
       "     <td>Df Residuals:</td>           <td>624</td>         <td>LLR p-value:</td>    <td>0.00010659</td>\n",
       "</tr>\n",
       "<tr>\n",
       "      <td>Converged:</td>           <td>1.0000</td>           <td>Scale:</td>         <td>1.0000</td>  \n",
       "</tr>\n",
       "<tr>\n",
       "    <td>No. Iterations:</td>        <td>6.0000</td>              <td></td>               <td></td>     \n",
       "</tr>\n",
       "</table>\n",
       "<table class=\"simpletable\">\n",
       "<tr>\n",
       "         <td></td>         <th>Coef.</th>  <th>Std.Err.</th>    <th>z</th>     <th>P>|z|</th> <th>[0.025</th>  <th>0.975]</th> \n",
       "</tr>\n",
       "<tr>\n",
       "  <th>Intercept</th>      <td>-1.0726</td>  <td>0.2272</td>  <td>-4.7211</td> <td>0.0000</td> <td>-1.5179</td> <td>-0.6273</td>\n",
       "</tr>\n",
       "<tr>\n",
       "  <th>C(RACE)[T.1.0]</th> <td>-1.0911</td>  <td>0.2688</td>  <td>-4.0589</td> <td>0.0000</td> <td>-1.6180</td> <td>-0.5642</td>\n",
       "</tr>\n",
       "</table>"
      ],
      "text/plain": [
       "<class 'statsmodels.iolib.summary2.Summary'>\n",
       "\"\"\"\n",
       "                         Results: Logit\n",
       "=================================================================\n",
       "Model:              Logit            Pseudo R-squared: 0.031     \n",
       "Dependent Variable: RELSCHOL         AIC:              467.4662  \n",
       "Date:               2016-07-12 17:11 BIC:              476.3449  \n",
       "No. Observations:   626              Log-Likelihood:   -231.73   \n",
       "Df Model:           1                LL-Null:          -239.24   \n",
       "Df Residuals:       624              LLR p-value:      0.00010659\n",
       "Converged:          1.0000           Scale:            1.0000    \n",
       "No. Iterations:     6.0000                                       \n",
       "-----------------------------------------------------------------\n",
       "                   Coef.  Std.Err.    z    P>|z|   [0.025  0.975]\n",
       "-----------------------------------------------------------------\n",
       "Intercept         -1.0726   0.2272 -4.7211 0.0000 -1.5179 -0.6273\n",
       "C(RACE)[T.1.0]    -1.0911   0.2688 -4.0589 0.0000 -1.6180 -0.5642\n",
       "=================================================================\n",
       "\n",
       "\"\"\""
      ]
     },
     "execution_count": 14,
     "metadata": {},
     "output_type": "execute_result"
    }
   ],
   "source": [
    "results.summary2()"
   ]
  },
  {
   "cell_type": "code",
   "execution_count": 15,
   "metadata": {
    "collapsed": false
   },
   "outputs": [
    {
     "name": "stdout",
     "output_type": "stream",
     "text": [
      "Optimization terminated successfully.\n",
      "         Current function value: 0.353214\n",
      "         Iterations 7\n"
     ]
    }
   ],
   "source": [
    "y, X = dmatrices('RELSCHOL ~ C(RACE) + ATTEND + INCOME', data=df_rel, return_type='dataframe')\n",
    "model = sm.Logit(y, X)\n",
    "results = model.fit()"
   ]
  },
  {
   "cell_type": "code",
   "execution_count": 16,
   "metadata": {
    "collapsed": false
   },
   "outputs": [
    {
     "data": {
      "text/html": [
       "<table class=\"simpletable\">\n",
       "<caption>Logit Regression Results</caption>\n",
       "<tr>\n",
       "  <th>Dep. Variable:</th>     <td>RELSCHOL</td>     <th>  No. Observations:  </th>  <td>   590</td>  \n",
       "</tr>\n",
       "<tr>\n",
       "  <th>Model:</th>               <td>Logit</td>      <th>  Df Residuals:      </th>  <td>   586</td>  \n",
       "</tr>\n",
       "<tr>\n",
       "  <th>Method:</th>               <td>MLE</td>       <th>  Df Model:          </th>  <td>     3</td>  \n",
       "</tr>\n",
       "<tr>\n",
       "  <th>Date:</th>          <td>Tue, 12 Jul 2016</td> <th>  Pseudo R-squ.:     </th>  <td>0.08047</td> \n",
       "</tr>\n",
       "<tr>\n",
       "  <th>Time:</th>              <td>17:11:22</td>     <th>  Log-Likelihood:    </th> <td> -208.40</td> \n",
       "</tr>\n",
       "<tr>\n",
       "  <th>converged:</th>           <td>True</td>       <th>  LL-Null:           </th> <td> -226.63</td> \n",
       "</tr>\n",
       "<tr>\n",
       "  <th> </th>                      <td> </td>        <th>  LLR p-value:       </th> <td>5.943e-08</td>\n",
       "</tr>\n",
       "</table>\n",
       "<table class=\"simpletable\">\n",
       "<tr>\n",
       "         <td></td>           <th>coef</th>     <th>std err</th>      <th>z</th>      <th>P>|z|</th> <th>[95.0% Conf. Int.]</th> \n",
       "</tr>\n",
       "<tr>\n",
       "  <th>Intercept</th>      <td>   -3.5831</td> <td>    0.719</td> <td>   -4.987</td> <td> 0.000</td> <td>   -4.991    -2.175</td>\n",
       "</tr>\n",
       "<tr>\n",
       "  <th>C(RACE)[T.1.0]</th> <td>   -1.2893</td> <td>    0.290</td> <td>   -4.449</td> <td> 0.000</td> <td>   -1.857    -0.721</td>\n",
       "</tr>\n",
       "<tr>\n",
       "  <th>ATTEND</th>         <td>    0.3316</td> <td>    0.130</td> <td>    2.558</td> <td> 0.011</td> <td>    0.078     0.586</td>\n",
       "</tr>\n",
       "<tr>\n",
       "  <th>INCOME</th>         <td>    0.2007</td> <td>    0.049</td> <td>    4.118</td> <td> 0.000</td> <td>    0.105     0.296</td>\n",
       "</tr>\n",
       "</table>"
      ],
      "text/plain": [
       "<class 'statsmodels.iolib.summary.Summary'>\n",
       "\"\"\"\n",
       "                           Logit Regression Results                           \n",
       "==============================================================================\n",
       "Dep. Variable:               RELSCHOL   No. Observations:                  590\n",
       "Model:                          Logit   Df Residuals:                      586\n",
       "Method:                           MLE   Df Model:                            3\n",
       "Date:                Tue, 12 Jul 2016   Pseudo R-squ.:                 0.08047\n",
       "Time:                        17:11:22   Log-Likelihood:                -208.40\n",
       "converged:                       True   LL-Null:                       -226.63\n",
       "                                        LLR p-value:                 5.943e-08\n",
       "==================================================================================\n",
       "                     coef    std err          z      P>|z|      [95.0% Conf. Int.]\n",
       "----------------------------------------------------------------------------------\n",
       "Intercept         -3.5831      0.719     -4.987      0.000        -4.991    -2.175\n",
       "C(RACE)[T.1.0]    -1.2893      0.290     -4.449      0.000        -1.857    -0.721\n",
       "ATTEND             0.3316      0.130      2.558      0.011         0.078     0.586\n",
       "INCOME             0.2007      0.049      4.118      0.000         0.105     0.296\n",
       "==================================================================================\n",
       "\"\"\""
      ]
     },
     "execution_count": 16,
     "metadata": {},
     "output_type": "execute_result"
    }
   ],
   "source": [
    "results.summary()"
   ]
  },
  {
   "cell_type": "code",
   "execution_count": 17,
   "metadata": {
    "collapsed": false
   },
   "outputs": [
    {
     "data": {
      "text/html": [
       "<table class=\"simpletable\">\n",
       "<tr>\n",
       "        <td>Model:</td>              <td>Logit</td>      <td>Pseudo R-squared:</td>    <td>0.080</td>  \n",
       "</tr>\n",
       "<tr>\n",
       "  <td>Dependent Variable:</td>     <td>RELSCHOL</td>           <td>AIC:</td>         <td>424.7930</td> \n",
       "</tr>\n",
       "<tr>\n",
       "         <td>Date:</td>        <td>2016-07-12 17:11</td>       <td>BIC:</td>         <td>442.3135</td> \n",
       "</tr>\n",
       "<tr>\n",
       "   <td>No. Observations:</td>         <td>590</td>        <td>Log-Likelihood:</td>    <td>-208.40</td> \n",
       "</tr>\n",
       "<tr>\n",
       "       <td>Df Model:</td>              <td>3</td>            <td>LL-Null:</td>        <td>-226.63</td> \n",
       "</tr>\n",
       "<tr>\n",
       "     <td>Df Residuals:</td>           <td>586</td>         <td>LLR p-value:</td>    <td>5.9434e-08</td>\n",
       "</tr>\n",
       "<tr>\n",
       "      <td>Converged:</td>           <td>1.0000</td>           <td>Scale:</td>         <td>1.0000</td>  \n",
       "</tr>\n",
       "<tr>\n",
       "    <td>No. Iterations:</td>        <td>7.0000</td>              <td></td>               <td></td>     \n",
       "</tr>\n",
       "</table>\n",
       "<table class=\"simpletable\">\n",
       "<tr>\n",
       "         <td></td>         <th>Coef.</th>  <th>Std.Err.</th>    <th>z</th>     <th>P>|z|</th> <th>[0.025</th>  <th>0.975]</th> \n",
       "</tr>\n",
       "<tr>\n",
       "  <th>Intercept</th>      <td>-3.5831</td>  <td>0.7185</td>  <td>-4.9868</td> <td>0.0000</td> <td>-4.9914</td> <td>-2.1749</td>\n",
       "</tr>\n",
       "<tr>\n",
       "  <th>C(RACE)[T.1.0]</th> <td>-1.2893</td>  <td>0.2898</td>  <td>-4.4488</td> <td>0.0000</td> <td>-1.8573</td> <td>-0.7213</td>\n",
       "</tr>\n",
       "<tr>\n",
       "  <th>ATTEND</th>         <td>0.3316</td>   <td>0.1297</td>  <td>2.5577</td>  <td>0.0105</td> <td>0.0775</td>  <td>0.5858</td> \n",
       "</tr>\n",
       "<tr>\n",
       "  <th>INCOME</th>         <td>0.2007</td>   <td>0.0487</td>  <td>4.1183</td>  <td>0.0000</td> <td>0.1052</td>  <td>0.2962</td> \n",
       "</tr>\n",
       "</table>"
      ],
      "text/plain": [
       "<class 'statsmodels.iolib.summary2.Summary'>\n",
       "\"\"\"\n",
       "                         Results: Logit\n",
       "=================================================================\n",
       "Model:              Logit            Pseudo R-squared: 0.080     \n",
       "Dependent Variable: RELSCHOL         AIC:              424.7930  \n",
       "Date:               2016-07-12 17:11 BIC:              442.3135  \n",
       "No. Observations:   590              Log-Likelihood:   -208.40   \n",
       "Df Model:           3                LL-Null:          -226.63   \n",
       "Df Residuals:       586              LLR p-value:      5.9434e-08\n",
       "Converged:          1.0000           Scale:            1.0000    \n",
       "No. Iterations:     7.0000                                       \n",
       "-----------------------------------------------------------------\n",
       "                   Coef.  Std.Err.    z    P>|z|   [0.025  0.975]\n",
       "-----------------------------------------------------------------\n",
       "Intercept         -3.5831   0.7185 -4.9868 0.0000 -4.9914 -2.1749\n",
       "C(RACE)[T.1.0]    -1.2893   0.2898 -4.4488 0.0000 -1.8573 -0.7213\n",
       "ATTEND             0.3316   0.1297  2.5577 0.0105  0.0775  0.5858\n",
       "INCOME             0.2007   0.0487  4.1183 0.0000  0.1052  0.2962\n",
       "=================================================================\n",
       "\n",
       "\"\"\""
      ]
     },
     "execution_count": 17,
     "metadata": {},
     "output_type": "execute_result"
    }
   ],
   "source": [
    "results.summary2()"
   ]
  },
  {
   "cell_type": "markdown",
   "metadata": {},
   "source": [
    "####Part B"
   ]
  },
  {
   "cell_type": "markdown",
   "metadata": {},
   "source": [
    "What are the AIC and BIC for the two models? Based on these measures of fit, which model do you prefer?"
   ]
  },
  {
   "cell_type": "markdown",
   "metadata": {},
   "source": [
    "|   | AIC | BIC |\n",
    "|---|:---:|:---:|\n",
    "| Model_1 | 467.4662 | 476.3449 |\n",
    "| Model_2 | 424.7930 | 442.3135 |"
   ]
  },
  {
   "cell_type": "markdown",
   "metadata": {},
   "source": [
    "The usual rule of thumb is to compare the AIC and BIC values and choose the model in which the values are lower. In this case, we would prefer Model_2."
   ]
  },
  {
   "cell_type": "markdown",
   "metadata": {},
   "source": [
    "####Part C"
   ]
  },
  {
   "cell_type": "markdown",
   "metadata": {},
   "source": [
    "For tose who attend religious services five days per month (_attend_ = 5) and have a family income of $20,000-29,999$ (_income_ = 4), what are the predicted odds of attending a religious school for white and non-white students?"
   ]
  },
  {
   "cell_type": "code",
   "execution_count": 18,
   "metadata": {
    "collapsed": false
   },
   "outputs": [
    {
     "name": "stdout",
     "output_type": "stream",
     "text": [
      "odds_white: 0.0896717050032 odds_non_white: 0.325530213444\n"
     ]
    }
   ],
   "source": [
    "odds_white  = np.exp(-3.5831 + 1.0*-1.2893 + 5.0*0.3316 + 4.0*0.2007)\n",
    "odds_non_white = np.exp(-3.5831 + 0.0*-1.2893 + 5.0*0.3316 + 4.0*0.2007)\n",
    "print('odds_white:', odds_white, 'odds_non_white:', odds_non_white)"
   ]
  },
  {
   "cell_type": "markdown",
   "metadata": {},
   "source": [
    "####Part D"
   ]
  },
  {
   "cell_type": "markdown",
   "metadata": {},
   "source": [
    "What is the adjusted odds ratio for _race_? Interpret this odds ratio.\n",
    "\n",
    "We will calculate the adjusted odds ratio for gender by plugging the mean values in and predicting the odds for white and non-white."
   ]
  },
  {
   "cell_type": "code",
   "execution_count": 19,
   "metadata": {
    "collapsed": false
   },
   "outputs": [
    {
     "data": {
      "text/plain": [
       "ID           503.487220\n",
       "SEX            0.584665\n",
       "AGE           47.077047\n",
       "EDUC           3.323718\n",
       "INCOME         5.215254\n",
       "RELSCHOL       0.127796\n",
       "MARRIED        0.635783\n",
       "ATTEND         4.535144\n",
       "AGESQ       2518.495987\n",
       "RACE           0.837061\n",
       "dtype: float64"
      ]
     },
     "execution_count": 19,
     "metadata": {},
     "output_type": "execute_result"
    }
   ],
   "source": [
    "df_rel.mean()"
   ]
  },
  {
   "cell_type": "code",
   "execution_count": 20,
   "metadata": {
    "collapsed": false
   },
   "outputs": [
    {
     "name": "stdout",
     "output_type": "stream",
     "text": [
      "m_odds_white: 0.275463540095 0.275463540095\n"
     ]
    }
   ],
   "source": [
    "m_odds_white = np.exp(-3.5831 + 1.0*-1.2893 + 4.535144*0.3316 + 5.215254*0.2007)\n",
    "m_odds_non_white = np.exp(-3.5831 + 0.0*-1.2893 + 4.535144*0.3316 + 5.215254*0.2007)\n",
    "print('m_odds_white:', m_odds_white / m_odds_non_white , np.exp(-1.2893))"
   ]
  },
  {
   "cell_type": "markdown",
   "metadata": {},
   "source": [
    "###Question 4"
   ]
  },
  {
   "cell_type": "markdown",
   "metadata": {},
   "source": [
    "Re-estimate the two models outlined in Excercise 3, but use a probit model."
   ]
  },
  {
   "cell_type": "code",
   "execution_count": 21,
   "metadata": {
    "collapsed": false
   },
   "outputs": [
    {
     "name": "stdout",
     "output_type": "stream",
     "text": [
      "Optimization terminated successfully.\n",
      "         Current function value: 0.370181\n",
      "         Iterations 6\n"
     ]
    },
    {
     "data": {
      "text/html": [
       "<table class=\"simpletable\">\n",
       "<tr>\n",
       "        <td>Model:</td>             <td>Probit</td>      <td>Pseudo R-squared:</td>    <td>0.031</td>  \n",
       "</tr>\n",
       "<tr>\n",
       "  <td>Dependent Variable:</td>     <td>RELSCHOL</td>           <td>AIC:</td>         <td>467.4662</td> \n",
       "</tr>\n",
       "<tr>\n",
       "         <td>Date:</td>        <td>2016-07-12 17:11</td>       <td>BIC:</td>         <td>476.3449</td> \n",
       "</tr>\n",
       "<tr>\n",
       "   <td>No. Observations:</td>         <td>626</td>        <td>Log-Likelihood:</td>    <td>-231.73</td> \n",
       "</tr>\n",
       "<tr>\n",
       "       <td>Df Model:</td>              <td>1</td>            <td>LL-Null:</td>        <td>-239.24</td> \n",
       "</tr>\n",
       "<tr>\n",
       "     <td>Df Residuals:</td>           <td>624</td>         <td>LLR p-value:</td>    <td>0.00010659</td>\n",
       "</tr>\n",
       "<tr>\n",
       "      <td>Converged:</td>           <td>1.0000</td>           <td>Scale:</td>         <td>1.0000</td>  \n",
       "</tr>\n",
       "<tr>\n",
       "    <td>No. Iterations:</td>        <td>6.0000</td>              <td></td>               <td></td>     \n",
       "</tr>\n",
       "</table>\n",
       "<table class=\"simpletable\">\n",
       "<tr>\n",
       "         <td></td>         <th>Coef.</th>  <th>Std.Err.</th>    <th>z</th>     <th>P>|z|</th> <th>[0.025</th>  <th>0.975]</th> \n",
       "</tr>\n",
       "<tr>\n",
       "  <th>Intercept</th>      <td>-0.6591</td>  <td>0.1344</td>  <td>-4.9040</td> <td>0.0000</td> <td>-0.9226</td> <td>-0.3957</td>\n",
       "</tr>\n",
       "<tr>\n",
       "  <th>C(RACE)[T.1.0]</th> <td>-0.6052</td>  <td>0.1535</td>  <td>-3.9439</td> <td>0.0001</td> <td>-0.9060</td> <td>-0.3044</td>\n",
       "</tr>\n",
       "</table>"
      ],
      "text/plain": [
       "<class 'statsmodels.iolib.summary2.Summary'>\n",
       "\"\"\"\n",
       "                         Results: Probit\n",
       "=================================================================\n",
       "Model:              Probit           Pseudo R-squared: 0.031     \n",
       "Dependent Variable: RELSCHOL         AIC:              467.4662  \n",
       "Date:               2016-07-12 17:11 BIC:              476.3449  \n",
       "No. Observations:   626              Log-Likelihood:   -231.73   \n",
       "Df Model:           1                LL-Null:          -239.24   \n",
       "Df Residuals:       624              LLR p-value:      0.00010659\n",
       "Converged:          1.0000           Scale:            1.0000    \n",
       "No. Iterations:     6.0000                                       \n",
       "-----------------------------------------------------------------\n",
       "                   Coef.  Std.Err.    z    P>|z|   [0.025  0.975]\n",
       "-----------------------------------------------------------------\n",
       "Intercept         -0.6591   0.1344 -4.9040 0.0000 -0.9226 -0.3957\n",
       "C(RACE)[T.1.0]    -0.6052   0.1535 -3.9439 0.0001 -0.9060 -0.3044\n",
       "=================================================================\n",
       "\n",
       "\"\"\""
      ]
     },
     "execution_count": 21,
     "metadata": {},
     "output_type": "execute_result"
    }
   ],
   "source": [
    "y, X = dmatrices('RELSCHOL ~ C(RACE)', data=df_rel, return_type='dataframe')\n",
    "model = sm.Probit(y, X)\n",
    "results = model.fit()\n",
    "results.summary2()"
   ]
  },
  {
   "cell_type": "markdown",
   "metadata": {},
   "source": [
    "####Part A"
   ]
  },
  {
   "cell_type": "markdown",
   "metadata": {},
   "source": [
    "Based on the first model, what is the predicted probability that white and non-white students attend a religious school? Compare these results to those found in Exercise 2.B."
   ]
  },
  {
   "cell_type": "code",
   "execution_count": 22,
   "metadata": {
    "collapsed": false
   },
   "outputs": [
    {
     "name": "stdout",
     "output_type": "stream",
     "text": [
      "p_white: 0.103079125424\n",
      "p_non_white: 0.25491577784\n"
     ]
    }
   ],
   "source": [
    "p_white = scipy.stats.norm.cdf(-0.6591-0.6051)\n",
    "print('p_white:', p_white)\n",
    "\n",
    "p_non_white = scipy.stats.norm.cdf(-0.6591)\n",
    "print('p_non_white:', p_non_white)"
   ]
  },
  {
   "cell_type": "markdown",
   "metadata": {},
   "source": [
    "####Part B"
   ]
  },
  {
   "cell_type": "markdown",
   "metadata": {},
   "source": [
    "What are the AIC and BIC for the two models? Compare these to the AIC and BIC computed in Exercise 3.B."
   ]
  },
  {
   "cell_type": "code",
   "execution_count": 23,
   "metadata": {
    "collapsed": false
   },
   "outputs": [
    {
     "data": {
      "text/html": [
       "<table class=\"simpletable\">\n",
       "<tr>\n",
       "        <td>Model:</td>             <td>Probit</td>      <td>Pseudo R-squared:</td>    <td>0.031</td>  \n",
       "</tr>\n",
       "<tr>\n",
       "  <td>Dependent Variable:</td>     <td>RELSCHOL</td>           <td>AIC:</td>         <td>467.4662</td> \n",
       "</tr>\n",
       "<tr>\n",
       "         <td>Date:</td>        <td>2016-07-12 17:11</td>       <td>BIC:</td>         <td>476.3449</td> \n",
       "</tr>\n",
       "<tr>\n",
       "   <td>No. Observations:</td>         <td>626</td>        <td>Log-Likelihood:</td>    <td>-231.73</td> \n",
       "</tr>\n",
       "<tr>\n",
       "       <td>Df Model:</td>              <td>1</td>            <td>LL-Null:</td>        <td>-239.24</td> \n",
       "</tr>\n",
       "<tr>\n",
       "     <td>Df Residuals:</td>           <td>624</td>         <td>LLR p-value:</td>    <td>0.00010659</td>\n",
       "</tr>\n",
       "<tr>\n",
       "      <td>Converged:</td>           <td>1.0000</td>           <td>Scale:</td>         <td>1.0000</td>  \n",
       "</tr>\n",
       "<tr>\n",
       "    <td>No. Iterations:</td>        <td>6.0000</td>              <td></td>               <td></td>     \n",
       "</tr>\n",
       "</table>\n",
       "<table class=\"simpletable\">\n",
       "<tr>\n",
       "         <td></td>         <th>Coef.</th>  <th>Std.Err.</th>    <th>z</th>     <th>P>|z|</th> <th>[0.025</th>  <th>0.975]</th> \n",
       "</tr>\n",
       "<tr>\n",
       "  <th>Intercept</th>      <td>-0.6591</td>  <td>0.1344</td>  <td>-4.9040</td> <td>0.0000</td> <td>-0.9226</td> <td>-0.3957</td>\n",
       "</tr>\n",
       "<tr>\n",
       "  <th>C(RACE)[T.1.0]</th> <td>-0.6052</td>  <td>0.1535</td>  <td>-3.9439</td> <td>0.0001</td> <td>-0.9060</td> <td>-0.3044</td>\n",
       "</tr>\n",
       "</table>"
      ],
      "text/plain": [
       "<class 'statsmodels.iolib.summary2.Summary'>\n",
       "\"\"\"\n",
       "                         Results: Probit\n",
       "=================================================================\n",
       "Model:              Probit           Pseudo R-squared: 0.031     \n",
       "Dependent Variable: RELSCHOL         AIC:              467.4662  \n",
       "Date:               2016-07-12 17:11 BIC:              476.3449  \n",
       "No. Observations:   626              Log-Likelihood:   -231.73   \n",
       "Df Model:           1                LL-Null:          -239.24   \n",
       "Df Residuals:       624              LLR p-value:      0.00010659\n",
       "Converged:          1.0000           Scale:            1.0000    \n",
       "No. Iterations:     6.0000                                       \n",
       "-----------------------------------------------------------------\n",
       "                   Coef.  Std.Err.    z    P>|z|   [0.025  0.975]\n",
       "-----------------------------------------------------------------\n",
       "Intercept         -0.6591   0.1344 -4.9040 0.0000 -0.9226 -0.3957\n",
       "C(RACE)[T.1.0]    -0.6052   0.1535 -3.9439 0.0001 -0.9060 -0.3044\n",
       "=================================================================\n",
       "\n",
       "\"\"\""
      ]
     },
     "execution_count": 23,
     "metadata": {},
     "output_type": "execute_result"
    }
   ],
   "source": [
    "results.summary2()"
   ]
  },
  {
   "cell_type": "code",
   "execution_count": 24,
   "metadata": {
    "collapsed": false
   },
   "outputs": [
    {
     "name": "stdout",
     "output_type": "stream",
     "text": [
      "Optimization terminated successfully.\n",
      "         Current function value: 0.351750\n",
      "         Iterations 6\n"
     ]
    },
    {
     "data": {
      "text/html": [
       "<table class=\"simpletable\">\n",
       "<tr>\n",
       "        <td>Model:</td>             <td>Probit</td>      <td>Pseudo R-squared:</td>    <td>0.084</td>  \n",
       "</tr>\n",
       "<tr>\n",
       "  <td>Dependent Variable:</td>     <td>RELSCHOL</td>           <td>AIC:</td>         <td>423.0652</td> \n",
       "</tr>\n",
       "<tr>\n",
       "         <td>Date:</td>        <td>2016-07-12 17:11</td>       <td>BIC:</td>         <td>440.5857</td> \n",
       "</tr>\n",
       "<tr>\n",
       "   <td>No. Observations:</td>         <td>590</td>        <td>Log-Likelihood:</td>    <td>-207.53</td> \n",
       "</tr>\n",
       "<tr>\n",
       "       <td>Df Model:</td>              <td>3</td>            <td>LL-Null:</td>        <td>-226.63</td> \n",
       "</tr>\n",
       "<tr>\n",
       "     <td>Df Residuals:</td>           <td>586</td>         <td>LLR p-value:</td>    <td>2.5609e-08</td>\n",
       "</tr>\n",
       "<tr>\n",
       "      <td>Converged:</td>           <td>1.0000</td>           <td>Scale:</td>         <td>1.0000</td>  \n",
       "</tr>\n",
       "<tr>\n",
       "    <td>No. Iterations:</td>        <td>6.0000</td>              <td></td>               <td></td>     \n",
       "</tr>\n",
       "</table>\n",
       "<table class=\"simpletable\">\n",
       "<tr>\n",
       "         <td></td>         <th>Coef.</th>  <th>Std.Err.</th>    <th>z</th>     <th>P>|z|</th> <th>[0.025</th>  <th>0.975]</th> \n",
       "</tr>\n",
       "<tr>\n",
       "  <th>Intercept</th>      <td>-2.0718</td>  <td>0.3849</td>  <td>-5.3824</td> <td>0.0000</td> <td>-2.8263</td> <td>-1.3174</td>\n",
       "</tr>\n",
       "<tr>\n",
       "  <th>C(RACE)[T.1.0]</th> <td>-0.7261</td>  <td>0.1631</td>  <td>-4.4527</td> <td>0.0000</td> <td>-1.0457</td> <td>-0.4065</td>\n",
       "</tr>\n",
       "<tr>\n",
       "  <th>ATTEND</th>         <td>0.1858</td>   <td>0.0689</td>  <td>2.6965</td>  <td>0.0070</td> <td>0.0508</td>  <td>0.3209</td> \n",
       "</tr>\n",
       "<tr>\n",
       "  <th>INCOME</th>         <td>0.1156</td>   <td>0.0271</td>  <td>4.2612</td>  <td>0.0000</td> <td>0.0624</td>  <td>0.1687</td> \n",
       "</tr>\n",
       "</table>"
      ],
      "text/plain": [
       "<class 'statsmodels.iolib.summary2.Summary'>\n",
       "\"\"\"\n",
       "                         Results: Probit\n",
       "=================================================================\n",
       "Model:              Probit           Pseudo R-squared: 0.084     \n",
       "Dependent Variable: RELSCHOL         AIC:              423.0652  \n",
       "Date:               2016-07-12 17:11 BIC:              440.5857  \n",
       "No. Observations:   590              Log-Likelihood:   -207.53   \n",
       "Df Model:           3                LL-Null:          -226.63   \n",
       "Df Residuals:       586              LLR p-value:      2.5609e-08\n",
       "Converged:          1.0000           Scale:            1.0000    \n",
       "No. Iterations:     6.0000                                       \n",
       "-----------------------------------------------------------------\n",
       "                   Coef.  Std.Err.    z    P>|z|   [0.025  0.975]\n",
       "-----------------------------------------------------------------\n",
       "Intercept         -2.0718   0.3849 -5.3824 0.0000 -2.8263 -1.3174\n",
       "C(RACE)[T.1.0]    -0.7261   0.1631 -4.4527 0.0000 -1.0457 -0.4065\n",
       "ATTEND             0.1858   0.0689  2.6965 0.0070  0.0508  0.3209\n",
       "INCOME             0.1156   0.0271  4.2612 0.0000  0.0624  0.1687\n",
       "=================================================================\n",
       "\n",
       "\"\"\""
      ]
     },
     "execution_count": 24,
     "metadata": {},
     "output_type": "execute_result"
    }
   ],
   "source": [
    "y, X = dmatrices('RELSCHOL ~ C(RACE) + ATTEND + INCOME', data=df_rel, return_type='dataframe')\n",
    "model = sm.Probit(y, X)\n",
    "results = model.fit()\n",
    "results.summary2()"
   ]
  },
  {
   "cell_type": "markdown",
   "metadata": {},
   "source": [
    "|   | AIC | BIC |\n",
    "|---|:---:|:---:|\n",
    "| Model_1 | 467.4662 | 476.3449 |\n",
    "| Model_2 | 424.7930 | 442.3135 |\n",
    "| Model_3 | 467.4662 | 476.3449 |\n",
    "| Model_4 | 423.0652 | 440.5857 |"
   ]
  },
  {
   "cell_type": "markdown",
   "metadata": {},
   "source": [
    "The AIC and BIC between Logit and Probit models is very similar. However, Model_4 has slightly lower AIC and BIC."
   ]
  },
  {
   "cell_type": "markdown",
   "metadata": {},
   "source": [
    "####Part C"
   ]
  },
  {
   "cell_type": "markdown",
   "metadata": {},
   "source": [
    "For tose who attend religious services five days per month (_attend_ = 5) and have a family income of $20,000-29,999$ (_income_ = 4), what are the predicted probabilities of attending a religious school for white and non-white students?"
   ]
  },
  {
   "cell_type": "code",
   "execution_count": 25,
   "metadata": {
    "collapsed": false
   },
   "outputs": [
    {
     "name": "stdout",
     "output_type": "stream",
     "text": [
      "p_white: 0.0797878523018\n",
      "p_non_white: 0.248125610515\n"
     ]
    }
   ],
   "source": [
    "p_white  = scipy.stats.norm.cdf(-2.0718 + 1.0*-0.7261 + 5.0*0.1858 + 4.0*0.1156)\n",
    "print('p_white:', p_white)\n",
    "\n",
    "p_non_white = scipy.stats.norm.cdf(-2.0718 + 0.0*-0.7261 + 5.0*0.1858 + 4.0*0.1156)\n",
    "print('p_non_white:', p_non_white)"
   ]
  },
  {
   "cell_type": "markdown",
   "metadata": {},
   "source": [
    "####Part D"
   ]
  },
  {
   "cell_type": "markdown",
   "metadata": {},
   "source": [
    "Compute the discrete change in probability under the following scenario: A non-white student whose _attend_ value equals 4 with a shift in family income (_income_) rom a value of 4($20,000-29,999$) to a value of 10 ($80,000-99,999$)."
   ]
  },
  {
   "cell_type": "code",
   "execution_count": 26,
   "metadata": {
    "collapsed": false
   },
   "outputs": [
    {
     "name": "stdout",
     "output_type": "stream",
     "text": [
      "-0.257140274665\n"
     ]
    }
   ],
   "source": [
    "p_4 = scipy.stats.norm.cdf(-2.0718 + 0.0*-0.7261 + 5.0*0.1858 + 4.0*0.1156)\n",
    "p_10 = scipy.stats.norm.cdf(-2.0718 + 0.0*-0.7261 + 5.0*0.1858 + 10.0*0.1156)\n",
    "\n",
    "print(p_4 - p_10)"
   ]
  },
  {
   "cell_type": "markdown",
   "metadata": {},
   "source": [
    "###Question 5"
   ]
  },
  {
   "cell_type": "markdown",
   "metadata": {},
   "source": [
    "In plain English, what do you conclude about the relationship between a student's race/ehnicity, religious service attendance, family income, and attending a religious school?"
   ]
  },
  {
   "cell_type": "markdown",
   "metadata": {},
   "source": [
    "Each have an impact on the probability that a student will attend a religious school."
   ]
  }
 ],
 "metadata": {
  "kernelspec": {
   "display_name": "Python 3",
   "language": "python",
   "name": "python3"
  },
  "language_info": {
   "codemirror_mode": {
    "name": "ipython",
    "version": 3
   },
   "file_extension": ".py",
   "mimetype": "text/x-python",
   "name": "python",
   "nbconvert_exporter": "python",
   "pygments_lexer": "ipython3",
   "version": "3.5.2"
  }
 },
 "nbformat": 4,
 "nbformat_minor": 0
}

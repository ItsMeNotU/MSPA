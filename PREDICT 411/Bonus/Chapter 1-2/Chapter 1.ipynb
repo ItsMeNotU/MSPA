{
 "cells": [
  {
   "cell_type": "markdown",
   "metadata": {},
   "source": [
    "#MSPA PREDICT 411"
   ]
  },
  {
   "cell_type": "markdown",
   "metadata": {},
   "source": [
    "##Bonus Problem: Chapter 1"
   ]
  },
  {
   "cell_type": "code",
   "execution_count": 1,
   "metadata": {
    "collapsed": false
   },
   "outputs": [],
   "source": [
    "#!pip install sas7bdat\n",
    "\n",
    "import numpy as np\n",
    "import pandas as pd\n",
    "import statsmodels.api as sm\n",
    "\n",
    "from patsy import dmatrices\n",
    "from sas7bdat import SAS7BDAT\n",
    "\n",
    "import seaborn as sns\n",
    "import matplotlib.pyplot as plt\n",
    "import matplotlib.pylab as pylab\n",
    "\n",
    "sns.set_style('darkgrid')\n",
    "%matplotlib inline"
   ]
  },
  {
   "cell_type": "markdown",
   "metadata": {},
   "source": [
    "###Introduction"
   ]
  },
  {
   "cell_type": "markdown",
   "metadata": {},
   "source": [
    "This document presents the results of first set of bonus problems for the Masters of Science in Predictive Analytics course: PREDICT 411. This assessment required the student to work through the problem set of Chapters 1 & 2 of Hoffmann (2004), Generalized Linear Models, An Applied Approach."
   ]
  },
  {
   "cell_type": "markdown",
   "metadata": {},
   "source": [
    "###Question 1"
   ]
  },
  {
   "cell_type": "markdown",
   "metadata": {},
   "source": [
    "####Loading the Data"
   ]
  },
  {
   "cell_type": "code",
   "execution_count": 2,
   "metadata": {
    "collapsed": false
   },
   "outputs": [],
   "source": [
    "with SAS7BDAT('data/gpa.sas7bdat') as f:\n",
    "    df_gpa = f.to_data_frame()"
   ]
  },
  {
   "cell_type": "code",
   "execution_count": 3,
   "metadata": {
    "collapsed": false
   },
   "outputs": [
    {
     "data": {
      "text/html": [
       "<div>\n",
       "<table border=\"1\" class=\"dataframe\">\n",
       "  <thead>\n",
       "    <tr style=\"text-align: right;\">\n",
       "      <th></th>\n",
       "      <th>GPA</th>\n",
       "      <th>SAT_QUAN</th>\n",
       "      <th>SAT_VERB</th>\n",
       "      <th>HS_MATH</th>\n",
       "      <th>HS_ENGL</th>\n",
       "    </tr>\n",
       "  </thead>\n",
       "  <tbody>\n",
       "    <tr>\n",
       "      <th>0</th>\n",
       "      <td>1.97</td>\n",
       "      <td>3.21</td>\n",
       "      <td>2.47</td>\n",
       "      <td>2.30</td>\n",
       "      <td>2.63</td>\n",
       "    </tr>\n",
       "    <tr>\n",
       "      <th>1</th>\n",
       "      <td>2.74</td>\n",
       "      <td>7.18</td>\n",
       "      <td>4.36</td>\n",
       "      <td>3.80</td>\n",
       "      <td>3.57</td>\n",
       "    </tr>\n",
       "    <tr>\n",
       "      <th>2</th>\n",
       "      <td>2.19</td>\n",
       "      <td>3.58</td>\n",
       "      <td>5.78</td>\n",
       "      <td>2.98</td>\n",
       "      <td>2.57</td>\n",
       "    </tr>\n",
       "    <tr>\n",
       "      <th>3</th>\n",
       "      <td>2.60</td>\n",
       "      <td>4.03</td>\n",
       "      <td>4.47</td>\n",
       "      <td>3.58</td>\n",
       "      <td>2.21</td>\n",
       "    </tr>\n",
       "    <tr>\n",
       "      <th>4</th>\n",
       "      <td>2.98</td>\n",
       "      <td>6.40</td>\n",
       "      <td>5.63</td>\n",
       "      <td>3.38</td>\n",
       "      <td>3.48</td>\n",
       "    </tr>\n",
       "  </tbody>\n",
       "</table>\n",
       "</div>"
      ],
      "text/plain": [
       "    GPA  SAT_QUAN  SAT_VERB  HS_MATH  HS_ENGL\n",
       "0  1.97      3.21      2.47     2.30     2.63\n",
       "1  2.74      7.18      4.36     3.80     3.57\n",
       "2  2.19      3.58      5.78     2.98     2.57\n",
       "3  2.60      4.03      4.47     3.58     2.21\n",
       "4  2.98      6.40      5.63     3.38     3.48"
      ]
     },
     "execution_count": 3,
     "metadata": {},
     "output_type": "execute_result"
    }
   ],
   "source": [
    "df_gpa.head(5)"
   ]
  },
  {
   "cell_type": "markdown",
   "metadata": {},
   "source": [
    "####Part A"
   ]
  },
  {
   "cell_type": "markdown",
   "metadata": {},
   "source": [
    "Construct a scatterplot with GPA on the y-axis and SAT-Quant. on the x-axis. Fit by hand the estimated linear regression line. Comment on the relationship between these two variables."
   ]
  },
  {
   "cell_type": "code",
   "execution_count": 4,
   "metadata": {
    "collapsed": false
   },
   "outputs": [
    {
     "data": {
      "image/png": "[encoded data removed]",
      "text/plain": [
       "<matplotlib.figure.Figure at 0xa9bea58>"
      ]
     },
     "metadata": {},
     "output_type": "display_data"
    }
   ],
   "source": [
    "fig, ax = plt.subplots()\n",
    "fig.set_size_inches(18, 10)\n",
    "\n",
    "plt.scatter(df_gpa['SAT_QUAN'], df_gpa['GPA'])\n",
    "plt.title('GPA vs. SAT-Quant')\n",
    "plt.ylabel('GPA')\n",
    "plt.xlabel('SAT-Quant')\n",
    "\n",
    "plot = ax.get_figure()\n",
    "plot.savefig('figures/q1_scatter.png')"
   ]
  },
  {
   "cell_type": "markdown",
   "metadata": {},
   "source": [
    "####Part B"
   ]
  },
  {
   "cell_type": "markdown",
   "metadata": {},
   "source": [
    "Using the formulas for a two-variable OLS regression model, compute the slope and intercept for the follwoing model: \n",
    "\n",
    "$$GPA = \\alpha + \\beta_1(\\text{SAT-Quant})$$"
   ]
  },
  {
   "cell_type": "code",
   "execution_count": 5,
   "metadata": {
    "collapsed": false
   },
   "outputs": [
    {
     "name": "stdout",
     "output_type": "stream",
     "text": [
      "0.239175919707\n"
     ]
    }
   ],
   "source": [
    "x = df_gpa['SAT_QUAN'][:8].tolist()\n",
    "y = df_gpa['GPA'][:8].tolist()\n",
    "x_mean = np.mean(x)\n",
    "y_mean = np.mean(y)\n",
    "\n",
    "d_mean = []\n",
    "for a, b in zip(x, y):\n",
    "    d_mean.append((a - x_mean)*(b - y_mean))\n",
    "\n",
    "numer = sum(d_mean)\n",
    "    \n",
    "d_sq = []\n",
    "for a in x:\n",
    "    d_sq.append(np.square(a - x_mean))\n",
    "    \n",
    "denom = sum(d_sq)\n",
    "\n",
    "beta_hat = numer / denom\n",
    "\n",
    "print(beta_hat)"
   ]
  },
  {
   "cell_type": "markdown",
   "metadata": {},
   "source": [
    "We will also compute the intercept using the formula: \n",
    "\n",
    "$$\\hat{\\alpha} = \\bar{Y} - \\hat{\\beta_1}\\bar{X}$$"
   ]
  },
  {
   "cell_type": "code",
   "execution_count": 6,
   "metadata": {
    "collapsed": false
   },
   "outputs": [
    {
     "name": "stdout",
     "output_type": "stream",
     "text": [
      "1.29396628773\n"
     ]
    }
   ],
   "source": [
    "alpha_hat = y_mean - beta_hat * x_mean\n",
    "\n",
    "print(alpha_hat)"
   ]
  },
  {
   "cell_type": "markdown",
   "metadata": {},
   "source": [
    "####Part C"
   ]
  },
  {
   "cell_type": "markdown",
   "metadata": {},
   "source": [
    "Compute the predicted values, the residuals, the Sum of Square Errors (SSE), and the $R^2$ for the model.\n",
    "\n",
    "We will compute the predicted values by using our regression equation and computed parameters above, in the equation: \n",
    "\n",
    "$$GPA = 1.2939 + 0.2391 (\\mbox{SAT-Quant})$$"
   ]
  },
  {
   "cell_type": "code",
   "execution_count": 7,
   "metadata": {
    "collapsed": false
   },
   "outputs": [],
   "source": [
    "y_hat = []\n",
    "for a in x:\n",
    "    y_hat.append(1.2939 + 0.2391 * a)\n",
    "\n",
    "#for a in y_hat:\n",
    "#    print(a)"
   ]
  },
  {
   "cell_type": "markdown",
   "metadata": {},
   "source": [
    "We will compute residuals using the formula: \n",
    "\n",
    "$$R_i = Y_i - \\hat{Y}$$"
   ]
  },
  {
   "cell_type": "code",
   "execution_count": 8,
   "metadata": {
    "collapsed": false
   },
   "outputs": [],
   "source": [
    "res = []\n",
    "for a, b in zip(y, y_hat):\n",
    "    res.append(a-b)\n",
    "    \n",
    "#for a in res:\n",
    "#    print(a)"
   ]
  },
  {
   "cell_type": "markdown",
   "metadata": {},
   "source": [
    "We will compute the Sum of Square Errors (SSE) using the formula: \n",
    "\n",
    "$$SSE = \\sum_{i=1}^n(Y_i - \\hat{Y_i})^2$$"
   ]
  },
  {
   "cell_type": "code",
   "execution_count": 9,
   "metadata": {
    "collapsed": false
   },
   "outputs": [
    {
     "name": "stdout",
     "output_type": "stream",
     "text": [
      "0.279123802811\n"
     ]
    }
   ],
   "source": [
    "sse = []\n",
    "for a, b in zip(y, y_hat):\n",
    "    sse.append(np.square(a - b))\n",
    "\n",
    "sse = sum(sse)\n",
    "\n",
    "print(sse)"
   ]
  },
  {
   "cell_type": "markdown",
   "metadata": {},
   "source": [
    "We will compute the $R^2$ using the formula: \n",
    "\n",
    "$$R^2 = 1- \\frac{SSE}{SST}$$ \n",
    "\n",
    "where SSE is enumerated above and SST is: \n",
    "\n",
    "$$SST = \\sum_i^n(Y_i - \\bar{Y})^2$$"
   ]
  },
  {
   "cell_type": "code",
   "execution_count": 10,
   "metadata": {
    "collapsed": false
   },
   "outputs": [
    {
     "name": "stdout",
     "output_type": "stream",
     "text": [
      "0.809341664747\n"
     ]
    }
   ],
   "source": [
    "sst = []\n",
    "for a in y:\n",
    "    sst.append(np.square(a - y_mean))\n",
    "\n",
    "sst = sum(sst)\n",
    "r_square = 1 - sse / sst\n",
    "\n",
    "print(r_square)"
   ]
  },
  {
   "cell_type": "markdown",
   "metadata": {},
   "source": [
    "####Part D"
   ]
  },
  {
   "cell_type": "markdown",
   "metadata": {},
   "source": [
    "Plot the residuals (y-axis) by the predicted values (x-axis) and comment about what you see."
   ]
  },
  {
   "cell_type": "code",
   "execution_count": 11,
   "metadata": {
    "collapsed": false
   },
   "outputs": [
    {
     "data": {
      "image/png": "[encoded data removed]",
      "text/plain": [
       "<matplotlib.figure.Figure at 0xa9f75f8>"
      ]
     },
     "metadata": {},
     "output_type": "display_data"
    }
   ],
   "source": [
    "fig, ax = plt.subplots()\n",
    "fig.set_size_inches(18, 10)\n",
    "\n",
    "plt.scatter(y_hat, res)\n",
    "plt.title('Residuals vs. Predicted Value')\n",
    "plt.xlabel('Predicted Value')\n",
    "plt.ylabel('Residuals')\n",
    "\n",
    "plot = ax.get_figure()\n",
    "plot.savefig('figures/q1_resid.png')"
   ]
  },
  {
   "cell_type": "markdown",
   "metadata": {},
   "source": [
    "###Question 2"
   ]
  },
  {
   "cell_type": "markdown",
   "metadata": {},
   "source": [
    "The data set GPA is available in SPSS, Stata, and SAS formats. It contains all 20 observations from the sample of college students. We'll use it to conduct the remaining excercises."
   ]
  },
  {
   "cell_type": "markdown",
   "metadata": {},
   "source": [
    "####Part A"
   ]
  },
  {
   "cell_type": "markdown",
   "metadata": {},
   "source": [
    "Estimate an OLS regression model with GPA as the dependent variable and SAT-Quant. as the independent variable. Compare this model to the model you estimated in Excercise 1. In what ways are they similar or different?"
   ]
  },
  {
   "cell_type": "code",
   "execution_count": 12,
   "metadata": {
    "collapsed": false
   },
   "outputs": [
    {
     "data": {
      "text/html": [
       "<table class=\"simpletable\">\n",
       "<caption>OLS Regression Results</caption>\n",
       "<tr>\n",
       "  <th>Dep. Variable:</th>           <td>GPA</td>       <th>  R-squared:         </th> <td>   0.722</td>\n",
       "</tr>\n",
       "<tr>\n",
       "  <th>Model:</th>                   <td>OLS</td>       <th>  Adj. R-squared:    </th> <td>   0.706</td>\n",
       "</tr>\n",
       "<tr>\n",
       "  <th>Method:</th>             <td>Least Squares</td>  <th>  F-statistic:       </th> <td>   46.68</td>\n",
       "</tr>\n",
       "<tr>\n",
       "  <th>Date:</th>             <td>Mon, 20 Jun 2016</td> <th>  Prob (F-statistic):</th> <td>2.15e-06</td>\n",
       "</tr>\n",
       "<tr>\n",
       "  <th>Time:</th>                 <td>14:49:50</td>     <th>  Log-Likelihood:    </th> <td> -5.5719</td>\n",
       "</tr>\n",
       "<tr>\n",
       "  <th>No. Observations:</th>      <td>    20</td>      <th>  AIC:               </th> <td>   15.14</td>\n",
       "</tr>\n",
       "<tr>\n",
       "  <th>Df Residuals:</th>          <td>    18</td>      <th>  BIC:               </th> <td>   17.14</td>\n",
       "</tr>\n",
       "<tr>\n",
       "  <th>Df Model:</th>              <td>     1</td>      <th>                     </th>     <td> </td>   \n",
       "</tr>\n",
       "<tr>\n",
       "  <th>Covariance Type:</th>      <td>nonrobust</td>    <th>                     </th>     <td> </td>   \n",
       "</tr>\n",
       "</table>\n",
       "<table class=\"simpletable\">\n",
       "<tr>\n",
       "      <td></td>         <th>coef</th>     <th>std err</th>      <th>t</th>      <th>P>|t|</th> <th>[95.0% Conf. Int.]</th> \n",
       "</tr>\n",
       "<tr>\n",
       "  <th>Intercept</th> <td>    0.9670</td> <td>    0.250</td> <td>    3.874</td> <td> 0.001</td> <td>    0.443     1.491</td>\n",
       "</tr>\n",
       "<tr>\n",
       "  <th>SAT_QUAN</th>  <td>    0.3178</td> <td>    0.047</td> <td>    6.832</td> <td> 0.000</td> <td>    0.220     0.416</td>\n",
       "</tr>\n",
       "</table>\n",
       "<table class=\"simpletable\">\n",
       "<tr>\n",
       "  <th>Omnibus:</th>       <td> 0.075</td> <th>  Durbin-Watson:     </th> <td>   2.807</td>\n",
       "</tr>\n",
       "<tr>\n",
       "  <th>Prob(Omnibus):</th> <td> 0.963</td> <th>  Jarque-Bera (JB):  </th> <td>   0.279</td>\n",
       "</tr>\n",
       "<tr>\n",
       "  <th>Skew:</th>          <td>-0.092</td> <th>  Prob(JB):          </th> <td>   0.870</td>\n",
       "</tr>\n",
       "<tr>\n",
       "  <th>Kurtosis:</th>      <td> 2.452</td> <th>  Cond. No.          </th> <td>    18.3</td>\n",
       "</tr>\n",
       "</table>"
      ],
      "text/plain": [
       "<class 'statsmodels.iolib.summary.Summary'>\n",
       "\"\"\"\n",
       "                            OLS Regression Results                            \n",
       "==============================================================================\n",
       "Dep. Variable:                    GPA   R-squared:                       0.722\n",
       "Model:                            OLS   Adj. R-squared:                  0.706\n",
       "Method:                 Least Squares   F-statistic:                     46.68\n",
       "Date:                Mon, 20 Jun 2016   Prob (F-statistic):           2.15e-06\n",
       "Time:                        14:49:50   Log-Likelihood:                -5.5719\n",
       "No. Observations:                  20   AIC:                             15.14\n",
       "Df Residuals:                      18   BIC:                             17.14\n",
       "Df Model:                           1                                         \n",
       "Covariance Type:            nonrobust                                         \n",
       "==============================================================================\n",
       "                 coef    std err          t      P>|t|      [95.0% Conf. Int.]\n",
       "------------------------------------------------------------------------------\n",
       "Intercept      0.9670      0.250      3.874      0.001         0.443     1.491\n",
       "SAT_QUAN       0.3178      0.047      6.832      0.000         0.220     0.416\n",
       "==============================================================================\n",
       "Omnibus:                        0.075   Durbin-Watson:                   2.807\n",
       "Prob(Omnibus):                  0.963   Jarque-Bera (JB):                0.279\n",
       "Skew:                          -0.092   Prob(JB):                        0.870\n",
       "Kurtosis:                       2.452   Cond. No.                         18.3\n",
       "==============================================================================\n",
       "\n",
       "Warnings:\n",
       "[1] Standard Errors assume that the covariance matrix of the errors is correctly specified.\n",
       "\"\"\""
      ]
     },
     "execution_count": 12,
     "metadata": {},
     "output_type": "execute_result"
    }
   ],
   "source": [
    "y, X = dmatrices('GPA ~ SAT_QUAN', \n",
    "                 data=df_gpa, \n",
    "                 return_type='dataframe')\n",
    "model = sm.OLS(y, X)\n",
    "results = model.fit()\n",
    "\n",
    "results.summary()"
   ]
  },
  {
   "cell_type": "markdown",
   "metadata": {},
   "source": [
    "###Question 3"
   ]
  },
  {
   "cell_type": "markdown",
   "metadata": {},
   "source": [
    "Estimate the following three OLS regression models, all of which use GPA as the dependent variable."
   ]
  },
  {
   "cell_type": "markdown",
   "metadata": {},
   "source": [
    "####Part A"
   ]
  },
  {
   "cell_type": "markdown",
   "metadata": {},
   "source": [
    "Use only HS_ENGL as the independent variable."
   ]
  },
  {
   "cell_type": "code",
   "execution_count": 13,
   "metadata": {
    "collapsed": false
   },
   "outputs": [
    {
     "data": {
      "text/html": [
       "<table class=\"simpletable\">\n",
       "<caption>OLS Regression Results</caption>\n",
       "<tr>\n",
       "  <th>Dep. Variable:</th>           <td>GPA</td>       <th>  R-squared:         </th> <td>   0.368</td>\n",
       "</tr>\n",
       "<tr>\n",
       "  <th>Model:</th>                   <td>OLS</td>       <th>  Adj. R-squared:    </th> <td>   0.333</td>\n",
       "</tr>\n",
       "<tr>\n",
       "  <th>Method:</th>             <td>Least Squares</td>  <th>  F-statistic:       </th> <td>   10.47</td>\n",
       "</tr>\n",
       "<tr>\n",
       "  <th>Date:</th>             <td>Mon, 20 Jun 2016</td> <th>  Prob (F-statistic):</th>  <td>0.00458</td>\n",
       "</tr>\n",
       "<tr>\n",
       "  <th>Time:</th>                 <td>14:49:50</td>     <th>  Log-Likelihood:    </th> <td> -13.777</td>\n",
       "</tr>\n",
       "<tr>\n",
       "  <th>No. Observations:</th>      <td>    20</td>      <th>  AIC:               </th> <td>   31.55</td>\n",
       "</tr>\n",
       "<tr>\n",
       "  <th>Df Residuals:</th>          <td>    18</td>      <th>  BIC:               </th> <td>   33.55</td>\n",
       "</tr>\n",
       "<tr>\n",
       "  <th>Df Model:</th>              <td>     1</td>      <th>                     </th>     <td> </td>   \n",
       "</tr>\n",
       "<tr>\n",
       "  <th>Covariance Type:</th>      <td>nonrobust</td>    <th>                     </th>     <td> </td>   \n",
       "</tr>\n",
       "</table>\n",
       "<table class=\"simpletable\">\n",
       "<tr>\n",
       "      <td></td>         <th>coef</th>     <th>std err</th>      <th>t</th>      <th>P>|t|</th> <th>[95.0% Conf. Int.]</th> \n",
       "</tr>\n",
       "<tr>\n",
       "  <th>Intercept</th> <td>    0.2487</td> <td>    0.733</td> <td>    0.339</td> <td> 0.738</td> <td>   -1.292     1.789</td>\n",
       "</tr>\n",
       "<tr>\n",
       "  <th>HS_ENGL</th>   <td>    0.7790</td> <td>    0.241</td> <td>    3.236</td> <td> 0.005</td> <td>    0.273     1.285</td>\n",
       "</tr>\n",
       "</table>\n",
       "<table class=\"simpletable\">\n",
       "<tr>\n",
       "  <th>Omnibus:</th>       <td> 0.077</td> <th>  Durbin-Watson:     </th> <td>   2.488</td>\n",
       "</tr>\n",
       "<tr>\n",
       "  <th>Prob(Omnibus):</th> <td> 0.962</td> <th>  Jarque-Bera (JB):  </th> <td>   0.273</td>\n",
       "</tr>\n",
       "<tr>\n",
       "  <th>Skew:</th>          <td> 0.102</td> <th>  Prob(JB):          </th> <td>   0.872</td>\n",
       "</tr>\n",
       "<tr>\n",
       "  <th>Kurtosis:</th>      <td> 2.466</td> <th>  Cond. No.          </th> <td>    21.7</td>\n",
       "</tr>\n",
       "</table>"
      ],
      "text/plain": [
       "<class 'statsmodels.iolib.summary.Summary'>\n",
       "\"\"\"\n",
       "                            OLS Regression Results                            \n",
       "==============================================================================\n",
       "Dep. Variable:                    GPA   R-squared:                       0.368\n",
       "Model:                            OLS   Adj. R-squared:                  0.333\n",
       "Method:                 Least Squares   F-statistic:                     10.47\n",
       "Date:                Mon, 20 Jun 2016   Prob (F-statistic):            0.00458\n",
       "Time:                        14:49:50   Log-Likelihood:                -13.777\n",
       "No. Observations:                  20   AIC:                             31.55\n",
       "Df Residuals:                      18   BIC:                             33.55\n",
       "Df Model:                           1                                         \n",
       "Covariance Type:            nonrobust                                         \n",
       "==============================================================================\n",
       "                 coef    std err          t      P>|t|      [95.0% Conf. Int.]\n",
       "------------------------------------------------------------------------------\n",
       "Intercept      0.2487      0.733      0.339      0.738        -1.292     1.789\n",
       "HS_ENGL        0.7790      0.241      3.236      0.005         0.273     1.285\n",
       "==============================================================================\n",
       "Omnibus:                        0.077   Durbin-Watson:                   2.488\n",
       "Prob(Omnibus):                  0.962   Jarque-Bera (JB):                0.273\n",
       "Skew:                           0.102   Prob(JB):                        0.872\n",
       "Kurtosis:                       2.466   Cond. No.                         21.7\n",
       "==============================================================================\n",
       "\n",
       "Warnings:\n",
       "[1] Standard Errors assume that the covariance matrix of the errors is correctly specified.\n",
       "\"\"\""
      ]
     },
     "execution_count": 13,
     "metadata": {},
     "output_type": "execute_result"
    }
   ],
   "source": [
    "y, X = dmatrices('GPA ~ HS_ENGL', \n",
    "                 data=df_gpa, \n",
    "                 return_type='dataframe')\n",
    "model = sm.OLS(y, X)\n",
    "results = model.fit()\n",
    "results.summary()"
   ]
  },
  {
   "cell_type": "markdown",
   "metadata": {},
   "source": [
    "####Part B"
   ]
  },
  {
   "cell_type": "markdown",
   "metadata": {},
   "source": [
    "Use HS_ENGL and SAT_VERB as the independent variables."
   ]
  },
  {
   "cell_type": "code",
   "execution_count": 14,
   "metadata": {
    "collapsed": false
   },
   "outputs": [
    {
     "data": {
      "text/html": [
       "<table class=\"simpletable\">\n",
       "<caption>OLS Regression Results</caption>\n",
       "<tr>\n",
       "  <th>Dep. Variable:</th>           <td>GPA</td>       <th>  R-squared:         </th> <td>   0.562</td>\n",
       "</tr>\n",
       "<tr>\n",
       "  <th>Model:</th>                   <td>OLS</td>       <th>  Adj. R-squared:    </th> <td>   0.510</td>\n",
       "</tr>\n",
       "<tr>\n",
       "  <th>Method:</th>             <td>Least Squares</td>  <th>  F-statistic:       </th> <td>   10.90</td>\n",
       "</tr>\n",
       "<tr>\n",
       "  <th>Date:</th>             <td>Mon, 20 Jun 2016</td> <th>  Prob (F-statistic):</th> <td>0.000898</td>\n",
       "</tr>\n",
       "<tr>\n",
       "  <th>Time:</th>                 <td>14:49:50</td>     <th>  Log-Likelihood:    </th> <td> -10.109</td>\n",
       "</tr>\n",
       "<tr>\n",
       "  <th>No. Observations:</th>      <td>    20</td>      <th>  AIC:               </th> <td>   26.22</td>\n",
       "</tr>\n",
       "<tr>\n",
       "  <th>Df Residuals:</th>          <td>    17</td>      <th>  BIC:               </th> <td>   29.20</td>\n",
       "</tr>\n",
       "<tr>\n",
       "  <th>Df Model:</th>              <td>     2</td>      <th>                     </th>     <td> </td>   \n",
       "</tr>\n",
       "<tr>\n",
       "  <th>Covariance Type:</th>      <td>nonrobust</td>    <th>                     </th>     <td> </td>   \n",
       "</tr>\n",
       "</table>\n",
       "<table class=\"simpletable\">\n",
       "<tr>\n",
       "      <td></td>         <th>coef</th>     <th>std err</th>      <th>t</th>      <th>P>|t|</th> <th>[95.0% Conf. Int.]</th> \n",
       "</tr>\n",
       "<tr>\n",
       "  <th>Intercept</th> <td>   -0.0572</td> <td>    0.638</td> <td>   -0.090</td> <td> 0.930</td> <td>   -1.403     1.289</td>\n",
       "</tr>\n",
       "<tr>\n",
       "  <th>HS_ENGL</th>   <td>    0.5195</td> <td>    0.227</td> <td>    2.290</td> <td> 0.035</td> <td>    0.041     0.998</td>\n",
       "</tr>\n",
       "<tr>\n",
       "  <th>SAT_VERB</th>  <td>    0.2273</td> <td>    0.083</td> <td>    2.745</td> <td> 0.014</td> <td>    0.053     0.402</td>\n",
       "</tr>\n",
       "</table>\n",
       "<table class=\"simpletable\">\n",
       "<tr>\n",
       "  <th>Omnibus:</th>       <td> 0.371</td> <th>  Durbin-Watson:     </th> <td>   2.507</td>\n",
       "</tr>\n",
       "<tr>\n",
       "  <th>Prob(Omnibus):</th> <td> 0.831</td> <th>  Jarque-Bera (JB):  </th> <td>   0.487</td>\n",
       "</tr>\n",
       "<tr>\n",
       "  <th>Skew:</th>          <td> 0.255</td> <th>  Prob(JB):          </th> <td>   0.784</td>\n",
       "</tr>\n",
       "<tr>\n",
       "  <th>Kurtosis:</th>      <td> 2.431</td> <th>  Cond. No.          </th> <td>    40.1</td>\n",
       "</tr>\n",
       "</table>"
      ],
      "text/plain": [
       "<class 'statsmodels.iolib.summary.Summary'>\n",
       "\"\"\"\n",
       "                            OLS Regression Results                            \n",
       "==============================================================================\n",
       "Dep. Variable:                    GPA   R-squared:                       0.562\n",
       "Model:                            OLS   Adj. R-squared:                  0.510\n",
       "Method:                 Least Squares   F-statistic:                     10.90\n",
       "Date:                Mon, 20 Jun 2016   Prob (F-statistic):           0.000898\n",
       "Time:                        14:49:50   Log-Likelihood:                -10.109\n",
       "No. Observations:                  20   AIC:                             26.22\n",
       "Df Residuals:                      17   BIC:                             29.20\n",
       "Df Model:                           2                                         \n",
       "Covariance Type:            nonrobust                                         \n",
       "==============================================================================\n",
       "                 coef    std err          t      P>|t|      [95.0% Conf. Int.]\n",
       "------------------------------------------------------------------------------\n",
       "Intercept     -0.0572      0.638     -0.090      0.930        -1.403     1.289\n",
       "HS_ENGL        0.5195      0.227      2.290      0.035         0.041     0.998\n",
       "SAT_VERB       0.2273      0.083      2.745      0.014         0.053     0.402\n",
       "==============================================================================\n",
       "Omnibus:                        0.371   Durbin-Watson:                   2.507\n",
       "Prob(Omnibus):                  0.831   Jarque-Bera (JB):                0.487\n",
       "Skew:                           0.255   Prob(JB):                        0.784\n",
       "Kurtosis:                       2.431   Cond. No.                         40.1\n",
       "==============================================================================\n",
       "\n",
       "Warnings:\n",
       "[1] Standard Errors assume that the covariance matrix of the errors is correctly specified.\n",
       "\"\"\""
      ]
     },
     "execution_count": 14,
     "metadata": {},
     "output_type": "execute_result"
    }
   ],
   "source": [
    "y, X = dmatrices('GPA ~ HS_ENGL + SAT_VERB', \n",
    "                 data=df_gpa, \n",
    "                 return_type='dataframe')\n",
    "model = sm.OLS(y, X)\n",
    "results = model.fit()\n",
    "\n",
    "results.summary()"
   ]
  },
  {
   "cell_type": "markdown",
   "metadata": {},
   "source": [
    "####Part C"
   ]
  },
  {
   "cell_type": "markdown",
   "metadata": {},
   "source": [
    "Use HS_ENGL, SAT_VERB, and SAT_QUAN as the independent variables"
   ]
  },
  {
   "cell_type": "code",
   "execution_count": 15,
   "metadata": {
    "collapsed": false
   },
   "outputs": [
    {
     "data": {
      "text/html": [
       "<table class=\"simpletable\">\n",
       "<caption>OLS Regression Results</caption>\n",
       "<tr>\n",
       "  <th>Dep. Variable:</th>           <td>GPA</td>       <th>  R-squared:         </th> <td>   0.811</td>\n",
       "</tr>\n",
       "<tr>\n",
       "  <th>Model:</th>                   <td>OLS</td>       <th>  Adj. R-squared:    </th> <td>   0.776</td>\n",
       "</tr>\n",
       "<tr>\n",
       "  <th>Method:</th>             <td>Least Squares</td>  <th>  F-statistic:       </th> <td>   22.89</td>\n",
       "</tr>\n",
       "<tr>\n",
       "  <th>Date:</th>             <td>Mon, 20 Jun 2016</td> <th>  Prob (F-statistic):</th> <td>4.95e-06</td>\n",
       "</tr>\n",
       "<tr>\n",
       "  <th>Time:</th>                 <td>14:49:50</td>     <th>  Log-Likelihood:    </th> <td> -1.7007</td>\n",
       "</tr>\n",
       "<tr>\n",
       "  <th>No. Observations:</th>      <td>    20</td>      <th>  AIC:               </th> <td>   11.40</td>\n",
       "</tr>\n",
       "<tr>\n",
       "  <th>Df Residuals:</th>          <td>    16</td>      <th>  BIC:               </th> <td>   15.38</td>\n",
       "</tr>\n",
       "<tr>\n",
       "  <th>Df Model:</th>              <td>     3</td>      <th>                     </th>     <td> </td>   \n",
       "</tr>\n",
       "<tr>\n",
       "  <th>Covariance Type:</th>      <td>nonrobust</td>    <th>                     </th>     <td> </td>   \n",
       "</tr>\n",
       "</table>\n",
       "<table class=\"simpletable\">\n",
       "<tr>\n",
       "      <td></td>         <th>coef</th>     <th>std err</th>      <th>t</th>      <th>P>|t|</th> <th>[95.0% Conf. Int.]</th> \n",
       "</tr>\n",
       "<tr>\n",
       "  <th>Intercept</th> <td>    0.4863</td> <td>    0.448</td> <td>    1.086</td> <td> 0.294</td> <td>   -0.463     1.436</td>\n",
       "</tr>\n",
       "<tr>\n",
       "  <th>HS_ENGL</th>   <td>    0.0111</td> <td>    0.189</td> <td>    0.059</td> <td> 0.954</td> <td>   -0.390     0.412</td>\n",
       "</tr>\n",
       "<tr>\n",
       "  <th>SAT_VERB</th>  <td>    0.1568</td> <td>    0.058</td> <td>    2.699</td> <td> 0.016</td> <td>    0.034     0.280</td>\n",
       "</tr>\n",
       "<tr>\n",
       "  <th>SAT_QUAN</th>  <td>    0.2586</td> <td>    0.056</td> <td>    4.593</td> <td> 0.000</td> <td>    0.139     0.378</td>\n",
       "</tr>\n",
       "</table>\n",
       "<table class=\"simpletable\">\n",
       "<tr>\n",
       "  <th>Omnibus:</th>       <td> 0.803</td> <th>  Durbin-Watson:     </th> <td>   2.332</td>\n",
       "</tr>\n",
       "<tr>\n",
       "  <th>Prob(Omnibus):</th> <td> 0.669</td> <th>  Jarque-Bera (JB):  </th> <td>   0.736</td>\n",
       "</tr>\n",
       "<tr>\n",
       "  <th>Skew:</th>          <td> 0.186</td> <th>  Prob(JB):          </th> <td>   0.692</td>\n",
       "</tr>\n",
       "<tr>\n",
       "  <th>Kurtosis:</th>      <td> 2.137</td> <th>  Cond. No.          </th> <td>    56.7</td>\n",
       "</tr>\n",
       "</table>"
      ],
      "text/plain": [
       "<class 'statsmodels.iolib.summary.Summary'>\n",
       "\"\"\"\n",
       "                            OLS Regression Results                            \n",
       "==============================================================================\n",
       "Dep. Variable:                    GPA   R-squared:                       0.811\n",
       "Model:                            OLS   Adj. R-squared:                  0.776\n",
       "Method:                 Least Squares   F-statistic:                     22.89\n",
       "Date:                Mon, 20 Jun 2016   Prob (F-statistic):           4.95e-06\n",
       "Time:                        14:49:50   Log-Likelihood:                -1.7007\n",
       "No. Observations:                  20   AIC:                             11.40\n",
       "Df Residuals:                      16   BIC:                             15.38\n",
       "Df Model:                           3                                         \n",
       "Covariance Type:            nonrobust                                         \n",
       "==============================================================================\n",
       "                 coef    std err          t      P>|t|      [95.0% Conf. Int.]\n",
       "------------------------------------------------------------------------------\n",
       "Intercept      0.4863      0.448      1.086      0.294        -0.463     1.436\n",
       "HS_ENGL        0.0111      0.189      0.059      0.954        -0.390     0.412\n",
       "SAT_VERB       0.1568      0.058      2.699      0.016         0.034     0.280\n",
       "SAT_QUAN       0.2586      0.056      4.593      0.000         0.139     0.378\n",
       "==============================================================================\n",
       "Omnibus:                        0.803   Durbin-Watson:                   2.332\n",
       "Prob(Omnibus):                  0.669   Jarque-Bera (JB):                0.736\n",
       "Skew:                           0.186   Prob(JB):                        0.692\n",
       "Kurtosis:                       2.137   Cond. No.                         56.7\n",
       "==============================================================================\n",
       "\n",
       "Warnings:\n",
       "[1] Standard Errors assume that the covariance matrix of the errors is correctly specified.\n",
       "\"\"\""
      ]
     },
     "execution_count": 15,
     "metadata": {},
     "output_type": "execute_result"
    }
   ],
   "source": [
    "y, X = dmatrices('GPA ~ HS_ENGL + SAT_VERB + SAT_QUAN', \n",
    "                 data=df_gpa, \n",
    "                 return_type='dataframe')\n",
    "model = sm.OLS(y, X)\n",
    "results = model.fit()\n",
    "\n",
    "results.summary()"
   ]
  },
  {
   "cell_type": "markdown",
   "metadata": {},
   "source": [
    "###Question 4"
   ]
  },
  {
   "cell_type": "markdown",
   "metadata": {},
   "source": [
    "####Part A"
   ]
  },
  {
   "cell_type": "markdown",
   "metadata": {},
   "source": [
    "Interpret the unstandardized coefficient associated with HS_ENGL from model 3(a):"
   ]
  },
  {
   "cell_type": "markdown",
   "metadata": {},
   "source": [
    "$$GPA = 0.2487 + 0.7790 (\\mbox{HS_ENGL})$$\n",
    "\n",
    "Expect a one unit increase in HS_ENGL to be associated with a 0.7790 increase in GPA."
   ]
  },
  {
   "cell_type": "markdown",
   "metadata": {},
   "source": [
    "####Part B"
   ]
  },
  {
   "cell_type": "markdown",
   "metadata": {},
   "source": [
    "Interpret the unstandardized coefficient associated with SAT_QUAN from model 3(c):"
   ]
  },
  {
   "cell_type": "markdown",
   "metadata": {},
   "source": [
    "$$GPA = 0.4863 + 0.0111 (\\mbox{HS_ENGL} + 0.1568 (\\mbox{SAT_VERB}) + 0.2586 (\\mbox{SAT_QUAN})$$\n",
    "\n",
    "Expect a one unit increase in SAT_QUAN to be associated with a 0.2586 increase in GAP."
   ]
  },
  {
   "cell_type": "markdown",
   "metadata": {},
   "source": [
    "####Part C"
   ]
  },
  {
   "cell_type": "markdown",
   "metadata": {},
   "source": [
    "Interperate the $R^2$ from model 3(c):"
   ]
  },
  {
   "cell_type": "markdown",
   "metadata": {},
   "source": [
    "The $R^2$ shows the proportion of variability in the dependent variable that is explained by the model. In the case of model 3, the $R^2$ suggests that 81% of the variability in GPA is explained by the model."
   ]
  },
  {
   "cell_type": "markdown",
   "metadata": {},
   "source": [
    "###Question 5"
   ]
  },
  {
   "cell_type": "markdown",
   "metadata": {},
   "source": [
    "Something happened to the association between HS_ENGL and GPA as we moved from model (a) to model (c). Please describe what might have happened. Remember to provide statistical evidence to support your answer. Speculate in a conceptual way why this may have happened."
   ]
  },
  {
   "cell_type": "markdown",
   "metadata": {},
   "source": []
  },
  {
   "cell_type": "markdown",
   "metadata": {},
   "source": [
    "###Question 6"
   ]
  },
  {
   "cell_type": "markdown",
   "metadata": {},
   "source": [
    "Using model 3(c), check the following regression diagnostics and comment about any problems with the model."
   ]
  },
  {
   "cell_type": "markdown",
   "metadata": {},
   "source": [
    "####Part A"
   ]
  },
  {
   "cell_type": "markdown",
   "metadata": {},
   "source": [
    "A normal probability plot of the residuals."
   ]
  },
  {
   "cell_type": "code",
   "execution_count": 16,
   "metadata": {
    "collapsed": false
   },
   "outputs": [
    {
     "data": {
      "image/png": "[encoded data removed]",
      "text/plain": [
       "<matplotlib.figure.Figure at 0xb0c2e10>"
      ]
     },
     "metadata": {},
     "output_type": "display_data"
    }
   ],
   "source": [
    "res = results.resid\n",
    "fig = sm.qqplot(res, fit=True, line='45')\n",
    "\n",
    "fig.set_size_inches(18, 10)\n",
    "fig.savefig('figures/q6_qqplot.png')"
   ]
  },
  {
   "cell_type": "markdown",
   "metadata": {},
   "source": [
    "####Part B"
   ]
  },
  {
   "cell_type": "markdown",
   "metadata": {},
   "source": [
    "A Plot of the residuals by the predicted values. You may wish to use studentized residuals and standardized predicted values in the plot."
   ]
  },
  {
   "cell_type": "code",
   "execution_count": 17,
   "metadata": {
    "collapsed": true
   },
   "outputs": [],
   "source": [
    "engl = df_gpa['HS_ENGL'].tolist()\n",
    "verb = df_gpa['SAT_VERB'].tolist()\n",
    "quan = df_gpa['SAT_QUAN'].tolist()\n",
    "\n",
    "y_hat = []\n",
    "for a, b, c in zip(engl, verb, quan):\n",
    "    y_hat.append(0.4863 + 0.0111 * a + 0.1568 * b + 0.2586 * c)"
   ]
  },
  {
   "cell_type": "code",
   "execution_count": 18,
   "metadata": {
    "collapsed": false
   },
   "outputs": [
    {
     "data": {
      "image/png": "[encoded data removed]",
      "text/plain": [
       "<matplotlib.figure.Figure at 0xade34a8>"
      ]
     },
     "metadata": {},
     "output_type": "display_data"
    }
   ],
   "source": [
    "fig, ax = plt.subplots()\n",
    "fig.set_size_inches(18, 10)\n",
    "\n",
    "plt.scatter(y_hat, res)\n",
    "plt.title('Residuals vs. Predicted Value')\n",
    "plt.xlabel('Predicted Value')\n",
    "plt.ylabel('Residuals')\n",
    "\n",
    "plot = ax.get_figure()\n",
    "plot.savefig('figures/q6_resid.png')"
   ]
  },
  {
   "cell_type": "markdown",
   "metadata": {},
   "source": [
    "####Part C"
   ]
  },
  {
   "cell_type": "markdown",
   "metadata": {},
   "source": [
    "A distribution of the standardized (or studentized) residuals, the leverage values, and the Cook's D values."
   ]
  },
  {
   "cell_type": "code",
   "execution_count": 19,
   "metadata": {
    "collapsed": false
   },
   "outputs": [
    {
     "data": {
      "image/png": "[encoded data removed]",
      "text/plain": [
       "<matplotlib.figure.Figure at 0xb0c2cc0>"
      ]
     },
     "metadata": {},
     "output_type": "display_data"
    }
   ],
   "source": [
    "res = results.resid\n",
    "fig = sm.graphics.influence_plot(results, criterion='cooks')\n",
    "\n",
    "fig.set_size_inches(18, 10)\n",
    "fig.savefig('figures/q6_cooks.png')"
   ]
  }
 ],
 "metadata": {
  "kernelspec": {
   "display_name": "Python 3",
   "language": "python",
   "name": "python3"
  },
  "language_info": {
   "codemirror_mode": {
    "name": "ipython",
    "version": 3
   },
   "file_extension": ".py",
   "mimetype": "text/x-python",
   "name": "python",
   "nbconvert_exporter": "python",
   "pygments_lexer": "ipython3",
   "version": "3.5.1"
  }
 },
 "nbformat": 4,
 "nbformat_minor": 0
}

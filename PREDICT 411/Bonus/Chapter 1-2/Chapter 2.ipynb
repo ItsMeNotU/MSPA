{
 "cells": [
  {
   "cell_type": "markdown",
   "metadata": {},
   "source": [
    "#MSPA PREDICT 411"
   ]
  },
  {
   "cell_type": "markdown",
   "metadata": {},
   "source": [
    "##Bonus Problem: Chapter 2"
   ]
  },
  {
   "cell_type": "markdown",
   "metadata": {},
   "source": [
    "###Introduction"
   ]
  },
  {
   "cell_type": "markdown",
   "metadata": {},
   "source": [
    "This document presents the results of first set of bonus problems for the Masters of Science in Predictive Analytics course: PREDICT 411. This assessment required the student to work through the problem set of Chapters 1 & 2 of Hoffmann (2004), Generalized Linear Models, An Applied Approach."
   ]
  },
  {
   "cell_type": "markdown",
   "metadata": {},
   "source": [
    "###Question 1&2"
   ]
  },
  {
   "cell_type": "markdown",
   "metadata": {},
   "source": [
    "Specify the probability distributions that best describe the following variables. Suppose you wish to analyze each of these variables usingregression techniques. Select the most likely link function for each distribution."
   ]
  },
  {
   "cell_type": "markdown",
   "metadata": {},
   "source": [
    "####Part A"
   ]
  },
  {
   "cell_type": "markdown",
   "metadata": {},
   "source": [
    "A measure of the number of avalances that occur per year in the Wasatch mountain range of Utah"
   ]
  },
  {
   "cell_type": "markdown",
   "metadata": {},
   "source": [
    "Poisson, with link function: $X\\beta = \\ln(\\mu)$"
   ]
  },
  {
   "cell_type": "markdown",
   "metadata": {},
   "source": [
    "####Part B"
   ]
  },
  {
   "cell_type": "markdown",
   "metadata": {},
   "source": [
    "A measure of whether or not members of a large, nationally representative sample of adults smoke cigarettes."
   ]
  },
  {
   "cell_type": "markdown",
   "metadata": {},
   "source": [
    "Binomial, with link function: $X\\beta = \\ln(\\frac{\\mu}{1-\\mu})$"
   ]
  },
  {
   "cell_type": "markdown",
   "metadata": {},
   "source": [
    "####Part C"
   ]
  },
  {
   "cell_type": "markdown",
   "metadata": {},
   "source": [
    "A measure of the temperature (in Kelvin) inside a sample of volcanoes in Japan."
   ]
  },
  {
   "cell_type": "markdown",
   "metadata": {},
   "source": [
    "Inverse Gaussian, with link function: $X\\beta = -\\mu^{-2}$"
   ]
  },
  {
   "cell_type": "markdown",
   "metadata": {},
   "source": [
    "####Part D"
   ]
  },
  {
   "cell_type": "markdown",
   "metadata": {},
   "source": [
    "A measure of whether members of a sample have done one of the following mutually exclusive events in the past year: Remained with their religious denomination, joined different religious denomnation, or left their religious denomination without joining another."
   ]
  },
  {
   "cell_type": "markdown",
   "metadata": {},
   "source": [
    "Multinomial, with link function: $X\\beta = \\ln(\\frac{\\mu}{1-\\mu})$"
   ]
  },
  {
   "cell_type": "markdown",
   "metadata": {},
   "source": [
    "####Part E"
   ]
  },
  {
   "cell_type": "markdown",
   "metadata": {},
   "source": [
    "A measure of whether or not firms in a national registry have adopted a public venture capital program."
   ]
  },
  {
   "cell_type": "markdown",
   "metadata": {},
   "source": [
    "Binomial, with link function: $X\\beta = \\ln(\\frac{\\mu}{1-\\mu})$"
   ]
  },
  {
   "cell_type": "markdown",
   "metadata": {},
   "source": [
    "####Part F"
   ]
  },
  {
   "cell_type": "markdown",
   "metadata": {},
   "source": [
    "A measure of whether members of a sample of workers have either quit a job, been laid-off from a job, been fired from a job, or remained in their jobs in the past year."
   ]
  },
  {
   "cell_type": "markdown",
   "metadata": {},
   "source": [
    "Multinomial, with link function: $X\\beta = \\ln(\\frac{\\mu}{1-\\mu})$"
   ]
  },
  {
   "cell_type": "markdown",
   "metadata": {},
   "source": [
    "####Part G"
   ]
  },
  {
   "cell_type": "markdown",
   "metadata": {},
   "source": [
    "In a sample of adult probationers in Oregon, a measure of the number of times arrested in the previous ten years."
   ]
  },
  {
   "cell_type": "markdown",
   "metadata": {},
   "source": [
    "Poisson, with link function: $X\\beta = \\ln(\\mu)$"
   ]
  },
  {
   "cell_type": "markdown",
   "metadata": {},
   "source": [
    "###Question 3"
   ]
  },
  {
   "cell_type": "markdown",
   "metadata": {},
   "source": [
    "Compute the epected values (means) and variances for each of the following variables."
   ]
  },
  {
   "cell_type": "markdown",
   "metadata": {},
   "source": [
    "####Part A"
   ]
  },
  {
   "cell_type": "markdown",
   "metadata": {},
   "source": [
    "A sample of 1,500 adults in which the probability of alcohol use is 0.65."
   ]
  },
  {
   "cell_type": "markdown",
   "metadata": {},
   "source": [
    "Using binomial distribution, $E(X) = n\\times p$, $Var(X) = n\\times p(1-p)$\n",
    "\n",
    "expected value: $1500 \\times 0.65 = 975$, variance: $1500 \\times 0.65(1-0.65) = 341.25$"
   ]
  },
  {
   "cell_type": "markdown",
   "metadata": {},
   "source": [
    "####Part B"
   ]
  },
  {
   "cell_type": "markdown",
   "metadata": {},
   "source": [
    "A sample of 200 adults with the following probabilities of involvement in the workforce: 0.55 of being employed full-time, 0.15 of being employed part-time, 0.10 of beng unemployed, and 0.20 of not participating in the workforce (e.g. homemakers, students)."
   ]
  },
  {
   "cell_type": "markdown",
   "metadata": {},
   "source": [
    "Using multinomial distribution, $E(X) = p_1 \\times n$ for each group (denoted as 1 for first group). $Var(X) = n\\times p_1(1-p_1)$ for each group (denoted as 1 for first group)."
   ]
  },
  {
   "cell_type": "markdown",
   "metadata": {},
   "source": [
    " - $0.55$ full time, expected value: $0.55 \\times 200 = 110$, variance: $200 \\times 0.55(1-0.55) = 49.5$\n",
    " - $0.15$ part time, expected value: $0.15 \\times 200 = 30$, variance: $200 \\times 0.15(1-0.15) = 25.5$\n",
    " - $0.10$ unemployed, expected value: $0.10 \\times 200 = 20$, variance: $200 \\times 0.10(1-0.10) = 18$\n",
    " - $0.20$ not participating, expected value: $0.20 \\times 200 = 40$, variance: $200 \\times 0.20(1-0.20) = 32$"
   ]
  },
  {
   "cell_type": "markdown",
   "metadata": {},
   "source": [
    "####Part C"
   ]
  },
  {
   "cell_type": "markdown",
   "metadata": {},
   "source": [
    "A sample of 850 adolescents with the following probabilities of low and high self-esteem: 0.45 low self-esteem; and 0.55, high self-esteem."
   ]
  },
  {
   "cell_type": "markdown",
   "metadata": {},
   "source": [
    "Using multinomial distribution, $E(X) = p_1 \\times n$ for each group (denoted as 1 for first group). $Var(X) = n\\times p_1(1-p_1)$ for each group (denoted as 1 for first group)."
   ]
  },
  {
   "cell_type": "markdown",
   "metadata": {},
   "source": [
    " - $0.45$ low self-esteem, expected value: $0.45 \\times 850 = 382.5$, variance: $200 \\times 0.55(1-0.55) = 210.375$\n",
    " - $0.55$ high self-esteem, expected value: $0.55 \\times 850 = 467.5$, variance: $200 \\times 0.15(1-0.15) = 210.375$"
   ]
  },
  {
   "cell_type": "markdown",
   "metadata": {},
   "source": [
    "####Part D"
   ]
  },
  {
   "cell_type": "markdown",
   "metadata": {},
   "source": [
    "A sample of traffic accidents per day along a 10-mile stretch of I-95 in Virginia that yielded the following results:\n",
    "\n",
    "| Number of Accidents | Frequency |\n",
    "|:-------------------:|:---------:|\n",
    "| 0 | 121 |\n",
    "| 1 | 199 |\n",
    "| 2 | 21 |\n",
    "| 3 | 12 |\n",
    "| 4 | 5 |\n",
    "| 5 | 4 |\n",
    "| 6 | 2 |\n",
    "| 7 | 1 |"
   ]
  },
  {
   "cell_type": "markdown",
   "metadata": {},
   "source": [
    "Using the poisson distribution, the expected value is equal to the variance: $E(X) = \\lambda = Var(X)$, which in this case, from observing the table, is $1$."
   ]
  },
  {
   "cell_type": "markdown",
   "metadata": {},
   "source": [
    "###Question 4"
   ]
  },
  {
   "cell_type": "markdown",
   "metadata": {},
   "source": [
    "We have been asked to collect 12 signatures for a petition that asks the state government for more money to clean up garbage on public land. The probability of getting a signature from a person approached is 0.40. After finding the mean and variance, answer the following: What is the probability we will have to approach exactly 30 people to get the 12 signatures?"
   ]
  },
  {
   "cell_type": "markdown",
   "metadata": {},
   "source": [
    "$P(n) = {n-1 \\choose r-1}p^r(1-p)^{n-r} = P(30) = {30-1 \\choose 12-1}(0.40)^{12}(0.60)^{30-12} = 0.0589$"
   ]
  },
  {
   "cell_type": "markdown",
   "metadata": {},
   "source": [
    "###Question 5"
   ]
  },
  {
   "cell_type": "markdown",
   "metadata": {},
   "source": [
    "Suppose that we survey six people and find that two of them say they read a newspaper every day and the other four say they do not. We wish to determine the maximum likelihood estimate of $p$, or the probability of daily newspaper readings among this sample. Use the likelihood function for the binomial distribution to fill in the cell of the following table:\n",
    "\n",
    "|         | $i=2$ |\n",
    "|:-------:|:-----:|\n",
    "| $p = 0.1$ | ? |\n",
    "| $p = 0.2$ | ? |\n",
    "| $p = 0.3$ | ? |\n",
    "| $p = 0.4$ | ? |\n",
    "\n",
    "From this table, what is the most likely value of $p$?"
   ]
  },
  {
   "cell_type": "markdown",
   "metadata": {},
   "source": [
    "Using likelihood function for binomial distribution: $P(i) = {n \\choose i}p^i(1-p)^{n-1}$, $P(i) = {6 \\choose 2}p^2(1-p)^{6-1}$\n",
    "\n",
    "|         | $i=2$ |\n",
    "|:-------:|:-----:|\n",
    "| $p = 0.1$ | $P(0.1) = 0.0885735$ |\n",
    "| $p = 0.2$ | $P(0.2) = 0.196608$ |\n",
    "| $p = 0.3$ | $P(0.3) = 0.2268945$ |\n",
    "| $p = 0.4$ | $P(0.4) = 0.186624$ |\n",
    "\n",
    "The most likely value of $p$ is $0.3$."
   ]
  },
  {
   "cell_type": "markdown",
   "metadata": {},
   "source": [
    "###Question 6"
   ]
  },
  {
   "cell_type": "code",
   "execution_count": 2,
   "metadata": {
    "collapsed": true
   },
   "outputs": [],
   "source": [
    "#!pip install sas7bdat\n",
    "\n",
    "import numpy as np\n",
    "import pandas as pd\n",
    "import statsmodels.api as sm\n",
    "\n",
    "from patsy import dmatrices\n",
    "from sas7bdat import SAS7BDAT"
   ]
  },
  {
   "cell_type": "markdown",
   "metadata": {},
   "source": [
    "The Data file USData contains a number of variables from the 50 states in the United States. In this exercise we are interested in using linear regression to predict _violrate_, the rate of violent crimes such as murder, robbery, and assault per 100,000 population in 1995. We shall use the following independent variables: _unemprat_ (average monthly unemployment rate in 1995), _density_ (population density in 1995), and _gsprod_ (gross state product in 1995 -- a measure of the state's economic productivity). Estimate two linear regression models using MLE. The first model is the null model, while the second includes the three independent variables. Use the output from these models to compute the following fit statistics from the second model: McFadden adjusted $R^2$ and the pseudo-$R^2$. Then compute the AIC and BIC from both models."
   ]
  },
  {
   "cell_type": "markdown",
   "metadata": {},
   "source": [
    "####Loading the Data"
   ]
  },
  {
   "cell_type": "code",
   "execution_count": 3,
   "metadata": {
    "collapsed": false
   },
   "outputs": [],
   "source": [
    "with SAS7BDAT('data/usdata.sas7bdat') as f:\n",
    "    df_us = f.to_data_frame()"
   ]
  },
  {
   "cell_type": "code",
   "execution_count": 4,
   "metadata": {
    "collapsed": false
   },
   "outputs": [
    {
     "data": {
      "text/html": [
       "<div>\n",
       "<table border=\"1\" class=\"dataframe\">\n",
       "  <thead>\n",
       "    <tr style=\"text-align: right;\">\n",
       "      <th></th>\n",
       "      <th>STATE</th>\n",
       "      <th>ROBBRATE</th>\n",
       "      <th>LARCRATE</th>\n",
       "      <th>ASSRATE</th>\n",
       "      <th>BURGRATE</th>\n",
       "      <th>MURDRATE</th>\n",
       "      <th>FIPS</th>\n",
       "      <th>PERINC</th>\n",
       "      <th>SUICRATE</th>\n",
       "      <th>ASUICRAT</th>\n",
       "      <th>...</th>\n",
       "      <th>UNEMPRAT</th>\n",
       "      <th>POP_24</th>\n",
       "      <th>POP_65</th>\n",
       "      <th>PROPRATE</th>\n",
       "      <th>VIOLRATE</th>\n",
       "      <th>CRIMRATE</th>\n",
       "      <th>PERFEM</th>\n",
       "      <th>PERMALE</th>\n",
       "      <th>PERINCA</th>\n",
       "      <th>MIG_RATE</th>\n",
       "    </tr>\n",
       "  </thead>\n",
       "  <tbody>\n",
       "    <tr>\n",
       "      <th>0</th>\n",
       "      <td>Alabama</td>\n",
       "      <td>185.75</td>\n",
       "      <td>2844.27</td>\n",
       "      <td>403.69</td>\n",
       "      <td>1024.83</td>\n",
       "      <td>11.168587</td>\n",
       "      <td>1</td>\n",
       "      <td>19086</td>\n",
       "      <td>12.1</td>\n",
       "      <td>13.2</td>\n",
       "      <td>...</td>\n",
       "      <td>5.1</td>\n",
       "      <td>1522331</td>\n",
       "      <td>554871</td>\n",
       "      <td>4215.71</td>\n",
       "      <td>632.35</td>\n",
       "      <td>4848.06</td>\n",
       "      <td>0.519416</td>\n",
       "      <td>0.480584</td>\n",
       "      <td>12520.416</td>\n",
       "      <td>1967.001213</td>\n",
       "    </tr>\n",
       "    <tr>\n",
       "      <th>1</th>\n",
       "      <td>Alaska</td>\n",
       "      <td>155.13</td>\n",
       "      <td>3624.34</td>\n",
       "      <td>526.32</td>\n",
       "      <td>836.92</td>\n",
       "      <td>9.105960</td>\n",
       "      <td>2</td>\n",
       "      <td>NaN</td>\n",
       "      <td>17.1</td>\n",
       "      <td>17.1</td>\n",
       "      <td>...</td>\n",
       "      <td>7.8</td>\n",
       "      <td>249048</td>\n",
       "      <td>29805</td>\n",
       "      <td>4982.95</td>\n",
       "      <td>770.86</td>\n",
       "      <td>5753.81</td>\n",
       "      <td>0.473807</td>\n",
       "      <td>0.526193</td>\n",
       "      <td>NaN</td>\n",
       "      <td>-1163.600579</td>\n",
       "    </tr>\n",
       "    <tr>\n",
       "      <th>2</th>\n",
       "      <td>Arizona</td>\n",
       "      <td>173.76</td>\n",
       "      <td>4925.63</td>\n",
       "      <td>495.71</td>\n",
       "      <td>1416.83</td>\n",
       "      <td>10.407776</td>\n",
       "      <td>4</td>\n",
       "      <td>20068</td>\n",
       "      <td>17.5</td>\n",
       "      <td>18.7</td>\n",
       "      <td>...</td>\n",
       "      <td>5.5</td>\n",
       "      <td>1559918</td>\n",
       "      <td>573119</td>\n",
       "      <td>7500.12</td>\n",
       "      <td>713.49</td>\n",
       "      <td>8213.61</td>\n",
       "      <td>0.505025</td>\n",
       "      <td>0.494975</td>\n",
       "      <td>13164.608</td>\n",
       "      <td>6802.762154</td>\n",
       "    </tr>\n",
       "    <tr>\n",
       "      <th>3</th>\n",
       "      <td>Arkansas</td>\n",
       "      <td>125.68</td>\n",
       "      <td>2815.42</td>\n",
       "      <td>379.83</td>\n",
       "      <td>996.90</td>\n",
       "      <td>10.426731</td>\n",
       "      <td>5</td>\n",
       "      <td>17935</td>\n",
       "      <td>14.1</td>\n",
       "      <td>14.5</td>\n",
       "      <td>...</td>\n",
       "      <td>5.4</td>\n",
       "      <td>902817</td>\n",
       "      <td>360856</td>\n",
       "      <td>4137.68</td>\n",
       "      <td>553.18</td>\n",
       "      <td>4690.86</td>\n",
       "      <td>0.516568</td>\n",
       "      <td>0.483432</td>\n",
       "      <td>11765.360</td>\n",
       "      <td>3185.381117</td>\n",
       "    </tr>\n",
       "    <tr>\n",
       "      <th>4</th>\n",
       "      <td>California</td>\n",
       "      <td>331.16</td>\n",
       "      <td>2856.87</td>\n",
       "      <td>590.26</td>\n",
       "      <td>1120.31</td>\n",
       "      <td>11.177942</td>\n",
       "      <td>6</td>\n",
       "      <td>23901</td>\n",
       "      <td>11.1</td>\n",
       "      <td>11.7</td>\n",
       "      <td>...</td>\n",
       "      <td>7.2</td>\n",
       "      <td>11794990</td>\n",
       "      <td>3464871</td>\n",
       "      <td>4865.08</td>\n",
       "      <td>966.01</td>\n",
       "      <td>5831.09</td>\n",
       "      <td>0.499344</td>\n",
       "      <td>0.500656</td>\n",
       "      <td>15679.056</td>\n",
       "      <td>-4918.604405</td>\n",
       "    </tr>\n",
       "  </tbody>\n",
       "</table>\n",
       "<p>5 rows × 25 columns</p>\n",
       "</div>"
      ],
      "text/plain": [
       "        STATE  ROBBRATE  LARCRATE  ASSRATE  BURGRATE   MURDRATE  FIPS  PERINC  \\\n",
       "0     Alabama    185.75   2844.27   403.69   1024.83  11.168587     1   19086   \n",
       "1      Alaska    155.13   3624.34   526.32    836.92   9.105960     2     NaN   \n",
       "2     Arizona    173.76   4925.63   495.71   1416.83  10.407776     4   20068   \n",
       "3    Arkansas    125.68   2815.42   379.83    996.90  10.426731     5   17935   \n",
       "4  California    331.16   2856.87   590.26   1120.31  11.177942     6   23901   \n",
       "\n",
       "   SUICRATE  ASUICRAT     ...       UNEMPRAT    POP_24   POP_65  PROPRATE  \\\n",
       "0      12.1      13.2     ...            5.1   1522331   554871   4215.71   \n",
       "1      17.1      17.1     ...            7.8    249048    29805   4982.95   \n",
       "2      17.5      18.7     ...            5.5   1559918   573119   7500.12   \n",
       "3      14.1      14.5     ...            5.4    902817   360856   4137.68   \n",
       "4      11.1      11.7     ...            7.2  11794990  3464871   4865.08   \n",
       "\n",
       "   VIOLRATE  CRIMRATE    PERFEM   PERMALE    PERINCA     MIG_RATE  \n",
       "0    632.35   4848.06  0.519416  0.480584  12520.416  1967.001213  \n",
       "1    770.86   5753.81  0.473807  0.526193        NaN -1163.600579  \n",
       "2    713.49   8213.61  0.505025  0.494975  13164.608  6802.762154  \n",
       "3    553.18   4690.86  0.516568  0.483432  11765.360  3185.381117  \n",
       "4    966.01   5831.09  0.499344  0.500656  15679.056 -4918.604405  \n",
       "\n",
       "[5 rows x 25 columns]"
      ]
     },
     "execution_count": 4,
     "metadata": {},
     "output_type": "execute_result"
    }
   ],
   "source": [
    "df_us.head(5)"
   ]
  },
  {
   "cell_type": "code",
   "execution_count": 5,
   "metadata": {
    "collapsed": true
   },
   "outputs": [],
   "source": [
    "y, X = dmatrices('VIOLRATE ~ 1', \n",
    "                 data=df_us, \n",
    "                 return_type='dataframe')\n",
    "model = sm.GLM(y, X)\n",
    "results = model.fit()"
   ]
  },
  {
   "cell_type": "code",
   "execution_count": 6,
   "metadata": {
    "collapsed": false
   },
   "outputs": [
    {
     "data": {
      "text/html": [
       "<table class=\"simpletable\">\n",
       "<caption>Generalized Linear Model Regression Results</caption>\n",
       "<tr>\n",
       "  <th>Dep. Variable:</th>      <td>VIOLRATE</td>     <th>  No. Observations:  </th>    <td>    50</td>    \n",
       "</tr>\n",
       "<tr>\n",
       "  <th>Model:</th>                 <td>GLM</td>       <th>  Df Residuals:      </th>    <td>    49</td>    \n",
       "</tr>\n",
       "<tr>\n",
       "  <th>Model Family:</th>       <td>Gaussian</td>     <th>  Df Model:          </th>    <td>     0</td>    \n",
       "</tr>\n",
       "<tr>\n",
       "  <th>Link Function:</th>      <td>identity</td>     <th>  Scale:             </th> <td>72487.5414926</td>\n",
       "</tr>\n",
       "<tr>\n",
       "  <th>Method:</th>               <td>IRLS</td>       <th>  Log-Likelihood:    </th>   <td> -350.22</td>   \n",
       "</tr>\n",
       "<tr>\n",
       "  <th>Date:</th>           <td>Mon, 20 Jun 2016</td> <th>  Deviance:          </th>  <td>3.5519e+06</td>  \n",
       "</tr>\n",
       "<tr>\n",
       "  <th>Time:</th>               <td>14:49:42</td>     <th>  Pearson chi2:      </th>   <td>3.55e+06</td>   \n",
       "</tr>\n",
       "<tr>\n",
       "  <th>No. Iterations:</th>         <td>4</td>        <th>                     </th>       <td> </td>      \n",
       "</tr>\n",
       "</table>\n",
       "<table class=\"simpletable\">\n",
       "<tr>\n",
       "      <td></td>         <th>coef</th>     <th>std err</th>      <th>z</th>      <th>P>|z|</th> <th>[95.0% Conf. Int.]</th> \n",
       "</tr>\n",
       "<tr>\n",
       "  <th>Intercept</th> <td>  539.4182</td> <td>   38.076</td> <td>   14.167</td> <td> 0.000</td> <td>  464.791   614.045</td>\n",
       "</tr>\n",
       "</table>"
      ],
      "text/plain": [
       "<class 'statsmodels.iolib.summary.Summary'>\n",
       "\"\"\"\n",
       "                 Generalized Linear Model Regression Results                  \n",
       "==============================================================================\n",
       "Dep. Variable:               VIOLRATE   No. Observations:                   50\n",
       "Model:                            GLM   Df Residuals:                       49\n",
       "Model Family:                Gaussian   Df Model:                            0\n",
       "Link Function:               identity   Scale:                   72487.5414926\n",
       "Method:                          IRLS   Log-Likelihood:                -350.22\n",
       "Date:                Mon, 20 Jun 2016   Deviance:                   3.5519e+06\n",
       "Time:                        14:49:42   Pearson chi2:                 3.55e+06\n",
       "No. Iterations:                     4                                         \n",
       "==============================================================================\n",
       "                 coef    std err          z      P>|z|      [95.0% Conf. Int.]\n",
       "------------------------------------------------------------------------------\n",
       "Intercept    539.4182     38.076     14.167      0.000       464.791   614.045\n",
       "==============================================================================\n",
       "\"\"\""
      ]
     },
     "execution_count": 6,
     "metadata": {},
     "output_type": "execute_result"
    }
   ],
   "source": [
    "results.summary()"
   ]
  },
  {
   "cell_type": "code",
   "execution_count": 7,
   "metadata": {
    "collapsed": false
   },
   "outputs": [
    {
     "data": {
      "text/html": [
       "<table class=\"simpletable\">\n",
       "<tr>\n",
       "        <td>Model:</td>               <td>GLM</td>            <td>AIC:</td>         <td>702.4422</td>  \n",
       "</tr>\n",
       "<tr>\n",
       "    <td>Link Function:</td>        <td>identity</td>          <td>BIC:</td>       <td>3551697.8440</td>\n",
       "</tr>\n",
       "<tr>\n",
       "  <td>Dependent Variable:</td>     <td>VIOLRATE</td>     <td>Log-Likelihood:</td>    <td>-350.22</td>  \n",
       "</tr>\n",
       "<tr>\n",
       "         <td>Date:</td>        <td>2016-06-20 14:49</td>    <td>LL-Null:</td>        <td>-350.22</td>  \n",
       "</tr>\n",
       "<tr>\n",
       "   <td>No. Observations:</td>         <td>50</td>           <td>Deviance:</td>     <td>3.5519e+06</td> \n",
       "</tr>\n",
       "<tr>\n",
       "       <td>Df Model:</td>              <td>0</td>         <td>Pearson chi2:</td>    <td>3.55e+06</td>  \n",
       "</tr>\n",
       "<tr>\n",
       "     <td>Df Residuals:</td>           <td>49</td>            <td>Scale:</td>         <td>72488.</td>   \n",
       "</tr>\n",
       "<tr>\n",
       "        <td>Method:</td>             <td>IRLS</td>              <td></td>               <td></td>      \n",
       "</tr>\n",
       "</table>\n",
       "<table class=\"simpletable\">\n",
       "<tr>\n",
       "      <td></td>        <th>Coef.</th>  <th>Std.Err.</th>    <th>z</th>     <th>P>|z|</th>  <th>[0.025</th>   <th>0.975]</th> \n",
       "</tr>\n",
       "<tr>\n",
       "  <th>Intercept</th> <td>539.4182</td>  <td>38.0756</td> <td>14.1670</td> <td>0.0000</td> <td>464.7914</td> <td>614.0450</td>\n",
       "</tr>\n",
       "</table>"
      ],
      "text/plain": [
       "<class 'statsmodels.iolib.summary2.Summary'>\n",
       "\"\"\"\n",
       "                Results: Generalized linear model\n",
       "=================================================================\n",
       "Model:              GLM              AIC:            702.4422    \n",
       "Link Function:      identity         BIC:            3551697.8440\n",
       "Dependent Variable: VIOLRATE         Log-Likelihood: -350.22     \n",
       "Date:               2016-06-20 14:49 LL-Null:        -350.22     \n",
       "No. Observations:   50               Deviance:       3.5519e+06  \n",
       "Df Model:           0                Pearson chi2:   3.55e+06    \n",
       "Df Residuals:       49               Scale:          72488.      \n",
       "Method:             IRLS                                         \n",
       "------------------------------------------------------------------\n",
       "            Coef.    Std.Err.     z     P>|z|    [0.025    0.975] \n",
       "------------------------------------------------------------------\n",
       "Intercept  539.4182   38.0756  14.1670  0.0000  464.7914  614.0450\n",
       "=================================================================\n",
       "\n",
       "\"\"\""
      ]
     },
     "execution_count": 7,
     "metadata": {},
     "output_type": "execute_result"
    }
   ],
   "source": [
    "results.summary2()"
   ]
  },
  {
   "cell_type": "code",
   "execution_count": 8,
   "metadata": {
    "collapsed": false
   },
   "outputs": [],
   "source": [
    "y, X = dmatrices('VIOLRATE ~ UNEMPRAT + DENSITY + GSPROD', \n",
    "                 data=df_us, \n",
    "                 return_type='dataframe')\n",
    "model = sm.GLM(y, X)\n",
    "results = model.fit()"
   ]
  },
  {
   "cell_type": "code",
   "execution_count": 9,
   "metadata": {
    "collapsed": false
   },
   "outputs": [
    {
     "data": {
      "text/html": [
       "<table class=\"simpletable\">\n",
       "<caption>Generalized Linear Model Regression Results</caption>\n",
       "<tr>\n",
       "  <th>Dep. Variable:</th>      <td>VIOLRATE</td>     <th>  No. Observations:  </th>    <td>    50</td>    \n",
       "</tr>\n",
       "<tr>\n",
       "  <th>Model:</th>                 <td>GLM</td>       <th>  Df Residuals:      </th>    <td>    46</td>    \n",
       "</tr>\n",
       "<tr>\n",
       "  <th>Model Family:</th>       <td>Gaussian</td>     <th>  Df Model:          </th>    <td>     3</td>    \n",
       "</tr>\n",
       "<tr>\n",
       "  <th>Link Function:</th>      <td>identity</td>     <th>  Scale:             </th> <td>50893.5006753</td>\n",
       "</tr>\n",
       "<tr>\n",
       "  <th>Method:</th>               <td>IRLS</td>       <th>  Log-Likelihood:    </th>   <td> -339.80</td>   \n",
       "</tr>\n",
       "<tr>\n",
       "  <th>Date:</th>           <td>Mon, 20 Jun 2016</td> <th>  Deviance:          </th>  <td>2.3411e+06</td>  \n",
       "</tr>\n",
       "<tr>\n",
       "  <th>Time:</th>               <td>14:49:43</td>     <th>  Pearson chi2:      </th>   <td>2.34e+06</td>   \n",
       "</tr>\n",
       "<tr>\n",
       "  <th>No. Iterations:</th>         <td>4</td>        <th>                     </th>       <td> </td>      \n",
       "</tr>\n",
       "</table>\n",
       "<table class=\"simpletable\">\n",
       "<tr>\n",
       "      <td></td>         <th>coef</th>     <th>std err</th>      <th>z</th>      <th>P>|z|</th> <th>[95.0% Conf. Int.]</th> \n",
       "</tr>\n",
       "<tr>\n",
       "  <th>Intercept</th> <td>   62.0352</td> <td>  137.957</td> <td>    0.450</td> <td> 0.653</td> <td> -208.355   332.425</td>\n",
       "</tr>\n",
       "<tr>\n",
       "  <th>UNEMPRAT</th>  <td>   72.0617</td> <td>   26.258</td> <td>    2.744</td> <td> 0.006</td> <td>   20.596   123.527</td>\n",
       "</tr>\n",
       "<tr>\n",
       "  <th>DENSITY</th>   <td>    0.0421</td> <td>    0.140</td> <td>    0.300</td> <td> 0.764</td> <td>   -0.233     0.317</td>\n",
       "</tr>\n",
       "<tr>\n",
       "  <th>GSPROD</th>    <td>    0.0007</td> <td>    0.000</td> <td>    3.286</td> <td> 0.001</td> <td>    0.000     0.001</td>\n",
       "</tr>\n",
       "</table>"
      ],
      "text/plain": [
       "<class 'statsmodels.iolib.summary.Summary'>\n",
       "\"\"\"\n",
       "                 Generalized Linear Model Regression Results                  \n",
       "==============================================================================\n",
       "Dep. Variable:               VIOLRATE   No. Observations:                   50\n",
       "Model:                            GLM   Df Residuals:                       46\n",
       "Model Family:                Gaussian   Df Model:                            3\n",
       "Link Function:               identity   Scale:                   50893.5006753\n",
       "Method:                          IRLS   Log-Likelihood:                -339.80\n",
       "Date:                Mon, 20 Jun 2016   Deviance:                   2.3411e+06\n",
       "Time:                        14:49:43   Pearson chi2:                 2.34e+06\n",
       "No. Iterations:                     4                                         \n",
       "==============================================================================\n",
       "                 coef    std err          z      P>|z|      [95.0% Conf. Int.]\n",
       "------------------------------------------------------------------------------\n",
       "Intercept     62.0352    137.957      0.450      0.653      -208.355   332.425\n",
       "UNEMPRAT      72.0617     26.258      2.744      0.006        20.596   123.527\n",
       "DENSITY        0.0421      0.140      0.300      0.764        -0.233     0.317\n",
       "GSPROD         0.0007      0.000      3.286      0.001         0.000     0.001\n",
       "==============================================================================\n",
       "\"\"\""
      ]
     },
     "execution_count": 9,
     "metadata": {},
     "output_type": "execute_result"
    }
   ],
   "source": [
    "results.summary()"
   ]
  },
  {
   "cell_type": "code",
   "execution_count": 10,
   "metadata": {
    "collapsed": false
   },
   "outputs": [
    {
     "data": {
      "text/html": [
       "<table class=\"simpletable\">\n",
       "<tr>\n",
       "        <td>Model:</td>               <td>GLM</td>            <td>AIC:</td>         <td>687.5993</td>  \n",
       "</tr>\n",
       "<tr>\n",
       "    <td>Link Function:</td>        <td>identity</td>          <td>BIC:</td>       <td>2340921.0780</td>\n",
       "</tr>\n",
       "<tr>\n",
       "  <td>Dependent Variable:</td>     <td>VIOLRATE</td>     <td>Log-Likelihood:</td>    <td>-339.80</td>  \n",
       "</tr>\n",
       "<tr>\n",
       "         <td>Date:</td>        <td>2016-06-20 14:49</td>    <td>LL-Null:</td>        <td>-350.22</td>  \n",
       "</tr>\n",
       "<tr>\n",
       "   <td>No. Observations:</td>         <td>50</td>           <td>Deviance:</td>     <td>2.3411e+06</td> \n",
       "</tr>\n",
       "<tr>\n",
       "       <td>Df Model:</td>              <td>3</td>         <td>Pearson chi2:</td>    <td>2.34e+06</td>  \n",
       "</tr>\n",
       "<tr>\n",
       "     <td>Df Residuals:</td>           <td>46</td>            <td>Scale:</td>         <td>50894.</td>   \n",
       "</tr>\n",
       "<tr>\n",
       "        <td>Method:</td>             <td>IRLS</td>              <td></td>               <td></td>      \n",
       "</tr>\n",
       "</table>\n",
       "<table class=\"simpletable\">\n",
       "<tr>\n",
       "      <td></td>       <th>Coef.</th>  <th>Std.Err.</th>    <th>z</th>    <th>P>|z|</th>  <th>[0.025</th>    <th>0.975]</th> \n",
       "</tr>\n",
       "<tr>\n",
       "  <th>Intercept</th> <td>62.0352</td> <td>137.9565</td> <td>0.4497</td> <td>0.6529</td> <td>-208.3546</td> <td>332.4251</td>\n",
       "</tr>\n",
       "<tr>\n",
       "  <th>UNEMPRAT</th>  <td>72.0617</td>  <td>26.2584</td> <td>2.7443</td> <td>0.0061</td>  <td>20.5962</td>  <td>123.5272</td>\n",
       "</tr>\n",
       "<tr>\n",
       "  <th>DENSITY</th>   <td>0.0421</td>   <td>0.1404</td>  <td>0.3001</td> <td>0.7641</td>  <td>-0.2330</td>   <td>0.3172</td> \n",
       "</tr>\n",
       "<tr>\n",
       "  <th>GSPROD</th>    <td>0.0007</td>   <td>0.0002</td>  <td>3.2864</td> <td>0.0010</td>  <td>0.0003</td>    <td>0.0011</td> \n",
       "</tr>\n",
       "</table>"
      ],
      "text/plain": [
       "<class 'statsmodels.iolib.summary2.Summary'>\n",
       "\"\"\"\n",
       "                Results: Generalized linear model\n",
       "=================================================================\n",
       "Model:              GLM              AIC:            687.5993    \n",
       "Link Function:      identity         BIC:            2340921.0780\n",
       "Dependent Variable: VIOLRATE         Log-Likelihood: -339.80     \n",
       "Date:               2016-06-20 14:49 LL-Null:        -350.22     \n",
       "No. Observations:   50               Deviance:       2.3411e+06  \n",
       "Df Model:           3                Pearson chi2:   2.34e+06    \n",
       "Df Residuals:       46               Scale:          50894.      \n",
       "Method:             IRLS                                         \n",
       "------------------------------------------------------------------\n",
       "             Coef.   Std.Err.    z     P>|z|     [0.025    0.975] \n",
       "------------------------------------------------------------------\n",
       "Intercept   62.0352  137.9565  0.4497  0.6529  -208.3546  332.4251\n",
       "UNEMPRAT    72.0617   26.2584  2.7443  0.0061    20.5962  123.5272\n",
       "DENSITY      0.0421    0.1404  0.3001  0.7641    -0.2330    0.3172\n",
       "GSPROD       0.0007    0.0002  3.2864  0.0010     0.0003    0.0011\n",
       "=================================================================\n",
       "\n",
       "\"\"\""
      ]
     },
     "execution_count": 10,
     "metadata": {},
     "output_type": "execute_result"
    }
   ],
   "source": [
    "results.summary2()"
   ]
  }
 ],
 "metadata": {
  "kernelspec": {
   "display_name": "Python 3",
   "language": "python",
   "name": "python3"
  },
  "language_info": {
   "codemirror_mode": {
    "name": "ipython",
    "version": 3
   },
   "file_extension": ".py",
   "mimetype": "text/x-python",
   "name": "python",
   "nbconvert_exporter": "python",
   "pygments_lexer": "ipython3",
   "version": "3.5.1"
  }
 },
 "nbformat": 4,
 "nbformat_minor": 0
}
